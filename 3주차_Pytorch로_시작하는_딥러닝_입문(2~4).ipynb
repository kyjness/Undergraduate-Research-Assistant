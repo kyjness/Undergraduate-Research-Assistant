{
  "nbformat": 4,
  "nbformat_minor": 0,
  "metadata": {
    "colab": {
      "provenance": [],
      "toc_visible": true,
      "authorship_tag": "ABX9TyNNcXjZ8dIXCDeg8PXHWd6H",
      "include_colab_link": true
    },
    "kernelspec": {
      "name": "python3",
      "display_name": "Python 3"
    },
    "language_info": {
      "name": "python"
    }
  },
  "cells": [
    {
      "cell_type": "markdown",
      "metadata": {
        "id": "view-in-github",
        "colab_type": "text"
      },
      "source": [
        "<a href=\"https://colab.research.google.com/github/kyjness/Undergraduate-Research-Assistant/blob/main/3%EC%A3%BC%EC%B0%A8_Pytorch%EB%A1%9C_%EC%8B%9C%EC%9E%91%ED%95%98%EB%8A%94_%EB%94%A5%EB%9F%AC%EB%8B%9D_%EC%9E%85%EB%AC%B8(2~4).ipynb\" target=\"_parent\"><img src=\"https://colab.research.google.com/assets/colab-badge.svg\" alt=\"Open In Colab\"/></a>"
      ]
    },
    {
      "cell_type": "markdown",
      "source": [
        " #<Pytorch로 시작하는 딥 러닝 입문>"
      ],
      "metadata": {
        "id": "U6VEIRC22hw3"
      }
    },
    {
      "cell_type": "markdown",
      "source": [
        "#02. [기초] - 파이토치 기초(PyTorch Basic)"
      ],
      "metadata": {
        "id": "Iu1hTlEW2j5V"
      }
    },
    {
      "cell_type": "markdown",
      "source": [
        "##02-02 텐서 조작하기(Tensor Manipulation)"
      ],
      "metadata": {
        "id": "gmm9T72w2n91"
      }
    },
    {
      "cell_type": "markdown",
      "source": [
        "1. 벡터, 행렬 그리고 텐서(Vector, Matrix and Tensor)"
      ],
      "metadata": {
        "id": "vg7G4Hsa3lEa"
      }
    },
    {
      "cell_type": "markdown",
      "source": [
        "2. 넘파이로 텐서 만들기(벡터와 행렬 만들기)"
      ],
      "metadata": {
        "id": "jKXygSFzWQpV"
      }
    },
    {
      "cell_type": "code",
      "source": [
        "import numpy as np"
      ],
      "metadata": {
        "id": "uO0K-1EjWU1I"
      },
      "execution_count": null,
      "outputs": []
    },
    {
      "cell_type": "code",
      "source": [
        "#1) 1D with Numpy\n",
        "\n",
        "t = np.array([0., 1., 2., 3., 4., 5., 6.])\n",
        "# 파이썬으로 설명하면 List를 생성해서 np.array로 1차원 array로 변환함.\n",
        "print(t)"
      ],
      "metadata": {
        "colab": {
          "base_uri": "https://localhost:8080/"
        },
        "id": "-RxQ2XMRWVrq",
        "outputId": "4a77b19b-ab3c-4086-cf75-2821f1d2f0a2"
      },
      "execution_count": null,
      "outputs": [
        {
          "output_type": "stream",
          "name": "stdout",
          "text": [
            "[0. 1. 2. 3. 4. 5. 6.]\n"
          ]
        }
      ]
    },
    {
      "cell_type": "code",
      "source": [
        "print('Rank of t: ', t.ndim) #차원 출력\n",
        "print('Shape of t: ', t.shape) #길이가 7인 1차원 벡터"
      ],
      "metadata": {
        "colab": {
          "base_uri": "https://localhost:8080/"
        },
        "id": "vKlU2OkAWv1F",
        "outputId": "82efc3da-3cf2-48bf-c05d-17835c28fd82"
      },
      "execution_count": null,
      "outputs": [
        {
          "output_type": "stream",
          "name": "stdout",
          "text": [
            "Rank of t:  1\n",
            "Shape of t:  (7,)\n"
          ]
        }
      ]
    },
    {
      "cell_type": "code",
      "source": [
        "#1-1) Numpy 기초 이해하기\n",
        "\n",
        "print('t[0] t[1] t[-1] = ', t[0], t[1], t[-1]) # 인덱스를 통한 원소 접근"
      ],
      "metadata": {
        "colab": {
          "base_uri": "https://localhost:8080/"
        },
        "id": "lIVBu3L4XLzN",
        "outputId": "e9d3b894-4922-43fc-958a-6ec075266578"
      },
      "execution_count": null,
      "outputs": [
        {
          "output_type": "stream",
          "name": "stdout",
          "text": [
            "t[0] t[1] t[-1] =  0.0 1.0 6.0\n"
          ]
        }
      ]
    },
    {
      "cell_type": "code",
      "source": [
        "print('t[2:5] t[4:-1]  = ', t[2:5], t[4:-1]) # [시작 번호 : 끝 번호]로 범위 지정을 통해 가져온다."
      ],
      "metadata": {
        "colab": {
          "base_uri": "https://localhost:8080/"
        },
        "id": "_kLPqlQdYj-X",
        "outputId": "607a5076-f102-4bbb-ef65-57edbb7c7ec4"
      },
      "execution_count": null,
      "outputs": [
        {
          "output_type": "stream",
          "name": "stdout",
          "text": [
            "t[2:5] t[4:-1]  =  [2. 3. 4.] [4. 5.]\n"
          ]
        }
      ]
    },
    {
      "cell_type": "code",
      "source": [
        "print('t[:2] t[3:]     = ', t[:2], t[3:]) # 시작 번호를 생략한 경우와 끝 번호를 생략한 경우"
      ],
      "metadata": {
        "colab": {
          "base_uri": "https://localhost:8080/"
        },
        "id": "zrvou-eEZKlO",
        "outputId": "85b11f71-cee9-4f15-d7d7-07e89eb3c231"
      },
      "execution_count": null,
      "outputs": [
        {
          "output_type": "stream",
          "name": "stdout",
          "text": [
            "t[:2] t[3:]     =  [0. 1.] [3. 4. 5. 6.]\n"
          ]
        }
      ]
    },
    {
      "cell_type": "code",
      "source": [
        "#2) 2D with Numpy\n",
        "\n",
        "t = np.array([[1., 2., 3.], [4., 5., 6.], [7., 8., 9.], [10., 11., 12.]]) #대괄호의 개수랑 차원 수라 같음\n",
        "print(t)"
      ],
      "metadata": {
        "colab": {
          "base_uri": "https://localhost:8080/"
        },
        "id": "AwJBcqxGZO6I",
        "outputId": "0287905c-0409-4156-d149-5aabd44156b1"
      },
      "execution_count": null,
      "outputs": [
        {
          "output_type": "stream",
          "name": "stdout",
          "text": [
            "[[ 1.  2.  3.]\n",
            " [ 4.  5.  6.]\n",
            " [ 7.  8.  9.]\n",
            " [10. 11. 12.]]\n"
          ]
        }
      ]
    },
    {
      "cell_type": "code",
      "source": [
        "print('Rank  of t: ', t.ndim)\n",
        "print('Shape of t: ', t.shape)"
      ],
      "metadata": {
        "colab": {
          "base_uri": "https://localhost:8080/"
        },
        "id": "6MFSCfipZj6N",
        "outputId": "335fb85d-632f-4e89-ff4b-b7916bd91bcb"
      },
      "execution_count": null,
      "outputs": [
        {
          "output_type": "stream",
          "name": "stdout",
          "text": [
            "Rank  of t:  2\n",
            "Shape of t:  (4, 3)\n"
          ]
        }
      ]
    },
    {
      "cell_type": "markdown",
      "source": [
        "###3. 파이토치 텐서 선언하기(PyTorch Tensor Allocation)"
      ],
      "metadata": {
        "id": "Ztijgw2WZqZ6"
      }
    },
    {
      "cell_type": "code",
      "source": [
        "import torch"
      ],
      "metadata": {
        "id": "AXBqTKxfZmwA"
      },
      "execution_count": null,
      "outputs": []
    },
    {
      "cell_type": "markdown",
      "source": [
        "####1) 1D with PyTorch"
      ],
      "metadata": {
        "id": "22wBEdIhv1c3"
      }
    },
    {
      "cell_type": "code",
      "source": [
        "t = torch.FloatTensor([0., 1., 2., 3., 4., 5., 6.])\n",
        "print(t)"
      ],
      "metadata": {
        "colab": {
          "base_uri": "https://localhost:8080/"
        },
        "id": "oGpFZ4s0Zvof",
        "outputId": "06d68b08-f14b-425b-ba30-355659af144c"
      },
      "execution_count": null,
      "outputs": [
        {
          "output_type": "stream",
          "name": "stdout",
          "text": [
            "tensor([0., 1., 2., 3., 4., 5., 6.])\n"
          ]
        }
      ]
    },
    {
      "cell_type": "code",
      "source": [
        "print(t.dim())  # rank. 즉, 차원\n",
        "print(t.shape)  # shape\n",
        "print(t.size()) # shape"
      ],
      "metadata": {
        "colab": {
          "base_uri": "https://localhost:8080/"
        },
        "id": "9W1_DGcCZ6jx",
        "outputId": "1b0a5564-8065-4ca1-9009-1ccfd55b45c4"
      },
      "execution_count": null,
      "outputs": [
        {
          "output_type": "stream",
          "name": "stdout",
          "text": [
            "1\n",
            "torch.Size([7])\n",
            "torch.Size([7])\n"
          ]
        }
      ]
    },
    {
      "cell_type": "code",
      "source": [
        "print(t[0], t[1], t[-1])  # 인덱스로 접근\n",
        "print(t[2:5], t[4:-1])    # 슬라이싱\n",
        "print(t[:2], t[3:])       # 슬라이싱"
      ],
      "metadata": {
        "colab": {
          "base_uri": "https://localhost:8080/"
        },
        "id": "BVZIJzKaaKeb",
        "outputId": "0a0354ad-a082-46e6-ab27-885035ab210c"
      },
      "execution_count": null,
      "outputs": [
        {
          "output_type": "stream",
          "name": "stdout",
          "text": [
            "tensor(0.) tensor(1.) tensor(6.)\n",
            "tensor([2., 3., 4.]) tensor([4., 5.])\n",
            "tensor([0., 1.]) tensor([3., 4., 5., 6.])\n"
          ]
        }
      ]
    },
    {
      "cell_type": "markdown",
      "source": [
        "####2) 2D with PyTorch"
      ],
      "metadata": {
        "id": "8_X89CBHv8C8"
      }
    },
    {
      "cell_type": "code",
      "source": [
        "t = torch.FloatTensor([[1., 2., 3.],\n",
        "                       [4., 5., 6.],\n",
        "                       [7., 8., 9.],\n",
        "                       [10., 11., 12.]])\n",
        "print(t)"
      ],
      "metadata": {
        "colab": {
          "base_uri": "https://localhost:8080/"
        },
        "id": "NcaOc1hFaRqJ",
        "outputId": "7a7ffc68-c5cc-417b-a8de-0a95c006ebae"
      },
      "execution_count": null,
      "outputs": [
        {
          "output_type": "stream",
          "name": "stdout",
          "text": [
            "tensor([[ 1.,  2.,  3.],\n",
            "        [ 4.,  5.,  6.],\n",
            "        [ 7.,  8.,  9.],\n",
            "        [10., 11., 12.]])\n"
          ]
        }
      ]
    },
    {
      "cell_type": "code",
      "source": [
        "print(t.dim())  # rank. 즉, 차원\n",
        "print(t.size()) # shape"
      ],
      "metadata": {
        "colab": {
          "base_uri": "https://localhost:8080/"
        },
        "id": "LOmNjt_caa5C",
        "outputId": "2bcced53-987c-48bb-f875-02002648d9d1"
      },
      "execution_count": null,
      "outputs": [
        {
          "output_type": "stream",
          "name": "stdout",
          "text": [
            "2\n",
            "torch.Size([4, 3])\n"
          ]
        }
      ]
    },
    {
      "cell_type": "code",
      "source": [
        "print(t[:, 1]) # 첫번째 차원을 전체 선택한 상황에서 두번째 차원의 첫번째 것만 가져온다.\n",
        "print(t[:, 1].size()) # ↑ 위의 경우의 크기"
      ],
      "metadata": {
        "colab": {
          "base_uri": "https://localhost:8080/"
        },
        "id": "F5qhjZ97anSw",
        "outputId": "6e79f070-ff7a-43bd-9a87-bfbda6c33d6d"
      },
      "execution_count": null,
      "outputs": [
        {
          "output_type": "stream",
          "name": "stdout",
          "text": [
            "tensor([ 2.,  5.,  8., 11.])\n",
            "torch.Size([4])\n"
          ]
        }
      ]
    },
    {
      "cell_type": "code",
      "source": [
        "print(t[:, :-1]) # 첫번째 차원을 전체 선택한 상황에서 두번째 차원에서는 맨 마지막에서 첫번째를 제외하고 다 가져온다"
      ],
      "metadata": {
        "colab": {
          "base_uri": "https://localhost:8080/"
        },
        "id": "ItBmYOB6a5tF",
        "outputId": "b7ee152a-5674-40af-ae44-7c67ad926b29"
      },
      "execution_count": null,
      "outputs": [
        {
          "output_type": "stream",
          "name": "stdout",
          "text": [
            "tensor([[ 1.,  2.],\n",
            "        [ 4.,  5.],\n",
            "        [ 7.,  8.],\n",
            "        [10., 11.]])\n"
          ]
        }
      ]
    },
    {
      "cell_type": "markdown",
      "source": [
        "####3) 브로드캐스팅(Broadcasting): 자동으로 크기를 맞춰서 연산을 수행"
      ],
      "metadata": {
        "id": "W7oqQzDPa-DD"
      }
    },
    {
      "cell_type": "code",
      "source": [
        "m1 = torch.FloatTensor([[3, 3]])\n",
        "m2 = torch.FloatTensor([[2, 2]])\n",
        "print(m1 + m2)"
      ],
      "metadata": {
        "colab": {
          "base_uri": "https://localhost:8080/"
        },
        "id": "8rjcgqtWa-oa",
        "outputId": "773d666a-b1ff-4385-fc8f-6971e5083656"
      },
      "execution_count": null,
      "outputs": [
        {
          "output_type": "stream",
          "name": "stdout",
          "text": [
            "tensor([[5., 5.]])\n"
          ]
        }
      ]
    },
    {
      "cell_type": "code",
      "source": [
        "# Vector + scalar\n",
        "m1 = torch.FloatTensor([[1, 2]])\n",
        "m2 = torch.FloatTensor([3]) # [3] -> [3, 3]\n",
        "print(m1 + m2)"
      ],
      "metadata": {
        "colab": {
          "base_uri": "https://localhost:8080/"
        },
        "id": "hqKN2OvJbkZu",
        "outputId": "6b9f5ff5-d6f1-436c-8687-4b9f544cab87"
      },
      "execution_count": null,
      "outputs": [
        {
          "output_type": "stream",
          "name": "stdout",
          "text": [
            "tensor([[4., 5.]])\n"
          ]
        }
      ]
    },
    {
      "cell_type": "code",
      "source": [
        "# 2 x 1 Vector + 1 x 2 Vector\n",
        "m1 = torch.FloatTensor([[1, 2]]) #1X2 vector\n",
        "m2 = torch.FloatTensor([[3], [4]]) #2X1 vector\n",
        "print(m1 + m2)"
      ],
      "metadata": {
        "colab": {
          "base_uri": "https://localhost:8080/"
        },
        "id": "Kc1jK__cb-v1",
        "outputId": "0b19a7f2-a6e4-4c2e-fd8f-45a564360eb9"
      },
      "execution_count": null,
      "outputs": [
        {
          "output_type": "stream",
          "name": "stdout",
          "text": [
            "tensor([[4., 5.],\n",
            "        [5., 6.]])\n"
          ]
        }
      ]
    },
    {
      "cell_type": "markdown",
      "source": [
        "####4) 자주 사용되는 기능들"
      ],
      "metadata": {
        "id": "_SfXsbypcy7x"
      }
    },
    {
      "cell_type": "markdown",
      "source": [
        "1) 행렬 곱셈과 곱셈의 차이(Matrix Multiplication Vs. Multiplication)"
      ],
      "metadata": {
        "id": "hXahYY4Uwo7p"
      }
    },
    {
      "cell_type": "code",
      "source": [
        "m1 = torch.FloatTensor([[1, 2], [3, 4]])\n",
        "m2 = torch.FloatTensor([[1], [2]])\n",
        "print('Shape of Matrix 1: ', m1.shape) # '2' x 2\n",
        "print('Shape of Matrix 2: ', m2.shape) # 2 x '1'\n",
        "print(m1.matmul(m2)) # 2 x 1, 행렬의 곱셈(내적)"
      ],
      "metadata": {
        "colab": {
          "base_uri": "https://localhost:8080/"
        },
        "id": "OwCCf2IFcNq_",
        "outputId": "4f3ca590-b842-4418-abbb-dda044d987ba"
      },
      "execution_count": null,
      "outputs": [
        {
          "output_type": "stream",
          "name": "stdout",
          "text": [
            "Shape of Matrix 1:  torch.Size([2, 2])\n",
            "Shape of Matrix 2:  torch.Size([2, 1])\n",
            "tensor([[ 5.],\n",
            "        [11.]])\n"
          ]
        }
      ]
    },
    {
      "cell_type": "code",
      "source": [
        "m1 = torch.FloatTensor([[1, 2], [3, 4]])\n",
        "m2 = torch.FloatTensor([[1], [2]])\n",
        "print('Shape of Matrix 1: ', m1.shape) # 2 x 2\n",
        "print('Shape of Matrix 2: ', m2.shape) # 2 x 1\n",
        "print(m1 * m2) # 2 x 2\n",
        "print(m1.mul(m2))  #행렬이 동일한 위치에 있는 원소끼리 곱하는 것(브로드캐스팅 돼서 곱해짐)"
      ],
      "metadata": {
        "colab": {
          "base_uri": "https://localhost:8080/"
        },
        "id": "vm5cERXmdbJZ",
        "outputId": "4ef3b96f-3020-43d1-bde4-e4be0dc22814"
      },
      "execution_count": null,
      "outputs": [
        {
          "output_type": "stream",
          "name": "stdout",
          "text": [
            "Shape of Matrix 1:  torch.Size([2, 2])\n",
            "Shape of Matrix 2:  torch.Size([2, 1])\n",
            "tensor([[1., 2.],\n",
            "        [6., 8.]])\n",
            "tensor([[1., 2.],\n",
            "        [6., 8.]])\n"
          ]
        }
      ]
    },
    {
      "cell_type": "markdown",
      "source": [
        "2) 평균(Mean)"
      ],
      "metadata": {
        "id": "xx6g6X5LwrQj"
      }
    },
    {
      "cell_type": "code",
      "source": [
        "t = torch.FloatTensor([1, 2])\n",
        "print(t.mean())"
      ],
      "metadata": {
        "colab": {
          "base_uri": "https://localhost:8080/"
        },
        "id": "l0YmdSHXdzxE",
        "outputId": "08f22a0b-3a8c-436b-b08e-2828928e7e5a"
      },
      "execution_count": null,
      "outputs": [
        {
          "output_type": "stream",
          "name": "stdout",
          "text": [
            "tensor(1.5000)\n"
          ]
        }
      ]
    },
    {
      "cell_type": "code",
      "source": [
        "t = torch.FloatTensor([[1, 2], [3, 4]])\n",
        "print(t)"
      ],
      "metadata": {
        "colab": {
          "base_uri": "https://localhost:8080/"
        },
        "id": "myXQqm5WeGL5",
        "outputId": "7a4fc00a-7ef6-41b5-bf3b-38663c26d4da"
      },
      "execution_count": null,
      "outputs": [
        {
          "output_type": "stream",
          "name": "stdout",
          "text": [
            "tensor([[1., 2.],\n",
            "        [3., 4.]])\n"
          ]
        }
      ]
    },
    {
      "cell_type": "code",
      "source": [
        "print(t.mean())"
      ],
      "metadata": {
        "colab": {
          "base_uri": "https://localhost:8080/"
        },
        "id": "1aaWbbjFeIUI",
        "outputId": "223374df-b977-470c-d7e2-45e2b94e3ec1"
      },
      "execution_count": null,
      "outputs": [
        {
          "output_type": "stream",
          "name": "stdout",
          "text": [
            "tensor(2.5000)\n"
          ]
        }
      ]
    },
    {
      "cell_type": "code",
      "source": [
        "print(t.mean(dim=0)) #'dim=0'은 열 방향으로 계산한다는 뜻(dim으로 지정한 숫자(0은 행)를 제거?한다는 뜻 - 연산은 0은 열로 한다는 개념이랑 똑같이 생각하기)"
      ],
      "metadata": {
        "colab": {
          "base_uri": "https://localhost:8080/"
        },
        "id": "BEaDtM3LeLUx",
        "outputId": "f88a941a-a210-42d2-a1e7-106338175349"
      },
      "execution_count": null,
      "outputs": [
        {
          "output_type": "stream",
          "name": "stdout",
          "text": [
            "tensor([2., 3.])\n"
          ]
        }
      ]
    },
    {
      "cell_type": "code",
      "source": [
        "print(t.mean(dim=1))"
      ],
      "metadata": {
        "colab": {
          "base_uri": "https://localhost:8080/"
        },
        "id": "-wnP2J87genI",
        "outputId": "b8f402e7-1a3c-48a2-dc74-55fef3fae397"
      },
      "execution_count": null,
      "outputs": [
        {
          "output_type": "stream",
          "name": "stdout",
          "text": [
            "tensor([1.5000, 3.5000])\n"
          ]
        }
      ]
    },
    {
      "cell_type": "markdown",
      "source": [
        "3) 덧셈(Sum)"
      ],
      "metadata": {
        "id": "fXVTudNLw0nX"
      }
    },
    {
      "cell_type": "code",
      "source": [
        "t = torch.FloatTensor([[1, 2], [3, 4]])\n",
        "print(t)"
      ],
      "metadata": {
        "colab": {
          "base_uri": "https://localhost:8080/"
        },
        "id": "aSpVPNHUgxP2",
        "outputId": "ab97a961-ed2c-409d-9682-9ef518093748"
      },
      "execution_count": null,
      "outputs": [
        {
          "output_type": "stream",
          "name": "stdout",
          "text": [
            "tensor([[1., 2.],\n",
            "        [3., 4.]])\n"
          ]
        }
      ]
    },
    {
      "cell_type": "code",
      "source": [
        "print(t.sum()) # 단순히 원소 전체의 덧셈을 수행\n",
        "print(t.sum(dim=0)) # 행을 제거\n",
        "print(t.sum(dim=1)) # 열을 제거\n",
        "print(t.sum(dim=-1)) # 열을 제거"
      ],
      "metadata": {
        "colab": {
          "base_uri": "https://localhost:8080/"
        },
        "id": "a0p6OO76g05j",
        "outputId": "eabb87fe-dd7a-4289-b7ad-fd9ecc73291b"
      },
      "execution_count": null,
      "outputs": [
        {
          "output_type": "stream",
          "name": "stdout",
          "text": [
            "tensor(10.)\n",
            "tensor([4., 6.])\n",
            "tensor([3., 7.])\n",
            "tensor([3., 7.])\n"
          ]
        }
      ]
    },
    {
      "cell_type": "markdown",
      "source": [
        "4) 최대(Max)와 아그맥스(ArgMax): 아그맥스는 최대값을 가진 인덱스를 리턴"
      ],
      "metadata": {
        "id": "iDvIfrdg2Ku5"
      }
    },
    {
      "cell_type": "code",
      "source": [
        "t = torch.FloatTensor([[1, 2], [3, 4]])\n",
        "print(t)"
      ],
      "metadata": {
        "colab": {
          "base_uri": "https://localhost:8080/"
        },
        "id": "RuCC15meg8PN",
        "outputId": "cefd8328-fce6-4c67-f980-81ae99d54693"
      },
      "execution_count": null,
      "outputs": [
        {
          "output_type": "stream",
          "name": "stdout",
          "text": [
            "tensor([[1., 2.],\n",
            "        [3., 4.]])\n"
          ]
        }
      ]
    },
    {
      "cell_type": "code",
      "source": [
        "print(t.max())"
      ],
      "metadata": {
        "colab": {
          "base_uri": "https://localhost:8080/"
        },
        "id": "L2UX2bJNhF7-",
        "outputId": "39dc03cb-f423-4b23-8dfb-d0a85bd5c228"
      },
      "execution_count": null,
      "outputs": [
        {
          "output_type": "stream",
          "name": "stdout",
          "text": [
            "tensor(4.)\n"
          ]
        }
      ]
    },
    {
      "cell_type": "code",
      "source": [
        "print(t.max(dim=0)) #max에 dim 인자를 주면 argmax도 같이 리턴"
      ],
      "metadata": {
        "colab": {
          "base_uri": "https://localhost:8080/"
        },
        "id": "-gvFXBnYhIrY",
        "outputId": "f1ac30fa-3efe-40e3-f454-32340e0caa33"
      },
      "execution_count": null,
      "outputs": [
        {
          "output_type": "stream",
          "name": "stdout",
          "text": [
            "torch.return_types.max(\n",
            "values=tensor([3., 4.]),\n",
            "indices=tensor([1, 1]))\n"
          ]
        }
      ]
    },
    {
      "cell_type": "code",
      "source": [
        "print('Max: ', t.max(dim=0)[0])\n",
        "print('Argmax: ', t.max(dim=0)[1])"
      ],
      "metadata": {
        "colab": {
          "base_uri": "https://localhost:8080/"
        },
        "id": "LAb-QvtAhLZ8",
        "outputId": "d4799e12-361a-4c21-f0e4-1501ec143c5e"
      },
      "execution_count": null,
      "outputs": [
        {
          "output_type": "stream",
          "name": "stdout",
          "text": [
            "Max:  tensor([3., 4.])\n",
            "Argmax:  tensor([1, 1])\n"
          ]
        }
      ]
    },
    {
      "cell_type": "code",
      "source": [
        "print(t.max(dim=1))\n",
        "print(t.max(dim=-1))"
      ],
      "metadata": {
        "colab": {
          "base_uri": "https://localhost:8080/"
        },
        "id": "KwVh-vh8hhbs",
        "outputId": "9c34ae08-dbc9-49be-d103-0252e8b10d9d"
      },
      "execution_count": null,
      "outputs": [
        {
          "output_type": "stream",
          "name": "stdout",
          "text": [
            "torch.return_types.max(\n",
            "values=tensor([2., 4.]),\n",
            "indices=tensor([1, 1]))\n",
            "torch.return_types.max(\n",
            "values=tensor([2., 4.]),\n",
            "indices=tensor([1, 1]))\n"
          ]
        }
      ]
    },
    {
      "cell_type": "markdown",
      "source": [
        "5) 뷰(View) - 원소의 수를 유지하면서 텐서의 크기 변경. 매우 중요! : numpy에서 reshape과 같은 역할!"
      ],
      "metadata": {
        "id": "QlRyiKvUw32R"
      }
    },
    {
      "cell_type": "code",
      "source": [
        "t = np.array([[[0, 1, 2],\n",
        "               [3, 4, 5]],\n",
        "              [[6, 7, 8],\n",
        "               [9, 10, 11]]])\n",
        "ft = torch.FloatTensor(t)"
      ],
      "metadata": {
        "id": "-lJJGViXhlw-"
      },
      "execution_count": null,
      "outputs": []
    },
    {
      "cell_type": "code",
      "source": [
        "print(ft.shape) #(차원,행,열)"
      ],
      "metadata": {
        "colab": {
          "base_uri": "https://localhost:8080/"
        },
        "id": "UhI3peiFh8Tv",
        "outputId": "26bb5595-8169-4b8c-bb98-ac154586ac3d"
      },
      "execution_count": null,
      "outputs": [
        {
          "output_type": "stream",
          "name": "stdout",
          "text": [
            "torch.Size([2, 2, 3])\n"
          ]
        }
      ]
    },
    {
      "cell_type": "code",
      "source": [
        "#5-1) 3차원 텐서에서 2차원 텐서로 변경\n",
        "\n",
        "print(ft.view([-1, 3])) # ft라는 텐서를 (?, 3)의 크기로 변경, '-1'은 차원을 -1하란게 아니라 모른다는? 뜻\n",
        "print(ft.view([-1, 3]).shape)"
      ],
      "metadata": {
        "colab": {
          "base_uri": "https://localhost:8080/"
        },
        "id": "i-a5EzRliFaK",
        "outputId": "73a1f771-1b1f-4d1c-d8d6-04878af8191f"
      },
      "execution_count": null,
      "outputs": [
        {
          "output_type": "stream",
          "name": "stdout",
          "text": [
            "tensor([[ 0.,  1.,  2.],\n",
            "        [ 3.,  4.,  5.],\n",
            "        [ 6.,  7.,  8.],\n",
            "        [ 9., 10., 11.]])\n",
            "torch.Size([4, 3])\n"
          ]
        }
      ]
    },
    {
      "cell_type": "code",
      "source": [
        "#5-2) 3차원 텐서의 크기 변경\n",
        "\n",
        "print(ft.view([-1, 1, 3]))\n",
        "print(ft.view([-1, 1, 3]).shape)"
      ],
      "metadata": {
        "colab": {
          "base_uri": "https://localhost:8080/"
        },
        "id": "pQ7mffp3jClK",
        "outputId": "ba255c63-71d4-437b-841f-c1d23ceac447"
      },
      "execution_count": null,
      "outputs": [
        {
          "output_type": "stream",
          "name": "stdout",
          "text": [
            "tensor([[[ 0.,  1.,  2.]],\n",
            "\n",
            "        [[ 3.,  4.,  5.]],\n",
            "\n",
            "        [[ 6.,  7.,  8.]],\n",
            "\n",
            "        [[ 9., 10., 11.]]])\n",
            "torch.Size([4, 1, 3])\n"
          ]
        }
      ]
    },
    {
      "cell_type": "markdown",
      "source": [
        "6) 스퀴즈(Squeeze) - 현재 shape에서 크기가 1인 요소 제거((1,3)->(3,),(3,1,1)->(3,))"
      ],
      "metadata": {
        "id": "m5vQP4N0xDQm"
      }
    },
    {
      "cell_type": "code",
      "source": [
        "ft = torch.FloatTensor([[0], [1], [2]])\n",
        "print(ft)\n",
        "print(ft.shape)"
      ],
      "metadata": {
        "colab": {
          "base_uri": "https://localhost:8080/"
        },
        "id": "C1DSh-3IjX-y",
        "outputId": "3bcdd037-1e72-4579-9b81-890b799517ff"
      },
      "execution_count": null,
      "outputs": [
        {
          "output_type": "stream",
          "name": "stdout",
          "text": [
            "tensor([[0.],\n",
            "        [1.],\n",
            "        [2.]])\n",
            "torch.Size([3, 1])\n"
          ]
        }
      ]
    },
    {
      "cell_type": "code",
      "source": [
        "print(ft.squeeze())\n",
        "print(ft.squeeze().shape)"
      ],
      "metadata": {
        "colab": {
          "base_uri": "https://localhost:8080/"
        },
        "id": "WH6wQzTujhdQ",
        "outputId": "ecb6a601-be50-4c86-d56e-876082ab8c9f"
      },
      "execution_count": null,
      "outputs": [
        {
          "output_type": "stream",
          "name": "stdout",
          "text": [
            "tensor([0., 1., 2.])\n",
            "torch.Size([3])\n"
          ]
        }
      ]
    },
    {
      "cell_type": "markdown",
      "source": [
        "7) 언스퀴즈(Unsqueeze)\n",
        "\n",
        "현재 shape에서 unsqueeze(n) n번째 요소에 1 추가 (unsqueeze(1):(3,1)->(3,1,1)4차원에 행x열 1x1이라는 뜻,(1,3,2)->(1,1,3,2))"
      ],
      "metadata": {
        "id": "8muirnyexGOI"
      }
    },
    {
      "cell_type": "code",
      "source": [
        "ft = torch.Tensor([0, 1, 2])\n",
        "print(ft.shape)"
      ],
      "metadata": {
        "colab": {
          "base_uri": "https://localhost:8080/"
        },
        "id": "Qufe4agPj9Uz",
        "outputId": "3f98e262-dfbe-4f81-fac6-c95a51e85a92"
      },
      "execution_count": null,
      "outputs": [
        {
          "output_type": "stream",
          "name": "stdout",
          "text": [
            "torch.Size([3])\n"
          ]
        }
      ]
    },
    {
      "cell_type": "code",
      "source": [
        "print(ft.unsqueeze(0)) # unsqueeze(0)은 첫번째 요소인 행에 차원 1을 추가한다는 뜻->(1,3)이 되고, unsqueeze(1)은 두번째 요소인 열에 차원1을 추가한다는 뜻->(3,4)이 됨\n",
        "print(ft.unsqueeze(0).shape)"
      ],
      "metadata": {
        "colab": {
          "base_uri": "https://localhost:8080/"
        },
        "id": "oBTr9O8Pj_Yd",
        "outputId": "496ece30-73a2-4a17-f0d3-75ee4eac1151"
      },
      "execution_count": null,
      "outputs": [
        {
          "output_type": "stream",
          "name": "stdout",
          "text": [
            "tensor([[0., 1., 2.]])\n",
            "torch.Size([1, 3])\n"
          ]
        }
      ]
    },
    {
      "cell_type": "code",
      "source": [
        "print(ft.view(1, -1)) #view(1,-1)은 차원을 두번째 인덱스(1)인 2차원으로 한다는 뜻,'-1'은 나머지 요소 자동 계산\n",
        "print(ft.view(1, -1).shape)\n",
        "print(ft.view(1,-1).ndim)"
      ],
      "metadata": {
        "colab": {
          "base_uri": "https://localhost:8080/"
        },
        "id": "leDu5bQumYoJ",
        "outputId": "1d43a58d-59f8-44cb-cd56-793b71f0ab48"
      },
      "execution_count": null,
      "outputs": [
        {
          "output_type": "stream",
          "name": "stdout",
          "text": [
            "tensor([[0., 1., 2.]])\n",
            "torch.Size([1, 3])\n",
            "2\n"
          ]
        }
      ]
    },
    {
      "cell_type": "code",
      "source": [
        "print(ft.unsqueeze(1)) #(3,) 두번째 요소에 1추가니까 (3,1)\n",
        "print(ft.unsqueeze(1).shape)\n",
        "print(ft.unsqueeze(1).ndim)"
      ],
      "metadata": {
        "colab": {
          "base_uri": "https://localhost:8080/"
        },
        "id": "Pzw0JsZHmbej",
        "outputId": "07115ab0-9d70-4b17-ee8a-7854b730740e"
      },
      "execution_count": null,
      "outputs": [
        {
          "output_type": "stream",
          "name": "stdout",
          "text": [
            "tensor([[0.],\n",
            "        [1.],\n",
            "        [2.]])\n",
            "torch.Size([3, 1])\n",
            "2\n"
          ]
        }
      ]
    },
    {
      "cell_type": "code",
      "source": [
        "print(ft.unsqueeze(-1)) #(3,) -1번째 즉 마지막 요소에 1추가니까 (3,1)\n",
        "print(ft.unsqueeze(-1).shape)"
      ],
      "metadata": {
        "colab": {
          "base_uri": "https://localhost:8080/"
        },
        "id": "M9hl_hgxs7NW",
        "outputId": "6e57e9bc-710d-49c1-fbb4-e6eeb738661b"
      },
      "execution_count": null,
      "outputs": [
        {
          "output_type": "stream",
          "name": "stdout",
          "text": [
            "tensor([[0.],\n",
            "        [1.],\n",
            "        [2.]])\n",
            "torch.Size([3, 1])\n"
          ]
        }
      ]
    },
    {
      "cell_type": "markdown",
      "source": [
        "8) 타입 캐스팅(Type Casting)"
      ],
      "metadata": {
        "id": "GsrcAHoMxM4M"
      }
    },
    {
      "cell_type": "code",
      "source": [
        "lt = torch.LongTensor([1, 2, 3, 4])\n",
        "print(lt)"
      ],
      "metadata": {
        "colab": {
          "base_uri": "https://localhost:8080/"
        },
        "id": "Z1D-TWe_tEnk",
        "outputId": "89ae038f-4e77-4904-db21-2395df194f9e"
      },
      "execution_count": null,
      "outputs": [
        {
          "output_type": "stream",
          "name": "stdout",
          "text": [
            "tensor([1, 2, 3, 4])\n"
          ]
        }
      ]
    },
    {
      "cell_type": "code",
      "source": [
        "print(lt.float())"
      ],
      "metadata": {
        "colab": {
          "base_uri": "https://localhost:8080/"
        },
        "id": "D1iC7AfPtJwr",
        "outputId": "48d277b6-855f-45fe-bce3-b3ecdcf89635"
      },
      "execution_count": null,
      "outputs": [
        {
          "output_type": "stream",
          "name": "stdout",
          "text": [
            "tensor([1., 2., 3., 4.])\n"
          ]
        }
      ]
    },
    {
      "cell_type": "code",
      "source": [
        "bt = torch.ByteTensor([True, False, False, True])\n",
        "print(bt)"
      ],
      "metadata": {
        "id": "sIYWUiRrtNYD",
        "colab": {
          "base_uri": "https://localhost:8080/"
        },
        "outputId": "90149a90-86f3-4af6-936a-2eeccf3bead7"
      },
      "execution_count": null,
      "outputs": [
        {
          "output_type": "stream",
          "name": "stdout",
          "text": [
            "tensor([1, 0, 0, 1], dtype=torch.uint8)\n"
          ]
        }
      ]
    },
    {
      "cell_type": "code",
      "source": [
        "print(bt.long()) #long 타입의 텐서로 변경\n",
        "print(bt.float()) #float 타입의 텐서로 변경"
      ],
      "metadata": {
        "colab": {
          "base_uri": "https://localhost:8080/"
        },
        "id": "wJ3s7VOtuHFN",
        "outputId": "67e1bdb7-a70e-4fea-c3b8-73d27c532ad5"
      },
      "execution_count": null,
      "outputs": [
        {
          "output_type": "stream",
          "name": "stdout",
          "text": [
            "tensor([1, 0, 0, 1])\n",
            "tensor([1., 0., 0., 1.])\n"
          ]
        }
      ]
    },
    {
      "cell_type": "markdown",
      "source": [
        "9) 연결하기(concatenate)"
      ],
      "metadata": {
        "id": "BReV-yMmxQ2t"
      }
    },
    {
      "cell_type": "code",
      "source": [
        "x = torch.FloatTensor([[1, 2], [3, 4]])\n",
        "y = torch.FloatTensor([[5, 6], [7, 8]])"
      ],
      "metadata": {
        "id": "rtDpQ_5tuQmE"
      },
      "execution_count": null,
      "outputs": []
    },
    {
      "cell_type": "code",
      "source": [
        "print(torch.cat([x, y], dim=0)) #첫번재 차원인 행을 늘리라는 뜻(얘는 연산이 아니니까 행으로 생각하기..?)"
      ],
      "metadata": {
        "colab": {
          "base_uri": "https://localhost:8080/"
        },
        "id": "K2Pivg8MvCF9",
        "outputId": "7c0c75dc-c99e-4c72-db7e-331f734b10fe"
      },
      "execution_count": null,
      "outputs": [
        {
          "output_type": "stream",
          "name": "stdout",
          "text": [
            "tensor([[1., 2.],\n",
            "        [3., 4.],\n",
            "        [5., 6.],\n",
            "        [7., 8.]])\n"
          ]
        }
      ]
    },
    {
      "cell_type": "code",
      "source": [
        "print(torch.cat([x, y], dim=1))"
      ],
      "metadata": {
        "colab": {
          "base_uri": "https://localhost:8080/"
        },
        "id": "ajOQPWqIvViY",
        "outputId": "4819295f-fad3-421b-d653-54e47468d60c"
      },
      "execution_count": null,
      "outputs": [
        {
          "output_type": "stream",
          "name": "stdout",
          "text": [
            "tensor([[1., 2., 5., 6.],\n",
            "        [3., 4., 7., 8.]])\n"
          ]
        }
      ]
    },
    {
      "cell_type": "markdown",
      "source": [
        "10) 스택킹(Stacking)"
      ],
      "metadata": {
        "id": "rhm2ZgywxSoU"
      }
    },
    {
      "cell_type": "code",
      "source": [
        "x = torch.FloatTensor([1, 4])\n",
        "y = torch.FloatTensor([2, 5])\n",
        "z = torch.FloatTensor([3, 6])"
      ],
      "metadata": {
        "id": "vVgOa_dvvWnJ"
      },
      "execution_count": null,
      "outputs": []
    },
    {
      "cell_type": "code",
      "source": [
        "print(torch.stack([x, y, z]))"
      ],
      "metadata": {
        "colab": {
          "base_uri": "https://localhost:8080/"
        },
        "id": "QrBgmhrJxYuc",
        "outputId": "551d72ed-e9b1-4db1-acc2-4b0b2fcb2e95"
      },
      "execution_count": null,
      "outputs": [
        {
          "output_type": "stream",
          "name": "stdout",
          "text": [
            "tensor([[1., 4.],\n",
            "        [2., 5.],\n",
            "        [3., 6.]])\n"
          ]
        }
      ]
    },
    {
      "cell_type": "code",
      "source": [
        "print(torch.cat([x.unsqueeze(0), y.unsqueeze(0), z.unsqueeze(0)], dim=0))\n",
        "#x.unsqueeze(0): (2,)->(1,2) 행x열 1X2 2차원 됨\n",
        "#y,z도 마찬가지"
      ],
      "metadata": {
        "colab": {
          "base_uri": "https://localhost:8080/"
        },
        "id": "t6tE6uJexcAH",
        "outputId": "e2c026a4-82fc-4267-ee35-02fe85ff5f03"
      },
      "execution_count": null,
      "outputs": [
        {
          "output_type": "stream",
          "name": "stdout",
          "text": [
            "tensor([[1., 4.],\n",
            "        [2., 5.],\n",
            "        [3., 6.]])\n"
          ]
        }
      ]
    },
    {
      "cell_type": "code",
      "source": [
        "print(torch.cat([x,y,z]))"
      ],
      "metadata": {
        "colab": {
          "base_uri": "https://localhost:8080/"
        },
        "id": "jP3tFIgcyeOT",
        "outputId": "d2e5ebcb-db6d-427e-bfdc-6e20c0b4dae1"
      },
      "execution_count": null,
      "outputs": [
        {
          "output_type": "stream",
          "name": "stdout",
          "text": [
            "tensor([1., 4., 2., 5., 3., 6.])\n"
          ]
        }
      ]
    },
    {
      "cell_type": "code",
      "source": [
        "print(torch.stack([x, y, z], dim=1))"
      ],
      "metadata": {
        "colab": {
          "base_uri": "https://localhost:8080/"
        },
        "id": "lGHaJMhHyZdk",
        "outputId": "eefc29d0-8128-4a35-f8bd-645f46005c8b"
      },
      "execution_count": null,
      "outputs": [
        {
          "output_type": "stream",
          "name": "stdout",
          "text": [
            "tensor([[1., 2., 3.],\n",
            "        [4., 5., 6.]])\n"
          ]
        }
      ]
    },
    {
      "cell_type": "markdown",
      "source": [
        "11) ones_like와 zeros_like - 0으로 채워진 텐서와 1로 채워진 텐서"
      ],
      "metadata": {
        "id": "6qSlAN_uysKu"
      }
    },
    {
      "cell_type": "code",
      "source": [
        "x = torch.FloatTensor([[0, 1, 2], [2, 1, 0]])\n",
        "print(x)"
      ],
      "metadata": {
        "colab": {
          "base_uri": "https://localhost:8080/"
        },
        "id": "pF10_ADfyt-G",
        "outputId": "4f6828e0-5ce4-4321-8985-c4fbc8d7bdc0"
      },
      "execution_count": null,
      "outputs": [
        {
          "output_type": "stream",
          "name": "stdout",
          "text": [
            "tensor([[0., 1., 2.],\n",
            "        [2., 1., 0.]])\n"
          ]
        }
      ]
    },
    {
      "cell_type": "code",
      "source": [
        "print(torch.ones_like(x)) # 입력 텐서와 크기를 동일하게 하면서 값을 1로 채우기"
      ],
      "metadata": {
        "colab": {
          "base_uri": "https://localhost:8080/"
        },
        "id": "EVvVz2Egy-l-",
        "outputId": "15fda6ca-b2d8-4c58-c27e-d4904dab493a"
      },
      "execution_count": null,
      "outputs": [
        {
          "output_type": "stream",
          "name": "stdout",
          "text": [
            "tensor([[1., 1., 1.],\n",
            "        [1., 1., 1.]])\n"
          ]
        }
      ]
    },
    {
      "cell_type": "code",
      "source": [
        "print(torch.zeros_like(x)) # 입력 텐서와 크기를 동일하게 하면서 값을 0으로 채우기"
      ],
      "metadata": {
        "colab": {
          "base_uri": "https://localhost:8080/"
        },
        "id": "A9_TE2OGzBB8",
        "outputId": "fc24cb1b-0c83-435f-b39c-0af3bb903fd8"
      },
      "execution_count": null,
      "outputs": [
        {
          "output_type": "stream",
          "name": "stdout",
          "text": [
            "tensor([[0., 0., 0.],\n",
            "        [0., 0., 0.]])\n"
          ]
        }
      ]
    },
    {
      "cell_type": "markdown",
      "source": [
        "12) In-place Operation (덮어쓰기 연산)"
      ],
      "metadata": {
        "id": "c1IZemGqzCgW"
      }
    },
    {
      "cell_type": "code",
      "source": [
        "x = torch.FloatTensor([[1, 2], [3, 4]])"
      ],
      "metadata": {
        "id": "6he8y0a6zBVS"
      },
      "execution_count": null,
      "outputs": []
    },
    {
      "cell_type": "code",
      "source": [
        "print(x.mul(2.)) # 곱하기 2를 수행한 결과를 출력\n",
        "print(x) # 기존의 값 출력"
      ],
      "metadata": {
        "colab": {
          "base_uri": "https://localhost:8080/"
        },
        "id": "ttBQGF1czE3S",
        "outputId": "e0c0194f-1240-4692-889f-bff3c8147e48"
      },
      "execution_count": null,
      "outputs": [
        {
          "output_type": "stream",
          "name": "stdout",
          "text": [
            "tensor([[2., 4.],\n",
            "        [6., 8.]])\n",
            "tensor([[1., 2.],\n",
            "        [3., 4.]])\n"
          ]
        }
      ]
    },
    {
      "cell_type": "code",
      "source": [
        "print(x.mul_(2.))  # 곱하기 2를 수행한 결과를 변수 x에 값을 저장하면서 결과를 출력\n",
        "print(x) # 기존의 값 출력"
      ],
      "metadata": {
        "colab": {
          "base_uri": "https://localhost:8080/"
        },
        "id": "_Fft9BD2zMOa",
        "outputId": "712bffcc-fc85-41f6-af94-d1384b5987de"
      },
      "execution_count": null,
      "outputs": [
        {
          "output_type": "stream",
          "name": "stdout",
          "text": [
            "tensor([[2., 4.],\n",
            "        [6., 8.]])\n",
            "tensor([[2., 4.],\n",
            "        [6., 8.]])\n"
          ]
        }
      ]
    },
    {
      "cell_type": "markdown",
      "source": [
        "##02-03 파이썬 클래스(class)"
      ],
      "metadata": {
        "id": "Lv5NiEAOzTXE"
      }
    },
    {
      "cell_type": "markdown",
      "source": [
        "###1. 함수(function)과 클래스(Class)의 차이"
      ],
      "metadata": {
        "id": "-LCsfLwKzXOl"
      }
    },
    {
      "cell_type": "markdown",
      "source": [
        "1. 함수(function)로 덧셈기 구현하기\n",
        "\n"
      ],
      "metadata": {
        "id": "YrjuXBQuzasi"
      }
    },
    {
      "cell_type": "code",
      "source": [
        "result = 0"
      ],
      "metadata": {
        "id": "PTARJzbwzMi9"
      },
      "execution_count": null,
      "outputs": []
    },
    {
      "cell_type": "code",
      "source": [
        "def add(num):\n",
        "    global result\n",
        "    result += num\n",
        "    return result"
      ],
      "metadata": {
        "id": "CVMfprpXzeWo"
      },
      "execution_count": null,
      "outputs": []
    },
    {
      "cell_type": "code",
      "source": [
        "print(add(3))\n",
        "print(add(4))"
      ],
      "metadata": {
        "colab": {
          "base_uri": "https://localhost:8080/"
        },
        "id": "6rgAo27LzlZr",
        "outputId": "8ac8b96d-1628-485e-c075-831f14db39d0"
      },
      "execution_count": null,
      "outputs": [
        {
          "output_type": "stream",
          "name": "stdout",
          "text": [
            "3\n",
            "7\n"
          ]
        }
      ]
    },
    {
      "cell_type": "markdown",
      "source": [
        "###2. 함수(function)로 두 개의 덧셈기 구현하기\n"
      ],
      "metadata": {
        "id": "BsptzM7hz24m"
      }
    },
    {
      "cell_type": "code",
      "source": [
        "result1 = 0\n",
        "result2 = 0\n",
        "\n",
        "def add1(num):\n",
        "    global result1\n",
        "    result1 += num\n",
        "    return result1\n",
        "\n",
        "def add2(num):\n",
        "    global result2\n",
        "    result2 += num\n",
        "    return result2\n",
        "\n",
        "print(add1(3))\n",
        "print(add1(4))\n",
        "print(add2(3))\n",
        "print(add2(7))"
      ],
      "metadata": {
        "colab": {
          "base_uri": "https://localhost:8080/"
        },
        "id": "Rtigq84bzsjp",
        "outputId": "ccbc8e5e-8f8f-4ac3-9acf-87e7a0b12426"
      },
      "execution_count": null,
      "outputs": [
        {
          "output_type": "stream",
          "name": "stdout",
          "text": [
            "3\n",
            "7\n",
            "3\n",
            "10\n"
          ]
        }
      ]
    },
    {
      "cell_type": "markdown",
      "source": [
        "###3. 클래스(class)로 덧셈기 구현하기"
      ],
      "metadata": {
        "id": "_Pz3jcj60IPf"
      }
    },
    {
      "cell_type": "markdown",
      "source": [],
      "metadata": {
        "id": "-pyb0WVK0trm"
      }
    },
    {
      "cell_type": "code",
      "source": [
        "class Calculator:\n",
        "    def __init__(self): # 객체 생성 시 호출될 때 실행되는 초기화 함수. 이를 생성자라고 한다.\n",
        "        self.result = 0\n",
        "\n",
        "    def add(self, num): # 객체 생성 후 사용할 수 있는 함수.\n",
        "        self.result += num\n",
        "        return self.result"
      ],
      "metadata": {
        "id": "eRbdiZDo0K0H"
      },
      "execution_count": null,
      "outputs": []
    },
    {
      "cell_type": "code",
      "source": [
        "cal1 = Calculator()\n",
        "cal2 = Calculator()"
      ],
      "metadata": {
        "id": "I9JhC6Bc0jV_"
      },
      "execution_count": null,
      "outputs": []
    },
    {
      "cell_type": "code",
      "source": [
        "print(cal1.add(3))\n",
        "print(cal1.add(4))\n",
        "print(cal2.add(3))\n",
        "print(cal2.add(7))"
      ],
      "metadata": {
        "colab": {
          "base_uri": "https://localhost:8080/"
        },
        "id": "7thAhbgF0k4Y",
        "outputId": "29f4fab4-869f-4347-dc9d-1c703bd9a7e7"
      },
      "execution_count": null,
      "outputs": [
        {
          "output_type": "stream",
          "name": "stdout",
          "text": [
            "3\n",
            "7\n",
            "3\n",
            "10\n"
          ]
        }
      ]
    },
    {
      "cell_type": "markdown",
      "source": [
        "#03. [ML 입문] - 머신 러닝 입문하기(Machine Learning Basics)"
      ],
      "metadata": {
        "id": "rNOD82aQ2T3w"
      }
    },
    {
      "cell_type": "markdown",
      "source": [
        "##03-01 선형 회귀와 자동 미분(Linear Regression and Autograd)"
      ],
      "metadata": {
        "id": "RRf0eyBW2WOV"
      }
    },
    {
      "cell_type": "markdown",
      "source": [
        "###1. 데이터에 대한 이해(Data Definition)"
      ],
      "metadata": {
        "id": "0oxQ58oX26UN"
      }
    },
    {
      "cell_type": "markdown",
      "source": [
        "1) 훈련 데이터셋과 테스트 데이터셋"
      ],
      "metadata": {
        "id": "_lM6GoFe267u"
      }
    },
    {
      "cell_type": "markdown",
      "source": [
        "2) 훈련 데이터셋의 구성"
      ],
      "metadata": {
        "id": "yNo5lm-w3D7L"
      }
    },
    {
      "cell_type": "code",
      "source": [
        "x_train = torch.FloatTensor([[1], [2], [3]])\n",
        "y_train = torch.FloatTensor([[2], [4], [6]])"
      ],
      "metadata": {
        "id": "GBNhlcMO3ABt"
      },
      "execution_count": null,
      "outputs": []
    },
    {
      "cell_type": "markdown",
      "source": [
        "###2. 가설(Hypothesis) 수립"
      ],
      "metadata": {
        "id": "88NoueIp3HGY"
      }
    },
    {
      "cell_type": "markdown",
      "source": [
        "![image.png](data:image/png;base64,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)"
      ],
      "metadata": {
        "id": "Tsx-vVnf3vwL"
      }
    },
    {
      "cell_type": "markdown",
      "source": [
        "###3. 비용 함수(Cost function)에 대한 이해"
      ],
      "metadata": {
        "id": "L1u1vZ-B38Gk"
      }
    },
    {
      "cell_type": "markdown",
      "source": [
        "![image.png](data:image/png;base64,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)"
      ],
      "metadata": {
        "id": "pXAG8FuW4Ij4"
      }
    },
    {
      "cell_type": "markdown",
      "source": [
        "###4. 옵티마이저 - 경사 하강법(Gradient Descent)"
      ],
      "metadata": {
        "id": "jjUM4ifR4KYD"
      }
    },
    {
      "cell_type": "markdown",
      "source": [
        "![image.png](data:image/png;base64,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)"
      ],
      "metadata": {
        "id": "AlX9_0Ci4nOl"
      }
    },
    {
      "cell_type": "markdown",
      "source": [
        "###5. 파이토치로 선형 회귀 구현하기"
      ],
      "metadata": {
        "id": "jN6vv6It4bjx"
      }
    },
    {
      "cell_type": "markdown",
      "source": [
        "1) 기본 셋팅"
      ],
      "metadata": {
        "id": "FzN6iwd05Fx0"
      }
    },
    {
      "cell_type": "code",
      "source": [
        "import torch\n",
        "import torch.nn as nn\n",
        "import torch.nn.functional as F\n",
        "import torch.optim as optim"
      ],
      "metadata": {
        "id": "kJRzRwVo3JgM"
      },
      "execution_count": null,
      "outputs": []
    },
    {
      "cell_type": "code",
      "source": [
        "# 현재 실습하고 있는 파이썬 코드를 재실행해도 다음에도 같은 결과가 나오도록 랜덤 시드(random seed)를 줍니다.\n",
        "torch.manual_seed(1)"
      ],
      "metadata": {
        "colab": {
          "base_uri": "https://localhost:8080/"
        },
        "id": "bUXvKefq5M3s",
        "outputId": "3fbfc280-2b7b-4383-8378-18cd4b5b9888"
      },
      "execution_count": null,
      "outputs": [
        {
          "output_type": "execute_result",
          "data": {
            "text/plain": [
              "<torch._C.Generator at 0x7c7ea02a5910>"
            ]
          },
          "metadata": {},
          "execution_count": 72
        }
      ]
    },
    {
      "cell_type": "markdown",
      "source": [
        "2) 변수 선언"
      ],
      "metadata": {
        "id": "SFDIq17O5Txb"
      }
    },
    {
      "cell_type": "code",
      "source": [
        "x_train = torch.FloatTensor([[1], [2], [3]])\n",
        "y_train = torch.FloatTensor([[2], [4], [6]])"
      ],
      "metadata": {
        "id": "fXQNj4Vb5RdT"
      },
      "execution_count": null,
      "outputs": []
    },
    {
      "cell_type": "code",
      "source": [
        "print(x_train)\n",
        "print(x_train.shape)"
      ],
      "metadata": {
        "colab": {
          "base_uri": "https://localhost:8080/"
        },
        "id": "TY7ZeL4k5W2O",
        "outputId": "cc140bae-b716-4ee6-a009-1c3696dfea2c"
      },
      "execution_count": null,
      "outputs": [
        {
          "output_type": "stream",
          "name": "stdout",
          "text": [
            "tensor([[1.],\n",
            "        [2.],\n",
            "        [3.]])\n",
            "torch.Size([3, 1])\n"
          ]
        }
      ]
    },
    {
      "cell_type": "code",
      "source": [
        "print(y_train)\n",
        "print(y_train.shape)"
      ],
      "metadata": {
        "colab": {
          "base_uri": "https://localhost:8080/"
        },
        "id": "Yk5keLgc5Yag",
        "outputId": "c0e33648-ce9b-4a67-8831-1affe525b18a"
      },
      "execution_count": null,
      "outputs": [
        {
          "output_type": "stream",
          "name": "stdout",
          "text": [
            "tensor([[2.],\n",
            "        [4.],\n",
            "        [6.]])\n",
            "torch.Size([3, 1])\n"
          ]
        }
      ]
    },
    {
      "cell_type": "markdown",
      "source": [
        "3) 가중치와 편향의 초기화"
      ],
      "metadata": {
        "id": "mxJ505EQ5eWS"
      }
    },
    {
      "cell_type": "code",
      "source": [
        "# 가중치 W를 0으로 초기화하고 학습을 통해 값이 변경되는 변수임을 명시함.\n",
        "W = torch.zeros(1, requires_grad=True)\n",
        "# 가중치 W를 출력\n",
        "print(W)"
      ],
      "metadata": {
        "colab": {
          "base_uri": "https://localhost:8080/"
        },
        "id": "sLmapRqV5bKj",
        "outputId": "9d586d78-1f3b-46e1-98bf-309a6459bc67"
      },
      "execution_count": null,
      "outputs": [
        {
          "output_type": "stream",
          "name": "stdout",
          "text": [
            "tensor([0.], requires_grad=True)\n"
          ]
        }
      ]
    },
    {
      "cell_type": "code",
      "source": [
        "b = torch.zeros(1, requires_grad=True)\n",
        "print(b)"
      ],
      "metadata": {
        "colab": {
          "base_uri": "https://localhost:8080/"
        },
        "id": "SgbRDA2q5jpq",
        "outputId": "c18571b0-5042-4a6d-c014-e8ee74783311"
      },
      "execution_count": null,
      "outputs": [
        {
          "output_type": "stream",
          "name": "stdout",
          "text": [
            "tensor([0.], requires_grad=True)\n"
          ]
        }
      ]
    },
    {
      "cell_type": "markdown",
      "source": [
        "4) 가설 세우기\n"
      ],
      "metadata": {
        "id": "e4tAIGqv5wgm"
      }
    },
    {
      "cell_type": "code",
      "source": [
        "hypothesis = x_train * W + b\n",
        "print(hypothesis)"
      ],
      "metadata": {
        "colab": {
          "base_uri": "https://localhost:8080/"
        },
        "id": "hLl6tdom5uNO",
        "outputId": "5b8e84d2-51a9-4e3d-b7ba-ca259fe1eca2"
      },
      "execution_count": null,
      "outputs": [
        {
          "output_type": "stream",
          "name": "stdout",
          "text": [
            "tensor([[0.],\n",
            "        [0.],\n",
            "        [0.]], grad_fn=<AddBackward0>)\n"
          ]
        }
      ]
    },
    {
      "cell_type": "markdown",
      "source": [
        "5) 비용 함수 선언하기"
      ],
      "metadata": {
        "id": "hZ0qs92e51Vo"
      }
    },
    {
      "cell_type": "code",
      "source": [
        "# 앞서 배운 torch.mean으로 평균을 구한다.\n",
        "cost = torch.mean((hypothesis - y_train) ** 2)\n",
        "print(cost)"
      ],
      "metadata": {
        "colab": {
          "base_uri": "https://localhost:8080/"
        },
        "id": "JQh13OQk6NYG",
        "outputId": "94f62bce-d8f1-4afd-d447-a5331e1e2fc9"
      },
      "execution_count": null,
      "outputs": [
        {
          "output_type": "stream",
          "name": "stdout",
          "text": [
            "tensor(18.6667, grad_fn=<MeanBackward0>)\n"
          ]
        }
      ]
    },
    {
      "cell_type": "markdown",
      "source": [
        "6) 경사 하강법 구현하기"
      ],
      "metadata": {
        "id": "0eS4FK265-7i"
      }
    },
    {
      "cell_type": "code",
      "source": [
        "optimizer = optim.SGD([W, b], lr=0.01)"
      ],
      "metadata": {
        "id": "SWtun8X76r95"
      },
      "execution_count": null,
      "outputs": []
    },
    {
      "cell_type": "code",
      "source": [
        "# gradient를 0으로 초기화\n",
        "optimizer.zero_grad()\n",
        "# 비용 함수를 미분하여 gradient 계산\n",
        "cost.backward\n",
        "# W와 b를 업데이트\n",
        "optimizer.step()"
      ],
      "metadata": {
        "id": "hzuUfxiB6ui2"
      },
      "execution_count": null,
      "outputs": []
    },
    {
      "cell_type": "markdown",
      "source": [
        "7) 전체 코드"
      ],
      "metadata": {
        "id": "XsFBHk3n5_Ve"
      }
    },
    {
      "cell_type": "code",
      "source": [
        "# 데이터\n",
        "x_train = torch.FloatTensor([[1], [2], [3]])\n",
        "y_train = torch.FloatTensor([[2], [4], [6]])\n",
        "# 모델 초기화\n",
        "W = torch.zeros(1, requires_grad=True)\n",
        "b = torch.zeros(1, requires_grad=True)\n",
        "# optimizer 설정\n",
        "optimizer = optim.SGD([W, b], lr=0.01)\n",
        "\n",
        "nb_epochs = 1999 # 원하는만큼 경사 하강법을 반복\n",
        "for epoch in range(nb_epochs + 1):\n",
        "\n",
        "    # H(x) 계산\n",
        "    hypothesis = x_train * W + b\n",
        "\n",
        "    # cost 계산\n",
        "    cost = torch.mean((hypothesis - y_train) ** 2)\n",
        "\n",
        "    # cost로 H(x) 개선\n",
        "    optimizer.zero_grad()\n",
        "    cost.backward()\n",
        "    optimizer.step()\n",
        "\n",
        "    # 100번마다 로그 출력\n",
        "    if epoch % 100 == 0:\n",
        "        print('Epoch {:4d}/{} W: {:.3f}, b: {:.3f} Cost: {:.6f}'.format(\n",
        "            epoch, nb_epochs, W.item(), b.item(), cost.item()\n",
        "        ))"
      ],
      "metadata": {
        "colab": {
          "base_uri": "https://localhost:8080/"
        },
        "id": "kKmVPeHp67-g",
        "outputId": "eb80f966-fa30-4721-f45c-ae8f3ed3c3a3"
      },
      "execution_count": null,
      "outputs": [
        {
          "output_type": "stream",
          "name": "stdout",
          "text": [
            "Epoch    0/1999 W: 0.187, b: 0.080 Cost: 18.666666\n",
            "Epoch  100/1999 W: 1.746, b: 0.578 Cost: 0.048171\n",
            "Epoch  200/1999 W: 1.800, b: 0.454 Cost: 0.029767\n",
            "Epoch  300/1999 W: 1.843, b: 0.357 Cost: 0.018394\n",
            "Epoch  400/1999 W: 1.876, b: 0.281 Cost: 0.011366\n",
            "Epoch  500/1999 W: 1.903, b: 0.221 Cost: 0.007024\n",
            "Epoch  600/1999 W: 1.924, b: 0.174 Cost: 0.004340\n",
            "Epoch  700/1999 W: 1.940, b: 0.136 Cost: 0.002682\n",
            "Epoch  800/1999 W: 1.953, b: 0.107 Cost: 0.001657\n",
            "Epoch  900/1999 W: 1.963, b: 0.084 Cost: 0.001024\n",
            "Epoch 1000/1999 W: 1.971, b: 0.066 Cost: 0.000633\n",
            "Epoch 1100/1999 W: 1.977, b: 0.052 Cost: 0.000391\n",
            "Epoch 1200/1999 W: 1.982, b: 0.041 Cost: 0.000242\n",
            "Epoch 1300/1999 W: 1.986, b: 0.032 Cost: 0.000149\n",
            "Epoch 1400/1999 W: 1.989, b: 0.025 Cost: 0.000092\n",
            "Epoch 1500/1999 W: 1.991, b: 0.020 Cost: 0.000057\n",
            "Epoch 1600/1999 W: 1.993, b: 0.016 Cost: 0.000035\n",
            "Epoch 1700/1999 W: 1.995, b: 0.012 Cost: 0.000022\n",
            "Epoch 1800/1999 W: 1.996, b: 0.010 Cost: 0.000013\n",
            "Epoch 1900/1999 W: 1.997, b: 0.008 Cost: 0.000008\n"
          ]
        }
      ]
    },
    {
      "cell_type": "markdown",
      "source": [
        "###6. optimizer.zero_grad()가 필요한 이유"
      ],
      "metadata": {
        "id": "T_ErVWaG6AfI"
      }
    },
    {
      "cell_type": "code",
      "source": [
        "import torch\n",
        "w = torch.tensor(2.0, requires_grad=True)\n",
        "\n",
        "nb_epochs = 20\n",
        "for epoch in range(nb_epochs + 1):\n",
        "\n",
        "  z = 2*w\n",
        "\n",
        "  z.backward()\n",
        "  print('수식을 w로 미분한 값 : {}'.format(w.grad))"
      ],
      "metadata": {
        "colab": {
          "base_uri": "https://localhost:8080/"
        },
        "id": "D27qeenx8O2z",
        "outputId": "f80a985d-eb63-4adb-b9f0-12709942bb7e"
      },
      "execution_count": null,
      "outputs": [
        {
          "output_type": "stream",
          "name": "stdout",
          "text": [
            "수식을 w로 미분한 값 : 2.0\n",
            "수식을 w로 미분한 값 : 4.0\n",
            "수식을 w로 미분한 값 : 6.0\n",
            "수식을 w로 미분한 값 : 8.0\n",
            "수식을 w로 미분한 값 : 10.0\n",
            "수식을 w로 미분한 값 : 12.0\n",
            "수식을 w로 미분한 값 : 14.0\n",
            "수식을 w로 미분한 값 : 16.0\n",
            "수식을 w로 미분한 값 : 18.0\n",
            "수식을 w로 미분한 값 : 20.0\n",
            "수식을 w로 미분한 값 : 22.0\n",
            "수식을 w로 미분한 값 : 24.0\n",
            "수식을 w로 미분한 값 : 26.0\n",
            "수식을 w로 미분한 값 : 28.0\n",
            "수식을 w로 미분한 값 : 30.0\n",
            "수식을 w로 미분한 값 : 32.0\n",
            "수식을 w로 미분한 값 : 34.0\n",
            "수식을 w로 미분한 값 : 36.0\n",
            "수식을 w로 미분한 값 : 38.0\n",
            "수식을 w로 미분한 값 : 40.0\n",
            "수식을 w로 미분한 값 : 42.0\n"
          ]
        }
      ]
    },
    {
      "cell_type": "markdown",
      "source": [
        "###7. torch.manual_seed()를 하는 이유"
      ],
      "metadata": {
        "id": "WdsWT4i96GxU"
      }
    },
    {
      "cell_type": "code",
      "source": [
        "import torch"
      ],
      "metadata": {
        "id": "TicYky68P4i9"
      },
      "execution_count": null,
      "outputs": []
    },
    {
      "cell_type": "code",
      "source": [
        "torch.manual_seed(3) #난수값이 계속 똑같이 나옴\n",
        "print('랜덤 시드가 3일 때')\n",
        "for i in range(1,3):\n",
        "  print(torch.rand(1))"
      ],
      "metadata": {
        "colab": {
          "base_uri": "https://localhost:8080/"
        },
        "id": "f24OZi18P69c",
        "outputId": "3f619bd9-675b-46d3-92dd-fc0f324d3fff"
      },
      "execution_count": null,
      "outputs": [
        {
          "output_type": "stream",
          "name": "stdout",
          "text": [
            "랜덤 시드가 3일 때\n",
            "tensor([0.0043])\n",
            "tensor([0.1056])\n"
          ]
        }
      ]
    },
    {
      "cell_type": "code",
      "source": [
        "torch.manual_seed(5)\n",
        "print('랜덤 시드가 5일 때')\n",
        "for i in range(1,3):\n",
        "  print(torch.rand(1))"
      ],
      "metadata": {
        "colab": {
          "base_uri": "https://localhost:8080/"
        },
        "id": "1KMOdQDiSVt1",
        "outputId": "a0dfbfa1-e07d-492d-8326-fa8e6cf7d870"
      },
      "execution_count": null,
      "outputs": [
        {
          "output_type": "stream",
          "name": "stdout",
          "text": [
            "랜덤 시드가 5일 때\n",
            "tensor([0.8303])\n",
            "tensor([0.1261])\n"
          ]
        }
      ]
    },
    {
      "cell_type": "markdown",
      "source": [
        "###8. 자동 미분(Autograd) 실습하기"
      ],
      "metadata": {
        "id": "NcQW_dQT6KLM"
      }
    },
    {
      "cell_type": "code",
      "source": [
        "import torch"
      ],
      "metadata": {
        "id": "jxBvqjPHV9yD"
      },
      "execution_count": null,
      "outputs": []
    },
    {
      "cell_type": "code",
      "source": [
        "w = torch.tensor(2.0, requires_grad=True) #값이 2인 텐서 생성"
      ],
      "metadata": {
        "id": "iJB8_uUyWAWp"
      },
      "execution_count": null,
      "outputs": []
    },
    {
      "cell_type": "code",
      "source": [
        "y = w**2\n",
        "z = 2*y + 5"
      ],
      "metadata": {
        "id": "PeXffohvWCEs"
      },
      "execution_count": null,
      "outputs": []
    },
    {
      "cell_type": "code",
      "source": [
        "z.backward() #기울기 계산"
      ],
      "metadata": {
        "id": "lYLEyzaGWEUi"
      },
      "execution_count": null,
      "outputs": []
    },
    {
      "cell_type": "code",
      "source": [
        "print('수식을 w로 미분한 값 : {}'.format(w.grad))"
      ],
      "metadata": {
        "colab": {
          "base_uri": "https://localhost:8080/"
        },
        "id": "nyqbqdh1WOA5",
        "outputId": "3b847bc8-0c46-444c-dbcc-b341892f0106"
      },
      "execution_count": null,
      "outputs": [
        {
          "output_type": "stream",
          "name": "stdout",
          "text": [
            "수식을 w로 미분한 값 : 8.0\n"
          ]
        }
      ]
    },
    {
      "cell_type": "markdown",
      "source": [
        "##03-02 다중 선형 회귀(Multivariable Linear regression)"
      ],
      "metadata": {
        "id": "H-bodT9k2Y9q"
      }
    },
    {
      "cell_type": "markdown",
      "source": [
        "###1. 데이터에 대한 이해(Data Definition)"
      ],
      "metadata": {
        "id": "kAKMtL7TW9sJ"
      }
    },
    {
      "cell_type": "markdown",
      "source": [
        "![image.png](data:image/png;base64,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)"
      ],
      "metadata": {
        "id": "-lD9By1MW6AE"
      }
    },
    {
      "cell_type": "markdown",
      "source": [
        "###2. 파이토치로 구현하기"
      ],
      "metadata": {
        "id": "Is1DY7yKXCQG"
      }
    },
    {
      "cell_type": "code",
      "source": [
        "import torch\n",
        "import torch.nn as nn\n",
        "import torch.nn.functional as F\n",
        "import torch.optim as optim"
      ],
      "metadata": {
        "id": "RyvxfgYVW5en"
      },
      "execution_count": null,
      "outputs": []
    },
    {
      "cell_type": "code",
      "source": [
        "torch.manual_seed(1)"
      ],
      "metadata": {
        "colab": {
          "base_uri": "https://localhost:8080/"
        },
        "id": "gSK9CjdtXGYD",
        "outputId": "4b268176-0b02-4323-9df4-dc61802ac88b"
      },
      "execution_count": null,
      "outputs": [
        {
          "output_type": "execute_result",
          "data": {
            "text/plain": [
              "<torch._C.Generator at 0x7c7ea02a5910>"
            ]
          },
          "metadata": {},
          "execution_count": 100
        }
      ]
    },
    {
      "cell_type": "code",
      "source": [
        "# 훈련 데이터\n",
        "x1_train = torch.FloatTensor([[73], [93], [89], [96], [73]])\n",
        "x2_train = torch.FloatTensor([[80], [88], [91], [98], [66]])\n",
        "x3_train = torch.FloatTensor([[75], [93], [90], [100], [70]])\n",
        "y_train = torch.FloatTensor([[152], [185], [180], [196], [142]])"
      ],
      "metadata": {
        "id": "ANv78VstXKr3"
      },
      "execution_count": null,
      "outputs": []
    },
    {
      "cell_type": "code",
      "source": [
        "# 가중치 w와 편향 b 초기화\n",
        "w1 = torch.zeros(1, requires_grad=True)\n",
        "w2 = torch.zeros(1, requires_grad=True)\n",
        "w3 = torch.zeros(1, requires_grad=True)\n",
        "b = torch.zeros(1, requires_grad=True)"
      ],
      "metadata": {
        "id": "BrejEomoXNhJ"
      },
      "execution_count": null,
      "outputs": []
    },
    {
      "cell_type": "code",
      "source": [
        "# optimizer 설정\n",
        "optimizer = optim.SGD([w1, w2, w3, b], lr=1e-5)\n",
        "\n",
        "nb_epochs = 1000\n",
        "for epoch in range(nb_epochs + 1):\n",
        "\n",
        "    # H(x) 계산\n",
        "    hypothesis = x1_train * w1 + x2_train * w2 + x3_train * w3 + b\n",
        "\n",
        "    # cost 계산\n",
        "    cost = torch.mean((hypothesis - y_train) ** 2)\n",
        "\n",
        "    # cost로 H(x) 개선\n",
        "    optimizer.zero_grad()\n",
        "    cost.backward()\n",
        "    optimizer.step()\n",
        "\n",
        "    # 100번마다 로그 출력\n",
        "    if epoch % 100 == 0:\n",
        "        print('Epoch {:4d}/{} w1: {:.3f} w2: {:.3f} w3: {:.3f} b: {:.3f} Cost: {:.6f}'.format(\n",
        "            epoch, nb_epochs, w1.item(), w2.item(), w3.item(), b.item(), cost.item()\n",
        "        ))"
      ],
      "metadata": {
        "colab": {
          "base_uri": "https://localhost:8080/"
        },
        "id": "NqMUmteAXOYb",
        "outputId": "7fd85af6-be26-4635-8fde-da7197fc6bd7"
      },
      "execution_count": null,
      "outputs": [
        {
          "output_type": "stream",
          "name": "stdout",
          "text": [
            "Epoch    0/1000 w1: 0.294 w2: 0.294 w3: 0.297 b: 0.003 Cost: 29661.800781\n",
            "Epoch  100/1000 w1: 0.674 w2: 0.661 w3: 0.676 b: 0.008 Cost: 1.563628\n",
            "Epoch  200/1000 w1: 0.679 w2: 0.655 w3: 0.677 b: 0.008 Cost: 1.497595\n",
            "Epoch  300/1000 w1: 0.684 w2: 0.649 w3: 0.677 b: 0.008 Cost: 1.435044\n",
            "Epoch  400/1000 w1: 0.689 w2: 0.643 w3: 0.678 b: 0.008 Cost: 1.375726\n",
            "Epoch  500/1000 w1: 0.694 w2: 0.638 w3: 0.678 b: 0.009 Cost: 1.319507\n",
            "Epoch  600/1000 w1: 0.699 w2: 0.633 w3: 0.679 b: 0.009 Cost: 1.266222\n",
            "Epoch  700/1000 w1: 0.704 w2: 0.627 w3: 0.679 b: 0.009 Cost: 1.215703\n",
            "Epoch  800/1000 w1: 0.709 w2: 0.622 w3: 0.679 b: 0.009 Cost: 1.167810\n",
            "Epoch  900/1000 w1: 0.713 w2: 0.617 w3: 0.680 b: 0.009 Cost: 1.122429\n",
            "Epoch 1000/1000 w1: 0.718 w2: 0.613 w3: 0.680 b: 0.009 Cost: 1.079390\n"
          ]
        }
      ]
    },
    {
      "cell_type": "markdown",
      "source": [
        "###3. 벡터와 행렬 연산으로 바꾸기"
      ],
      "metadata": {
        "id": "hEYMgLzhYrPi"
      }
    },
    {
      "cell_type": "markdown",
      "source": [
        "![image.png](data:image/png;base64,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)"
      ],
      "metadata": {
        "id": "uB0Cmc_9Y9Hc"
      }
    },
    {
      "cell_type": "markdown",
      "source": [
        "###4. 행렬 연산을 고려하여 파이토치로 구현하기"
      ],
      "metadata": {
        "id": "Sq17qBwgY-cC"
      }
    },
    {
      "cell_type": "code",
      "source": [
        "x_train  =  torch.FloatTensor([[73,  80,  75],\n",
        "                               [93,  88,  93],\n",
        "                               [89,  91,  80],\n",
        "                               [96,  98,  100],\n",
        "                               [73,  66,  70]])\n",
        "y_train  =  torch.FloatTensor([[152],  [185],  [180],  [196],  [142]])"
      ],
      "metadata": {
        "id": "9fVpcpozYsWO"
      },
      "execution_count": null,
      "outputs": []
    },
    {
      "cell_type": "code",
      "source": [
        "print(x_train.shape)\n",
        "print(y_train.shape)"
      ],
      "metadata": {
        "colab": {
          "base_uri": "https://localhost:8080/"
        },
        "id": "u3VyQpGbZD6O",
        "outputId": "477a75ae-8c1d-4678-e3f8-cf01536123d8"
      },
      "execution_count": null,
      "outputs": [
        {
          "output_type": "stream",
          "name": "stdout",
          "text": [
            "torch.Size([5, 3])\n",
            "torch.Size([5, 1])\n"
          ]
        }
      ]
    },
    {
      "cell_type": "code",
      "source": [
        "# 가중치와 편향 선언\n",
        "W = torch.zeros((3, 1), requires_grad=True)\n",
        "b = torch.zeros(1, requires_grad=True)"
      ],
      "metadata": {
        "id": "niTBseSEZIdX"
      },
      "execution_count": null,
      "outputs": []
    },
    {
      "cell_type": "code",
      "source": [
        "hypothesis = x_train.matmul(W) + b"
      ],
      "metadata": {
        "id": "5Sf3Ndc9ZK4M"
      },
      "execution_count": null,
      "outputs": []
    },
    {
      "cell_type": "code",
      "source": [
        "x_train  =  torch.FloatTensor([[73,  80,  75],\n",
        "                               [93,  88,  93],\n",
        "                               [89,  91,  80],\n",
        "                               [96,  98,  100],\n",
        "                               [73,  66,  70]])\n",
        "y_train  =  torch.FloatTensor([[152],  [185],  [180],  [196],  [142]])\n",
        "\n",
        "# 모델 초기화\n",
        "W = torch.zeros((3, 1), requires_grad=True)\n",
        "b = torch.zeros(1, requires_grad=True)\n",
        "# optimizer 설정\n",
        "optimizer = optim.SGD([W, b], lr=1e-5)\n",
        "\n",
        "nb_epochs = 20\n",
        "for epoch in range(nb_epochs + 1):\n",
        "\n",
        "    # H(x) 계산\n",
        "    # 편향 b는 브로드 캐스팅되어 각 샘플에 더해집니다.\n",
        "    hypothesis = x_train.matmul(W) + b\n",
        "\n",
        "    # cost 계산\n",
        "    cost = torch.mean((hypothesis - y_train) ** 2)\n",
        "\n",
        "    # cost로 H(x) 개선\n",
        "    optimizer.zero_grad()\n",
        "    cost.backward()\n",
        "    optimizer.step()\n",
        "\n",
        "    print('Epoch {:4d}/{} hypothesis: {} Cost: {:.6f}'.format(\n",
        "        epoch, nb_epochs, hypothesis.squeeze().detach(), cost.item()\n",
        "    ))"
      ],
      "metadata": {
        "colab": {
          "base_uri": "https://localhost:8080/"
        },
        "id": "8_hhZyF9ZP4w",
        "outputId": "5761792f-c9b5-4f83-c824-f803a7c580b4"
      },
      "execution_count": null,
      "outputs": [
        {
          "output_type": "stream",
          "name": "stdout",
          "text": [
            "Epoch    0/20 hypothesis: tensor([0., 0., 0., 0., 0.]) Cost: 29661.800781\n",
            "Epoch    1/20 hypothesis: tensor([66.7178, 80.1701, 76.1025, 86.0194, 61.1565]) Cost: 9537.694336\n",
            "Epoch    2/20 hypothesis: tensor([104.5421, 125.6208, 119.2478, 134.7862,  95.8280]) Cost: 3069.590088\n",
            "Epoch    3/20 hypothesis: tensor([125.9858, 151.3882, 143.7087, 162.4333, 115.4844]) Cost: 990.670288\n",
            "Epoch    4/20 hypothesis: tensor([138.1429, 165.9963, 157.5768, 178.1071, 126.6283]) Cost: 322.481873\n",
            "Epoch    5/20 hypothesis: tensor([145.0350, 174.2780, 165.4395, 186.9928, 132.9461]) Cost: 107.717064\n",
            "Epoch    6/20 hypothesis: tensor([148.9423, 178.9730, 169.8976, 192.0301, 136.5279]) Cost: 38.687496\n",
            "Epoch    7/20 hypothesis: tensor([151.1574, 181.6346, 172.4254, 194.8856, 138.5585]) Cost: 16.499043\n",
            "Epoch    8/20 hypothesis: tensor([152.4131, 183.1435, 173.8590, 196.5043, 139.7097]) Cost: 9.365656\n",
            "Epoch    9/20 hypothesis: tensor([153.1250, 183.9988, 174.6723, 197.4217, 140.3625]) Cost: 7.071114\n",
            "Epoch   10/20 hypothesis: tensor([153.5285, 184.4835, 175.1338, 197.9415, 140.7325]) Cost: 6.331847\n",
            "Epoch   11/20 hypothesis: tensor([153.7572, 184.7582, 175.3958, 198.2360, 140.9424]) Cost: 6.092532\n",
            "Epoch   12/20 hypothesis: tensor([153.8868, 184.9138, 175.5449, 198.4026, 141.0613]) Cost: 6.013817\n",
            "Epoch   13/20 hypothesis: tensor([153.9602, 185.0019, 175.6299, 198.4969, 141.1288]) Cost: 5.986785\n",
            "Epoch   14/20 hypothesis: tensor([154.0017, 185.0517, 175.6785, 198.5500, 141.1671]) Cost: 5.976325\n",
            "Epoch   15/20 hypothesis: tensor([154.0252, 185.0798, 175.7065, 198.5800, 141.1888]) Cost: 5.971208\n",
            "Epoch   16/20 hypothesis: tensor([154.0385, 185.0956, 175.7229, 198.5966, 141.2012]) Cost: 5.967835\n",
            "Epoch   17/20 hypothesis: tensor([154.0459, 185.1045, 175.7326, 198.6059, 141.2082]) Cost: 5.964969\n",
            "Epoch   18/20 hypothesis: tensor([154.0501, 185.1094, 175.7386, 198.6108, 141.2122]) Cost: 5.962291\n",
            "Epoch   19/20 hypothesis: tensor([154.0524, 185.1120, 175.7424, 198.6134, 141.2145]) Cost: 5.959664\n",
            "Epoch   20/20 hypothesis: tensor([154.0536, 185.1134, 175.7451, 198.6145, 141.2158]) Cost: 5.957089\n"
          ]
        }
      ]
    },
    {
      "cell_type": "code",
      "source": [
        "# 학습이 끝난 모델에 대해 임의의 입력 값에 대한 예측\n",
        "with torch.no_grad():\n",
        "    new_input = torch.FloatTensor([[75, 85, 72]])  # 예측하고 싶은 임의의 입력\n",
        "    prediction = new_input.matmul(W) + b\n",
        "    print('Predicted value for input {}: {}'.format(new_input.squeeze().tolist(), prediction.item()))"
      ],
      "metadata": {
        "colab": {
          "base_uri": "https://localhost:8080/"
        },
        "id": "_qMa_UWbZk9H",
        "outputId": "2270ffaf-080c-4a3c-919c-c405c1bf70af"
      },
      "execution_count": null,
      "outputs": [
        {
          "output_type": "stream",
          "name": "stdout",
          "text": [
            "Predicted value for input [75.0, 85.0, 72.0]: 156.8051300048828\n"
          ]
        }
      ]
    },
    {
      "cell_type": "markdown",
      "source": [
        "##03-03 nn.Module과 클래스로 구현하기"
      ],
      "metadata": {
        "id": "2hX40zwS2bwl"
      }
    },
    {
      "cell_type": "markdown",
      "source": [
        "###1. 단순 선형 회귀 구현하기"
      ],
      "metadata": {
        "id": "wIQ6H2wzagpB"
      }
    },
    {
      "cell_type": "code",
      "source": [
        "import torch\n",
        "import torch.nn as nn\n",
        "import torch.nn.functional as F"
      ],
      "metadata": {
        "id": "5qBjwvdzaNig"
      },
      "execution_count": null,
      "outputs": []
    },
    {
      "cell_type": "code",
      "source": [
        "# 데이터\n",
        "x_train = torch.FloatTensor([[1], [2], [3]])\n",
        "y_train = torch.FloatTensor([[2], [4], [6]])"
      ],
      "metadata": {
        "id": "XyrRpNVxaj7b"
      },
      "execution_count": null,
      "outputs": []
    },
    {
      "cell_type": "code",
      "source": [
        "# 모델을 선언 및 초기화. 단순 선형 회귀이므로 input_dim=1, output_dim=1.\n",
        "model = nn.Linear(1,1) #독립변수 1개, 종속변수 1개"
      ],
      "metadata": {
        "id": "6FF-buJeaqpw"
      },
      "execution_count": null,
      "outputs": []
    },
    {
      "cell_type": "code",
      "source": [
        "print(list(model.parameters()))"
      ],
      "metadata": {
        "colab": {
          "base_uri": "https://localhost:8080/"
        },
        "id": "3goSpJWNa0uD",
        "outputId": "d4b9cb25-bd7e-4403-94f1-81e3e5cfe7fe"
      },
      "execution_count": null,
      "outputs": [
        {
          "output_type": "stream",
          "name": "stdout",
          "text": [
            "[Parameter containing:\n",
            "tensor([[0.5153]], requires_grad=True), Parameter containing:\n",
            "tensor([-0.4414], requires_grad=True)]\n"
          ]
        }
      ]
    },
    {
      "cell_type": "code",
      "source": [
        "# optimizer 설정. 경사 하강법 SGD를 사용하고 learning rate를 의미하는 lr은 0.01\n",
        "optimizer = torch.optim.SGD(model.parameters(), lr=0.01)"
      ],
      "metadata": {
        "id": "KchkqD71a74N"
      },
      "execution_count": null,
      "outputs": []
    },
    {
      "cell_type": "code",
      "source": [
        "# 전체 훈련 데이터에 대해 경사 하강법을 2,000회 반복\n",
        "nb_epochs = 2000\n",
        "for epoch in range(nb_epochs+1):\n",
        "\n",
        "    # H(x) 계산\n",
        "    prediction = model(x_train)\n",
        "\n",
        "    # cost 계산\n",
        "    cost = F.mse_loss(prediction, y_train) # <== 파이토치에서 제공하는 평균 제곱 오차 함수\n",
        "\n",
        "    # cost로 H(x) 개선하는 부분\n",
        "    # gradient를 0으로 초기화\n",
        "    optimizer.zero_grad()\n",
        "    # 비용 함수를 미분하여 gradient 계산\n",
        "    cost.backward() # backward 연산\n",
        "    # W와 b를 업데이트\n",
        "    optimizer.step()\n",
        "\n",
        "    if epoch % 100 == 0:\n",
        "    # 100번마다 로그 출력\n",
        "      print('Epoch {:4d}/{} Cost: {:.6f}'.format(\n",
        "          epoch, nb_epochs, cost.item()\n",
        "      ))"
      ],
      "metadata": {
        "colab": {
          "base_uri": "https://localhost:8080/"
        },
        "id": "Dd--mYn5a-Io",
        "outputId": "84e563b9-f707-484c-ee02-7c8eb2d7e521"
      },
      "execution_count": null,
      "outputs": [
        {
          "output_type": "stream",
          "name": "stdout",
          "text": [
            "Epoch    0/2000 Cost: 13.103541\n",
            "Epoch  100/2000 Cost: 0.002791\n",
            "Epoch  200/2000 Cost: 0.001724\n",
            "Epoch  300/2000 Cost: 0.001066\n",
            "Epoch  400/2000 Cost: 0.000658\n",
            "Epoch  500/2000 Cost: 0.000407\n",
            "Epoch  600/2000 Cost: 0.000251\n",
            "Epoch  700/2000 Cost: 0.000155\n",
            "Epoch  800/2000 Cost: 0.000096\n",
            "Epoch  900/2000 Cost: 0.000059\n",
            "Epoch 1000/2000 Cost: 0.000037\n",
            "Epoch 1100/2000 Cost: 0.000023\n",
            "Epoch 1200/2000 Cost: 0.000014\n",
            "Epoch 1300/2000 Cost: 0.000009\n",
            "Epoch 1400/2000 Cost: 0.000005\n",
            "Epoch 1500/2000 Cost: 0.000003\n",
            "Epoch 1600/2000 Cost: 0.000002\n",
            "Epoch 1700/2000 Cost: 0.000001\n",
            "Epoch 1800/2000 Cost: 0.000001\n",
            "Epoch 1900/2000 Cost: 0.000000\n",
            "Epoch 2000/2000 Cost: 0.000000\n"
          ]
        }
      ]
    },
    {
      "cell_type": "code",
      "source": [
        "# 임의의 입력 4를 선언\n",
        "new_var =  torch.FloatTensor([[4.0]])\n",
        "# 입력한 값 4에 대해서 예측값 y를 리턴받아서 pred_y에 저장\n",
        "pred_y = model(new_var) # forward 연산\n",
        "# y = 2x 이므로 입력이 4라면 y가 8에 가까운 값이 나와야 제대로 학습이 된 것\n",
        "print(\"훈련 후 입력이 4일 때의 예측값 :\", pred_y)"
      ],
      "metadata": {
        "colab": {
          "base_uri": "https://localhost:8080/"
        },
        "id": "NSoZOOFybHvg",
        "outputId": "9e9dcc40-6242-4cdf-b61b-37f7e667c999"
      },
      "execution_count": null,
      "outputs": [
        {
          "output_type": "stream",
          "name": "stdout",
          "text": [
            "훈련 후 입력이 4일 때의 예측값 : tensor([[7.9989]], grad_fn=<AddmmBackward0>)\n"
          ]
        }
      ]
    },
    {
      "cell_type": "code",
      "source": [
        "print(list(model.parameters())) #w와 b값"
      ],
      "metadata": {
        "colab": {
          "base_uri": "https://localhost:8080/"
        },
        "id": "QaeJ1mGjbtQH",
        "outputId": "6dd38a04-4504-4c9d-ef71-f3b2b7242ec7"
      },
      "execution_count": null,
      "outputs": [
        {
          "output_type": "stream",
          "name": "stdout",
          "text": [
            "[Parameter containing:\n",
            "tensor([[1.9994]], requires_grad=True), Parameter containing:\n",
            "tensor([0.0014], requires_grad=True)]\n"
          ]
        }
      ]
    },
    {
      "cell_type": "markdown",
      "source": [
        "###2. 다중 선형 회귀 구현하기"
      ],
      "metadata": {
        "id": "e2ZbRmZcb1FV"
      }
    },
    {
      "cell_type": "code",
      "source": [
        "import torch\n",
        "import torch.nn as nn\n",
        "import torch.nn.functional as F\n",
        "\n",
        "torch.manual_seed(1)"
      ],
      "metadata": {
        "colab": {
          "base_uri": "https://localhost:8080/"
        },
        "id": "Br6t1KjHb2XV",
        "outputId": "54cec0b2-e252-43aa-c9b5-0d2f4a4022dd"
      },
      "execution_count": null,
      "outputs": [
        {
          "output_type": "execute_result",
          "data": {
            "text/plain": [
              "<torch._C.Generator at 0x7c7ea02a5910>"
            ]
          },
          "metadata": {},
          "execution_count": 122
        }
      ]
    },
    {
      "cell_type": "code",
      "source": [
        "# 데이터\n",
        "x_train = torch.FloatTensor([[73, 80, 75],\n",
        "                             [93, 88, 93],\n",
        "                             [89, 91, 90],\n",
        "                             [96, 98, 100],\n",
        "                             [73, 66, 70]])\n",
        "y_train = torch.FloatTensor([[152], [185], [180], [196], [142]])"
      ],
      "metadata": {
        "id": "UaAZ_kd-b6EH"
      },
      "execution_count": null,
      "outputs": []
    },
    {
      "cell_type": "code",
      "source": [
        "# 모델을 선언 및 초기화. 다중 선형 회귀이므로 input_dim=3, output_dim=1.\n",
        "model = nn.Linear(3,1)"
      ],
      "metadata": {
        "id": "QCGlvVmsb9N2"
      },
      "execution_count": null,
      "outputs": []
    },
    {
      "cell_type": "code",
      "source": [
        "print(list(model.parameters()))"
      ],
      "metadata": {
        "colab": {
          "base_uri": "https://localhost:8080/"
        },
        "id": "IpZMmMCOb-wW",
        "outputId": "cfe13fc1-74eb-434b-a43b-0f70106b51da"
      },
      "execution_count": null,
      "outputs": [
        {
          "output_type": "stream",
          "name": "stdout",
          "text": [
            "[Parameter containing:\n",
            "tensor([[ 0.2975, -0.2548, -0.1119]], requires_grad=True), Parameter containing:\n",
            "tensor([0.2710], requires_grad=True)]\n"
          ]
        }
      ]
    },
    {
      "cell_type": "code",
      "source": [
        "optimizer = torch.optim.SGD(model.parameters(), lr=1e-5)"
      ],
      "metadata": {
        "id": "paC69z7jcGby"
      },
      "execution_count": null,
      "outputs": []
    },
    {
      "cell_type": "code",
      "source": [
        "nb_epochs = 2000\n",
        "for epoch in range(nb_epochs+1):\n",
        "\n",
        "    # H(x) 계산\n",
        "    prediction = model(x_train)\n",
        "    # model(x_train)은 model.forward(x_train)와 동일함.\n",
        "\n",
        "    # cost 계산\n",
        "    cost = F.mse_loss(prediction, y_train) # <== 파이토치에서 제공하는 평균 제곱 오차 함수\n",
        "\n",
        "    # cost로 H(x) 개선하는 부분\n",
        "    # gradient를 0으로 초기화\n",
        "    optimizer.zero_grad()\n",
        "    # 비용 함수를 미분하여 gradient 계산\n",
        "    cost.backward()\n",
        "    # W와 b를 업데이트\n",
        "    optimizer.step()\n",
        "\n",
        "    if epoch % 100 == 0:\n",
        "    # 100번마다 로그 출력\n",
        "      print('Epoch {:4d}/{} Cost: {:.6f}'.format(\n",
        "          epoch, nb_epochs, cost.item()\n",
        "      ))"
      ],
      "metadata": {
        "colab": {
          "base_uri": "https://localhost:8080/"
        },
        "id": "sXq1KzSycMHW",
        "outputId": "378e3650-efef-4434-e3d6-9f88087c5657"
      },
      "execution_count": null,
      "outputs": [
        {
          "output_type": "stream",
          "name": "stdout",
          "text": [
            "Epoch    0/2000 Cost: 31667.597656\n",
            "Epoch  100/2000 Cost: 0.225993\n",
            "Epoch  200/2000 Cost: 0.223911\n",
            "Epoch  300/2000 Cost: 0.221941\n",
            "Epoch  400/2000 Cost: 0.220059\n",
            "Epoch  500/2000 Cost: 0.218271\n",
            "Epoch  600/2000 Cost: 0.216575\n",
            "Epoch  700/2000 Cost: 0.214950\n",
            "Epoch  800/2000 Cost: 0.213413\n",
            "Epoch  900/2000 Cost: 0.211952\n",
            "Epoch 1000/2000 Cost: 0.210560\n",
            "Epoch 1100/2000 Cost: 0.209232\n",
            "Epoch 1200/2000 Cost: 0.207967\n",
            "Epoch 1300/2000 Cost: 0.206761\n",
            "Epoch 1400/2000 Cost: 0.205619\n",
            "Epoch 1500/2000 Cost: 0.204522\n",
            "Epoch 1600/2000 Cost: 0.203484\n",
            "Epoch 1700/2000 Cost: 0.202485\n",
            "Epoch 1800/2000 Cost: 0.201542\n",
            "Epoch 1900/2000 Cost: 0.200635\n",
            "Epoch 2000/2000 Cost: 0.199769\n"
          ]
        }
      ]
    },
    {
      "cell_type": "code",
      "source": [
        "# 임의의 입력 [73, 80, 75]를 선언\n",
        "new_var =  torch.FloatTensor([[73, 80, 75]])\n",
        "# 입력한 값 [73, 80, 75]에 대해서 예측값 y를 리턴받아서 pred_y에 저장\n",
        "pred_y = model(new_var)\n",
        "print(\"훈련 후 입력이 73, 80, 75일 때의 예측값 :\", pred_y)"
      ],
      "metadata": {
        "colab": {
          "base_uri": "https://localhost:8080/"
        },
        "id": "MzGH60DdcPsF",
        "outputId": "f4377c83-08e3-4464-a8c9-4d8c65a40383"
      },
      "execution_count": null,
      "outputs": [
        {
          "output_type": "stream",
          "name": "stdout",
          "text": [
            "훈련 후 입력이 73, 80, 75일 때의 예측값 : tensor([[151.2305]], grad_fn=<AddmmBackward0>)\n"
          ]
        }
      ]
    },
    {
      "cell_type": "code",
      "source": [
        "print(list(model.parameters()))"
      ],
      "metadata": {
        "colab": {
          "base_uri": "https://localhost:8080/"
        },
        "id": "6hoDHeETcVsa",
        "outputId": "82620d52-8411-40e2-fe60-24b49d3bb946"
      },
      "execution_count": null,
      "outputs": [
        {
          "output_type": "stream",
          "name": "stdout",
          "text": [
            "[Parameter containing:\n",
            "tensor([[0.9778, 0.4539, 0.5768]], requires_grad=True), Parameter containing:\n",
            "tensor([0.2802], requires_grad=True)]\n"
          ]
        }
      ]
    },
    {
      "cell_type": "markdown",
      "source": [
        "###3. 모델을 클래스로 구현하기"
      ],
      "metadata": {
        "id": "t8jLVC4GcYVy"
      }
    },
    {
      "cell_type": "code",
      "source": [
        "# 모델을 선언 및 초기화. 단순 선형 회귀이므로 input_dim=1, output_dim=1.\n",
        "model = nn.Linear(1,1)"
      ],
      "metadata": {
        "id": "SWpNh4F8cZHy"
      },
      "execution_count": null,
      "outputs": []
    },
    {
      "cell_type": "code",
      "source": [
        "class LinearRegressionModel(nn.Module): # torch.nn.Module을 상속받는 파이썬 클래스\n",
        "    def __init__(self): #\n",
        "        super().__init__()\n",
        "        self.linear = nn.Linear(1, 1) # 단순 선형 회귀이므로 input_dim=1, output_dim=1.\n",
        "\n",
        "    def forward(self, x):\n",
        "        return self.linear(x)"
      ],
      "metadata": {
        "id": "4pmKQGxQcbNp"
      },
      "execution_count": null,
      "outputs": []
    },
    {
      "cell_type": "code",
      "source": [
        "model = LinearRegressionModel()"
      ],
      "metadata": {
        "id": "5z52_SWucnEn"
      },
      "execution_count": null,
      "outputs": []
    },
    {
      "cell_type": "code",
      "source": [
        "# 모델을 선언 및 초기화. 다중 선형 회귀이므로 input_dim=3, output_dim=1.\n",
        "model = nn.Linear(3,1)"
      ],
      "metadata": {
        "id": "2-DR2Rc7criP"
      },
      "execution_count": null,
      "outputs": []
    },
    {
      "cell_type": "code",
      "source": [
        "class MultivariateLinearRegressionModel(nn.Module):\n",
        "    def __init__(self):\n",
        "        super().__init__()\n",
        "        self.linear = nn.Linear(3, 1) # 다중 선형 회귀이므로 input_dim=3, output_dim=1.\n",
        "\n",
        "    def forward(self, x):\n",
        "        return self.linear(x)"
      ],
      "metadata": {
        "id": "0fUCB8RgctI2"
      },
      "execution_count": null,
      "outputs": []
    },
    {
      "cell_type": "code",
      "source": [
        "model = MultivariateLinearRegressionModel()"
      ],
      "metadata": {
        "id": "JoljELgycurd"
      },
      "execution_count": null,
      "outputs": []
    },
    {
      "cell_type": "markdown",
      "source": [
        "###4. 단순 선형 회귀 클래스로 구현하기"
      ],
      "metadata": {
        "id": "j0SIlGuIcwgv"
      }
    },
    {
      "cell_type": "code",
      "source": [
        "import torch\n",
        "import torch.nn as nn\n",
        "import torch.nn.functional as F\n",
        "\n",
        "torch.manual_seed(1)"
      ],
      "metadata": {
        "colab": {
          "base_uri": "https://localhost:8080/"
        },
        "id": "CdNr53nUcxDY",
        "outputId": "376e9a0c-48a0-400d-8876-645e9c38143e"
      },
      "execution_count": null,
      "outputs": [
        {
          "output_type": "execute_result",
          "data": {
            "text/plain": [
              "<torch._C.Generator at 0x7c7ea02a5910>"
            ]
          },
          "metadata": {},
          "execution_count": 137
        }
      ]
    },
    {
      "cell_type": "code",
      "source": [
        "# 데이터\n",
        "x_train = torch.FloatTensor([[1], [2], [3]])\n",
        "y_train = torch.FloatTensor([[2], [4], [6]])"
      ],
      "metadata": {
        "id": "a1aQcDFnc2NX"
      },
      "execution_count": null,
      "outputs": []
    },
    {
      "cell_type": "code",
      "source": [
        "class LinearRegressionModel(nn.Module):\n",
        "    def __init__(self):\n",
        "        super().__init__()\n",
        "        self.linear = nn.Linear(1, 1)\n",
        "\n",
        "    def forward(self, x):\n",
        "        return self.linear(x)"
      ],
      "metadata": {
        "id": "mt45IW8Oc3vt"
      },
      "execution_count": null,
      "outputs": []
    },
    {
      "cell_type": "code",
      "source": [
        "model = LinearRegressionModel()"
      ],
      "metadata": {
        "id": "hZoWCo33c6FD"
      },
      "execution_count": null,
      "outputs": []
    },
    {
      "cell_type": "code",
      "source": [
        "# optimizer 설정. 경사 하강법 SGD를 사용하고 learning rate를 의미하는 lr은 0.01\n",
        "optimizer = torch.optim.SGD(model.parameters(), lr=0.01)"
      ],
      "metadata": {
        "id": "dwz4rzNsdDaB"
      },
      "execution_count": null,
      "outputs": []
    },
    {
      "cell_type": "code",
      "source": [
        "# 전체 훈련 데이터에 대해 경사 하강법을 2,000회 반복\n",
        "nb_epochs = 2000\n",
        "for epoch in range(nb_epochs+1):\n",
        "\n",
        "    # H(x) 계산\n",
        "    prediction = model(x_train)\n",
        "\n",
        "    # cost 계산\n",
        "    cost = F.mse_loss(prediction, y_train) # <== 파이토치에서 제공하는 평균 제곱 오차 함수\n",
        "\n",
        "    # cost로 H(x) 개선하는 부분\n",
        "    # gradient를 0으로 초기화\n",
        "    optimizer.zero_grad()\n",
        "    # 비용 함수를 미분하여 gradient 계산\n",
        "    cost.backward() # backward 연산\n",
        "    # W와 b를 업데이트\n",
        "    optimizer.step()\n",
        "\n",
        "    if epoch % 100 == 0:\n",
        "    # 100번마다 로그 출력\n",
        "      print('Epoch {:4d}/{} Cost: {:.6f}'.format(\n",
        "          epoch, nb_epochs, cost.item()\n",
        "      ))"
      ],
      "metadata": {
        "colab": {
          "base_uri": "https://localhost:8080/"
        },
        "id": "JstCtyv9dD_O",
        "outputId": "3f24e84e-dcfa-438b-d6f9-1b78beeb1b7f"
      },
      "execution_count": null,
      "outputs": [
        {
          "output_type": "stream",
          "name": "stdout",
          "text": [
            "Epoch    0/2000 Cost: 13.103541\n",
            "Epoch  100/2000 Cost: 0.002791\n",
            "Epoch  200/2000 Cost: 0.001724\n",
            "Epoch  300/2000 Cost: 0.001066\n",
            "Epoch  400/2000 Cost: 0.000658\n",
            "Epoch  500/2000 Cost: 0.000407\n",
            "Epoch  600/2000 Cost: 0.000251\n",
            "Epoch  700/2000 Cost: 0.000155\n",
            "Epoch  800/2000 Cost: 0.000096\n",
            "Epoch  900/2000 Cost: 0.000059\n",
            "Epoch 1000/2000 Cost: 0.000037\n",
            "Epoch 1100/2000 Cost: 0.000023\n",
            "Epoch 1200/2000 Cost: 0.000014\n",
            "Epoch 1300/2000 Cost: 0.000009\n",
            "Epoch 1400/2000 Cost: 0.000005\n",
            "Epoch 1500/2000 Cost: 0.000003\n",
            "Epoch 1600/2000 Cost: 0.000002\n",
            "Epoch 1700/2000 Cost: 0.000001\n",
            "Epoch 1800/2000 Cost: 0.000001\n",
            "Epoch 1900/2000 Cost: 0.000000\n",
            "Epoch 2000/2000 Cost: 0.000000\n"
          ]
        }
      ]
    },
    {
      "cell_type": "markdown",
      "source": [
        "###5. 다중 선형 회귀 클래스로 구현하기"
      ],
      "metadata": {
        "id": "werkDZHsdKx7"
      }
    },
    {
      "cell_type": "code",
      "source": [
        "import torch\n",
        "import torch.nn as nn\n",
        "import torch.nn.functional as F\n",
        "\n",
        "torch.manual_seed(1)"
      ],
      "metadata": {
        "colab": {
          "base_uri": "https://localhost:8080/"
        },
        "id": "V8bZQpkldLR3",
        "outputId": "92a22399-11a1-41dd-d232-6011c2054b4f"
      },
      "execution_count": 2,
      "outputs": [
        {
          "output_type": "execute_result",
          "data": {
            "text/plain": [
              "<torch._C.Generator at 0x7983fb6c1090>"
            ]
          },
          "metadata": {},
          "execution_count": 2
        }
      ]
    },
    {
      "cell_type": "code",
      "source": [
        "# 데이터\n",
        "x_train = torch.FloatTensor([[73, 80, 75],\n",
        "                             [93, 88, 93],\n",
        "                             [89, 91, 90],\n",
        "                             [96, 98, 100],\n",
        "                             [73, 66, 70]])\n",
        "y_train = torch.FloatTensor([[152], [185], [180], [196], [142]])"
      ],
      "metadata": {
        "id": "xiMJBxXidMou"
      },
      "execution_count": null,
      "outputs": []
    },
    {
      "cell_type": "code",
      "source": [
        "class MultivariateLinearRegressionModel(nn.Module):\n",
        "    def __init__(self):\n",
        "        super().__init__()\n",
        "        self.linear = nn.Linear(3, 1) # 다중 선형 회귀이므로 input_dim=3, output_dim=1.\n",
        "\n",
        "    def forward(self, x):\n",
        "        return self.linear(x)\n",
        "\n",
        "model = MultivariateLinearRegressionModel()"
      ],
      "metadata": {
        "id": "mfRb0_NEdQ_V"
      },
      "execution_count": null,
      "outputs": []
    },
    {
      "cell_type": "code",
      "source": [
        "optimizer = torch.optim.SGD(model.parameters(), lr=1e-5)"
      ],
      "metadata": {
        "id": "3QErLWrJdTLk"
      },
      "execution_count": null,
      "outputs": []
    },
    {
      "cell_type": "code",
      "source": [
        "nb_epochs = 2000\n",
        "for epoch in range(nb_epochs+1):\n",
        "\n",
        "    # H(x) 계산\n",
        "    prediction = model(x_train)\n",
        "    # model(x_train)은 model.forward(x_train)와 동일함.\n",
        "\n",
        "    # cost 계산\n",
        "    cost = F.mse_loss(prediction, y_train) # <== 파이토치에서 제공하는 평균 제곱 오차 함수\n",
        "\n",
        "    # cost로 H(x) 개선하는 부분\n",
        "    # gradient를 0으로 초기화\n",
        "    optimizer.zero_grad()\n",
        "    # 비용 함수를 미분하여 gradient 계산\n",
        "    cost.backward()\n",
        "    # W와 b를 업데이트\n",
        "    optimizer.step()\n",
        "\n",
        "    if epoch % 100 == 0:\n",
        "    # 100번마다 로그 출력\n",
        "      print('Epoch {:4d}/{} Cost: {:.6f}'.format(\n",
        "          epoch, nb_epochs, cost.item()\n",
        "      ))"
      ],
      "metadata": {
        "colab": {
          "base_uri": "https://localhost:8080/"
        },
        "id": "djmXY_nKdVkD",
        "outputId": "468cebdf-5aec-4d7f-a6b0-86cb906caf9c"
      },
      "execution_count": null,
      "outputs": [
        {
          "output_type": "stream",
          "name": "stdout",
          "text": [
            "Epoch    0/2000 Cost: 31667.597656\n",
            "Epoch  100/2000 Cost: 0.225993\n",
            "Epoch  200/2000 Cost: 0.223911\n",
            "Epoch  300/2000 Cost: 0.221941\n",
            "Epoch  400/2000 Cost: 0.220059\n",
            "Epoch  500/2000 Cost: 0.218271\n",
            "Epoch  600/2000 Cost: 0.216575\n",
            "Epoch  700/2000 Cost: 0.214950\n",
            "Epoch  800/2000 Cost: 0.213413\n",
            "Epoch  900/2000 Cost: 0.211952\n",
            "Epoch 1000/2000 Cost: 0.210560\n",
            "Epoch 1100/2000 Cost: 0.209232\n",
            "Epoch 1200/2000 Cost: 0.207967\n",
            "Epoch 1300/2000 Cost: 0.206761\n",
            "Epoch 1400/2000 Cost: 0.205619\n",
            "Epoch 1500/2000 Cost: 0.204522\n",
            "Epoch 1600/2000 Cost: 0.203484\n",
            "Epoch 1700/2000 Cost: 0.202485\n",
            "Epoch 1800/2000 Cost: 0.201542\n",
            "Epoch 1900/2000 Cost: 0.200635\n",
            "Epoch 2000/2000 Cost: 0.199769\n"
          ]
        }
      ]
    },
    {
      "cell_type": "markdown",
      "source": [
        "##03-04 미니 배치와 데이터 로더(Mini Batch and DataLoader)"
      ],
      "metadata": {
        "id": "9jx6Qjaa2ocR"
      }
    },
    {
      "cell_type": "markdown",
      "source": [
        "###1. 미니 배치와 배치 크기(Mini Batch and Batch Size)"
      ],
      "metadata": {
        "id": "Pr7YvJytdbAT"
      }
    },
    {
      "cell_type": "code",
      "source": [
        "x_train = torch.FloatTensor([[73, 80, 75],\n",
        "                             [93, 88, 93],\n",
        "                             [89, 91, 90],\n",
        "                             [96, 98, 100],\n",
        "                             [73, 66, 70]])\n",
        "y_train = torch.FloatTensor([[152], [185], [180], [196], [142]])"
      ],
      "metadata": {
        "id": "rW9iZQSMdb0v"
      },
      "execution_count": null,
      "outputs": []
    },
    {
      "cell_type": "markdown",
      "source": [
        "![image.png](data:image/png;base64,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)"
      ],
      "metadata": {
        "id": "THLDMJpXdvvB"
      }
    },
    {
      "cell_type": "markdown",
      "source": [
        "###2. 이터레이션(Iteration)"
      ],
      "metadata": {
        "id": "QsLEJC0jdzAb"
      }
    },
    {
      "cell_type": "markdown",
      "source": [
        "![image.png](data:image/png;base64,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)"
      ],
      "metadata": {
        "id": "akquHKLvd4TS"
      }
    },
    {
      "cell_type": "markdown",
      "source": [
        "###3. 데이터 로드하기(Data Load)"
      ],
      "metadata": {
        "id": "HmZkz74Ed5Oc"
      }
    },
    {
      "cell_type": "code",
      "source": [
        "import torch\n",
        "import torch.nn as nn\n",
        "import torch.nn.functional as F"
      ],
      "metadata": {
        "id": "ZswLqoxXddMf"
      },
      "execution_count": null,
      "outputs": []
    },
    {
      "cell_type": "code",
      "source": [
        "from torch.utils.data import TensorDataset # 텐서데이터셋\n",
        "from torch.utils.data import DataLoader # 데이터로더"
      ],
      "metadata": {
        "id": "teE1bTFVd-2r"
      },
      "execution_count": null,
      "outputs": []
    },
    {
      "cell_type": "code",
      "source": [
        "x_train  =  torch.FloatTensor([[73,  80,  75],\n",
        "                               [93,  88,  93],\n",
        "                               [89,  91,  90],\n",
        "                               [96,  98,  100],\n",
        "                               [73,  66,  70]])\n",
        "y_train  =  torch.FloatTensor([[152],  [185],  [180],  [196],  [142]])"
      ],
      "metadata": {
        "id": "sLXgU3AoeCT-"
      },
      "execution_count": null,
      "outputs": []
    },
    {
      "cell_type": "code",
      "source": [
        "dataset = TensorDataset(x_train, y_train)"
      ],
      "metadata": {
        "id": "LzJJ4YTAeEVq"
      },
      "execution_count": null,
      "outputs": []
    },
    {
      "cell_type": "code",
      "source": [
        "dataloader = DataLoader(dataset, batch_size=2, shuffle=True)"
      ],
      "metadata": {
        "id": "IwJ78skXeysy"
      },
      "execution_count": null,
      "outputs": []
    },
    {
      "cell_type": "code",
      "source": [
        "model = nn.Linear(3,1)\n",
        "optimizer = torch.optim.SGD(model.parameters(), lr=1e-5)"
      ],
      "metadata": {
        "id": "UIGEZxD2fAHQ"
      },
      "execution_count": null,
      "outputs": []
    },
    {
      "cell_type": "code",
      "source": [
        "nb_epochs = 20\n",
        "for epoch in range(nb_epochs + 1):\n",
        "  for batch_idx, samples in enumerate(dataloader):\n",
        "    # print(batch_idx)\n",
        "    # print(samples)\n",
        "    x_train, y_train = samples\n",
        "    # H(x) 계산\n",
        "    prediction = model(x_train)\n",
        "\n",
        "    # cost 계산\n",
        "    cost = F.mse_loss(prediction, y_train)\n",
        "\n",
        "    # cost로 H(x) 계산\n",
        "    optimizer.zero_grad()\n",
        "    cost.backward()\n",
        "    optimizer.step()\n",
        "\n",
        "    print('Epoch {:4d}/{} Batch {}/{} Cost: {:.6f}'.format(\n",
        "        epoch, nb_epochs, batch_idx+1, len(dataloader),\n",
        "        cost.item()\n",
        "        ))"
      ],
      "metadata": {
        "colab": {
          "base_uri": "https://localhost:8080/"
        },
        "id": "FrlJUuTcfEoE",
        "outputId": "86a0ce9a-ae37-492b-9de3-da5265739bb8"
      },
      "execution_count": null,
      "outputs": [
        {
          "output_type": "stream",
          "name": "stdout",
          "text": [
            "Epoch    0/20 Batch 1/3 Cost: 40394.078125\n",
            "Epoch    0/20 Batch 2/3 Cost: 10625.847656\n",
            "Epoch    0/20 Batch 3/3 Cost: 5451.569824\n",
            "Epoch    1/20 Batch 1/3 Cost: 937.502686\n",
            "Epoch    1/20 Batch 2/3 Cost: 265.944641\n",
            "Epoch    1/20 Batch 3/3 Cost: 244.422516\n",
            "Epoch    2/20 Batch 1/3 Cost: 3.523124\n",
            "Epoch    2/20 Batch 2/3 Cost: 55.838848\n",
            "Epoch    2/20 Batch 3/3 Cost: 2.371109\n",
            "Epoch    3/20 Batch 1/3 Cost: 21.615038\n",
            "Epoch    3/20 Batch 2/3 Cost: 1.536160\n",
            "Epoch    3/20 Batch 3/3 Cost: 23.620941\n",
            "Epoch    4/20 Batch 1/3 Cost: 12.848326\n",
            "Epoch    4/20 Batch 2/3 Cost: 17.578579\n",
            "Epoch    4/20 Batch 3/3 Cost: 18.382185\n",
            "Epoch    5/20 Batch 1/3 Cost: 11.401794\n",
            "Epoch    5/20 Batch 2/3 Cost: 20.961008\n",
            "Epoch    5/20 Batch 3/3 Cost: 28.939528\n",
            "Epoch    6/20 Batch 1/3 Cost: 14.807928\n",
            "Epoch    6/20 Batch 2/3 Cost: 2.599214\n",
            "Epoch    6/20 Batch 3/3 Cost: 33.501408\n",
            "Epoch    7/20 Batch 1/3 Cost: 16.869902\n",
            "Epoch    7/20 Batch 2/3 Cost: 24.529007\n",
            "Epoch    7/20 Batch 3/3 Cost: 10.461083\n",
            "Epoch    8/20 Batch 1/3 Cost: 8.686938\n",
            "Epoch    8/20 Batch 2/3 Cost: 30.927563\n",
            "Epoch    8/20 Batch 3/3 Cost: 7.897373\n",
            "Epoch    9/20 Batch 1/3 Cost: 7.612912\n",
            "Epoch    9/20 Batch 2/3 Cost: 18.703302\n",
            "Epoch    9/20 Batch 3/3 Cost: 16.064274\n",
            "Epoch   10/20 Batch 1/3 Cost: 12.797729\n",
            "Epoch   10/20 Batch 2/3 Cost: 8.214152\n",
            "Epoch   10/20 Batch 3/3 Cost: 23.461618\n",
            "Epoch   11/20 Batch 1/3 Cost: 16.458567\n",
            "Epoch   11/20 Batch 2/3 Cost: 8.302089\n",
            "Epoch   11/20 Batch 3/3 Cost: 18.300760\n",
            "Epoch   12/20 Batch 1/3 Cost: 3.977037\n",
            "Epoch   12/20 Batch 2/3 Cost: 16.020422\n",
            "Epoch   12/20 Batch 3/3 Cost: 29.221930\n",
            "Epoch   13/20 Batch 1/3 Cost: 13.251001\n",
            "Epoch   13/20 Batch 2/3 Cost: 15.146610\n",
            "Epoch   13/20 Batch 3/3 Cost: 6.902967\n",
            "Epoch   14/20 Batch 1/3 Cost: 20.339699\n",
            "Epoch   14/20 Batch 2/3 Cost: 8.538606\n",
            "Epoch   14/20 Batch 3/3 Cost: 4.506875\n",
            "Epoch   15/20 Batch 1/3 Cost: 9.943653\n",
            "Epoch   15/20 Batch 2/3 Cost: 13.766188\n",
            "Epoch   15/20 Batch 3/3 Cost: 19.031033\n",
            "Epoch   16/20 Batch 1/3 Cost: 29.411713\n",
            "Epoch   16/20 Batch 2/3 Cost: 15.633725\n",
            "Epoch   16/20 Batch 3/3 Cost: 1.366826\n",
            "Epoch   17/20 Batch 1/3 Cost: 29.227428\n",
            "Epoch   17/20 Batch 2/3 Cost: 8.651312\n",
            "Epoch   17/20 Batch 3/3 Cost: 12.546141\n",
            "Epoch   18/20 Batch 1/3 Cost: 2.676948\n",
            "Epoch   18/20 Batch 2/3 Cost: 23.020742\n",
            "Epoch   18/20 Batch 3/3 Cost: 20.121801\n",
            "Epoch   19/20 Batch 1/3 Cost: 18.024099\n",
            "Epoch   19/20 Batch 2/3 Cost: 9.444228\n",
            "Epoch   19/20 Batch 3/3 Cost: 23.168087\n",
            "Epoch   20/20 Batch 1/3 Cost: 21.232851\n",
            "Epoch   20/20 Batch 2/3 Cost: 11.280956\n",
            "Epoch   20/20 Batch 3/3 Cost: 14.621032\n"
          ]
        }
      ]
    },
    {
      "cell_type": "code",
      "source": [
        "# 임의의 입력 [73, 80, 75]를 선언\n",
        "new_var =  torch.FloatTensor([[73, 80, 75]])\n",
        "# 입력한 값 [73, 80, 75]에 대해서 예측값 y를 리턴받아서 pred_y에 저장\n",
        "pred_y = model(new_var)\n",
        "print(\"훈련 후 입력이 73, 80, 75일 때의 예측값 :\", pred_y)"
      ],
      "metadata": {
        "colab": {
          "base_uri": "https://localhost:8080/"
        },
        "id": "7ALqF76VfWZP",
        "outputId": "be1625b8-0fda-4887-adb3-73a099aebf77"
      },
      "execution_count": null,
      "outputs": [
        {
          "output_type": "stream",
          "name": "stdout",
          "text": [
            "훈련 후 입력이 73, 80, 75일 때의 예측값 : tensor([[157.2804]], grad_fn=<AddmmBackward0>)\n"
          ]
        }
      ]
    },
    {
      "cell_type": "markdown",
      "source": [
        "###4. 커스텀 데이터셋(Custom Dataset)"
      ],
      "metadata": {
        "id": "c2ybHaEceyML"
      }
    },
    {
      "cell_type": "code",
      "source": [
        "class CustomDataset(torch.utils.data.Dataset):\n",
        "  def __init__(self):\n",
        "  데이터셋의 전처리를 해주는 부분\n",
        "\n",
        "  def __len__(self):\n",
        "  데이터셋의 길이. 즉, 총 샘플의 수를 적어주는 부분\n",
        "\n",
        "  def __getitem__(self, idx):\n",
        "  데이터셋에서 특정 1개의 샘플을 가져오는 함수"
      ],
      "metadata": {
        "id": "w-LiD7aIKISb"
      },
      "execution_count": null,
      "outputs": []
    },
    {
      "cell_type": "markdown",
      "source": [
        "###5. 커스텀 데이터셋(Custom Dataset)으로 선형 회귀 구현하기"
      ],
      "metadata": {
        "id": "CRWPgLFDe1Cr"
      }
    },
    {
      "cell_type": "code",
      "source": [
        "import torch\n",
        "import torch.nn.functional as F\n",
        "from torch.utils.data import Dataset\n",
        "from torch.utils.data import DataLoader"
      ],
      "metadata": {
        "id": "GgnBU0ElLvfv"
      },
      "execution_count": 4,
      "outputs": []
    },
    {
      "cell_type": "code",
      "source": [
        "# Dataset 상속\n",
        "class CustomDataset(Dataset):\n",
        "  def __init__(self):\n",
        "    self.x_data = [[73, 80, 75],\n",
        "                   [93, 88, 93],\n",
        "                   [89, 91, 90],\n",
        "                   [96, 98, 100],\n",
        "                   [73, 66, 70]]\n",
        "    self.y_data = [[152], [185], [180], [196], [142]]\n",
        "\n",
        "  # 총 데이터의 개수를 리턴\n",
        "  def __len__(self):\n",
        "    return len(self.x_data)\n",
        "\n",
        "  # 인덱스를 입력받아 그에 맵핑되는 입출력 데이터를 파이토치의 Tensor 형태로 리턴\n",
        "  def __getitem__(self, idx):\n",
        "    x = torch.FloatTensor(self.x_data[idx])\n",
        "    y = torch.FloatTensor(self.y_data[idx])\n",
        "    return x, y"
      ],
      "metadata": {
        "id": "z1t5513oMAOe"
      },
      "execution_count": 6,
      "outputs": []
    },
    {
      "cell_type": "code",
      "source": [
        "dataset = CustomDataset()\n",
        "dataloader = DataLoader(dataset, batch_size=2, shuffle=True)\n",
        "\n",
        "model = torch.nn.Linear(3,1)\n",
        "optimizer = torch.optim.SGD(model.parameters(), lr=1e-5)"
      ],
      "metadata": {
        "id": "coGMr2VvMlTB"
      },
      "execution_count": 7,
      "outputs": []
    },
    {
      "cell_type": "code",
      "source": [
        "nb_epochs = 20\n",
        "for epoch in range(nb_epochs + 1):\n",
        "  for batch_idx, samples in enumerate(dataloader):\n",
        "    # print(batch_idx)\n",
        "    # print(samples)\n",
        "    x_train, y_train = samples\n",
        "    # H(x) 계산\n",
        "    prediction = model(x_train)\n",
        "\n",
        "    # cost 계산\n",
        "    cost = F.mse_loss(prediction, y_train)\n",
        "\n",
        "    # cost로 H(x) 계산\n",
        "    optimizer.zero_grad()\n",
        "    cost.backward()\n",
        "    optimizer.step()\n",
        "\n",
        "    print('Epoch {:4d}/{} Batch {}/{} Cost: {:.6f}'.format(\n",
        "        epoch, nb_epochs, batch_idx+1, len(dataloader),\n",
        "        cost.item()\n",
        "        ))"
      ],
      "metadata": {
        "colab": {
          "base_uri": "https://localhost:8080/"
        },
        "id": "w4LuzMFVM173",
        "outputId": "199ecd7f-26a2-46fa-c2f5-9d7de986cd20"
      },
      "execution_count": 8,
      "outputs": [
        {
          "output_type": "stream",
          "name": "stdout",
          "text": [
            "Epoch    0/20 Batch 1/3 Cost: 23071.781250\n",
            "Epoch    0/20 Batch 2/3 Cost: 17581.359375\n",
            "Epoch    0/20 Batch 3/3 Cost: 3703.553467\n",
            "Epoch    1/20 Batch 1/3 Cost: 857.131836\n",
            "Epoch    1/20 Batch 2/3 Cost: 194.912628\n",
            "Epoch    1/20 Batch 3/3 Cost: 103.150658\n",
            "Epoch    2/20 Batch 1/3 Cost: 16.460945\n",
            "Epoch    2/20 Batch 2/3 Cost: 10.970690\n",
            "Epoch    2/20 Batch 3/3 Cost: 2.953053\n",
            "Epoch    3/20 Batch 1/3 Cost: 1.246350\n",
            "Epoch    3/20 Batch 2/3 Cost: 0.095024\n",
            "Epoch    3/20 Batch 3/3 Cost: 0.104377\n",
            "Epoch    4/20 Batch 1/3 Cost: 0.678422\n",
            "Epoch    4/20 Batch 2/3 Cost: 0.123370\n",
            "Epoch    4/20 Batch 3/3 Cost: 0.118080\n",
            "Epoch    5/20 Batch 1/3 Cost: 0.094797\n",
            "Epoch    5/20 Batch 2/3 Cost: 0.531496\n",
            "Epoch    5/20 Batch 3/3 Cost: 0.011198\n",
            "Epoch    6/20 Batch 1/3 Cost: 0.219984\n",
            "Epoch    6/20 Batch 2/3 Cost: 0.042412\n",
            "Epoch    6/20 Batch 3/3 Cost: 0.917457\n",
            "Epoch    7/20 Batch 1/3 Cost: 0.213805\n",
            "Epoch    7/20 Batch 2/3 Cost: 0.640249\n",
            "Epoch    7/20 Batch 3/3 Cost: 0.005267\n",
            "Epoch    8/20 Batch 1/3 Cost: 0.454904\n",
            "Epoch    8/20 Batch 2/3 Cost: 0.011374\n",
            "Epoch    8/20 Batch 3/3 Cost: 0.298689\n",
            "Epoch    9/20 Batch 1/3 Cost: 0.560365\n",
            "Epoch    9/20 Batch 2/3 Cost: 0.011228\n",
            "Epoch    9/20 Batch 3/3 Cost: 0.244160\n",
            "Epoch   10/20 Batch 1/3 Cost: 0.613739\n",
            "Epoch   10/20 Batch 2/3 Cost: 0.024911\n",
            "Epoch   10/20 Batch 3/3 Cost: 0.066365\n",
            "Epoch   11/20 Batch 1/3 Cost: 0.116626\n",
            "Epoch   11/20 Batch 2/3 Cost: 0.045004\n",
            "Epoch   11/20 Batch 3/3 Cost: 0.958777\n",
            "Epoch   12/20 Batch 1/3 Cost: 0.234996\n",
            "Epoch   12/20 Batch 2/3 Cost: 0.154496\n",
            "Epoch   12/20 Batch 3/3 Cost: 0.861088\n",
            "Epoch   13/20 Batch 1/3 Cost: 0.398488\n",
            "Epoch   13/20 Batch 2/3 Cost: 0.304441\n",
            "Epoch   13/20 Batch 3/3 Cost: 0.015352\n",
            "Epoch   14/20 Batch 1/3 Cost: 0.050674\n",
            "Epoch   14/20 Batch 2/3 Cost: 0.482778\n",
            "Epoch   14/20 Batch 3/3 Cost: 0.414241\n",
            "Epoch   15/20 Batch 1/3 Cost: 0.513222\n",
            "Epoch   15/20 Batch 2/3 Cost: 0.068332\n",
            "Epoch   15/20 Batch 3/3 Cost: 0.215187\n",
            "Epoch   16/20 Batch 1/3 Cost: 0.069614\n",
            "Epoch   16/20 Batch 2/3 Cost: 0.052825\n",
            "Epoch   16/20 Batch 3/3 Cost: 1.164131\n",
            "Epoch   17/20 Batch 1/3 Cost: 0.034010\n",
            "Epoch   17/20 Batch 2/3 Cost: 0.486735\n",
            "Epoch   17/20 Batch 3/3 Cost: 0.209226\n",
            "Epoch   18/20 Batch 1/3 Cost: 0.024246\n",
            "Epoch   18/20 Batch 2/3 Cost: 0.129105\n",
            "Epoch   18/20 Batch 3/3 Cost: 1.134490\n",
            "Epoch   19/20 Batch 1/3 Cost: 0.490361\n",
            "Epoch   19/20 Batch 2/3 Cost: 0.154791\n",
            "Epoch   19/20 Batch 3/3 Cost: 0.011797\n",
            "Epoch   20/20 Batch 1/3 Cost: 0.408733\n",
            "Epoch   20/20 Batch 2/3 Cost: 0.194442\n",
            "Epoch   20/20 Batch 3/3 Cost: 0.004536\n"
          ]
        }
      ]
    },
    {
      "cell_type": "code",
      "source": [
        "# 임의의 입력 [73, 80, 75]를 선언\n",
        "new_var =  torch.FloatTensor([[73, 80, 75]])\n",
        "# 입력한 값 [73, 80, 75]에 대해서 예측값 y를 리턴받아서 pred_y에 저장\n",
        "pred_y = model(new_var)\n",
        "print(\"훈련 후 입력이 73, 80, 75일 때의 예측값 :\", pred_y)"
      ],
      "metadata": {
        "colab": {
          "base_uri": "https://localhost:8080/"
        },
        "id": "jv0mQBY4NJ23",
        "outputId": "b80dbf3c-b00a-4021-efcc-d7a820f981a5"
      },
      "execution_count": 9,
      "outputs": [
        {
          "output_type": "stream",
          "name": "stdout",
          "text": [
            "훈련 후 입력이 73, 80, 75일 때의 예측값 : tensor([[151.0829]], grad_fn=<AddmmBackward0>)\n"
          ]
        }
      ]
    },
    {
      "cell_type": "markdown",
      "source": [
        "#04. [ML 입문] - 로지스틱 회귀(Logistic Regression)"
      ],
      "metadata": {
        "id": "v0Tg1n8z2s3B"
      }
    },
    {
      "cell_type": "markdown",
      "source": [
        "##04-01 로지스틱 회귀(Logistic Regression)"
      ],
      "metadata": {
        "id": "fFPQpK3M2usN"
      }
    },
    {
      "cell_type": "markdown",
      "source": [
        "###2. 시그모이드 함수(Sigmoid function)"
      ],
      "metadata": {
        "id": "TPIvCxC9OM15"
      }
    },
    {
      "cell_type": "markdown",
      "source": [
        "![image.png](data:image/png;base64,iVBORw0KGgoAAAANSUhEUgAAAdoAAABDCAYAAAA7+sSQAAAAAXNSR0IArs4c6QAAAARnQU1BAACxjwv8YQUAAAAJcEhZcwAADsMAAA7DAcdvqGQAABbYSURBVHhe7Z1/TFRX2se/+7pZEt/Avr7B3T8gNgtLg7woona0ILX8UAFXAd/yY2NBq9BGwY2CiYiJQNMKpkUa9dUoK6usDSoN+Gq10kKrsFUkW36kKsY6NK2QtUJ24xAJ01dy3nPvPXe4DAMyMBdn5Pkkkzv33B9z5jzn3Oc8z3nOub9gHBAEQRAEoQv/JrYEQRAEQegAKVqCIAiC0BFStARBEAShI6RoCYIgCEJHSNESBEEQhI6QoiUIgiAIHSFFSxAEQRA6QoqWIAiCIHSEFC1BEARB6AgpWoIgCILQEVK0BEEQBKEjpGgJgiAIQkdI0RIEQRCEjpCiJQiCIAgdIUVLEITzMmiGsbEEycHJKP9RpBGEi0GKliAI56P7DDJWRGLxa5FI3lqBVvPPMD8VxwjCxSBFSxCE8+GVgrIv6vH3r89iq59IIwgXhRQtQRAEQegIKVqCIAiC0BFStARBEAShI6RoCYIgCEJHSNESBEEQhI6QoiUIgiAIHSFFSxAEQRA64vyKdrAXrbXN6DKL/XHRhztfNcLYJ3aJ58eE5PciQHWQcFGma5s1d6Opth09g2LfgeiqaJv2xyIifBleDgiSP/NC+f6KbFT9NPYxC4OdKN8Qj8IfPDHbTaSNC3d44zLSVu/GNXrQ6ctPNchasQzzZDkm42inSJewlt+wc/ln3jKErijA5/28PnyYgIhQw7D6EPNRu3wb06XdWBwsrgkwYHHcYbTq0Bjs5noJYtYlI2IJz9eSIjQNyxPVwcnRjOIV0jMiGcV3pf1OlP73Mv6MiEXxdfkEQg9e8DbbtD8B8etisXheEBa/2yxSBW5emN29DxF/rIDR0XlletN1isXNnc/85u5gtQMiTaWnmqWOdoxzuzSG+W2sZA+eigQ7aXkvgvmtr2SPxL4z8qB6B4uOSmenfxAJzsSTNnYgJYZFv9fAbIhHQwc7EMXlaNjHbmhkZVt+XexEoiTz+Sz7C5Gk8oOoK4vy2VVrmd87zqINuexCz9g5mXLU+v12NXsskrS4Qh0kCJXp0GYfnEyS/0t6tUmkaOlh5zbOZ4sKb4p9x6C/67ijA3ekrf8CBFhbpR3taJK2Cw0Itj72YwXyjgObtifAe4ZIs5PgP+VgZfsBFNc5qw+kFzeu1MNodofHBP+jrnxXh0/au4F/9xAJo9DbgVZ+Ghb4I0D9H6PKzwu+Pso344/SRRr+1QOTtO03Y7jEzLh24gxm78jCGk+7XBt20AfjzU7l9+1B1G/fBUGwVUrOXwcJQuBqbbavE03f2e8uunNLcpH4YGGgu5IwDE8k5mTA40zRcO/cJNFd0d65pbgSPPhD2Fv+NoSRK1oJ7wVzMVv+NkTTyeO4MycWawMnIST3SKyNMuPiibPoEknOBRfqsXbcaziANV4iyZkIysHXd9rx2fYgjCkF0WEKWGKwKJvxyM/8VNs0e1H1UYWQE0/XLiB/qwyF91KQn6hnIbXhyFtlVu7fZ9N6s1HeBviLJ5E1Tl8HCULB5drs38uQdtzK/ftM2nGjgW9mcKNglCaLwCismdOJI6eUtu0IdFa0vbgtWUScpUuC5O0QZq6ElS5D8CLrY+2ovdQH76iwIQtpQrhheVQkv10drmnHfgmHonSYvLB0kdqoxpaft4+o4RqlZv6qBB9xpbRc3vseRkvHmTfmkhos35UG30nVBT3oRmu71KMOw9LFSspIqA4SrsA0abPd7WiVmmyIAcGj5s0fq6K9YL70N8Xj6gD0VbSD3NK5KX3xx8K51r2kZjR9JW1tPKRuNcoBJL6qv0LLYC8+fzcN8e9kIzk6Flnl9aji+8npGYj5QzaqrN5Z6faSD7ekeS+mbbhjYyowf1eDnD/GIiZ9N7Kk7buNwjXZh9bybMTExSJ0STJKW0bmzdRyhl+bgOR3MhARnYXiQyXYc6od5s4aZCTx64KXIf6jZhjripC8Lgs57yRgcXQ2ym/1wVizG2lxGUh7KxaLeZmU3xp5f/OP9ShOT0AEPy8rnZ8nXSsrDc5P9Sjkvx0TvgwRf6oZYYmZ2rV5y0BeNe8wzQjCQn9xwljy47j98lfy1tj5vbyV6klxfife3J6A31hVfqUxZ2HHYhu9bDvrgsPpb0fLLb6d2YnyN5ORwctTKscqK5fT86yDBGFqqUBWnCagSftZJyzSadJmzW1t8lCPW2cFkpOy+HNSecZZBz/5+vGHWX8zWr8TCZNFjNXqwzf72CJpoJx/Fr0ew8KjNJ/XQ+V0v4Tj7L71IPqXufxYKCtoEvsWBtjVvREs7phRDs55XJ2p3HtvA7tRHCF/jzvRpZyqIgKuovk1o9PBjiRa5W/MTxI78q24dDSe1LHMwPks6aSSn5ZSKX/x7AjPxsCVHSxQCjgwXWKZUhnsrJPPUXn06Q4WMjeCZX+hDNZL58tltf6vrGp7BMtrMLEL25RyDdlVxx7JsQYNLFs6h3/CCxvYY7lMRZpVMM5jXr4hPD3uWAcbEGV/o1CSRyo7/bCDHVgVwct+QAmMEHlWUa4NZdlXRN74vixj7W+MKj+FR+fS5Xyq//vBiSQWUniTy7SLnUhQ/kP2l/zA0zZWEMbL2qboJlAXxkQqq1xWa10Xx0Kt32H8un9KCQOKXKIOsdvyCYLnVQcJl+P2kSQbsh79E3ekQ1xpm/u8bfnNfYVF7zrFLlypZHmrpfYVwTJP1rHaK3XshlEEKrlim5XybPXsfBYt7yl6R3puys/IJ8ozOLzUqhxF2x4R/DVBdFW0kjBU4QhxWlAFZyu6S7lu+ANe5p+XWHbKcXZbPAwVRaBUjgef5rLUzYfYVfmBp0UoGzsFMmnkissFuPMSu28aYI++PMSKKtu4cLmS3BnPirgiG+AKVTon81NN9NtD/lDmCtpv/amhyD8h9PDiUywvah+7+oT/J+kcQz67qhbs0zrlf0odFzVNVCK/BH4vkWTz/hxVVkklH7G4bdX8mIgkXsWVhnqerWu/PcTC+XXRGmGNKj8VUTZyvqTOhkVRaRotr+DSfcI/aBtRd2QmVBfGwn5Fe/9YvMjrUA6v7pLyn8RODIsif051kJjWDDTkiw61othkjMdZNE9LquwRCQou2WbtVrRGdmQtz2sgz7slg6Jtap+REiKaeuzO8fj5pTBsdcCM1jZ5Apw8BmvtRGhtVgaxg+fNlbfjYlYsSirFd3Sj6Xo3MCMWry4AvN2KULFaHHIGAgxYOuMymi7tRswlvu8ZhvdPZsnRxWs+qMEa9OLjN+vl/K+NGop+u3NOCcgJ/kOsJfKvq61NdjkvN6Th/V38y63DKJRcHeGRWK4WbEcHWvnGO8QAXzXtZiM+5xvvkCBLIJqt+0sYf1BkZf6PN3D+oBe/tggf8+IN2B5rGbNRrw14bdlQ3pob0QV3rF9o2+U0JoNmXDtYAtPWCqycJSV4wduXb3hWTN1nUHzSB7mXRgnEmkRduHM0GVnVwk1uwYQe9OFaVDuKrVqFx7oDOL9F9YurqDEGQVg4T83hXbR8I23d4GYz01OL5BoknIt7d5QAUP3pxselNehxT8C+DT5DbUhEB5v5dkI8lzZ7F0eTslH1L7Gr0t/Lf7QRoW0lVr/njsTSs9gSKHZV+u/ituQKXhg0NMvlVrv83MTMX9nOs6MQClcHGlieZP3w3v3IXlIbKzAox4b3/BWe2buSUK21Z85RfH7WxMAPN9mFEx+yzEThJtfmtUOxBCW3yVDvT5nDJf/3eyLJkpbJzgnD19Y8MDVNdt8IFHdwDCtqEwmW+XDWMhHWKz/3gOyOHGC126X9VDbkyVGv1d5vZN4knik/y9y7V1jgqg9Zi6b7q1iEyie1cpxupHHXhbGw16IVdVg79KHOC9d6AWTIoiWmGLUubh/uTVQ8iSNdxC7ZZu21aIVnULLwVVTP6gjXsYMtWv2CoXhP4YZkdbkvQPBLSpKFzmY0SQaFlwHBaqCqBu/fSdZRNx71KPsW+ppRmp6BnEu8JySsNd9Qg5gadBflf9yNi9a9nt5ebqlIg9u/U/ZtIvWYpJWpxvtJQOkYHVNzYwFCuTUR+lc3rNmUg8PnKrDDTxwU3PniMrcEvfDGujAYy9P4f5IKxIy+J9JRf8u8NQx2oOnvfOvPLaeZUoIZrd9I1qc/75iplrCapgksG2xEVRW/pxyuL5UN7xFaol594KuVSUsNPuFF6rE6B5slB0P/33Chjm/DEvDGrHrsSSpT5kLL8N9VjTtL3gx41XwZWeK8UeVnTf+vsHLn28PmUHu4i/80Jw07EmxUDpWJ1AWHYsLP/XzDBaVGVvbU1chRiivf2TA8cvM51EHCNZG8LbblbfsTc2iUSmDuk71gvnN/p7HUunGxspm3rRQkWgWgTos2+8SslIkaQY1efP6/vDxmRGLLBiuPVW+3HCQWYDl3kgiF63Asg+dWPSqJsY7JiHEE65U7VKst5L06VrtTsRIzryh3kAb9Q3Y1jFydR4wh2l4FRB+u7uX/bYE0Dit+08h7R4ER3NpU8yDGNaJ4z/CfdSx7FbekxKHbB6VxC9VCNPHeohIkII17KAhLSrrWYjWJNG3vUPTIpOsef5HLQsRqL0rZa3quJm5thc1ngesP8byINDEeI5XZ/WNJlh7giLztVfIm9SofVKYOWeejyM+C2pvdVi2CtoZQetbasrLNhOrCmNhr0Qqrf7NYEUqUY8heEWSh5TnUQWK6IwU18nbN26bSKgbktuwXmMSO3LPx1HXFNmuvRSsCVFOF+00O7OTP5TwRdKpFiZ/Reu8mh8MV7f2T6Sw8KoItkt3G/BMYykJEhORYx4ajKI4Qi3IR/FDN0l+PZ0kb41lcYTU7V5zEFoUlsfTNPK2QP+xt1B+lwFLZ6YciYSow3WRF0tKFm3NZ3rZ0Fp2SzoqudA3rVEhLL4YviGDha1NZUYNG0E+N7Ny2eLZoVRJLTUll0atekcvKEnDTVcmSAl9hSSc1Lo0eXi48Lf2c1m3Txe8Tw0JWxfPf/1ATZGBiNw7yPIXEsNTNqfz3ed6qO0TkskBaejGRy4aXdfS2yqHgqgEjO83vuWh1OktdG88yTzSwc4UxLNAQwX8nXwRHSIwiPwsd7NzeD9kFG16ZRw3HWR6/7whlZc0E6sLY2KtoOQ8bWAEvp+iUTBa3OpUVXDFaori1PJc6+KLz8BLL236K3bZbznozwFpK01nBM5TOlPCwjhWkhLLwlB0sPZG3i12V7MaoyyG6YJu1OxiK5/XLfSzOwH/v7STebvexWjXq2go5UMtqSdnJoO/0nkkgjy9aT5OwG2F1WEXYug7qGKjrPaQdI7+pZAKKdly4eh10Qp40sDz+wFbiCYzsQiHvwEsd97BUlr23krXcq2NFbysR4X6rM1nekQb2iCuK0xsVD0zIxlx24htHaGiufHamypG94Qc1Y3zyFJcIh1lDU4XLtdkJKNrxoXgDhsfPTA791zqeIEs3vo2A7su4MJlxqL56XKhzx5qNE18veUr5qR6l+YeHVhCyjIGGYamnkuQqOER+U4oPXt8SBimA0qG4Wh10Ae4cL8LVJdnYLEeV+mDN3hxlCdM5scgtTEGwXyRy9yQggCd5vJqB97lcZ8Mf67dFwTeqCOf/UoRNC+2IMe1txNGP2+Vo3eH4I3GDAW7wxPJQzRjfjCDs2BWE8kJ1eULXwOXarG8YtoSNFfcwQW7V4eKP/ti8IcxhkchOq2ilgfX89WaUf3BGDiSZCK0HS/B5eA7yw20tHu1s9KIqNxtHq8pw+roSGGU8fhgXBz2xZmuKEy4/+AwcIL+pxQtrtsU6vJxdqw66AIPNqKo0YemqoXW1pekcv5aK97vvLYrtTvUZTQCfRDfKD0krGcWOWFf9mfR/j9o62y+ckKe3uRvwulUsjUd4FFbePYMqaeUwV8HV2izvWO1Y66BgJQvS8pFlwKY8bHLgrZ1X0XKCc8uQiwPIOG7/axRMX+1GVl0YDhcmOOebcUbgiYWxkfCd5QXTzRJkvZmCnG8MeL/6PEo082xdicnI70XAKevgIO/ANZYgOTgZ5XovUakH7fW42DcXSy1zlwXauc/SW2iuu8sWrelHRUGaLpWgamEO1lsenn1o2p+NrP0FyIhOQFp6FjLeSsDiP122Q8n04kbjXXl+5ml+r2R+n9IWcWimtCRpN641d4sE12C6t1ljeSb2/18OyrY940UqduLUihYzfLDp1GXkv9QLozSVYtz08Z5tLMqqC8SkatfAN/EAPvv6Ms4WF+Dw6Rqc/3MOEv1d2BKasPxeBJysDnafQcaKSCx+LRLJWyvQav4ZZu3bVsbNBF8n6CDM/+iByd0Hvx82lCJe49bXgy5zHy5+WMMVxgZlGOBnfk1/I/Yfd0PuRo3ZefMwCv+VgH27MvDqzE40DfrD9//4/3rYa8NFPApiaCdgWwnKCg9g64JOHH1PdRfzPL3MLet7LqawpnObNXejxysH50+kDS364yB+IQ3Uiu8EQbzwdKN8XSyK7/pgx6c12GK3e6wROQGXserbIqx0oJXe01iGj+rGsP5eTsDe9UHoKU9GxLEFOHtzN4LFIYlruUHIuGBA/gc+OF0bhIqD/vgkjluYM7JQ8lodqrwOoEL7yrZ+aZ6pOzzc6pEzLxvGnZdxfpM4Lo3JHqofGl81daD2OrA0ei5+LZLk/My9jNA36/BGZT1yg3pR9VYk9hjTcLYhR86bnKefCvD1XxLsd1cTLxZySBRBENMEdW3aZ6y8Nip6RWePD3kupmEfaxH7Ksq606Fs0ap0dk5ebW5oDd7AtdYrdWmQVwsSEcJPB9hjk404U2lO+sbqESsYKXnJZVef8J2nvFwC57MQTaSqvGKSjeuI6Ydzu44JgnhhUF/9GJOejaykSMTvb7bbBe09h5vgfaYR1ymvcevD7NU5SJwjp8BdNj+98EZ+Bqzfsdq6PxIvz9uNo1+3weQehP/ixqzpym4knxCvgRsHbjOlcCwPeMyUrq3BxVlh2G6JVDXD1M+P/t6HrFnCycdoCYJ4AehD0/sJWLyhBr/PP4PP/nwAh0/mwPtUCT6xNyBrngFL0Qmj9Xun3bnS84zVjMN64je/BWZHZWGrjak8brM84ObTiRvXPbB0VjtqjxUh54IP8jdbhQ+PwezVWdjyUiOO7ClARqUb8g8VIdHiiv8e9zvcsXTBGEsSEtMHYdkSBDEtmHrXsfo+Ze3r0+Tl78L2sRt2rwjQw06vn8/ixHueLQyY2CMrt++AqYc9lty6k2UU1/GYSC8NMWSyC7QaGMGhYCiCmFaMPxhq1NcJdvfB7bde8BjX6wRFkNBNwHtJAl6dY8KDb7th+k8Dtu7Nwso5EwjvbClC6C53lH2RJU/hcUaa3o1E4az/wWfbxm8hEy8upGgJYlox1VHH0vlZuDgjFmVtRVjuoEhlY3ky0v6Rh6/3ON87d6X508lnDDh8JMH1FpohdIHGaAmC0BEPeEhTwX18RixBae7rg1l6leYE8N1Ugc/e8Znw9XritiAHZw+SkiWGIEVLEISOBGHtWk9uSHejy6IUzeiqLUD82n24NuGVL9zg4ekONydUZm6zPOHh4AUPCNeGXMcEMS1oRvGKAnz+1ISun8S4q5s7vD09sLLwMnJDlKRnM4EFKwY7cXFPAUo73BD8sju6jL3w/kMGtqaEwXemOIcgXmBI0RIEYQf6rAxFEC8y5DomCMIOdHqdIEG8wJBFSxAEQRA6QhYtQRAEQegIKVqCIAiC0BFStARBEAShI6RoCYIgCEJHSNESBEEQhI6QoiUIgiAIHSFFSxAEQRA6QoqWIAiCIHSEFC1BEARB6AgpWoIgCILQDeD/AZGlcP9JS7GGAAAAAElFTkSuQmCC)"
      ],
      "metadata": {
        "id": "XLjRnqAnOVuB"
      }
    },
    {
      "cell_type": "code",
      "source": [
        "import numpy as np # 넘파이 사용\n",
        "import matplotlib.pyplot as plt # 맷플롯립사용"
      ],
      "metadata": {
        "id": "A48HVYvXONgA"
      },
      "execution_count": 12,
      "outputs": []
    },
    {
      "cell_type": "code",
      "source": [
        "def sigmoid(x): # 시그모이드 함수 정의\n",
        "    return 1/(1+np.exp(-x))"
      ],
      "metadata": {
        "id": "V29HylB0OZp8"
      },
      "execution_count": 11,
      "outputs": []
    },
    {
      "cell_type": "markdown",
      "source": [
        "1) W가 1이고 b가 0인 그래프"
      ],
      "metadata": {
        "id": "sMyOSBnyOklh"
      }
    },
    {
      "cell_type": "code",
      "source": [
        "x = np.arange(-5.0, 5.0, 0.1)\n",
        "y = sigmoid(x)\n",
        "\n",
        "plt.plot(x, y, 'g')\n",
        "plt.plot([0,0],[1.0,0.0], ':') # 가운데 점선 추가\n",
        "plt.title('Sigmoid Function')\n",
        "plt.show()"
      ],
      "metadata": {
        "colab": {
          "base_uri": "https://localhost:8080/",
          "height": 452
        },
        "id": "JA6UK6IiOcEv",
        "outputId": "8efaafe2-e08b-4f52-eb4a-05f88e2d50f3"
      },
      "execution_count": 13,
      "outputs": [
        {
          "output_type": "display_data",
          "data": {
            "text/plain": [
              "<Figure size 640x480 with 1 Axes>"
            ],
            "image/png": "[encoded data removed]"
          },
          "metadata": {}
        }
      ]
    },
    {
      "cell_type": "markdown",
      "source": [
        "2) W값의 변화에 따른 경사도의 변화"
      ],
      "metadata": {
        "id": "1Q9L3ripO31F"
      }
    },
    {
      "cell_type": "code",
      "source": [
        "x = np.arange(-5.0, 5.0, 0.1)\n",
        "y1 = sigmoid(0.5*x)\n",
        "y2 = sigmoid(x)\n",
        "y3 = sigmoid(2*x)\n",
        "\n",
        "plt.plot(x, y1, 'r', linestyle='--') # W의 값이 0.5일때\n",
        "plt.plot(x, y2, 'g') # W의 값이 1일때\n",
        "plt.plot(x, y3, 'b', linestyle='--') # W의 값이 2일때\n",
        "plt.plot([0,0],[1.0,0.0], ':') # 가운데 점선 추가\n",
        "plt.title('Sigmoid Function')\n",
        "plt.show()"
      ],
      "metadata": {
        "colab": {
          "base_uri": "https://localhost:8080/",
          "height": 452
        },
        "id": "t_mtQ-HaO4bl",
        "outputId": "fc0162c1-a5fc-428e-f426-b1b7d02e8aad"
      },
      "execution_count": 14,
      "outputs": [
        {
          "output_type": "display_data",
          "data": {
            "text/plain": [
              "<Figure size 640x480 with 1 Axes>"
            ],
            "image/png": "[encoded data removed]"
          },
          "metadata": {}
        }
      ]
    },
    {
      "cell_type": "markdown",
      "source": [
        "3) b값의 변화에 따른 좌, 우 이동"
      ],
      "metadata": {
        "id": "Us1KN8QCPHtm"
      }
    },
    {
      "cell_type": "code",
      "source": [
        "x = np.arange(-5.0, 5.0, 0.1)\n",
        "y1 = sigmoid(x+0.5)\n",
        "y2 = sigmoid(x+1)\n",
        "y3 = sigmoid(x+1.5)\n",
        "\n",
        "plt.plot(x, y1, 'r', linestyle='--') # x + 0.5\n",
        "plt.plot(x, y2, 'g') # x + 1\n",
        "plt.plot(x, y3, 'b', linestyle='--') # x + 1.5\n",
        "plt.plot([0,0],[1.0,0.0], ':') # 가운데 점선 추가\n",
        "plt.title('Sigmoid Function')\n",
        "plt.show()"
      ],
      "metadata": {
        "colab": {
          "base_uri": "https://localhost:8080/",
          "height": 452
        },
        "id": "toxvRCjLPIKD",
        "outputId": "59f43623-cd98-45a9-95a6-d1749dc81a8f"
      },
      "execution_count": 15,
      "outputs": [
        {
          "output_type": "display_data",
          "data": {
            "text/plain": [
              "<Figure size 640x480 with 1 Axes>"
            ],
            "image/png": "[encoded data removed]"
          },
          "metadata": {}
        }
      ]
    },
    {
      "cell_type": "markdown",
      "source": [
        "###3. 비용 함수(Cost function)"
      ],
      "metadata": {
        "id": "LLxl_Xy3Pig5"
      }
    },
    {
      "cell_type": "markdown",
      "source": [
        "![image.png](data:image/png;base64,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)"
      ],
      "metadata": {
        "id": "W-3_-Z77QNwv"
      }
    },
    {
      "cell_type": "markdown",
      "source": [
        "###4. 파이토치로 로지스틱 회귀 구현하기"
      ],
      "metadata": {
        "id": "jj98eEScP5nm"
      }
    },
    {
      "cell_type": "code",
      "source": [
        "import torch\n",
        "import torch.nn as nn\n",
        "import torch.nn.functional as F\n",
        "import torch.optim as optim\n",
        "\n",
        "torch.manual_seed(1)"
      ],
      "metadata": {
        "colab": {
          "base_uri": "https://localhost:8080/"
        },
        "id": "HuSpScJJPkqY",
        "outputId": "844ab32e-2e46-4b7b-f7ac-3b94f019c4ed"
      },
      "execution_count": 17,
      "outputs": [
        {
          "output_type": "execute_result",
          "data": {
            "text/plain": [
              "<torch._C.Generator at 0x7983fb6c1090>"
            ]
          },
          "metadata": {},
          "execution_count": 17
        }
      ]
    },
    {
      "cell_type": "code",
      "source": [
        "x_data = [[1, 2], [2, 3], [3, 1], [4, 3], [5, 3], [6, 2]]\n",
        "y_data = [[0], [0], [0], [1], [1], [1]]\n",
        "x_train = torch.FloatTensor(x_data)\n",
        "y_train = torch.FloatTensor(y_data)"
      ],
      "metadata": {
        "id": "i-p-U9i1QU2b"
      },
      "execution_count": 18,
      "outputs": []
    },
    {
      "cell_type": "code",
      "source": [
        "print(x_train.shape)\n",
        "print(y_train.shape)"
      ],
      "metadata": {
        "colab": {
          "base_uri": "https://localhost:8080/"
        },
        "id": "N2sSvOSvQaFH",
        "outputId": "de631f00-b2d4-44b9-fbd9-b01fcabaca91"
      },
      "execution_count": 19,
      "outputs": [
        {
          "output_type": "stream",
          "name": "stdout",
          "text": [
            "torch.Size([6, 2])\n",
            "torch.Size([6, 1])\n"
          ]
        }
      ]
    },
    {
      "cell_type": "code",
      "source": [
        "W = torch.zeros((2, 1), requires_grad=True) # 크기는 2 x 1\n",
        "b = torch.zeros(1, requires_grad=True)"
      ],
      "metadata": {
        "id": "c5MsmD0WQa9y"
      },
      "execution_count": 20,
      "outputs": []
    },
    {
      "cell_type": "code",
      "source": [
        "hypothesis = 1 / (1 + torch.exp(-(x_train.matmul(W) + b)))\n",
        "print(hypothesis) # 예측값인 H(x) 출력"
      ],
      "metadata": {
        "colab": {
          "base_uri": "https://localhost:8080/"
        },
        "id": "R6d2gCdtQeb0",
        "outputId": "bfd2a06f-78cb-44ff-fb88-3602947f8be5"
      },
      "execution_count": 21,
      "outputs": [
        {
          "output_type": "stream",
          "name": "stdout",
          "text": [
            "tensor([[0.5000],\n",
            "        [0.5000],\n",
            "        [0.5000],\n",
            "        [0.5000],\n",
            "        [0.5000],\n",
            "        [0.5000]], grad_fn=<MulBackward0>)\n"
          ]
        }
      ]
    },
    {
      "cell_type": "code",
      "source": [
        "hypothesis = torch.sigmoid(x_train.matmul(W) + b)\n",
        "print(hypothesis)"
      ],
      "metadata": {
        "colab": {
          "base_uri": "https://localhost:8080/"
        },
        "id": "CeD5zIasQo7w",
        "outputId": "677ef176-4821-49b7-e637-4b566b481d5b"
      },
      "execution_count": 23,
      "outputs": [
        {
          "output_type": "stream",
          "name": "stdout",
          "text": [
            "tensor([[0.5000],\n",
            "        [0.5000],\n",
            "        [0.5000],\n",
            "        [0.5000],\n",
            "        [0.5000],\n",
            "        [0.5000]], grad_fn=<SigmoidBackward0>)\n"
          ]
        }
      ]
    },
    {
      "cell_type": "code",
      "source": [
        "print(hypothesis)\n",
        "print(y_train)"
      ],
      "metadata": {
        "colab": {
          "base_uri": "https://localhost:8080/"
        },
        "id": "4dQMXWb5QwZI",
        "outputId": "8f112947-2339-48f6-865b-4b3ebad5ae68"
      },
      "execution_count": 24,
      "outputs": [
        {
          "output_type": "stream",
          "name": "stdout",
          "text": [
            "tensor([[0.5000],\n",
            "        [0.5000],\n",
            "        [0.5000],\n",
            "        [0.5000],\n",
            "        [0.5000],\n",
            "        [0.5000]], grad_fn=<SigmoidBackward0>)\n",
            "tensor([[0.],\n",
            "        [0.],\n",
            "        [0.],\n",
            "        [1.],\n",
            "        [1.],\n",
            "        [1.]])\n"
          ]
        }
      ]
    },
    {
      "cell_type": "code",
      "source": [
        "-(y_train[0] * torch.log(hypothesis[0]) +\n",
        "  (1 - y_train[0]) * torch.log(1 - hypothesis[0]))"
      ],
      "metadata": {
        "colab": {
          "base_uri": "https://localhost:8080/"
        },
        "id": "GPQCwFn0Qxqq",
        "outputId": "4b191621-4c6a-449c-e01e-655f6e647cb2"
      },
      "execution_count": 25,
      "outputs": [
        {
          "output_type": "execute_result",
          "data": {
            "text/plain": [
              "tensor([0.6931], grad_fn=<NegBackward0>)"
            ]
          },
          "metadata": {},
          "execution_count": 25
        }
      ]
    },
    {
      "cell_type": "code",
      "source": [
        "losses = -(y_train * torch.log(hypothesis) +\n",
        "           (1 - y_train) * torch.log(1 - hypothesis))\n",
        "print(losses)"
      ],
      "metadata": {
        "colab": {
          "base_uri": "https://localhost:8080/"
        },
        "id": "wEM0EUx5Q9Ru",
        "outputId": "88ede413-6439-4237-8be5-e301e2668487"
      },
      "execution_count": 26,
      "outputs": [
        {
          "output_type": "stream",
          "name": "stdout",
          "text": [
            "tensor([[0.6931],\n",
            "        [0.6931],\n",
            "        [0.6931],\n",
            "        [0.6931],\n",
            "        [0.6931],\n",
            "        [0.6931]], grad_fn=<NegBackward0>)\n"
          ]
        }
      ]
    },
    {
      "cell_type": "code",
      "source": [
        "cost = losses.mean()\n",
        "print(cost)"
      ],
      "metadata": {
        "colab": {
          "base_uri": "https://localhost:8080/"
        },
        "id": "QwRNGWGnRBVx",
        "outputId": "4ab3caf4-efbf-4f07-95ee-9d4b033cd828"
      },
      "execution_count": 27,
      "outputs": [
        {
          "output_type": "stream",
          "name": "stdout",
          "text": [
            "tensor(0.6931, grad_fn=<MeanBackward0>)\n"
          ]
        }
      ]
    },
    {
      "cell_type": "code",
      "source": [
        "F.binary_cross_entropy(hypothesis, y_train) #파이토치에 있는 비용함수"
      ],
      "metadata": {
        "colab": {
          "base_uri": "https://localhost:8080/"
        },
        "id": "GL6WipOeRDcR",
        "outputId": "c92280e3-dbda-4744-f328-4ada812a5cfa"
      },
      "execution_count": 30,
      "outputs": [
        {
          "output_type": "execute_result",
          "data": {
            "text/plain": [
              "tensor(0.6931, grad_fn=<BinaryCrossEntropyBackward0>)"
            ]
          },
          "metadata": {},
          "execution_count": 30
        }
      ]
    },
    {
      "cell_type": "code",
      "source": [
        "x_data = [[1, 2], [2, 3], [3, 1], [4, 3], [5, 3], [6, 2]]\n",
        "y_data = [[0], [0], [0], [1], [1], [1]]\n",
        "x_train = torch.FloatTensor(x_data)\n",
        "y_train = torch.FloatTensor(y_data)"
      ],
      "metadata": {
        "id": "2ITL3tfbRFLk"
      },
      "execution_count": 29,
      "outputs": []
    },
    {
      "cell_type": "code",
      "source": [
        "# 모델 초기화\n",
        "W = torch.zeros((2, 1), requires_grad=True)\n",
        "b = torch.zeros(1, requires_grad=True)\n",
        "# optimizer 설정\n",
        "optimizer = optim.SGD([W, b], lr=1)\n",
        "\n",
        "nb_epochs = 1000\n",
        "for epoch in range(nb_epochs + 1):\n",
        "\n",
        "    # Cost 계산\n",
        "    hypothesis = torch.sigmoid(x_train.matmul(W) + b)\n",
        "    cost = -(y_train * torch.log(hypothesis) +\n",
        "             (1 - y_train) * torch.log(1 - hypothesis)).mean()\n",
        "\n",
        "    # cost로 H(x) 개선\n",
        "    optimizer.zero_grad()\n",
        "    cost.backward()\n",
        "    optimizer.step()\n",
        "\n",
        "    # 100번마다 로그 출력\n",
        "    if epoch % 100 == 0:\n",
        "        print('Epoch {:4d}/{} Cost: {:.6f}'.format(\n",
        "            epoch, nb_epochs, cost.item()\n",
        "        ))"
      ],
      "metadata": {
        "colab": {
          "base_uri": "https://localhost:8080/"
        },
        "id": "6l9M1A1qRJQ9",
        "outputId": "32f51702-cc7e-44e3-ded6-7b67b0236c36"
      },
      "execution_count": 31,
      "outputs": [
        {
          "output_type": "stream",
          "name": "stdout",
          "text": [
            "Epoch    0/1000 Cost: 0.693147\n",
            "Epoch  100/1000 Cost: 0.134722\n",
            "Epoch  200/1000 Cost: 0.080643\n",
            "Epoch  300/1000 Cost: 0.057900\n",
            "Epoch  400/1000 Cost: 0.045300\n",
            "Epoch  500/1000 Cost: 0.037261\n",
            "Epoch  600/1000 Cost: 0.031673\n",
            "Epoch  700/1000 Cost: 0.027556\n",
            "Epoch  800/1000 Cost: 0.024394\n",
            "Epoch  900/1000 Cost: 0.021888\n",
            "Epoch 1000/1000 Cost: 0.019852\n"
          ]
        }
      ]
    },
    {
      "cell_type": "code",
      "source": [
        "hypothesis = torch.sigmoid(x_train.matmul(W) + b)\n",
        "print(hypothesis)"
      ],
      "metadata": {
        "colab": {
          "base_uri": "https://localhost:8080/"
        },
        "id": "LgtWlJ6cRxms",
        "outputId": "e282daf1-f0e4-45d2-c1a4-d541b05428de"
      },
      "execution_count": 32,
      "outputs": [
        {
          "output_type": "stream",
          "name": "stdout",
          "text": [
            "tensor([[2.7648e-04],\n",
            "        [3.1608e-02],\n",
            "        [3.8977e-02],\n",
            "        [9.5622e-01],\n",
            "        [9.9823e-01],\n",
            "        [9.9969e-01]], grad_fn=<SigmoidBackward0>)\n"
          ]
        }
      ]
    },
    {
      "cell_type": "code",
      "source": [
        "prediction = hypothesis >= torch.FloatTensor([0.5])\n",
        "print(prediction)"
      ],
      "metadata": {
        "colab": {
          "base_uri": "https://localhost:8080/"
        },
        "id": "4VpGMWKER1cF",
        "outputId": "966620e5-2267-4b35-d22b-aa73d1a5d4bf"
      },
      "execution_count": 33,
      "outputs": [
        {
          "output_type": "stream",
          "name": "stdout",
          "text": [
            "tensor([[False],\n",
            "        [False],\n",
            "        [False],\n",
            "        [ True],\n",
            "        [ True],\n",
            "        [ True]])\n"
          ]
        }
      ]
    },
    {
      "cell_type": "code",
      "source": [
        "print(W)\n",
        "print(b)"
      ],
      "metadata": {
        "colab": {
          "base_uri": "https://localhost:8080/"
        },
        "id": "aVZJlKbsR3kO",
        "outputId": "726ba7e2-11a9-439b-a692-db201b819190"
      },
      "execution_count": 34,
      "outputs": [
        {
          "output_type": "stream",
          "name": "stdout",
          "text": [
            "tensor([[3.2530],\n",
            "        [1.5179]], requires_grad=True)\n",
            "tensor([-14.4819], requires_grad=True)\n"
          ]
        }
      ]
    },
    {
      "cell_type": "markdown",
      "source": [
        "##04-02 nn.Module과 클래스로 구현하는 로지스틱 회귀"
      ],
      "metadata": {
        "id": "uRlGF73d2yBF"
      }
    },
    {
      "cell_type": "markdown",
      "source": [
        "###1. 파이토치의 nn.Linear와 nn.Sigmoid로 로지스틱 회귀 구현하기"
      ],
      "metadata": {
        "id": "rDtHstAKR7P_"
      }
    },
    {
      "cell_type": "code",
      "source": [
        "import torch\n",
        "import torch.nn as nn\n",
        "import torch.nn.functional as F\n",
        "import torch.optim as optim\n",
        "\n",
        "torch.manual_seed(1)"
      ],
      "metadata": {
        "colab": {
          "base_uri": "https://localhost:8080/"
        },
        "id": "omb4hX6qR9rL",
        "outputId": "7fa2b6ba-e887-4d65-e3f1-9e95341d4fdf"
      },
      "execution_count": 35,
      "outputs": [
        {
          "output_type": "execute_result",
          "data": {
            "text/plain": [
              "<torch._C.Generator at 0x7983fb6c1090>"
            ]
          },
          "metadata": {},
          "execution_count": 35
        }
      ]
    },
    {
      "cell_type": "code",
      "source": [
        "x_data = [[1, 2], [2, 3], [3, 1], [4, 3], [5, 3], [6, 2]]\n",
        "y_data = [[0], [0], [0], [1], [1], [1]]\n",
        "x_train = torch.FloatTensor(x_data)\n",
        "y_train = torch.FloatTensor(y_data)"
      ],
      "metadata": {
        "id": "1ifzodouSBeL"
      },
      "execution_count": 36,
      "outputs": []
    },
    {
      "cell_type": "code",
      "source": [
        "model = nn.Sequential(\n",
        "   nn.Linear(2, 1), # input_dim = 2, output_dim = 1\n",
        "   nn.Sigmoid() # 출력은 시그모이드 함수를 거친다\n",
        ")\n",
        "\n",
        "model(x_train)"
      ],
      "metadata": {
        "colab": {
          "base_uri": "https://localhost:8080/"
        },
        "id": "0Ju9uKttSDIj",
        "outputId": "532ec744-2730-48a1-8d33-55e4f812fbfa"
      },
      "execution_count": 37,
      "outputs": [
        {
          "output_type": "execute_result",
          "data": {
            "text/plain": [
              "tensor([[0.4020],\n",
              "        [0.4147],\n",
              "        [0.6556],\n",
              "        [0.5948],\n",
              "        [0.6788],\n",
              "        [0.8061]], grad_fn=<SigmoidBackward0>)"
            ]
          },
          "metadata": {},
          "execution_count": 37
        }
      ]
    },
    {
      "cell_type": "code",
      "source": [
        "# optimizer 설정\n",
        "optimizer = optim.SGD(model.parameters(), lr=1)\n",
        "\n",
        "nb_epochs = 1000\n",
        "for epoch in range(nb_epochs + 1):\n",
        "\n",
        "    # H(x) 계산\n",
        "    hypothesis = model(x_train)\n",
        "\n",
        "    # cost 계산\n",
        "    cost = F.binary_cross_entropy(hypothesis, y_train)\n",
        "\n",
        "    # cost로 H(x) 개선\n",
        "    optimizer.zero_grad()\n",
        "    cost.backward()\n",
        "    optimizer.step()\n",
        "\n",
        "    # 20번마다 로그 출력\n",
        "    if epoch % 10 == 0:\n",
        "        prediction = hypothesis >= torch.FloatTensor([0.5]) # 예측값이 0.5를 넘으면 True로 간주\n",
        "        correct_prediction = prediction.float() == y_train # 실제값과 일치하는 경우만 True로 간주\n",
        "        accuracy = correct_prediction.sum().item() / len(correct_prediction) # 정확도를 계산\n",
        "        print('Epoch {:4d}/{} Cost: {:.6f} Accuracy {:2.2f}%'.format( # 각 에포크마다 정확도를 출력\n",
        "            epoch, nb_epochs, cost.item(), accuracy * 100,\n",
        "        ))"
      ],
      "metadata": {
        "colab": {
          "base_uri": "https://localhost:8080/"
        },
        "id": "749lUMGYSLb1",
        "outputId": "3c77bb66-4499-40a1-c860-eb9c67d2c938"
      },
      "execution_count": 38,
      "outputs": [
        {
          "output_type": "stream",
          "name": "stdout",
          "text": [
            "Epoch    0/1000 Cost: 0.539713 Accuracy 83.33%\n",
            "Epoch   10/1000 Cost: 0.614853 Accuracy 66.67%\n",
            "Epoch   20/1000 Cost: 0.441875 Accuracy 66.67%\n",
            "Epoch   30/1000 Cost: 0.373145 Accuracy 83.33%\n",
            "Epoch   40/1000 Cost: 0.316358 Accuracy 83.33%\n",
            "Epoch   50/1000 Cost: 0.266094 Accuracy 83.33%\n",
            "Epoch   60/1000 Cost: 0.220498 Accuracy 100.00%\n",
            "Epoch   70/1000 Cost: 0.182095 Accuracy 100.00%\n",
            "Epoch   80/1000 Cost: 0.157299 Accuracy 100.00%\n",
            "Epoch   90/1000 Cost: 0.144091 Accuracy 100.00%\n",
            "Epoch  100/1000 Cost: 0.134272 Accuracy 100.00%\n",
            "Epoch  110/1000 Cost: 0.125769 Accuracy 100.00%\n",
            "Epoch  120/1000 Cost: 0.118297 Accuracy 100.00%\n",
            "Epoch  130/1000 Cost: 0.111680 Accuracy 100.00%\n",
            "Epoch  140/1000 Cost: 0.105779 Accuracy 100.00%\n",
            "Epoch  150/1000 Cost: 0.100483 Accuracy 100.00%\n",
            "Epoch  160/1000 Cost: 0.095704 Accuracy 100.00%\n",
            "Epoch  170/1000 Cost: 0.091369 Accuracy 100.00%\n",
            "Epoch  180/1000 Cost: 0.087420 Accuracy 100.00%\n",
            "Epoch  190/1000 Cost: 0.083806 Accuracy 100.00%\n",
            "Epoch  200/1000 Cost: 0.080486 Accuracy 100.00%\n",
            "Epoch  210/1000 Cost: 0.077425 Accuracy 100.00%\n",
            "Epoch  220/1000 Cost: 0.074595 Accuracy 100.00%\n",
            "Epoch  230/1000 Cost: 0.071969 Accuracy 100.00%\n",
            "Epoch  240/1000 Cost: 0.069526 Accuracy 100.00%\n",
            "Epoch  250/1000 Cost: 0.067248 Accuracy 100.00%\n",
            "Epoch  260/1000 Cost: 0.065118 Accuracy 100.00%\n",
            "Epoch  270/1000 Cost: 0.063122 Accuracy 100.00%\n",
            "Epoch  280/1000 Cost: 0.061247 Accuracy 100.00%\n",
            "Epoch  290/1000 Cost: 0.059483 Accuracy 100.00%\n",
            "Epoch  300/1000 Cost: 0.057820 Accuracy 100.00%\n",
            "Epoch  310/1000 Cost: 0.056250 Accuracy 100.00%\n",
            "Epoch  320/1000 Cost: 0.054764 Accuracy 100.00%\n",
            "Epoch  330/1000 Cost: 0.053357 Accuracy 100.00%\n",
            "Epoch  340/1000 Cost: 0.052022 Accuracy 100.00%\n",
            "Epoch  350/1000 Cost: 0.050753 Accuracy 100.00%\n",
            "Epoch  360/1000 Cost: 0.049546 Accuracy 100.00%\n",
            "Epoch  370/1000 Cost: 0.048396 Accuracy 100.00%\n",
            "Epoch  380/1000 Cost: 0.047299 Accuracy 100.00%\n",
            "Epoch  390/1000 Cost: 0.046252 Accuracy 100.00%\n",
            "Epoch  400/1000 Cost: 0.045251 Accuracy 100.00%\n",
            "Epoch  410/1000 Cost: 0.044294 Accuracy 100.00%\n",
            "Epoch  420/1000 Cost: 0.043376 Accuracy 100.00%\n",
            "Epoch  430/1000 Cost: 0.042497 Accuracy 100.00%\n",
            "Epoch  440/1000 Cost: 0.041653 Accuracy 100.00%\n",
            "Epoch  450/1000 Cost: 0.040843 Accuracy 100.00%\n",
            "Epoch  460/1000 Cost: 0.040064 Accuracy 100.00%\n",
            "Epoch  470/1000 Cost: 0.039315 Accuracy 100.00%\n",
            "Epoch  480/1000 Cost: 0.038593 Accuracy 100.00%\n",
            "Epoch  490/1000 Cost: 0.037898 Accuracy 100.00%\n",
            "Epoch  500/1000 Cost: 0.037228 Accuracy 100.00%\n",
            "Epoch  510/1000 Cost: 0.036582 Accuracy 100.00%\n",
            "Epoch  520/1000 Cost: 0.035958 Accuracy 100.00%\n",
            "Epoch  530/1000 Cost: 0.035356 Accuracy 100.00%\n",
            "Epoch  540/1000 Cost: 0.034773 Accuracy 100.00%\n",
            "Epoch  550/1000 Cost: 0.034210 Accuracy 100.00%\n",
            "Epoch  560/1000 Cost: 0.033664 Accuracy 100.00%\n",
            "Epoch  570/1000 Cost: 0.033137 Accuracy 100.00%\n",
            "Epoch  580/1000 Cost: 0.032625 Accuracy 100.00%\n",
            "Epoch  590/1000 Cost: 0.032130 Accuracy 100.00%\n",
            "Epoch  600/1000 Cost: 0.031649 Accuracy 100.00%\n",
            "Epoch  610/1000 Cost: 0.031183 Accuracy 100.00%\n",
            "Epoch  620/1000 Cost: 0.030730 Accuracy 100.00%\n",
            "Epoch  630/1000 Cost: 0.030291 Accuracy 100.00%\n",
            "Epoch  640/1000 Cost: 0.029864 Accuracy 100.00%\n",
            "Epoch  650/1000 Cost: 0.029449 Accuracy 100.00%\n",
            "Epoch  660/1000 Cost: 0.029046 Accuracy 100.00%\n",
            "Epoch  670/1000 Cost: 0.028654 Accuracy 100.00%\n",
            "Epoch  680/1000 Cost: 0.028272 Accuracy 100.00%\n",
            "Epoch  690/1000 Cost: 0.027900 Accuracy 100.00%\n",
            "Epoch  700/1000 Cost: 0.027538 Accuracy 100.00%\n",
            "Epoch  710/1000 Cost: 0.027186 Accuracy 100.00%\n",
            "Epoch  720/1000 Cost: 0.026842 Accuracy 100.00%\n",
            "Epoch  730/1000 Cost: 0.026507 Accuracy 100.00%\n",
            "Epoch  740/1000 Cost: 0.026181 Accuracy 100.00%\n",
            "Epoch  750/1000 Cost: 0.025862 Accuracy 100.00%\n",
            "Epoch  760/1000 Cost: 0.025552 Accuracy 100.00%\n",
            "Epoch  770/1000 Cost: 0.025248 Accuracy 100.00%\n",
            "Epoch  780/1000 Cost: 0.024952 Accuracy 100.00%\n",
            "Epoch  790/1000 Cost: 0.024663 Accuracy 100.00%\n",
            "Epoch  800/1000 Cost: 0.024381 Accuracy 100.00%\n",
            "Epoch  810/1000 Cost: 0.024104 Accuracy 100.00%\n",
            "Epoch  820/1000 Cost: 0.023835 Accuracy 100.00%\n",
            "Epoch  830/1000 Cost: 0.023571 Accuracy 100.00%\n",
            "Epoch  840/1000 Cost: 0.023313 Accuracy 100.00%\n",
            "Epoch  850/1000 Cost: 0.023061 Accuracy 100.00%\n",
            "Epoch  860/1000 Cost: 0.022814 Accuracy 100.00%\n",
            "Epoch  870/1000 Cost: 0.022572 Accuracy 100.00%\n",
            "Epoch  880/1000 Cost: 0.022336 Accuracy 100.00%\n",
            "Epoch  890/1000 Cost: 0.022104 Accuracy 100.00%\n",
            "Epoch  900/1000 Cost: 0.021877 Accuracy 100.00%\n",
            "Epoch  910/1000 Cost: 0.021655 Accuracy 100.00%\n",
            "Epoch  920/1000 Cost: 0.021437 Accuracy 100.00%\n",
            "Epoch  930/1000 Cost: 0.021224 Accuracy 100.00%\n",
            "Epoch  940/1000 Cost: 0.021015 Accuracy 100.00%\n",
            "Epoch  950/1000 Cost: 0.020810 Accuracy 100.00%\n",
            "Epoch  960/1000 Cost: 0.020609 Accuracy 100.00%\n",
            "Epoch  970/1000 Cost: 0.020412 Accuracy 100.00%\n",
            "Epoch  980/1000 Cost: 0.020219 Accuracy 100.00%\n",
            "Epoch  990/1000 Cost: 0.020029 Accuracy 100.00%\n",
            "Epoch 1000/1000 Cost: 0.019843 Accuracy 100.00%\n"
          ]
        }
      ]
    },
    {
      "cell_type": "code",
      "source": [
        "model(x_train)"
      ],
      "metadata": {
        "colab": {
          "base_uri": "https://localhost:8080/"
        },
        "id": "VciqyS5qSOMT",
        "outputId": "d2ce85d5-dd4f-4976-8316-977594689360"
      },
      "execution_count": 39,
      "outputs": [
        {
          "output_type": "execute_result",
          "data": {
            "text/plain": [
              "tensor([[2.7616e-04],\n",
              "        [3.1595e-02],\n",
              "        [3.8959e-02],\n",
              "        [9.5624e-01],\n",
              "        [9.9823e-01],\n",
              "        [9.9969e-01]], grad_fn=<SigmoidBackward0>)"
            ]
          },
          "metadata": {},
          "execution_count": 39
        }
      ]
    },
    {
      "cell_type": "code",
      "source": [
        "#훈련 후의 W와 b의 값\n",
        "print(list(model.parameters()))"
      ],
      "metadata": {
        "colab": {
          "base_uri": "https://localhost:8080/"
        },
        "id": "pDJvOfHUSW16",
        "outputId": "3a7c002d-0582-4838-8cd9-69c39e22f1a2"
      },
      "execution_count": 41,
      "outputs": [
        {
          "output_type": "stream",
          "name": "stdout",
          "text": [
            "[Parameter containing:\n",
            "tensor([[3.2534, 1.5181]], requires_grad=True), Parameter containing:\n",
            "tensor([-14.4839], requires_grad=True)]\n"
          ]
        }
      ]
    },
    {
      "cell_type": "markdown",
      "source": [
        "###2. 인공 신경망으로 표현되는 로지스틱 회귀."
      ],
      "metadata": {
        "id": "JIoTNRr8SfQG"
      }
    },
    {
      "cell_type": "markdown",
      "source": [
        "![image.png](data:image/png;base64,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)"
      ],
      "metadata": {
        "id": "dvTjl4f4SoQx"
      }
    },
    {
      "cell_type": "markdown",
      "source": [
        "###3. 모델을 클래스로 구현하기"
      ],
      "metadata": {
        "id": "CEULvgazSit9"
      }
    },
    {
      "cell_type": "code",
      "source": [
        "model = nn.Sequential(\n",
        "   nn.Linear(2, 1), # input_dim = 2, output_dim = 1\n",
        "   nn.Sigmoid() # 출력은 시그모이드 함수를 거친다\n",
        ")"
      ],
      "metadata": {
        "id": "dAmyB5EMSgEi"
      },
      "execution_count": 42,
      "outputs": []
    },
    {
      "cell_type": "code",
      "source": [
        "class BinaryClassifier(nn.Module):\n",
        "    def __init__(self):\n",
        "        super().__init__()\n",
        "        self.linear = nn.Linear(2, 1)\n",
        "        self.sigmoid = nn.Sigmoid()\n",
        "\n",
        "    def forward(self, x):\n",
        "        return self.sigmoid(self.linear(x))"
      ],
      "metadata": {
        "id": "FJOcQhQrStLj"
      },
      "execution_count": 43,
      "outputs": []
    },
    {
      "cell_type": "markdown",
      "source": [
        "###4. 로지스틱 회귀 클래스로 구현하기"
      ],
      "metadata": {
        "id": "VNdBUW8rSyGE"
      }
    },
    {
      "cell_type": "code",
      "source": [
        "import torch\n",
        "import torch.nn as nn\n",
        "import torch.nn.functional as F\n",
        "import torch.optim as optim\n",
        "\n",
        "torch.manual_seed(1)"
      ],
      "metadata": {
        "colab": {
          "base_uri": "https://localhost:8080/"
        },
        "id": "indxdvC3Svw3",
        "outputId": "21252b22-adca-4e47-cafc-32d7b12a9436"
      },
      "execution_count": 44,
      "outputs": [
        {
          "output_type": "execute_result",
          "data": {
            "text/plain": [
              "<torch._C.Generator at 0x7983fb6c1090>"
            ]
          },
          "metadata": {},
          "execution_count": 44
        }
      ]
    },
    {
      "cell_type": "code",
      "source": [
        "x_data = [[1, 2], [2, 3], [3, 1], [4, 3], [5, 3], [6, 2]]\n",
        "y_data = [[0], [0], [0], [1], [1], [1]]\n",
        "x_train = torch.FloatTensor(x_data)\n",
        "y_train = torch.FloatTensor(y_data)"
      ],
      "metadata": {
        "id": "p9l2EpX_S2Qr"
      },
      "execution_count": 46,
      "outputs": []
    },
    {
      "cell_type": "code",
      "source": [
        "class BinaryClassifier(nn.Module):\n",
        "    def __init__(self):\n",
        "        super().__init__()\n",
        "        self.linear = nn.Linear(2, 1)\n",
        "        self.sigmoid = nn.Sigmoid()\n",
        "\n",
        "    def forward(self, x):\n",
        "        return self.sigmoid(self.linear(x))\n",
        "\n",
        "model = BinaryClassifier()"
      ],
      "metadata": {
        "id": "lydiFbr7S4Cw"
      },
      "execution_count": 47,
      "outputs": []
    },
    {
      "cell_type": "code",
      "source": [
        "# optimizer 설정\n",
        "optimizer = optim.SGD(model.parameters(), lr=1)\n",
        "\n",
        "nb_epochs = 1000\n",
        "for epoch in range(nb_epochs + 1):\n",
        "\n",
        "    # H(x) 계산\n",
        "    hypothesis = model(x_train)\n",
        "\n",
        "    # cost 계산\n",
        "    cost = F.binary_cross_entropy(hypothesis, y_train)\n",
        "\n",
        "    # cost로 H(x) 개선\n",
        "    optimizer.zero_grad()\n",
        "    cost.backward()\n",
        "    optimizer.step()\n",
        "\n",
        "    # 20번마다 로그 출력\n",
        "    if epoch % 10 == 0:\n",
        "        prediction = hypothesis >= torch.FloatTensor([0.5]) # 예측값이 0.5를 넘으면 True로 간주\n",
        "        correct_prediction = prediction.float() == y_train # 실제값과 일치하는 경우만 True로 간주\n",
        "        accuracy = correct_prediction.sum().item() / len(correct_prediction) # 정확도를 계산\n",
        "        print('Epoch {:4d}/{} Cost: {:.6f} Accuracy {:2.2f}%'.format( # 각 에포크마다 정확도를 출력\n",
        "            epoch, nb_epochs, cost.item(), accuracy * 100,\n",
        "        ))"
      ],
      "metadata": {
        "colab": {
          "base_uri": "https://localhost:8080/"
        },
        "id": "UY1WIyNIS9ml",
        "outputId": "0d45bfb9-cfc3-43d1-c0e9-6e57c5da4c4a"
      },
      "execution_count": 48,
      "outputs": [
        {
          "output_type": "stream",
          "name": "stdout",
          "text": [
            "Epoch    0/1000 Cost: 0.539713 Accuracy 83.33%\n",
            "Epoch   10/1000 Cost: 0.614853 Accuracy 66.67%\n",
            "Epoch   20/1000 Cost: 0.441875 Accuracy 66.67%\n",
            "Epoch   30/1000 Cost: 0.373145 Accuracy 83.33%\n",
            "Epoch   40/1000 Cost: 0.316358 Accuracy 83.33%\n",
            "Epoch   50/1000 Cost: 0.266094 Accuracy 83.33%\n",
            "Epoch   60/1000 Cost: 0.220498 Accuracy 100.00%\n",
            "Epoch   70/1000 Cost: 0.182095 Accuracy 100.00%\n",
            "Epoch   80/1000 Cost: 0.157299 Accuracy 100.00%\n",
            "Epoch   90/1000 Cost: 0.144091 Accuracy 100.00%\n",
            "Epoch  100/1000 Cost: 0.134272 Accuracy 100.00%\n",
            "Epoch  110/1000 Cost: 0.125769 Accuracy 100.00%\n",
            "Epoch  120/1000 Cost: 0.118297 Accuracy 100.00%\n",
            "Epoch  130/1000 Cost: 0.111680 Accuracy 100.00%\n",
            "Epoch  140/1000 Cost: 0.105779 Accuracy 100.00%\n",
            "Epoch  150/1000 Cost: 0.100483 Accuracy 100.00%\n",
            "Epoch  160/1000 Cost: 0.095704 Accuracy 100.00%\n",
            "Epoch  170/1000 Cost: 0.091369 Accuracy 100.00%\n",
            "Epoch  180/1000 Cost: 0.087420 Accuracy 100.00%\n",
            "Epoch  190/1000 Cost: 0.083806 Accuracy 100.00%\n",
            "Epoch  200/1000 Cost: 0.080486 Accuracy 100.00%\n",
            "Epoch  210/1000 Cost: 0.077425 Accuracy 100.00%\n",
            "Epoch  220/1000 Cost: 0.074595 Accuracy 100.00%\n",
            "Epoch  230/1000 Cost: 0.071969 Accuracy 100.00%\n",
            "Epoch  240/1000 Cost: 0.069526 Accuracy 100.00%\n",
            "Epoch  250/1000 Cost: 0.067248 Accuracy 100.00%\n",
            "Epoch  260/1000 Cost: 0.065118 Accuracy 100.00%\n",
            "Epoch  270/1000 Cost: 0.063122 Accuracy 100.00%\n",
            "Epoch  280/1000 Cost: 0.061247 Accuracy 100.00%\n",
            "Epoch  290/1000 Cost: 0.059483 Accuracy 100.00%\n",
            "Epoch  300/1000 Cost: 0.057820 Accuracy 100.00%\n",
            "Epoch  310/1000 Cost: 0.056250 Accuracy 100.00%\n",
            "Epoch  320/1000 Cost: 0.054764 Accuracy 100.00%\n",
            "Epoch  330/1000 Cost: 0.053357 Accuracy 100.00%\n",
            "Epoch  340/1000 Cost: 0.052022 Accuracy 100.00%\n",
            "Epoch  350/1000 Cost: 0.050753 Accuracy 100.00%\n",
            "Epoch  360/1000 Cost: 0.049546 Accuracy 100.00%\n",
            "Epoch  370/1000 Cost: 0.048396 Accuracy 100.00%\n",
            "Epoch  380/1000 Cost: 0.047299 Accuracy 100.00%\n",
            "Epoch  390/1000 Cost: 0.046252 Accuracy 100.00%\n",
            "Epoch  400/1000 Cost: 0.045251 Accuracy 100.00%\n",
            "Epoch  410/1000 Cost: 0.044294 Accuracy 100.00%\n",
            "Epoch  420/1000 Cost: 0.043376 Accuracy 100.00%\n",
            "Epoch  430/1000 Cost: 0.042497 Accuracy 100.00%\n",
            "Epoch  440/1000 Cost: 0.041653 Accuracy 100.00%\n",
            "Epoch  450/1000 Cost: 0.040843 Accuracy 100.00%\n",
            "Epoch  460/1000 Cost: 0.040064 Accuracy 100.00%\n",
            "Epoch  470/1000 Cost: 0.039315 Accuracy 100.00%\n",
            "Epoch  480/1000 Cost: 0.038593 Accuracy 100.00%\n",
            "Epoch  490/1000 Cost: 0.037898 Accuracy 100.00%\n",
            "Epoch  500/1000 Cost: 0.037228 Accuracy 100.00%\n",
            "Epoch  510/1000 Cost: 0.036582 Accuracy 100.00%\n",
            "Epoch  520/1000 Cost: 0.035958 Accuracy 100.00%\n",
            "Epoch  530/1000 Cost: 0.035356 Accuracy 100.00%\n",
            "Epoch  540/1000 Cost: 0.034773 Accuracy 100.00%\n",
            "Epoch  550/1000 Cost: 0.034210 Accuracy 100.00%\n",
            "Epoch  560/1000 Cost: 0.033664 Accuracy 100.00%\n",
            "Epoch  570/1000 Cost: 0.033137 Accuracy 100.00%\n",
            "Epoch  580/1000 Cost: 0.032625 Accuracy 100.00%\n",
            "Epoch  590/1000 Cost: 0.032130 Accuracy 100.00%\n",
            "Epoch  600/1000 Cost: 0.031649 Accuracy 100.00%\n",
            "Epoch  610/1000 Cost: 0.031183 Accuracy 100.00%\n",
            "Epoch  620/1000 Cost: 0.030730 Accuracy 100.00%\n",
            "Epoch  630/1000 Cost: 0.030291 Accuracy 100.00%\n",
            "Epoch  640/1000 Cost: 0.029864 Accuracy 100.00%\n",
            "Epoch  650/1000 Cost: 0.029449 Accuracy 100.00%\n",
            "Epoch  660/1000 Cost: 0.029046 Accuracy 100.00%\n",
            "Epoch  670/1000 Cost: 0.028654 Accuracy 100.00%\n",
            "Epoch  680/1000 Cost: 0.028272 Accuracy 100.00%\n",
            "Epoch  690/1000 Cost: 0.027900 Accuracy 100.00%\n",
            "Epoch  700/1000 Cost: 0.027538 Accuracy 100.00%\n",
            "Epoch  710/1000 Cost: 0.027186 Accuracy 100.00%\n",
            "Epoch  720/1000 Cost: 0.026842 Accuracy 100.00%\n",
            "Epoch  730/1000 Cost: 0.026507 Accuracy 100.00%\n",
            "Epoch  740/1000 Cost: 0.026181 Accuracy 100.00%\n",
            "Epoch  750/1000 Cost: 0.025862 Accuracy 100.00%\n",
            "Epoch  760/1000 Cost: 0.025552 Accuracy 100.00%\n",
            "Epoch  770/1000 Cost: 0.025248 Accuracy 100.00%\n",
            "Epoch  780/1000 Cost: 0.024952 Accuracy 100.00%\n",
            "Epoch  790/1000 Cost: 0.024663 Accuracy 100.00%\n",
            "Epoch  800/1000 Cost: 0.024381 Accuracy 100.00%\n",
            "Epoch  810/1000 Cost: 0.024104 Accuracy 100.00%\n",
            "Epoch  820/1000 Cost: 0.023835 Accuracy 100.00%\n",
            "Epoch  830/1000 Cost: 0.023571 Accuracy 100.00%\n",
            "Epoch  840/1000 Cost: 0.023313 Accuracy 100.00%\n",
            "Epoch  850/1000 Cost: 0.023061 Accuracy 100.00%\n",
            "Epoch  860/1000 Cost: 0.022814 Accuracy 100.00%\n",
            "Epoch  870/1000 Cost: 0.022572 Accuracy 100.00%\n",
            "Epoch  880/1000 Cost: 0.022336 Accuracy 100.00%\n",
            "Epoch  890/1000 Cost: 0.022104 Accuracy 100.00%\n",
            "Epoch  900/1000 Cost: 0.021877 Accuracy 100.00%\n",
            "Epoch  910/1000 Cost: 0.021655 Accuracy 100.00%\n",
            "Epoch  920/1000 Cost: 0.021437 Accuracy 100.00%\n",
            "Epoch  930/1000 Cost: 0.021224 Accuracy 100.00%\n",
            "Epoch  940/1000 Cost: 0.021015 Accuracy 100.00%\n",
            "Epoch  950/1000 Cost: 0.020810 Accuracy 100.00%\n",
            "Epoch  960/1000 Cost: 0.020609 Accuracy 100.00%\n",
            "Epoch  970/1000 Cost: 0.020412 Accuracy 100.00%\n",
            "Epoch  980/1000 Cost: 0.020219 Accuracy 100.00%\n",
            "Epoch  990/1000 Cost: 0.020029 Accuracy 100.00%\n",
            "Epoch 1000/1000 Cost: 0.019843 Accuracy 100.00%\n"
          ]
        }
      ]
    }
  ]
}