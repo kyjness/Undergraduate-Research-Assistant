{
  "nbformat": 4,
  "nbformat_minor": 0,
  "metadata": {
    "colab": {
      "provenance": [],
      "mount_file_id": "1BE0U0BU2huW73XsfXg5i7v8FaEF6sQ-B",
      "authorship_tag": "ABX9TyPt2rTiWvHhb/4XpNmqq7jp",
      "include_colab_link": true
    },
    "kernelspec": {
      "name": "python3",
      "display_name": "Python 3"
    },
    "language_info": {
      "name": "python"
    }
  },
  "cells": [
    {
      "cell_type": "markdown",
      "metadata": {
        "id": "view-in-github",
        "colab_type": "text"
      },
      "source": [
        "<a href=\"https://colab.research.google.com/github/kyjness/Undergraduate-Research-Assistant/blob/main/%ED%95%99%EB%B6%80%EC%97%B0%EA%B5%AC%EC%83%9D_1%EC%A3%BC%EC%B0%A8.ipynb\" target=\"_parent\"><img src=\"https://colab.research.google.com/assets/colab-badge.svg\" alt=\"Open In Colab\"/></a>"
      ]
    },
    {
      "cell_type": "markdown",
      "source": [
        "#**Python**"
      ],
      "metadata": {
        "id": "2I-fr2EKqY3k"
      }
    },
    {
      "cell_type": "markdown",
      "source": [
        "##7.객체지향"
      ],
      "metadata": {
        "id": "8pxp6xe3PwAg"
      }
    },
    {
      "cell_type": "markdown",
      "source": [
        "###7,1 클래스(class)와 인스턴스"
      ],
      "metadata": {
        "id": "NtRjaQnjP1Hg"
      }
    },
    {
      "cell_type": "code",
      "source": [
        "class Singer:\n",
        "  def sing(self):\n",
        "    return 'Lalala~'\n",
        "\n",
        "taeji = Singer()\n",
        "taeji.sing()"
      ],
      "metadata": {
        "colab": {
          "base_uri": "https://localhost:8080/",
          "height": 35
        },
        "id": "kQEYQfE1diO4",
        "outputId": "4df1db0a-0f1e-4e0d-9bba-dd43073c607d"
      },
      "execution_count": null,
      "outputs": [
        {
          "output_type": "execute_result",
          "data": {
            "text/plain": [
              "'Lalala~'"
            ],
            "application/vnd.google.colaboratory.intrinsic+json": {
              "type": "string"
            }
          },
          "metadata": {},
          "execution_count": 7
        }
      ]
    },
    {
      "cell_type": "code",
      "source": [
        "ricky = Singer()\n",
        "ricky.sing()"
      ],
      "metadata": {
        "colab": {
          "base_uri": "https://localhost:8080/",
          "height": 35
        },
        "id": "TKkDrHJIdqvA",
        "outputId": "8d721d65-fd1e-4313-f436-29f72a55b52c"
      },
      "execution_count": null,
      "outputs": [
        {
          "output_type": "execute_result",
          "data": {
            "text/plain": [
              "'Lalala~'"
            ],
            "application/vnd.google.colaboratory.intrinsic+json": {
              "type": "string"
            }
          },
          "metadata": {},
          "execution_count": 8
        }
      ]
    },
    {
      "cell_type": "markdown",
      "source": [
        "###7.2 변수와 메서드"
      ],
      "metadata": {
        "id": "Vm9rViIPehkJ"
      }
    },
    {
      "cell_type": "code",
      "source": [
        "class Amazon:\n",
        "  strength = 20\n",
        "  dexterity = 25\n",
        "  vitality = 20\n",
        "  energy = 15\n",
        "\n",
        "  def attack(self):\n",
        "    return 'Jab!!!'"
      ],
      "metadata": {
        "id": "PyjC9_jTefAf"
      },
      "execution_count": null,
      "outputs": []
    },
    {
      "cell_type": "code",
      "source": [
        "#두 명의 여전사 탄생\n",
        "import diablo2\n",
        "jane = diablo2.Amazon()\n",
        "mary = diablo2.Amazon()"
      ],
      "metadata": {
        "colab": {
          "base_uri": "https://localhost:8080/",
          "height": 367
        },
        "id": "kjzYPAWRewf_",
        "outputId": "54093ddd-0b06-4f17-8642-dff7c5018d1b"
      },
      "execution_count": null,
      "outputs": [
        {
          "output_type": "error",
          "ename": "ModuleNotFoundError",
          "evalue": "No module named 'diablo2'",
          "traceback": [
            "\u001b[0;31m---------------------------------------------------------------------------\u001b[0m",
            "\u001b[0;31mModuleNotFoundError\u001b[0m                       Traceback (most recent call last)",
            "\u001b[0;32m<ipython-input-13-449b81fb4128>\u001b[0m in \u001b[0;36m<cell line: 2>\u001b[0;34m()\u001b[0m\n\u001b[1;32m      1\u001b[0m \u001b[0;31m#두 명의 여전사 탄생\u001b[0m\u001b[0;34m\u001b[0m\u001b[0;34m\u001b[0m\u001b[0m\n\u001b[0;32m----> 2\u001b[0;31m \u001b[0;32mimport\u001b[0m \u001b[0mdiablo2\u001b[0m\u001b[0;34m\u001b[0m\u001b[0;34m\u001b[0m\u001b[0m\n\u001b[0m\u001b[1;32m      3\u001b[0m \u001b[0mjane\u001b[0m \u001b[0;34m=\u001b[0m \u001b[0mdiablo2\u001b[0m\u001b[0;34m.\u001b[0m\u001b[0mAmazon\u001b[0m\u001b[0;34m(\u001b[0m\u001b[0;34m)\u001b[0m\u001b[0;34m\u001b[0m\u001b[0;34m\u001b[0m\u001b[0m\n\u001b[1;32m      4\u001b[0m \u001b[0mmary\u001b[0m \u001b[0;34m=\u001b[0m \u001b[0mdiablo2\u001b[0m\u001b[0;34m.\u001b[0m\u001b[0mAmazon\u001b[0m\u001b[0;34m(\u001b[0m\u001b[0;34m)\u001b[0m\u001b[0;34m\u001b[0m\u001b[0;34m\u001b[0m\u001b[0m\n",
            "\u001b[0;31mModuleNotFoundError\u001b[0m: No module named 'diablo2'",
            "",
            "\u001b[0;31m---------------------------------------------------------------------------\u001b[0;32m\nNOTE: If your import is failing due to a missing package, you can\nmanually install dependencies using either !pip or !apt.\n\nTo view examples of installing some common dependencies, click the\n\"Open Examples\" button below.\n\u001b[0;31m---------------------------------------------------------------------------\u001b[0m\n"
          ],
          "errorDetails": {
            "actions": [
              {
                "action": "open_url",
                "actionText": "Open Examples",
                "url": "/notebooks/snippets/importing_libraries.ipynb"
              }
            ]
          }
        }
      ]
    },
    {
      "cell_type": "markdown",
      "source": [
        "###7.3 상속"
      ],
      "metadata": {
        "id": "rSW3Q8kEf4Ny"
      }
    },
    {
      "cell_type": "code",
      "source": [
        "class Person:\n",
        "  eyes = 2\n",
        "  nose = 1\n",
        "  mouth = 1\n",
        "  ears = 2\n",
        "  arms = 2\n",
        "  legs = 2\n",
        "\n",
        "  def eat(self):\n",
        "    print('암냠...')\n",
        "  def sleep(self):\n",
        "    print('쿨쿨...')\n",
        "  def talk(self):\n",
        "    print('주절주절...')"
      ],
      "metadata": {
        "id": "usyvkTAifBg3"
      },
      "execution_count": null,
      "outputs": []
    },
    {
      "cell_type": "code",
      "source": [
        "#Person 클래스를 상속받음\n",
        "class Student(Person):\n",
        "  def study(self):\n",
        "    print('열공열공...')"
      ],
      "metadata": {
        "id": "Dj3MPCiDgMss"
      },
      "execution_count": null,
      "outputs": []
    },
    {
      "cell_type": "code",
      "source": [
        "lee = Person()\n",
        "lee.mouth"
      ],
      "metadata": {
        "colab": {
          "base_uri": "https://localhost:8080/"
        },
        "id": "F2pynRYPgU62",
        "outputId": "a471a833-d322-4ac2-f7e1-b472de428b84"
      },
      "execution_count": null,
      "outputs": [
        {
          "output_type": "execute_result",
          "data": {
            "text/plain": [
              "1"
            ]
          },
          "metadata": {},
          "execution_count": 17
        }
      ]
    },
    {
      "cell_type": "code",
      "source": [
        "lee.talk()"
      ],
      "metadata": {
        "colab": {
          "base_uri": "https://localhost:8080/"
        },
        "id": "toxZE_Ptgaxx",
        "outputId": "aad840ea-9708-4583-ad3d-4c391ac12b36"
      },
      "execution_count": null,
      "outputs": [
        {
          "output_type": "stream",
          "name": "stdout",
          "text": [
            "주절주절...\n"
          ]
        }
      ]
    },
    {
      "cell_type": "code",
      "source": [
        "kim = Student()\n",
        "kim.mouth"
      ],
      "metadata": {
        "colab": {
          "base_uri": "https://localhost:8080/"
        },
        "id": "zJ9-gdowgdSV",
        "outputId": "9eb76ee4-3f12-4ce2-dd65-b35eeeb77685"
      },
      "execution_count": null,
      "outputs": [
        {
          "output_type": "execute_result",
          "data": {
            "text/plain": [
              "1"
            ]
          },
          "metadata": {},
          "execution_count": 19
        }
      ]
    },
    {
      "cell_type": "code",
      "source": [
        "kim.talk()"
      ],
      "metadata": {
        "colab": {
          "base_uri": "https://localhost:8080/"
        },
        "id": "xl3WpawRghwU",
        "outputId": "922e62ac-0286-4383-b13a-47f166bbfa90"
      },
      "execution_count": null,
      "outputs": [
        {
          "output_type": "stream",
          "name": "stdout",
          "text": [
            "주절주절...\n"
          ]
        }
      ]
    },
    {
      "cell_type": "code",
      "source": [
        "kim.study()"
      ],
      "metadata": {
        "colab": {
          "base_uri": "https://localhost:8080/"
        },
        "id": "S6PRNE4Tgi7Q",
        "outputId": "ad32876a-5c4e-4e5a-acd4-d1c20ddfd8b4"
      },
      "execution_count": null,
      "outputs": [
        {
          "output_type": "stream",
          "name": "stdout",
          "text": [
            "열공열공...\n"
          ]
        }
      ]
    },
    {
      "cell_type": "markdown",
      "source": [
        "###7.4 객체 속의 객체"
      ],
      "metadata": {
        "id": "j_FcW-NZgqEg"
      }
    },
    {
      "cell_type": "code",
      "source": [
        "%%writefile fridge.py\n",
        "class Fridge:\n",
        "  def __init__(self):\n",
        "    self.isOpened = False\n",
        "    self.foods = []\n",
        "\n",
        "  def open(self):\n",
        "    self.isOpened = True\n",
        "    print('냉장고 문을 열었어요....')\n",
        "\n",
        "  def put(self, thing):\n",
        "    if self.isOpened:\n",
        "      self.foods.append(thing)\n",
        "      print('냉장고 속에 음식이 들어갔네...')\n",
        "    else:\n",
        "      print('냉장고 문이 닫혀있어서 못넣겠어요....')\n",
        "\n",
        "    def close(self):\n",
        "      self.isOpened = False\n",
        "      print('냉장고 문을 닫았어요....')\n",
        "\n",
        "class Food:\n",
        "  pass"
      ],
      "metadata": {
        "colab": {
          "base_uri": "https://localhost:8080/"
        },
        "id": "3rjQuOLTgn4n",
        "outputId": "a6f4b420-16f1-4fe5-8df9-b5bad3187432"
      },
      "execution_count": null,
      "outputs": [
        {
          "output_type": "stream",
          "name": "stdout",
          "text": [
            "Overwriting fridge.py\n"
          ]
        }
      ]
    },
    {
      "cell_type": "code",
      "source": [
        "import fridge\n",
        "f = fridge.Fridge()\n",
        "apple = fridge.Food()\n",
        "elephant = fridge.Food()"
      ],
      "metadata": {
        "id": "SjtdRmRXhaYW"
      },
      "execution_count": null,
      "outputs": []
    },
    {
      "cell_type": "code",
      "source": [
        "f.open()"
      ],
      "metadata": {
        "colab": {
          "base_uri": "https://localhost:8080/"
        },
        "id": "ns5WET_Ghsb-",
        "outputId": "cedf56a2-acfb-4107-f373-80f4ef57a096"
      },
      "execution_count": null,
      "outputs": [
        {
          "output_type": "stream",
          "name": "stdout",
          "text": [
            "냉장고 문을 열었어요....\n"
          ]
        }
      ]
    },
    {
      "cell_type": "code",
      "source": [
        "f.put(apple)"
      ],
      "metadata": {
        "colab": {
          "base_uri": "https://localhost:8080/",
          "height": 263
        },
        "id": "t6FgzH41jRUw",
        "outputId": "9c574725-44fd-4c51-9470-7f6a52d7794a"
      },
      "execution_count": null,
      "outputs": [
        {
          "output_type": "error",
          "ename": "AttributeError",
          "evalue": "'Fridge' object has no attribute 'foods'",
          "traceback": [
            "\u001b[0;31m---------------------------------------------------------------------------\u001b[0m",
            "\u001b[0;31mAttributeError\u001b[0m                            Traceback (most recent call last)",
            "\u001b[0;32m<ipython-input-39-c63eebc0a66a>\u001b[0m in \u001b[0;36m<cell line: 1>\u001b[0;34m()\u001b[0m\n\u001b[0;32m----> 1\u001b[0;31m \u001b[0mf\u001b[0m\u001b[0;34m.\u001b[0m\u001b[0mput\u001b[0m\u001b[0;34m(\u001b[0m\u001b[0mapple\u001b[0m\u001b[0;34m)\u001b[0m\u001b[0;34m\u001b[0m\u001b[0;34m\u001b[0m\u001b[0m\n\u001b[0m",
            "\u001b[0;32m/content/fridge.py\u001b[0m in \u001b[0;36mput\u001b[0;34m(self, thing)\u001b[0m\n\u001b[1;32m     10\u001b[0m   \u001b[0;32mdef\u001b[0m \u001b[0mput\u001b[0m\u001b[0;34m(\u001b[0m\u001b[0mself\u001b[0m\u001b[0;34m,\u001b[0m \u001b[0mthing\u001b[0m\u001b[0;34m)\u001b[0m\u001b[0;34m:\u001b[0m\u001b[0;34m\u001b[0m\u001b[0;34m\u001b[0m\u001b[0m\n\u001b[1;32m     11\u001b[0m     \u001b[0;32mif\u001b[0m \u001b[0mself\u001b[0m\u001b[0;34m.\u001b[0m\u001b[0misOpened\u001b[0m\u001b[0;34m:\u001b[0m\u001b[0;34m\u001b[0m\u001b[0;34m\u001b[0m\u001b[0m\n\u001b[0;32m---> 12\u001b[0;31m       \u001b[0mself\u001b[0m\u001b[0;34m.\u001b[0m\u001b[0mfoods\u001b[0m\u001b[0;34m.\u001b[0m\u001b[0mappend\u001b[0m\u001b[0;34m(\u001b[0m\u001b[0mthing\u001b[0m\u001b[0;34m)\u001b[0m\u001b[0;34m\u001b[0m\u001b[0;34m\u001b[0m\u001b[0m\n\u001b[0m\u001b[1;32m     13\u001b[0m       \u001b[0mprint\u001b[0m\u001b[0;34m(\u001b[0m\u001b[0;34m'냉장고 속에 음식이 들어갔네...'\u001b[0m\u001b[0;34m)\u001b[0m\u001b[0;34m\u001b[0m\u001b[0;34m\u001b[0m\u001b[0m\n\u001b[1;32m     14\u001b[0m     \u001b[0;32melse\u001b[0m\u001b[0;34m:\u001b[0m\u001b[0;34m\u001b[0m\u001b[0;34m\u001b[0m\u001b[0m\n",
            "\u001b[0;31mAttributeError\u001b[0m: 'Fridge' object has no attribute 'foods'"
          ]
        }
      ]
    },
    {
      "cell_type": "markdown",
      "source": [
        "###7.5 특별한 메서드들"
      ],
      "metadata": {
        "id": "CvgAAjw0k8Ii"
      }
    },
    {
      "cell_type": "code",
      "source": [
        "%%writefile bookstore.py\n",
        "class Book:\n",
        "\n",
        "  def setData(self, title, price, author):\n",
        "    self.title = title\n",
        "    self.price = price\n",
        "    self.author = author\n",
        "\n",
        "  def printData(self):\n",
        "    print('제목 : ', self.title)\n",
        "    print('가격 : ', self.price)\n",
        "    print('저자 : ', self.author)\n",
        "\n",
        "  def __init__(self):\n",
        "    print('책 객체를 새로 만들었어요~')\n"
      ],
      "metadata": {
        "colab": {
          "base_uri": "https://localhost:8080/"
        },
        "id": "wY-1ggHrjSiy",
        "outputId": "992e8a8f-bf9e-4f77-c2e7-b272d11ec500"
      },
      "execution_count": null,
      "outputs": [
        {
          "output_type": "stream",
          "name": "stdout",
          "text": [
            "Overwriting bookstore.py\n"
          ]
        }
      ]
    },
    {
      "cell_type": "code",
      "source": [
        "import bookstore\n",
        "b = bookstore.Book()"
      ],
      "metadata": {
        "colab": {
          "base_uri": "https://localhost:8080/"
        },
        "id": "wk2Ja6kYldGM",
        "outputId": "0fb7f792-730f-43a2-b35e-97de3015a746"
      },
      "execution_count": null,
      "outputs": [
        {
          "output_type": "stream",
          "name": "stdout",
          "text": [
            "책 객체를 새로 만들었어요~\n"
          ]
        }
      ]
    },
    {
      "cell_type": "code",
      "source": [
        "b.setData('누가 내 치즈를 먹었을까', '300원', '미키')\n",
        "b.printData()"
      ],
      "metadata": {
        "colab": {
          "base_uri": "https://localhost:8080/",
          "height": 280
        },
        "id": "iOuuio08lhLz",
        "outputId": "5214624f-e0aa-42d8-dc5b-5d3e7ce67080"
      },
      "execution_count": null,
      "outputs": [
        {
          "output_type": "error",
          "ename": "TypeError",
          "evalue": "cannot set 'title' attribute of immutable type 'set'",
          "traceback": [
            "\u001b[0;31m---------------------------------------------------------------------------\u001b[0m",
            "\u001b[0;31mTypeError\u001b[0m                                 Traceback (most recent call last)",
            "\u001b[0;32m<ipython-input-55-a8d3ad9f2922>\u001b[0m in \u001b[0;36m<cell line: 1>\u001b[0;34m()\u001b[0m\n\u001b[0;32m----> 1\u001b[0;31m \u001b[0mb\u001b[0m\u001b[0;34m.\u001b[0m\u001b[0msetData\u001b[0m\u001b[0;34m(\u001b[0m\u001b[0;34m'누가 내 치즈를 먹었을까'\u001b[0m\u001b[0;34m,\u001b[0m \u001b[0;34m'300원'\u001b[0m\u001b[0;34m,\u001b[0m \u001b[0;34m'미키'\u001b[0m\u001b[0;34m)\u001b[0m\u001b[0;34m\u001b[0m\u001b[0;34m\u001b[0m\u001b[0m\n\u001b[0m\u001b[1;32m      2\u001b[0m \u001b[0mb\u001b[0m\u001b[0;34m.\u001b[0m\u001b[0mprintData\u001b[0m\u001b[0;34m(\u001b[0m\u001b[0;34m)\u001b[0m\u001b[0;34m\u001b[0m\u001b[0;34m\u001b[0m\u001b[0m\n",
            "\u001b[0;32m/content/bookstore.py\u001b[0m in \u001b[0;36msetData\u001b[0;34m(self, title, price, author)\u001b[0m\n\u001b[1;32m      2\u001b[0m \u001b[0;34m\u001b[0m\u001b[0m\n\u001b[1;32m      3\u001b[0m   \u001b[0;32mdef\u001b[0m \u001b[0msetData\u001b[0m\u001b[0;34m(\u001b[0m\u001b[0mself\u001b[0m\u001b[0;34m,\u001b[0m \u001b[0mtitle\u001b[0m\u001b[0;34m,\u001b[0m \u001b[0mprice\u001b[0m\u001b[0;34m,\u001b[0m \u001b[0mauthor\u001b[0m\u001b[0;34m)\u001b[0m\u001b[0;34m:\u001b[0m\u001b[0;34m\u001b[0m\u001b[0;34m\u001b[0m\u001b[0m\n\u001b[0;32m----> 4\u001b[0;31m     \u001b[0mself\u001b[0m\u001b[0;34m.\u001b[0m\u001b[0mtitle\u001b[0m \u001b[0;34m=\u001b[0m \u001b[0mtitle\u001b[0m\u001b[0;34m\u001b[0m\u001b[0;34m\u001b[0m\u001b[0m\n\u001b[0m\u001b[1;32m      5\u001b[0m     \u001b[0mself\u001b[0m\u001b[0;34m.\u001b[0m\u001b[0mprice\u001b[0m \u001b[0;34m=\u001b[0m \u001b[0mprice\u001b[0m\u001b[0;34m\u001b[0m\u001b[0;34m\u001b[0m\u001b[0m\n\u001b[1;32m      6\u001b[0m     \u001b[0mself\u001b[0m\u001b[0;34m.\u001b[0m\u001b[0mauthor\u001b[0m \u001b[0;34m=\u001b[0m \u001b[0mauthor\u001b[0m\u001b[0;34m\u001b[0m\u001b[0;34m\u001b[0m\u001b[0m\n",
            "\u001b[0;31mTypeError\u001b[0m: cannot set 'title' attribute of immutable type 'set'"
          ]
        }
      ]
    },
    {
      "cell_type": "markdown",
      "source": [
        "##8. 예외"
      ],
      "metadata": {
        "id": "Yh4szi_onfPn"
      }
    },
    {
      "cell_type": "markdown",
      "source": [
        "###8.1 예외처리(try, except)**굵은 텍스트**"
      ],
      "metadata": {
        "id": "-qRMM94Qnhyw"
      }
    },
    {
      "cell_type": "code",
      "source": [
        "print 방가~"
      ],
      "metadata": {
        "colab": {
          "base_uri": "https://localhost:8080/",
          "height": 106
        },
        "id": "qjH1Ewdgl2Tq",
        "outputId": "4ef70e76-9618-41e5-f638-9a35120feb44"
      },
      "execution_count": null,
      "outputs": [
        {
          "output_type": "error",
          "ename": "SyntaxError",
          "evalue": "Missing parentheses in call to 'print'. Did you mean print(...)? (<ipython-input-56-aabcc57e5290>, line 1)",
          "traceback": [
            "\u001b[0;36m  File \u001b[0;32m\"<ipython-input-56-aabcc57e5290>\"\u001b[0;36m, line \u001b[0;32m1\u001b[0m\n\u001b[0;31m    print 방가~\u001b[0m\n\u001b[0m    ^\u001b[0m\n\u001b[0;31mSyntaxError\u001b[0m\u001b[0;31m:\u001b[0m Missing parentheses in call to 'print'. Did you mean print(...)?\n"
          ]
        }
      ]
    },
    {
      "cell_type": "code",
      "source": [
        "def f(a,b):\n",
        "  if a and b: #a와 b가 둘 다 0이 아닐 때\n",
        "    return (a * b) + (a / b)\n",
        "  elif a: #그렇지 않고 a만 0이 아닐 때\n",
        "    return '불능'\n",
        "  else:  #a가 0일 때\n",
        "    return '부정'"
      ],
      "metadata": {
        "id": "K6mprdGbnmkc"
      },
      "execution_count": null,
      "outputs": []
    },
    {
      "cell_type": "code",
      "source": [
        "f(3,0)"
      ],
      "metadata": {
        "colab": {
          "base_uri": "https://localhost:8080/",
          "height": 35
        },
        "id": "_HOyneDZn1i_",
        "outputId": "eaed31da-8470-4a48-92a5-af3a1db4edca"
      },
      "execution_count": null,
      "outputs": [
        {
          "output_type": "execute_result",
          "data": {
            "text/plain": [
              "'불능'"
            ],
            "application/vnd.google.colaboratory.intrinsic+json": {
              "type": "string"
            }
          },
          "metadata": {},
          "execution_count": 58
        }
      ]
    },
    {
      "cell_type": "code",
      "source": [
        "f(0,0)"
      ],
      "metadata": {
        "colab": {
          "base_uri": "https://localhost:8080/",
          "height": 35
        },
        "id": "UNP7A4Gmn22c",
        "outputId": "ad3bfc9d-c87e-4e91-be48-83ff7fa61641"
      },
      "execution_count": null,
      "outputs": [
        {
          "output_type": "execute_result",
          "data": {
            "text/plain": [
              "'부정'"
            ],
            "application/vnd.google.colaboratory.intrinsic+json": {
              "type": "string"
            }
          },
          "metadata": {},
          "execution_count": 61
        }
      ]
    },
    {
      "cell_type": "code",
      "source": [
        "f(0,3)"
      ],
      "metadata": {
        "colab": {
          "base_uri": "https://localhost:8080/",
          "height": 35
        },
        "id": "6HpQiGjfoGkb",
        "outputId": "f98f4cc0-1f67-45aa-f38b-5c67362b3ca3"
      },
      "execution_count": null,
      "outputs": [
        {
          "output_type": "execute_result",
          "data": {
            "text/plain": [
              "'부정'"
            ],
            "application/vnd.google.colaboratory.intrinsic+json": {
              "type": "string"
            }
          },
          "metadata": {},
          "execution_count": 62
        }
      ]
    },
    {
      "cell_type": "code",
      "source": [
        "f(3000, 5000)"
      ],
      "metadata": {
        "colab": {
          "base_uri": "https://localhost:8080/"
        },
        "id": "-XK2TqLCoPeU",
        "outputId": "80ac2968-5728-4c5c-dd69-f655f189b537"
      },
      "execution_count": null,
      "outputs": [
        {
          "output_type": "execute_result",
          "data": {
            "text/plain": [
              "15000000.6"
            ]
          },
          "metadata": {},
          "execution_count": 63
        }
      ]
    },
    {
      "cell_type": "code",
      "source": [
        "def f(a,b):\n",
        "  try:\n",
        "    if a and b:\n",
        "      return (a * b) + (a / b)\n",
        "    elif a:\n",
        "      return '불능'\n",
        "    else:\n",
        "      return '부정'\n",
        "  except:  #에러가 발생했을 때\n",
        "    print('똑 바로 살아라')"
      ],
      "metadata": {
        "id": "AS86yp7wofEo"
      },
      "execution_count": null,
      "outputs": []
    },
    {
      "cell_type": "code",
      "source": [
        "f(0,0)"
      ],
      "metadata": {
        "colab": {
          "base_uri": "https://localhost:8080/",
          "height": 35
        },
        "id": "HVWIHDf3otDT",
        "outputId": "6116610c-4461-40f5-e662-78c87ac9b80d"
      },
      "execution_count": null,
      "outputs": [
        {
          "output_type": "execute_result",
          "data": {
            "text/plain": [
              "'부정'"
            ],
            "application/vnd.google.colaboratory.intrinsic+json": {
              "type": "string"
            }
          },
          "metadata": {},
          "execution_count": 66
        }
      ]
    },
    {
      "cell_type": "markdown",
      "source": [
        "##9.테스팅과 성능"
      ],
      "metadata": {
        "id": "dZxbET9BpBLQ"
      }
    },
    {
      "cell_type": "markdown",
      "source": [
        "###9.1 테스팅"
      ],
      "metadata": {
        "id": "_IWcuxTRpDiC"
      }
    },
    {
      "cell_type": "code",
      "source": [
        "#주어진 연도가 윤년인지 아닌지를 반환하는 함수\n",
        "def is_leap_year(year):\n",
        "  if year % 4 != 0:\n",
        "    return False\n",
        "  elif year %100 != 0:\n",
        "    return True\n",
        "  elif year % 400 != 0:\n",
        "    return False\n",
        "  else:\n",
        "    return True\n"
      ],
      "metadata": {
        "id": "kUwJzuoEpC3i"
      },
      "execution_count": null,
      "outputs": []
    },
    {
      "cell_type": "code",
      "source": [
        "is_leap_year(2020)"
      ],
      "metadata": {
        "colab": {
          "base_uri": "https://localhost:8080/"
        },
        "id": "iBVRoNMopeH0",
        "outputId": "757edd69-7ef6-46d2-a637-fe5dfff52e9a"
      },
      "execution_count": null,
      "outputs": [
        {
          "output_type": "execute_result",
          "data": {
            "text/plain": [
              "True"
            ]
          },
          "metadata": {},
          "execution_count": 73
        }
      ]
    },
    {
      "cell_type": "code",
      "source": [
        "is_leap_year(2077)"
      ],
      "metadata": {
        "colab": {
          "base_uri": "https://localhost:8080/"
        },
        "id": "sTgAMTP2pgUk",
        "outputId": "cf197979-4c24-4528-a923-c0f3d73aaf25"
      },
      "execution_count": null,
      "outputs": [
        {
          "output_type": "execute_result",
          "data": {
            "text/plain": [
              "False"
            ]
          },
          "metadata": {},
          "execution_count": 74
        }
      ]
    },
    {
      "cell_type": "markdown",
      "source": [
        "#Numpy"
      ],
      "metadata": {
        "id": "Gf_zJN1lq2B9"
      }
    },
    {
      "cell_type": "markdown",
      "source": [
        "##넘파이 ndarry 개요"
      ],
      "metadata": {
        "id": "mtgJy8W2q3Mc"
      }
    },
    {
      "cell_type": "code",
      "source": [
        "import numpy as np\n",
        "\n",
        "#array()\n",
        "array1 = np.array([1,2,3])\n",
        "print('array1 type:', type(array1))\n",
        "print('array1 array 형태:', array1.shape)\n",
        "\n",
        "array2 = np.array([[1,2,3],\n",
        "                  [2,3,4]])\n",
        "print('array2 type:', type(array2))\n",
        "print('array2 array 형태:', array2.shape)\n",
        "\n",
        "array3 = np.array([[1,2,3]])\n",
        "print('array3 type:', type(array3))\n",
        "print('array3 array 형태:', array3.shape)"
      ],
      "metadata": {
        "colab": {
          "base_uri": "https://localhost:8080/"
        },
        "id": "FW1N8Tt7rNbw",
        "outputId": "0304db11-8564-44b2-8169-21623b8b8336"
      },
      "execution_count": null,
      "outputs": [
        {
          "output_type": "stream",
          "name": "stdout",
          "text": [
            "array1 type: <class 'numpy.ndarray'>\n",
            "array1 array 형태: (3,)\n",
            "array2 type: <class 'numpy.ndarray'>\n",
            "array2 array 형태: (2, 3)\n",
            "array3 type: <class 'numpy.ndarray'>\n",
            "array3 array 형태: (1, 3)\n"
          ]
        }
      ]
    },
    {
      "cell_type": "code",
      "source": [
        "#ndim()\n",
        "print('array1: {0}차원, array2: {1}차원, array3: {2}차원'.format(array1.ndim,array2.ndim,array3.ndim))"
      ],
      "metadata": {
        "colab": {
          "base_uri": "https://localhost:8080/"
        },
        "id": "oTeuyH7fAA-t",
        "outputId": "8daf8381-0ffd-4072-9ef7-5794683509d2"
      },
      "execution_count": null,
      "outputs": [
        {
          "output_type": "stream",
          "name": "stdout",
          "text": [
            "array1: 1차원, array2: 2차원, array3: 2차원\n"
          ]
        }
      ]
    },
    {
      "cell_type": "markdown",
      "source": [
        "##ndarray의 데이터 타입"
      ],
      "metadata": {
        "id": "0U7cZ2wVBIrK"
      }
    },
    {
      "cell_type": "code",
      "source": [
        "list1 = [1,2,3]\n",
        "print(type(list1))\n",
        "array1 = np.array(list1)\n",
        "print(type(array1))\n",
        "print(array1, array1.dtype)"
      ],
      "metadata": {
        "colab": {
          "base_uri": "https://localhost:8080/"
        },
        "id": "4je70A4xBHjZ",
        "outputId": "a8585022-0b23-42f9-b7d0-9fda59403d1b"
      },
      "execution_count": null,
      "outputs": [
        {
          "output_type": "stream",
          "name": "stdout",
          "text": [
            "<class 'list'>\n",
            "<class 'numpy.ndarray'>\n",
            "[1 2 3] int64\n"
          ]
        }
      ]
    },
    {
      "cell_type": "code",
      "source": [
        "#int와 string이 섞여있는 경우\n",
        "list2 = [1,2,'test']\n",
        "array2 = np.array(list2)\n",
        "print(array2, array2.dtype) #유니코드 문자열 값으로 변환"
      ],
      "metadata": {
        "colab": {
          "base_uri": "https://localhost:8080/"
        },
        "id": "ZgXjXQPQBoHp",
        "outputId": "0d51c5bf-5d95-4a0c-823f-4f05cd00a3df"
      },
      "execution_count": null,
      "outputs": [
        {
          "output_type": "stream",
          "name": "stdout",
          "text": [
            "['1' '2' 'test'] <U21\n"
          ]
        }
      ]
    },
    {
      "cell_type": "code",
      "source": [
        "#int와 float이 섞여있는 경우\n",
        "list3 = [1,2,3.0]\n",
        "array3 = np.array(list3)\n",
        "print(array3, array3.dtype) #float으로 변환"
      ],
      "metadata": {
        "colab": {
          "base_uri": "https://localhost:8080/"
        },
        "id": "ReUnhlc8CIJz",
        "outputId": "fd4f8eb8-e8d4-4dd2-b080-041ef33baf17"
      },
      "execution_count": null,
      "outputs": [
        {
          "output_type": "stream",
          "name": "stdout",
          "text": [
            "[1. 2. 3.] float64\n"
          ]
        }
      ]
    },
    {
      "cell_type": "code",
      "source": [
        "#int를 float64로 변환\n",
        "array_int = np.array([1,2,3])\n",
        "array_float = array_int.astype('float64')\n",
        "print(array_float, array_float.dtype)\n",
        "\n",
        "#float64를 int32로 변환\n",
        "array_int1 = array_float.astype('int32')\n",
        "print(array_int1, array_int1.dtype)\n",
        "\n",
        "#float을 in32로 변환\n",
        "array_float1 = np.array([1.1, 2.1, 3.1])\n",
        "array_int2 = array_float1.astype('int32')\n",
        "print(array_int2, array_int2.dtype)"
      ],
      "metadata": {
        "colab": {
          "base_uri": "https://localhost:8080/"
        },
        "id": "VnaIdNJcCOsn",
        "outputId": "61c37788-8993-4c63-ce92-5fcca04f79ee"
      },
      "execution_count": null,
      "outputs": [
        {
          "output_type": "stream",
          "name": "stdout",
          "text": [
            "[1. 2. 3.] float64\n",
            "[1 2 3] int32\n",
            "[1 2 3] int32\n"
          ]
        }
      ]
    },
    {
      "cell_type": "markdown",
      "source": [
        "##ndarray를 편리하게 생성하기 - arrange, zeros, ones"
      ],
      "metadata": {
        "id": "g69Rt9MSHxvi"
      }
    },
    {
      "cell_type": "code",
      "source": [
        "#arrange()\n",
        "sequence_array = np.arange(10)\n",
        "print(sequence_array)\n",
        "print(sequence_array.dtype, sequence_array.shape, sequence_array.ndim)"
      ],
      "metadata": {
        "colab": {
          "base_uri": "https://localhost:8080/"
        },
        "id": "V1i2oLZ6HxDF",
        "outputId": "5d7fd5de-cc85-4188-dc4f-04404a391a39"
      },
      "execution_count": null,
      "outputs": [
        {
          "output_type": "stream",
          "name": "stdout",
          "text": [
            "[0 1 2 3 4 5 6 7 8 9]\n",
            "int64 (10,) 1\n"
          ]
        }
      ]
    },
    {
      "cell_type": "code",
      "source": [
        "#zeros(): 모든값을 0으로 채움\n",
        "zero_array = np.zeros((3,2), dtype='int32')\n",
        "print(zero_array)\n",
        "print(zero_array.dtype, zero_array.shape, zero_array.ndim)"
      ],
      "metadata": {
        "colab": {
          "base_uri": "https://localhost:8080/"
        },
        "id": "xj4PU90cIR-X",
        "outputId": "1de5816d-33fd-4dcc-a885-0fe64e82c4c0"
      },
      "execution_count": null,
      "outputs": [
        {
          "output_type": "stream",
          "name": "stdout",
          "text": [
            "[[0 0]\n",
            " [0 0]\n",
            " [0 0]]\n",
            "int32 (3, 2) 2\n"
          ]
        }
      ]
    },
    {
      "cell_type": "code",
      "source": [
        "#ones(): 모든값을 1로 채움\n",
        "one_array = np.ones((3,2)) #dtype을 정해주지 않으면 float64형태로 ndarray를 채움\n",
        "print(one_array)\n",
        "print(one_array.dtype, one_array.shape, one_array.ndim)"
      ],
      "metadata": {
        "colab": {
          "base_uri": "https://localhost:8080/"
        },
        "id": "Bv4N2pzMJJ-U",
        "outputId": "7ba405df-294a-4168-d40c-88fbf54709d2"
      },
      "execution_count": null,
      "outputs": [
        {
          "output_type": "stream",
          "name": "stdout",
          "text": [
            "[[1. 1.]\n",
            " [1. 1.]\n",
            " [1. 1.]]\n",
            "float64 (3, 2) 2\n"
          ]
        }
      ]
    },
    {
      "cell_type": "markdown",
      "source": [
        "##ndarray의 차원과 크기를 변경하는 reshape()"
      ],
      "metadata": {
        "id": "s_QtKEq5JfyE"
      }
    },
    {
      "cell_type": "code",
      "source": [
        "array1 = np.arange(10)\n",
        "print('array1:\\n', array1)\n",
        "\n",
        "array2 = array1.reshape(2,5)\n",
        "print('array2:\\n', array2)\n",
        "\n",
        "array3 = array1.reshape(5,2)\n",
        "print('array3:\\n', array3)"
      ],
      "metadata": {
        "colab": {
          "base_uri": "https://localhost:8080/"
        },
        "id": "5e--TCo9JeUh",
        "outputId": "f16478c0-a90e-40ff-b6ef-4bdab872c67b"
      },
      "execution_count": null,
      "outputs": [
        {
          "output_type": "stream",
          "name": "stdout",
          "text": [
            "array1:\n",
            " [0 1 2 3 4 5 6 7 8 9]\n",
            "array2:\n",
            " [[0 1 2 3 4]\n",
            " [5 6 7 8 9]]\n",
            "array3:\n",
            " [[0 1]\n",
            " [2 3]\n",
            " [4 5]\n",
            " [6 7]\n",
            " [8 9]]\n"
          ]
        }
      ]
    },
    {
      "cell_type": "code",
      "source": [
        "array1.reshape(4,3) #지정된 사이즈로 변경이 불가능하면 오류가 뜸"
      ],
      "metadata": {
        "colab": {
          "base_uri": "https://localhost:8080/",
          "height": 141
        },
        "id": "_4PNkJ6JKSV0",
        "outputId": "3c98b651-ce36-4919-e056-89e81162ff67"
      },
      "execution_count": null,
      "outputs": [
        {
          "output_type": "error",
          "ename": "ValueError",
          "evalue": "cannot reshape array of size 10 into shape (4,3)",
          "traceback": [
            "\u001b[0;31m---------------------------------------------------------------------------\u001b[0m",
            "\u001b[0;31mValueError\u001b[0m                                Traceback (most recent call last)",
            "\u001b[0;32m<ipython-input-102-48b6b9e28f69>\u001b[0m in \u001b[0;36m<cell line: 1>\u001b[0;34m()\u001b[0m\n\u001b[0;32m----> 1\u001b[0;31m \u001b[0marray1\u001b[0m\u001b[0;34m.\u001b[0m\u001b[0mreshape\u001b[0m\u001b[0;34m(\u001b[0m\u001b[0;36m4\u001b[0m\u001b[0;34m,\u001b[0m\u001b[0;36m3\u001b[0m\u001b[0;34m)\u001b[0m \u001b[0;31m#지정된 사이즈로 변경이 불가능하면 오류가 뜸\u001b[0m\u001b[0;34m\u001b[0m\u001b[0;34m\u001b[0m\u001b[0m\n\u001b[0m",
            "\u001b[0;31mValueError\u001b[0m: cannot reshape array of size 10 into shape (4,3)"
          ]
        }
      ]
    },
    {
      "cell_type": "code",
      "source": [
        "#'-1'적용\n",
        "array1 = np.arange(10)\n",
        "print(array1)\n",
        "array2 = array1.reshape(-1,5) #열에 5개 고정하고 2차원으로 바꾸라는 뜻\n",
        "print(array2)\n",
        "print('array2 shape:', array2.shape)\n",
        "array3 = array1.reshape(5,-1) #행에 5개 고정하고 2차원으로 바꾸라는 뜻\n",
        "print(array3)\n",
        "print('array3 shape:', array3.shape)"
      ],
      "metadata": {
        "colab": {
          "base_uri": "https://localhost:8080/"
        },
        "id": "6uhzzQScKXWs",
        "outputId": "6804809c-66d7-455b-dbc8-3e4817757eff"
      },
      "execution_count": null,
      "outputs": [
        {
          "output_type": "stream",
          "name": "stdout",
          "text": [
            "[0 1 2 3 4 5 6 7 8 9]\n",
            "[[0 1 2 3 4]\n",
            " [5 6 7 8 9]]\n",
            "array2 shape: (2, 5)\n",
            "[[0 1]\n",
            " [2 3]\n",
            " [4 5]\n",
            " [6 7]\n",
            " [8 9]]\n",
            "array3 shape: (5, 2)\n"
          ]
        }
      ]
    },
    {
      "cell_type": "code",
      "source": [
        "array1 = np.arange(10)\n",
        "array4 = array1.reshape(-1,4) #지정된 사이즈로 변경이 불가능하면 오류가 뜸"
      ],
      "metadata": {
        "colab": {
          "base_uri": "https://localhost:8080/",
          "height": 159
        },
        "id": "IaIn13apLIAS",
        "outputId": "36e500ac-8eb6-4edc-e50f-f8225f5e18c4"
      },
      "execution_count": null,
      "outputs": [
        {
          "output_type": "error",
          "ename": "ValueError",
          "evalue": "cannot reshape array of size 10 into shape (4)",
          "traceback": [
            "\u001b[0;31m---------------------------------------------------------------------------\u001b[0m",
            "\u001b[0;31mValueError\u001b[0m                                Traceback (most recent call last)",
            "\u001b[0;32m<ipython-input-109-e416de19b4be>\u001b[0m in \u001b[0;36m<cell line: 2>\u001b[0;34m()\u001b[0m\n\u001b[1;32m      1\u001b[0m \u001b[0marray1\u001b[0m \u001b[0;34m=\u001b[0m \u001b[0mnp\u001b[0m\u001b[0;34m.\u001b[0m\u001b[0marange\u001b[0m\u001b[0;34m(\u001b[0m\u001b[0;36m10\u001b[0m\u001b[0;34m)\u001b[0m\u001b[0;34m\u001b[0m\u001b[0;34m\u001b[0m\u001b[0m\n\u001b[0;32m----> 2\u001b[0;31m \u001b[0marray4\u001b[0m \u001b[0;34m=\u001b[0m \u001b[0marray1\u001b[0m\u001b[0;34m.\u001b[0m\u001b[0mreshape\u001b[0m\u001b[0;34m(\u001b[0m\u001b[0;34m-\u001b[0m\u001b[0;36m1\u001b[0m\u001b[0;34m,\u001b[0m\u001b[0;36m4\u001b[0m\u001b[0;34m)\u001b[0m \u001b[0;31m#지정된 사이즈로 변경이 불가능하면 오류가 뜸\u001b[0m\u001b[0;34m\u001b[0m\u001b[0;34m\u001b[0m\u001b[0m\n\u001b[0m",
            "\u001b[0;31mValueError\u001b[0m: cannot reshape array of size 10 into shape (4)"
          ]
        }
      ]
    },
    {
      "cell_type": "code",
      "source": [
        "array1 = np.arange(8)\n",
        "array3d = array1.reshape((2,2,2))#1차원에서 +2해서 3차원으로 바꾸고 행,열 2X2라는 뜻\n",
        "print(array3d)\n",
        "print('array3d:\\n', array3d.tolist()) #list로 변환\n",
        "print('array3d shape:', array3d.shape)"
      ],
      "metadata": {
        "colab": {
          "base_uri": "https://localhost:8080/"
        },
        "id": "ibok8muiLTe4",
        "outputId": "6f400aed-d924-4cad-84e6-2b3832704ec4"
      },
      "execution_count": null,
      "outputs": [
        {
          "output_type": "stream",
          "name": "stdout",
          "text": [
            "[[[0 1]\n",
            "  [2 3]]\n",
            "\n",
            " [[4 5]\n",
            "  [6 7]]]\n",
            "array3d:\n",
            " [[[0, 1], [2, 3]], [[4, 5], [6, 7]]]\n",
            "array3d shape: (2, 2, 2)\n"
          ]
        }
      ]
    },
    {
      "cell_type": "code",
      "source": [
        "#3차원 ndarray를 2차원 ndarray로 변환\n",
        "array5 = array3d.reshape(-1,1)\n",
        "print(array5)\n",
        "print('array5:\\n', array5.tolist())\n",
        "print('array5 shape:', array5.shape)"
      ],
      "metadata": {
        "colab": {
          "base_uri": "https://localhost:8080/"
        },
        "id": "BspI2abpMsIF",
        "outputId": "dc0d63b5-ee17-416a-a58f-7b9c75dcd6d8"
      },
      "execution_count": null,
      "outputs": [
        {
          "output_type": "stream",
          "name": "stdout",
          "text": [
            "[[0]\n",
            " [1]\n",
            " [2]\n",
            " [3]\n",
            " [4]\n",
            " [5]\n",
            " [6]\n",
            " [7]]\n",
            "array5:\n",
            " [[0], [1], [2], [3], [4], [5], [6], [7]]\n",
            "array5 shape: (8, 1)\n"
          ]
        }
      ]
    },
    {
      "cell_type": "code",
      "source": [
        "#1차원 ndarray를 2차원 ndarray로 변환\n",
        "array6 = array1.reshape(-1,1)\n",
        "print('array6:\\n', array6.tolist())\n",
        "print('array6 shape:', array6.shape)"
      ],
      "metadata": {
        "colab": {
          "base_uri": "https://localhost:8080/"
        },
        "id": "W3KPJp4lNFDa",
        "outputId": "4fdef2c5-4d3c-4a60-83c7-147eaa7d4f46"
      },
      "execution_count": null,
      "outputs": [
        {
          "output_type": "stream",
          "name": "stdout",
          "text": [
            "array6:\n",
            " [[0], [1], [2], [3], [4], [5], [6], [7]]\n",
            "array6 shape: (8, 1)\n"
          ]
        }
      ]
    },
    {
      "cell_type": "code",
      "source": [
        "#다차원 reshape 예시\n",
        "array24 = np.arange(24)\n",
        "array7 = array24.reshape(2,4,3) #1차원에서 +2해서 3차원으로 만들고 행X열이 4X3이 되도록\n",
        "print(array7)\n",
        "print('array7:\\n', array7.tolist())\n",
        "print('array7 shape:', array7.shape)"
      ],
      "metadata": {
        "colab": {
          "base_uri": "https://localhost:8080/"
        },
        "id": "6MfEtxBuNwvU",
        "outputId": "615fd30e-4700-4875-9122-bd449573a8c2"
      },
      "execution_count": null,
      "outputs": [
        {
          "output_type": "stream",
          "name": "stdout",
          "text": [
            "[[[ 0  1  2]\n",
            "  [ 3  4  5]\n",
            "  [ 6  7  8]\n",
            "  [ 9 10 11]]\n",
            "\n",
            " [[12 13 14]\n",
            "  [15 16 17]\n",
            "  [18 19 20]\n",
            "  [21 22 23]]]\n",
            "array7:\n",
            " [[[0, 1, 2], [3, 4, 5], [6, 7, 8], [9, 10, 11]], [[12, 13, 14], [15, 16, 17], [18, 19, 20], [21, 22, 23]]]\n",
            "array7 shape: (2, 4, 3)\n"
          ]
        }
      ]
    },
    {
      "cell_type": "markdown",
      "source": [
        "##넘파이의 ndarray의 데이터 세트 선택하기 - 인덱싱(indexing)"
      ],
      "metadata": {
        "id": "p_hWvfLvJlLt"
      }
    },
    {
      "cell_type": "markdown",
      "source": [
        "단일 값 추출"
      ],
      "metadata": {
        "id": "yFwTvA5DO2aa"
      }
    },
    {
      "cell_type": "code",
      "source": [
        "#1부터 9까지의 1차원 ndarray 생성\n",
        "array1 = np.arange(start=1, stop=10) #stop보다 -1전에 끝남\n",
        "print('array1:', array1)"
      ],
      "metadata": {
        "colab": {
          "base_uri": "https://localhost:8080/"
        },
        "id": "-4SqQRFSOwF9",
        "outputId": "27add752-2a70-443d-eba0-360ece81cda2"
      },
      "execution_count": null,
      "outputs": [
        {
          "output_type": "stream",
          "name": "stdout",
          "text": [
            "array1: [1 2 3 4 5 6 7 8 9]\n"
          ]
        }
      ]
    },
    {
      "cell_type": "code",
      "source": [
        "#index는 0부터 시작하므로 array1[2]는 3번째 index 위치의 데이터값을 의미\n",
        "value = array1[2]\n",
        "print('value:', value)\n",
        "print(type(value))"
      ],
      "metadata": {
        "colab": {
          "base_uri": "https://localhost:8080/"
        },
        "id": "vwosUnp3O8OT",
        "outputId": "b27cd3ef-83e0-431f-d64e-a38577503f54"
      },
      "execution_count": null,
      "outputs": [
        {
          "output_type": "stream",
          "name": "stdout",
          "text": [
            "value: 3\n",
            "<class 'numpy.int64'>\n"
          ]
        }
      ]
    },
    {
      "cell_type": "code",
      "source": [
        "print('맨 뒤의 값:', array1[-1], '맨 뒤에서 두 번째 값:', array1[-2])"
      ],
      "metadata": {
        "colab": {
          "base_uri": "https://localhost:8080/"
        },
        "id": "lvZoWC01PIE2",
        "outputId": "11730bd6-71a2-4773-f67d-2a37bf774963"
      },
      "execution_count": null,
      "outputs": [
        {
          "output_type": "stream",
          "name": "stdout",
          "text": [
            "맨 뒤의 값: 9 맨 뒤에서 두 번째 값: 8\n"
          ]
        }
      ]
    },
    {
      "cell_type": "code",
      "source": [
        "array1[0] = 9\n",
        "array1[8] = 0\n",
        "print('array1:', array1)"
      ],
      "metadata": {
        "colab": {
          "base_uri": "https://localhost:8080/"
        },
        "id": "qytslFxBPQMt",
        "outputId": "4f3a693e-9e76-4e65-bb2a-e59dff73a9c8"
      },
      "execution_count": null,
      "outputs": [
        {
          "output_type": "stream",
          "name": "stdout",
          "text": [
            "array1: [9 2 3 4 5 6 7 8 0]\n"
          ]
        }
      ]
    },
    {
      "cell_type": "code",
      "source": [
        "#1차원 ndarray 를 2차원의 3X3 ndarray로 변환후 [row,col] cnffur\n",
        "array1d = np.arange(start=1, stop=10)\n",
        "array2d = array1d.reshape(3,3)\n",
        "print(array2d)\n",
        "\n",
        "print('(row=0, col=0) index 가리키는 값:', array2d[0,0])\n",
        "print('(row=0, col=1) index 가리키는 값:', array2d[0,1])\n",
        "print('(row=1, col=0) index 가리키는 값:', array2d[1,0])\n",
        "print('(row=2, col=2) index 가리키는 값:', array2d[2,2])"
      ],
      "metadata": {
        "colab": {
          "base_uri": "https://localhost:8080/"
        },
        "id": "1vg5_xCIPYIn",
        "outputId": "bdc55370-3766-47d9-8387-ba5fc58f5c0e"
      },
      "execution_count": null,
      "outputs": [
        {
          "output_type": "stream",
          "name": "stdout",
          "text": [
            "[[1 2 3]\n",
            " [4 5 6]\n",
            " [7 8 9]]\n",
            "(row=0, col=0) index 가리키는 값: 1\n",
            "(row=0, col=1) index 가리키는 값: 2\n",
            "(row=1, col=0) index 가리키는 값: 4\n",
            "(row=2, col=2) index 가리키는 값: 9\n"
          ]
        }
      ]
    },
    {
      "cell_type": "markdown",
      "source": [
        "슬라이싱"
      ],
      "metadata": {
        "id": "QP6grQBbQPw6"
      }
    },
    {
      "cell_type": "code",
      "source": [
        "#끝 바로 전 index까지 표현됨\n",
        "array1 = np.arange(start=1, stop=10)\n",
        "array3 = array1[0:3]\n",
        "print(array3)\n",
        "print(type(array3))\n",
        "print(array3.ndim)"
      ],
      "metadata": {
        "colab": {
          "base_uri": "https://localhost:8080/"
        },
        "id": "R7emwAPiQMzb",
        "outputId": "17ec864a-6a6b-4787-8866-7a6ef9df3a69"
      },
      "execution_count": null,
      "outputs": [
        {
          "output_type": "stream",
          "name": "stdout",
          "text": [
            "[1 2 3]\n",
            "<class 'numpy.ndarray'>\n",
            "1\n"
          ]
        }
      ]
    },
    {
      "cell_type": "code",
      "source": [
        "array1 = np.arange(start=1, stop=10)\n",
        "array4 = array1[:3]\n",
        "print(array4)\n",
        "\n",
        "array5 = array1[3:]\n",
        "print(array5)\n",
        "\n",
        "array6 = array1[:]\n",
        "print(array6)"
      ],
      "metadata": {
        "colab": {
          "base_uri": "https://localhost:8080/"
        },
        "id": "m57szkZtQlXQ",
        "outputId": "6a760aeb-c98a-4e94-fcfa-4d54bbdec139"
      },
      "execution_count": null,
      "outputs": [
        {
          "output_type": "stream",
          "name": "stdout",
          "text": [
            "[1 2 3]\n",
            "[4 5 6 7 8 9]\n",
            "[1 2 3 4 5 6 7 8 9]\n"
          ]
        }
      ]
    },
    {
      "cell_type": "code",
      "source": [
        "array1d = np.arange(start=1, stop=10)\n",
        "array2d = array1d.reshape(3,3)\n",
        "print('array2d:\\n', array2d, '\\n')\n",
        "\n",
        "print('array2d[0:2, 0:2]\\n', array2d[0:2, 0:2])\n",
        "print('array2d[1:3, 0:3]\\n', array2d[1:3, 0:3])\n",
        "print('array2d[1:3, :]\\n', array2d[1:3, :])\n",
        "print('array2d[:, :]\\n', array2d[:, :])\n",
        "print('array2d[:2, 1:]\\n', array2d[:2, 1:],'\\n')\n",
        "\n",
        "print('array2d[:2, 0]\\n', array2d[:2, 0])\n",
        "array20 = array2d[:2,0]\n",
        "print(array20.ndim) #로우나 컬럼 한쪽에만 슬라이싱을 적용하고, 다른 쪽 축에는 단일 값 인덱스를 적용, 그러면 1차원이 됨\n",
        "\n",
        "array21 = array2d[0,:2]\n",
        "print('array2d[0,:2]:\\n', array2d[0,:2])\n",
        "print(array21.ndim)"
      ],
      "metadata": {
        "colab": {
          "base_uri": "https://localhost:8080/"
        },
        "id": "zvbKOl4YQtvw",
        "outputId": "65861906-017f-4702-f4ca-f2268450db46"
      },
      "execution_count": null,
      "outputs": [
        {
          "output_type": "stream",
          "name": "stdout",
          "text": [
            "array2d:\n",
            " [[1 2 3]\n",
            " [4 5 6]\n",
            " [7 8 9]] \n",
            "\n",
            "array2d[0:2, 0:2]\n",
            " [[1 2]\n",
            " [4 5]]\n",
            "array2d[1:3, 0:3]\n",
            " [[4 5 6]\n",
            " [7 8 9]]\n",
            "array2d[1:3, :]\n",
            " [[4 5 6]\n",
            " [7 8 9]]\n",
            "array2d[:, :]\n",
            " [[1 2 3]\n",
            " [4 5 6]\n",
            " [7 8 9]]\n",
            "array2d[:2, 1:]\n",
            " [[2 3]\n",
            " [5 6]] \n",
            "\n",
            "array2d[:2, 0]\n",
            " [1 4]\n",
            "1\n",
            "array2d[0,:2]:\n",
            " [1 2]\n",
            "1\n"
          ]
        }
      ]
    },
    {
      "cell_type": "code",
      "source": [
        "#2차원 ndarray 뒤에 오는 인덱스를 없애면 로우 축(axis 0)의 해당 로우 ndarray를 반환 & 1차원이 됨(3차원 ndarray 뒤에 오는 인덱스를 없애면 2차워 ndarray를 반환)\n",
        "print(array2d[0])\n",
        "print('array2d[0] shape:', array2d[0].shape, '\\n')\n",
        "\n",
        "print(array2d[1])\n",
        "print('array2d[1] shape:', array2d[1].shape)"
      ],
      "metadata": {
        "colab": {
          "base_uri": "https://localhost:8080/"
        },
        "id": "74XtsRogSET4",
        "outputId": "e6d5b699-5a85-49b5-d76a-d86128a63e9b"
      },
      "execution_count": null,
      "outputs": [
        {
          "output_type": "stream",
          "name": "stdout",
          "text": [
            "[1 2 3]\n",
            "array2d[0] shape: (3,) \n",
            "\n",
            "[4 5 6]\n",
            "array2d[1] shape: (3,)\n"
          ]
        }
      ]
    },
    {
      "cell_type": "markdown",
      "source": [
        "펜시 인덱싱"
      ],
      "metadata": {
        "id": "p2fQZG2UUaOK"
      }
    },
    {
      "cell_type": "code",
      "source": [
        "#슬라이싱이 아니라 리스트가 오면 해당 ndarray를 반환\n",
        "array1d = np.arange(start = 1, stop = 10)\n",
        "array2d = array1d.reshape(3,3)\n",
        "print(array2d,'\\n')\n",
        "\n",
        "array3 = array2d[[0,1],2]\n",
        "print('array2d[[0,1],2] => ', array3.tolist())\n",
        "\n",
        "array4 = array2d[[0,1],0:2]\n",
        "print('array2d[[0,1],0:2] => ', array4.tolist())\n",
        "\n",
        "array5 = array2d[[0,2]]\n",
        "print('array2d[[0,2]] => ', array5.tolist())"
      ],
      "metadata": {
        "colab": {
          "base_uri": "https://localhost:8080/"
        },
        "id": "VAg9xmjhUWDF",
        "outputId": "dcb21cfb-ff3c-4a41-c2fa-acfcbcb5a223"
      },
      "execution_count": null,
      "outputs": [
        {
          "output_type": "stream",
          "name": "stdout",
          "text": [
            "[[1 2 3]\n",
            " [4 5 6]\n",
            " [7 8 9]] \n",
            "\n",
            "array2d[[0,1],2] =>  [3, 6]\n",
            "array2d[[0,1],0:2] =>  [[1, 2], [4, 5]]\n",
            "array2d[[0,2]] =>  [[1, 2, 3], [7, 8, 9]]\n"
          ]
        }
      ]
    },
    {
      "cell_type": "markdown",
      "source": [
        "불린 인덱싱"
      ],
      "metadata": {
        "id": "qAy0JpF-WflC"
      }
    },
    {
      "cell_type": "code",
      "source": [
        "array1d = np.arange(start = 1, stop = 10)\n",
        "print(array1d)\n",
        "\n",
        "#[]안에 array1d > 5 Boolean indexing을 적용\n",
        "array3 = array1d[array1d > 5]\n",
        "print('array1d > 5 불린 인덱싱 결과 값 :', array3)"
      ],
      "metadata": {
        "colab": {
          "base_uri": "https://localhost:8080/"
        },
        "id": "i2h4aUtNV-v_",
        "outputId": "4cebfdf0-dce3-4694-8f89-c80c0876b45a"
      },
      "execution_count": null,
      "outputs": [
        {
          "output_type": "stream",
          "name": "stdout",
          "text": [
            "[1 2 3 4 5 6 7 8 9]\n",
            "array1d > 5 불린 인덱싱 결과 값 : [6 7 8 9]\n"
          ]
        }
      ]
    },
    {
      "cell_type": "code",
      "source": [
        "array1d > 5"
      ],
      "metadata": {
        "colab": {
          "base_uri": "https://localhost:8080/"
        },
        "id": "Y2Yog15mVQAl",
        "outputId": "28c5d020-3e0a-4165-dfa1-163049c911b8"
      },
      "execution_count": null,
      "outputs": [
        {
          "output_type": "execute_result",
          "data": {
            "text/plain": [
              "array([False, False, False, False, False,  True,  True,  True,  True])"
            ]
          },
          "metadata": {},
          "execution_count": 156
        }
      ]
    },
    {
      "cell_type": "code",
      "source": [
        "boolean_indexes = np.array([False, False, False, False, False,  True,  True,  True,  True])\n",
        "array3 = array1d[boolean_indexes]\n",
        "print('불린 인덱스로 필터링 결과 :', array3)"
      ],
      "metadata": {
        "colab": {
          "base_uri": "https://localhost:8080/"
        },
        "id": "k9D0dJisVo-x",
        "outputId": "80170878-e486-4c7e-8dda-2f630c672ac5"
      },
      "execution_count": null,
      "outputs": [
        {
          "output_type": "stream",
          "name": "stdout",
          "text": [
            "불린 인덱스로 필터링 결과 : [6 7 8 9]\n"
          ]
        }
      ]
    },
    {
      "cell_type": "code",
      "source": [
        "indexes = np.array([5,6,7,8])\n",
        "array4 = array1d[indexes]\n",
        "print('일반 인덱스로 필터링 결과 :', array4)"
      ],
      "metadata": {
        "colab": {
          "base_uri": "https://localhost:8080/"
        },
        "id": "FmBpPApjXUN6",
        "outputId": "ba3a1c0a-71fb-4006-a3d5-e151b5154fb6"
      },
      "execution_count": null,
      "outputs": [
        {
          "output_type": "stream",
          "name": "stdout",
          "text": [
            "일반 인덱스로 필터링 결과 : [6 7 8 9]\n"
          ]
        }
      ]
    },
    {
      "cell_type": "markdown",
      "source": [
        "##행렬의 정렬 - sort()와 argsort()"
      ],
      "metadata": {
        "id": "sQq0xl4TJvVb"
      }
    },
    {
      "cell_type": "markdown",
      "source": [
        "행렬 정렬 - sort()"
      ],
      "metadata": {
        "id": "daVIaTeVXmS4"
      }
    },
    {
      "cell_type": "code",
      "source": [
        "org_array = np.array([3,1,9,5])\n",
        "print('원본 행렬:', org_array)\n",
        "\n",
        "#np.sort()로 정렬\n",
        "sort_array1 = np.sort(org_array)\n",
        "print('np.sort() 호출 후 반환된 정렬 행렬:', sort_array1)\n",
        "print('np.sort() 호출 후 원본 행렬:', org_array) #np.sort()를 해도 원본은 바뀌지 않음\n",
        "\n",
        "#ndarray.sort()로 정렬\n",
        "sort_array2 = org_array.sort()\n",
        "print('org_array.sort() 호출 후 반환된 행렬:', sort_array2)\n",
        "print('org_array.sort() 호출 후 원본 행렬:', org_array) #ndarray.sort()는 원본 행렬 자체를 정렬\n",
        "\n",
        "#np.sort()나 ndarray.sort()모두 오름차순으로 행렬 내 원소 정렬"
      ],
      "metadata": {
        "colab": {
          "base_uri": "https://localhost:8080/"
        },
        "id": "P2QGEe-NXhek",
        "outputId": "ee8b9873-fa7e-4ca0-e7cf-7910e7b0a8c4"
      },
      "execution_count": null,
      "outputs": [
        {
          "output_type": "stream",
          "name": "stdout",
          "text": [
            "원본 행렬: [3 1 9 5]\n",
            "np.sort() 호출 후 반환된 정렬 행렬: [1 3 5 9]\n",
            "np.sort() 호출 후 원본 행렬: [3 1 9 5]\n",
            "org_array.sort() 호출 후 반환된 행렬: None\n",
            "org_array.sort() 호출 후 원본 행렬: [1 3 5 9]\n"
          ]
        }
      ]
    },
    {
      "cell_type": "code",
      "source": [
        "#내림차순\n",
        "sort_array1_desc = np.sort(org_array)[::-1]\n",
        "print('내림차순으로 정렬:', sort_array1_desc)"
      ],
      "metadata": {
        "colab": {
          "base_uri": "https://localhost:8080/"
        },
        "id": "Z_35XRhhZXLF",
        "outputId": "8a982d80-5605-4594-b21c-6f75bce34d5f"
      },
      "execution_count": null,
      "outputs": [
        {
          "output_type": "stream",
          "name": "stdout",
          "text": [
            "내림차순으로 정렬: [9 5 3 1]\n"
          ]
        }
      ]
    },
    {
      "cell_type": "code",
      "source": [
        "array2d = np.array([[8,12],\n",
        "                    [7,1]])\n",
        "print(array2d,'\\n')\n",
        "\n",
        "#로우 방향으로 정렬\n",
        "sort_array2d_axis0 = np.sort(array2d, axis=0)\n",
        "print('로우 방향으로 정렬:\\n', sort_array2d_axis0)\n",
        "\n",
        "#칼럼 방향으로 정렬\n",
        "sort_array2d_axis1 = np.sort(array2d, axis=1)\n",
        "print('칼럼 방향으로 정렬:\\n', sort_array2d_axis1)"
      ],
      "metadata": {
        "colab": {
          "base_uri": "https://localhost:8080/"
        },
        "id": "2PojSGl3ZoZI",
        "outputId": "dd71b9ba-5915-4b02-c270-d5133be286a9"
      },
      "execution_count": null,
      "outputs": [
        {
          "output_type": "stream",
          "name": "stdout",
          "text": [
            "[[ 8 12]\n",
            " [ 7  1]] \n",
            "\n",
            "로우 방향으로 정렬:\n",
            " [[ 7  1]\n",
            " [ 8 12]]\n",
            "칼럼 방향으로 정렬:\n",
            " [[ 8 12]\n",
            " [ 1  7]]\n"
          ]
        }
      ]
    },
    {
      "cell_type": "markdown",
      "source": [
        "정렬된 행렬의 인덱스를 반환하기 - argsort()"
      ],
      "metadata": {
        "id": "BJnoPkR4XoYC"
      }
    },
    {
      "cell_type": "code",
      "source": [
        "#argsort()는 원본 행렬을 오름차순으로 바꾼 후 원본 인덱스를 반환함, 리스트로 출력됨..!\n",
        "org_array = np.array([3,1,9,5])\n",
        "sort_indices = np.argsort(org_array)\n",
        "print('원본 행렬:',org_array)\n",
        "print('원본 인덱스:', np.arange(org_array.size),'\\n')\n",
        "print('오름차순 된 행렬:',np.sort(org_array))\n",
        "print(type(sort_indices))\n",
        "print('행렬 정렬 시 원본 행렬의 인덱스:', sort_indices)"
      ],
      "metadata": {
        "colab": {
          "base_uri": "https://localhost:8080/"
        },
        "id": "IfuY4eDMaA9k",
        "outputId": "cf133b05-bc8d-4331-f525-49dcf53697cb"
      },
      "execution_count": null,
      "outputs": [
        {
          "output_type": "stream",
          "name": "stdout",
          "text": [
            "원본 행렬: [3 1 9 5]\n",
            "원본 인덱스: [0 1 2 3] \n",
            "\n",
            "오름차순 된 행렬: [1 3 5 9]\n",
            "<class 'numpy.ndarray'>\n",
            "행렬 정렬 시 원본 행렬의 인덱스: [1 0 3 2]\n"
          ]
        }
      ]
    },
    {
      "cell_type": "code",
      "source": [
        "#내림차순 원본 행렬 인덱스\n",
        "org_array = np.array([3,1,9,5])\n",
        "sort_indices_desc = np.argsort(org_array)[::-1]\n",
        "print('내림차순으로 정렬 시 원본 행렬의 인덱스:', sort_indices_desc)"
      ],
      "metadata": {
        "colab": {
          "base_uri": "https://localhost:8080/"
        },
        "id": "HB0fMvY6doPt",
        "outputId": "b8a696c0-6c7f-4a86-f4e4-7032f8484a2b"
      },
      "execution_count": null,
      "outputs": [
        {
          "output_type": "stream",
          "name": "stdout",
          "text": [
            "내림차순으로 정렬 시 원본 행렬의 인덱스: [2 3 0 1]\n"
          ]
        }
      ]
    },
    {
      "cell_type": "code",
      "source": [
        "import numpy as np\n",
        "\n",
        "name_array = np.array(['John', 'Mike', 'Sarah', 'Kate', 'Samuel'])\n",
        "score_array = np.array([78, 95, 84, 98, 88])\n",
        "\n",
        "sort_indices_asc = np.argsort(score_array)\n",
        "print('성적 오름차순 정렬 시 score_array의 인덱스:', sort_indices_asc)\n",
        "print('성적 오름차순으로 name_array의 이름 출력:', name_array[sort_indices_asc])"
      ],
      "metadata": {
        "colab": {
          "base_uri": "https://localhost:8080/"
        },
        "id": "kEC-cZeWfM0x",
        "outputId": "e22dbceb-b5b8-4fb6-98a3-548c5d33f784"
      },
      "execution_count": null,
      "outputs": [
        {
          "output_type": "stream",
          "name": "stdout",
          "text": [
            "성적 오름차순 정렬 시 score_array의 인덱스: [0 2 4 1 3]\n",
            "성적 오름차순으로 name_array의 이름 출력: ['John' 'Sarah' 'Samuel' 'Mike' 'Kate']\n"
          ]
        }
      ]
    },
    {
      "cell_type": "markdown",
      "source": [
        "##선형대수 연산 - 행렬 내적과 전치 행렬 구하기"
      ],
      "metadata": {
        "id": "Hn_8WFNOJ0fK"
      }
    },
    {
      "cell_type": "markdown",
      "source": [
        "행렬 내적(행렬 곱) - dot()"
      ],
      "metadata": {
        "id": "y3v5s1Gsf9VM"
      }
    },
    {
      "cell_type": "code",
      "source": [
        "A = np.array([[1,2,3],\n",
        "              [4,5,6]])\n",
        "B = np.array([[7,8],\n",
        "              [9,10],\n",
        "              [11,12]])\n",
        "\n",
        "dot_product = np.dot(A,B)\n",
        "print('행렬 내적 결과:\\n', dot_product)"
      ],
      "metadata": {
        "colab": {
          "base_uri": "https://localhost:8080/"
        },
        "id": "OSjM_WwWJzyP",
        "outputId": "5d21c969-bd86-4e9d-e9ec-8a9f37e21b81"
      },
      "execution_count": null,
      "outputs": [
        {
          "output_type": "stream",
          "name": "stdout",
          "text": [
            "행렬 내적 결과:\n",
            " [[ 58  64]\n",
            " [139 154]]\n"
          ]
        }
      ]
    },
    {
      "cell_type": "markdown",
      "source": [
        "전치 행렬 - transpose()\n",
        "\n",
        ": 행과 열 위치를 교환한 원소로 구성한 행렬"
      ],
      "metadata": {
        "id": "hV6jWfkNgXP7"
      }
    },
    {
      "cell_type": "code",
      "source": [
        "A = np.array([[1,2],\n",
        "              [3,4]])\n",
        "transpose_mat = np.transpose(A)\n",
        "print('A의 전치 행렬:\\n', transpose_mat)"
      ],
      "metadata": {
        "colab": {
          "base_uri": "https://localhost:8080/"
        },
        "id": "HCnUN_jlgVxN",
        "outputId": "9d2c915f-a00c-454e-d9f3-0d9ca3386eda"
      },
      "execution_count": null,
      "outputs": [
        {
          "output_type": "stream",
          "name": "stdout",
          "text": [
            "A의 전치 행렬:\n",
            " [[1 3]\n",
            " [2 4]]\n"
          ]
        }
      ]
    },
    {
      "cell_type": "markdown",
      "source": [
        "#금융 데이터 분석을 위한 파이썬 판다스"
      ],
      "metadata": {
        "id": "D3kbjKbOt-yB"
      }
    },
    {
      "cell_type": "markdown",
      "source": [
        "##넘파이"
      ],
      "metadata": {
        "id": "qQqVd8nfuElD"
      }
    },
    {
      "cell_type": "markdown",
      "source": [
        "###브로드캐스팅"
      ],
      "metadata": {
        "id": "GWM527NvuHHy"
      }
    },
    {
      "cell_type": "code",
      "source": [
        "high = [92700, 92400, 92100, 94300, 92300]\n",
        "low = [90000, 91100, 91700, 92100, 90900]\n",
        "\n",
        "arr_high = np.array(high)\n",
        "arr_low = np.array(low)\n",
        "\n",
        "arr_diff = arr_high - arr_low\n",
        "print(arr_diff)"
      ],
      "metadata": {
        "colab": {
          "base_uri": "https://localhost:8080/"
        },
        "id": "SvLpxZ8SuLGo",
        "outputId": "d496fb07-cebc-42f6-9427-144750e580d3"
      },
      "execution_count": null,
      "outputs": [
        {
          "output_type": "stream",
          "name": "stdout",
          "text": [
            "[2700 1300  400 2200 1400]\n"
          ]
        }
      ]
    },
    {
      "cell_type": "code",
      "source": [
        "arr_high_x3 = arr_high * 3\n",
        "arr_low_x2 = arr_low * 2\n",
        "print(arr_high_x3 + arr_low_x2)"
      ],
      "metadata": {
        "colab": {
          "base_uri": "https://localhost:8080/"
        },
        "id": "TlKb-PL1uUXZ",
        "outputId": "7f16664c-ea4e-4894-b680-40a88ead8cfe"
      },
      "execution_count": null,
      "outputs": [
        {
          "output_type": "stream",
          "name": "stdout",
          "text": [
            "[458100 459400 459700 467100 458700]\n"
          ]
        }
      ]
    },
    {
      "cell_type": "code",
      "source": [
        "avg = (arr_high * 3) + (arr_low * 2)\n",
        "\n",
        "data = [\n",
        "    [92700, 92400, 92100, 94300, 92300],\n",
        "    [90000, 91100, 91700, 92100, 90900]\n",
        "]\n",
        "arr = np.array(data)\n",
        "print(arr)"
      ],
      "metadata": {
        "colab": {
          "base_uri": "https://localhost:8080/"
        },
        "id": "AhoVDBH0ua-U",
        "outputId": "07cd2ce3-bc14-4d1c-97c5-23e7c1b887c6"
      },
      "execution_count": null,
      "outputs": [
        {
          "output_type": "stream",
          "name": "stdout",
          "text": [
            "[[92700 92400 92100 94300 92300]\n",
            " [90000 91100 91700 92100 90900]]\n"
          ]
        }
      ]
    },
    {
      "cell_type": "code",
      "source": [
        "print(arr[0] * 3 + arr[1]  * 2)"
      ],
      "metadata": {
        "colab": {
          "base_uri": "https://localhost:8080/"
        },
        "id": "oqRgV-akuhU4",
        "outputId": "2a08a039-4916-424d-bd46-3d5a4a59cc93"
      },
      "execution_count": null,
      "outputs": [
        {
          "output_type": "stream",
          "name": "stdout",
          "text": [
            "[458100 459400 459700 467100 458700]\n"
          ]
        }
      ]
    },
    {
      "cell_type": "code",
      "source": [
        "weight = np.array( [ 3, 2 ] ).reshape(2, 1)\n",
        "print(weight)\n",
        "print((weight * arr).sum(axis=0))"
      ],
      "metadata": {
        "colab": {
          "base_uri": "https://localhost:8080/"
        },
        "id": "-6fIgyYcuc5Z",
        "outputId": "9f2a00e8-0066-4880-dcd9-fac635eda175"
      },
      "execution_count": null,
      "outputs": [
        {
          "output_type": "stream",
          "name": "stdout",
          "text": [
            "[[3]\n",
            " [2]]\n",
            "[458100 459400 459700 467100 458700]\n"
          ]
        }
      ]
    },
    {
      "cell_type": "markdown",
      "source": [
        "###조건 연산"
      ],
      "metadata": {
        "id": "Gqd3z26mv90A"
      }
    },
    {
      "cell_type": "code",
      "source": [
        "arr = np.array([10, 20, 30])\n",
        "print(arr > 10)"
      ],
      "metadata": {
        "colab": {
          "base_uri": "https://localhost:8080/"
        },
        "id": "8aBEML2MvrJw",
        "outputId": "3ed43c46-5a2d-4815-93b7-ec3290f6235e"
      },
      "execution_count": null,
      "outputs": [
        {
          "output_type": "stream",
          "name": "stdout",
          "text": [
            "[False  True  True]\n"
          ]
        }
      ]
    },
    {
      "cell_type": "code",
      "source": [
        "arr = np.array([10, 20, 30])\n",
        "cond = [False, True, True]\n",
        "print(arr[ cond ])"
      ],
      "metadata": {
        "colab": {
          "base_uri": "https://localhost:8080/"
        },
        "id": "R6vs_NzawCEy",
        "outputId": "18859655-db14-43d2-ef91-d869be2b3e10"
      },
      "execution_count": null,
      "outputs": [
        {
          "output_type": "stream",
          "name": "stdout",
          "text": [
            "[20 30]\n"
          ]
        }
      ]
    },
    {
      "cell_type": "code",
      "source": [
        "arr = np.array([10, 20, 30])\n",
        "print(arr[[False, True, True]])"
      ],
      "metadata": {
        "colab": {
          "base_uri": "https://localhost:8080/"
        },
        "id": "8XtrZYQfwIl4",
        "outputId": "5afb4638-4103-43ee-9a38-a6e13bfaf307"
      },
      "execution_count": null,
      "outputs": [
        {
          "output_type": "stream",
          "name": "stdout",
          "text": [
            "[20 30]\n"
          ]
        }
      ]
    },
    {
      "cell_type": "code",
      "source": [
        "arr = np.array([10, 20, 30])\n",
        "cond = arr > 10\n",
        "print(arr[ cond ])"
      ],
      "metadata": {
        "colab": {
          "base_uri": "https://localhost:8080/"
        },
        "id": "H2pHEBVxwL4s",
        "outputId": "2e194fee-b36b-4fb4-eaa2-4ecd5a8acd1c"
      },
      "execution_count": null,
      "outputs": [
        {
          "output_type": "stream",
          "name": "stdout",
          "text": [
            "[20 30]\n"
          ]
        }
      ]
    },
    {
      "cell_type": "code",
      "source": [
        "print(arr[ arr > 10 ])"
      ],
      "metadata": {
        "colab": {
          "base_uri": "https://localhost:8080/"
        },
        "id": "maFVKAIfwQgx",
        "outputId": "553a92a1-4587-4e91-a443-319cf69ef927"
      },
      "execution_count": null,
      "outputs": [
        {
          "output_type": "stream",
          "name": "stdout",
          "text": [
            "[20 30]\n"
          ]
        }
      ]
    },
    {
      "cell_type": "code",
      "source": [
        "cond.all()"
      ],
      "metadata": {
        "colab": {
          "base_uri": "https://localhost:8080/"
        },
        "id": "8M3XiTbwwQ_f",
        "outputId": "d78ad440-f854-4286-93ce-0307554a9f04"
      },
      "execution_count": null,
      "outputs": [
        {
          "output_type": "execute_result",
          "data": {
            "text/plain": [
              "False"
            ]
          },
          "metadata": {},
          "execution_count": 200
        }
      ]
    },
    {
      "cell_type": "code",
      "source": [
        "cond.any()"
      ],
      "metadata": {
        "colab": {
          "base_uri": "https://localhost:8080/"
        },
        "id": "Kt13il-vwWpF",
        "outputId": "cef1a5a6-a57f-4b87-e64c-8a258e08f34a"
      },
      "execution_count": null,
      "outputs": [
        {
          "output_type": "execute_result",
          "data": {
            "text/plain": [
              "True"
            ]
          },
          "metadata": {},
          "execution_count": 201
        }
      ]
    },
    {
      "cell_type": "code",
      "source": [
        "arr = np.array([10, 20, 30])\n",
        "cond0 = arr > 10\n",
        "cond1 = arr < 30\n",
        "print(arr[ cond0 & cond1 ])"
      ],
      "metadata": {
        "colab": {
          "base_uri": "https://localhost:8080/"
        },
        "id": "ikn4Gw37wbbK",
        "outputId": "35c19921-6603-40b7-b026-e3d2e69a215c"
      },
      "execution_count": null,
      "outputs": [
        {
          "output_type": "stream",
          "name": "stdout",
          "text": [
            "[20]\n"
          ]
        }
      ]
    },
    {
      "cell_type": "code",
      "source": [
        "arr = np.array([10, 20, 30])\n",
        "print(arr[ (arr > 10) & (arr < 30) ])"
      ],
      "metadata": {
        "colab": {
          "base_uri": "https://localhost:8080/"
        },
        "id": "cs5F111nwfEw",
        "outputId": "49938eeb-261c-480d-aa31-8413b75cfaab"
      },
      "execution_count": null,
      "outputs": [
        {
          "output_type": "stream",
          "name": "stdout",
          "text": [
            "[20]\n"
          ]
        }
      ]
    },
    {
      "cell_type": "code",
      "source": [
        "arr = np.array([10, 20, 30])\n",
        "cond = arr > 10\n",
        "print(cond)\n",
        "\n",
        "arr[cond] = 1\n",
        "arr[~cond] = 0\n",
        "print(arr)"
      ],
      "metadata": {
        "colab": {
          "base_uri": "https://localhost:8080/"
        },
        "id": "-7TACZzIwh8E",
        "outputId": "edd0077d-8e00-4f0f-c4b6-1d69c48658f4"
      },
      "execution_count": null,
      "outputs": [
        {
          "output_type": "stream",
          "name": "stdout",
          "text": [
            "[False  True  True]\n",
            "[0 1 1]\n"
          ]
        }
      ]
    },
    {
      "cell_type": "code",
      "source": [
        "arr = np.array([10, 20, 30])\n",
        "arr = np.where( arr > 10, 1, 0) #참일 경우 1, 거짓일 경우 0\n",
        "print(arr)"
      ],
      "metadata": {
        "colab": {
          "base_uri": "https://localhost:8080/"
        },
        "id": "Ywfra9Zuw_9K",
        "outputId": "ce110ccb-cc30-489d-bbe4-4df7c277f804"
      },
      "execution_count": null,
      "outputs": [
        {
          "output_type": "stream",
          "name": "stdout",
          "text": [
            "[0 1 1]\n"
          ]
        }
      ]
    },
    {
      "cell_type": "code",
      "source": [
        "arr = np.array([10, 20, 30])\n",
        "cond = arr > 10\n",
        "arr[cond] = arr[cond] + 10\n",
        "arr[~cond] = arr[~cond] - 10\n",
        "print(arr)"
      ],
      "metadata": {
        "colab": {
          "base_uri": "https://localhost:8080/"
        },
        "id": "-VZxsqUnxIWL",
        "outputId": "efc43441-74bb-495a-c47e-d48ca4b80a44"
      },
      "execution_count": null,
      "outputs": [
        {
          "output_type": "stream",
          "name": "stdout",
          "text": [
            "[ 0 30 40]\n"
          ]
        }
      ]
    },
    {
      "cell_type": "code",
      "source": [
        "arr = np.array([10, 20, 30])\n",
        "arr = np.where( arr > 10, arr+10, arr-10)\n",
        "print(arr)"
      ],
      "metadata": {
        "colab": {
          "base_uri": "https://localhost:8080/"
        },
        "id": "o80eJa2WxU66",
        "outputId": "43bc88aa-9fb3-4740-f634-1bcdb3da8f52"
      },
      "execution_count": null,
      "outputs": [
        {
          "output_type": "stream",
          "name": "stdout",
          "text": [
            "[ 0 30 40]\n"
          ]
        }
      ]
    },
    {
      "cell_type": "code",
      "source": [
        "lge = np.array([93000, 82400, 99100, 81000, 72300])\n",
        "\n",
        "result = lge[  lge <= 85000  ]\n",
        "print(result)\n",
        "print( len(result) )"
      ],
      "metadata": {
        "colab": {
          "base_uri": "https://localhost:8080/"
        },
        "id": "fVyJY8iExsvb",
        "outputId": "ae21fe16-0fef-4fae-dae6-cb570a7936ce"
      },
      "execution_count": null,
      "outputs": [
        {
          "output_type": "stream",
          "name": "stdout",
          "text": [
            "[82400 81000 72300]\n",
            "3\n"
          ]
        }
      ]
    },
    {
      "cell_type": "markdown",
      "source": [
        "###함수와 메서드"
      ],
      "metadata": {
        "id": "g-Cxzarfx28v"
      }
    },
    {
      "cell_type": "code",
      "source": [
        "arr = np.arange(8).reshape(4, 2)\n",
        "print(arr)\n",
        "print(arr.sum())"
      ],
      "metadata": {
        "colab": {
          "base_uri": "https://localhost:8080/"
        },
        "id": "9CNseCPox4aS",
        "outputId": "f15accc2-dbb1-4204-a7ab-bc697645fda1"
      },
      "execution_count": null,
      "outputs": [
        {
          "output_type": "stream",
          "name": "stdout",
          "text": [
            "[[0 1]\n",
            " [2 3]\n",
            " [4 5]\n",
            " [6 7]]\n",
            "28\n"
          ]
        }
      ]
    },
    {
      "cell_type": "code",
      "source": [
        "print(arr.sum(axis=0))\n",
        "print(arr.sum(axis=1))"
      ],
      "metadata": {
        "colab": {
          "base_uri": "https://localhost:8080/"
        },
        "id": "eY6zafZvyGCc",
        "outputId": "06fe6435-6123-4b75-9ef0-5a14e09bdd6f"
      },
      "execution_count": null,
      "outputs": [
        {
          "output_type": "stream",
          "name": "stdout",
          "text": [
            "[12 16]\n",
            "[ 1  5  9 13]\n"
          ]
        }
      ]
    },
    {
      "cell_type": "code",
      "source": [
        "np.random.randint(3) #0부터 2까지 범위에서 임의의 숫자 하나를 선택"
      ],
      "metadata": {
        "colab": {
          "base_uri": "https://localhost:8080/"
        },
        "id": "PpE6wz6KyNca",
        "outputId": "5999cce3-d188-4ceb-fe8b-3a75ee44a99c"
      },
      "execution_count": null,
      "outputs": [
        {
          "output_type": "execute_result",
          "data": {
            "text/plain": [
              "0"
            ]
          },
          "metadata": {},
          "execution_count": 226
        }
      ]
    },
    {
      "cell_type": "code",
      "source": [
        "print(np.random.randint(46, size=5))"
      ],
      "metadata": {
        "colab": {
          "base_uri": "https://localhost:8080/"
        },
        "id": "hvVTBYXgyWv1",
        "outputId": "d26620ba-cf93-4885-bb80-bd5331cf9a1a"
      },
      "execution_count": null,
      "outputs": [
        {
          "output_type": "stream",
          "name": "stdout",
          "text": [
            "[ 9 21 11 25 16]\n"
          ]
        }
      ]
    },
    {
      "cell_type": "code",
      "source": [
        "print(np.random.randint(46, size=(2, 5)))"
      ],
      "metadata": {
        "colab": {
          "base_uri": "https://localhost:8080/"
        },
        "id": "MTLB_SqLydJz",
        "outputId": "ab49099a-1376-444b-dcef-52fde704aa92"
      },
      "execution_count": null,
      "outputs": [
        {
          "output_type": "stream",
          "name": "stdout",
          "text": [
            "[[ 2  9 27 12 43]\n",
            " [32 10  3  8 33]]\n"
          ]
        }
      ]
    },
    {
      "cell_type": "code",
      "source": [
        "#linespace\n",
        "x = np.linspace(0, 10, 3) #0부터 10까지의 구간을 균등한 3개의 지점으로 분할하라는 의미\n",
        "print(x)"
      ],
      "metadata": {
        "colab": {
          "base_uri": "https://localhost:8080/"
        },
        "id": "-Etj7UwjyjIu",
        "outputId": "c386091f-538e-4c28-a0b1-cf21ddaa8239"
      },
      "execution_count": null,
      "outputs": [
        {
          "output_type": "stream",
          "name": "stdout",
          "text": [
            "[ 0.  5. 10.]\n"
          ]
        }
      ]
    },
    {
      "cell_type": "code",
      "source": [
        "#vstack\n",
        "a = np.arange(4)\n",
        "b = np.arange(4, 8)\n",
        "c = np.vstack( [a, b])\n",
        "print(c)"
      ],
      "metadata": {
        "colab": {
          "base_uri": "https://localhost:8080/"
        },
        "id": "8HJQnXZ_yxYd",
        "outputId": "1464489f-5d49-476a-8af1-88b25fd553bc"
      },
      "execution_count": null,
      "outputs": [
        {
          "output_type": "stream",
          "name": "stdout",
          "text": [
            "[[0 1 2 3]\n",
            " [4 5 6 7]]\n"
          ]
        }
      ]
    }
  ]
}