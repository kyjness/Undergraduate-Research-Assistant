{
  "nbformat": 4,
  "nbformat_minor": 0,
  "metadata": {
    "colab": {
      "provenance": [],
      "authorship_tag": "ABX9TyPJ8Hfqk9n/Lsxasnqtqdu1",
      "include_colab_link": true
    },
    "kernelspec": {
      "name": "python3",
      "display_name": "Python 3"
    },
    "language_info": {
      "name": "python"
    }
  },
  "cells": [
    {
      "cell_type": "markdown",
      "metadata": {
        "id": "view-in-github",
        "colab_type": "text"
      },
      "source": [
        "<a href=\"https://colab.research.google.com/github/kyjness/Undergraduate-Research-Assistant/blob/main/4%EC%A3%BC%EC%B0%A8_Pytorch%EB%A1%9C_%EC%8B%9C%EC%9E%91%ED%95%98%EB%8A%94_%EB%94%A5%EB%9F%AC%EB%8B%9D_%EC%9E%85%EB%AC%B8(5_8).ipynb\" target=\"_parent\"><img src=\"https://colab.research.google.com/assets/colab-badge.svg\" alt=\"Open In Colab\"/></a>"
      ]
    },
    {
      "cell_type": "markdown",
      "source": [
        "#05. [ML 입문] - 소프트맥스 회귀(Softmax Regression)"
      ],
      "metadata": {
        "id": "032sdRLzxsTo"
      }
    },
    {
      "cell_type": "markdown",
      "source": [
        "##05-01 원-핫 인코딩(One-Hot Encoding)"
      ],
      "metadata": {
        "id": "qSUlZF4Gxw0q"
      }
    },
    {
      "cell_type": "markdown",
      "source": [
        "##05-02 소프트맥스 회귀(Softmax Regression) 이해하기"
      ],
      "metadata": {
        "id": "AWJjZsd1xzGp"
      }
    },
    {
      "cell_type": "markdown",
      "source": [
        "##05-03 소프트맥스 회귀 다양한 방법으로 구현하기"
      ],
      "metadata": {
        "id": "LoJ2-ortx1RB"
      }
    },
    {
      "cell_type": "code",
      "source": [
        "import torch\n",
        "import torch.nn.functional as F\n",
        "torch.manual_seed(1)"
      ],
      "metadata": {
        "id": "jA4ng8hdyj-f",
        "colab": {
          "base_uri": "https://localhost:8080/"
        },
        "outputId": "6dc72a76-36d3-4bce-96a0-29cbcfd18769"
      },
      "execution_count": 1,
      "outputs": [
        {
          "output_type": "execute_result",
          "data": {
            "text/plain": [
              "<torch._C.Generator at 0x7ed118170db0>"
            ]
          },
          "metadata": {},
          "execution_count": 1
        }
      ]
    },
    {
      "cell_type": "markdown",
      "source": [
        "###1. 소프트맥스 회귀의 비용 함수 구현"
      ],
      "metadata": {
        "id": "T4LhIazrDMhu"
      }
    },
    {
      "cell_type": "markdown",
      "source": [
        "1) 파이토치로 소프트맥스의 비용 함수 구현하기 (로우-레벨)"
      ],
      "metadata": {
        "id": "eANJH6PiHHnf"
      }
    },
    {
      "cell_type": "code",
      "source": [
        "z = torch.FloatTensor([1, 2, 3])\n",
        "hypothesis = F.softmax(z, dim=0)\n",
        "print(hypothesis)"
      ],
      "metadata": {
        "colab": {
          "base_uri": "https://localhost:8080/"
        },
        "id": "la1vddCfDLCf",
        "outputId": "cf0e7af3-96eb-48d8-c2ed-eec25220c1e7"
      },
      "execution_count": 2,
      "outputs": [
        {
          "output_type": "stream",
          "name": "stdout",
          "text": [
            "tensor([0.0900, 0.2447, 0.6652])\n"
          ]
        }
      ]
    },
    {
      "cell_type": "code",
      "source": [
        "hypothesis.sum()"
      ],
      "metadata": {
        "colab": {
          "base_uri": "https://localhost:8080/"
        },
        "id": "m9-HmzxyEUGn",
        "outputId": "e1a089d9-0e6a-44d4-81b1-b7b486848c8f"
      },
      "execution_count": 3,
      "outputs": [
        {
          "output_type": "execute_result",
          "data": {
            "text/plain": [
              "tensor(1.)"
            ]
          },
          "metadata": {},
          "execution_count": 3
        }
      ]
    },
    {
      "cell_type": "code",
      "source": [
        "z = torch.rand(3, 5, requires_grad=True)\n",
        "hypothesis = F.softmax(z, dim=1)\n",
        "print(hypothesis)"
      ],
      "metadata": {
        "colab": {
          "base_uri": "https://localhost:8080/"
        },
        "id": "_LMp80CmEV0N",
        "outputId": "ad610c99-4755-4a36-91b2-580a3186b68f"
      },
      "execution_count": 4,
      "outputs": [
        {
          "output_type": "stream",
          "name": "stdout",
          "text": [
            "tensor([[0.2645, 0.1639, 0.1855, 0.2585, 0.1277],\n",
            "        [0.2430, 0.1624, 0.2322, 0.1930, 0.1694],\n",
            "        [0.2226, 0.1986, 0.2326, 0.1594, 0.1868]], grad_fn=<SoftmaxBackward0>)\n"
          ]
        }
      ]
    },
    {
      "cell_type": "code",
      "source": [
        "y = torch.randint(5, (3,)).long()\n",
        "print(y)"
      ],
      "metadata": {
        "colab": {
          "base_uri": "https://localhost:8080/"
        },
        "id": "wWfOuwxGEeuW",
        "outputId": "8e3c78b1-3396-4fd8-b013-aa6497373323"
      },
      "execution_count": 5,
      "outputs": [
        {
          "output_type": "stream",
          "name": "stdout",
          "text": [
            "tensor([0, 2, 1])\n"
          ]
        }
      ]
    },
    {
      "cell_type": "code",
      "source": [
        "# 모든 원소가 0의 값을 가진 3 × 5 텐서 생성\n",
        "y_one_hot = torch.zeros_like(hypothesis)\n",
        "y_one_hot.scatter_(1, y.unsqueeze(1), 1)"
      ],
      "metadata": {
        "colab": {
          "base_uri": "https://localhost:8080/"
        },
        "id": "8QujO-fxEjkG",
        "outputId": "a546a97a-e7f0-4c84-da9f-05ac84354696"
      },
      "execution_count": 6,
      "outputs": [
        {
          "output_type": "execute_result",
          "data": {
            "text/plain": [
              "tensor([[1., 0., 0., 0., 0.],\n",
              "        [0., 0., 1., 0., 0.],\n",
              "        [0., 1., 0., 0., 0.]])"
            ]
          },
          "metadata": {},
          "execution_count": 6
        }
      ]
    },
    {
      "cell_type": "code",
      "source": [
        "print(y.unsqueeze(1))"
      ],
      "metadata": {
        "colab": {
          "base_uri": "https://localhost:8080/"
        },
        "id": "mKtkdsZwEl5O",
        "outputId": "fea49cf1-a16c-447b-db67-ea290b6f4e44"
      },
      "execution_count": 7,
      "outputs": [
        {
          "output_type": "stream",
          "name": "stdout",
          "text": [
            "tensor([[0],\n",
            "        [2],\n",
            "        [1]])\n"
          ]
        }
      ]
    },
    {
      "cell_type": "code",
      "source": [
        "print(y_one_hot)"
      ],
      "metadata": {
        "colab": {
          "base_uri": "https://localhost:8080/"
        },
        "id": "8Tev-TarEpgW",
        "outputId": "1694a6ec-203b-4eb9-e37a-55cbb18c81cb"
      },
      "execution_count": 8,
      "outputs": [
        {
          "output_type": "stream",
          "name": "stdout",
          "text": [
            "tensor([[1., 0., 0., 0., 0.],\n",
            "        [0., 0., 1., 0., 0.],\n",
            "        [0., 1., 0., 0., 0.]])\n"
          ]
        }
      ]
    },
    {
      "cell_type": "code",
      "source": [
        "cost = (y_one_hot * -torch.log(hypothesis)).sum(dim=1).mean()\n",
        "print(cost)"
      ],
      "metadata": {
        "colab": {
          "base_uri": "https://localhost:8080/"
        },
        "id": "7Kq8HtLfEp-1",
        "outputId": "5fc12efc-4d3d-42ee-f6b0-427efbd6f4b4"
      },
      "execution_count": 9,
      "outputs": [
        {
          "output_type": "stream",
          "name": "stdout",
          "text": [
            "tensor(1.4689, grad_fn=<MeanBackward0>)\n"
          ]
        }
      ]
    },
    {
      "cell_type": "markdown",
      "source": [
        "2) 파이토치로 소프트맥스의 비용 함수 구현하기 (하이-레벨)"
      ],
      "metadata": {
        "id": "UxGo0kUGEtH_"
      }
    },
    {
      "cell_type": "code",
      "source": [
        "# Low level\n",
        "torch.log(F.softmax(z, dim=1))"
      ],
      "metadata": {
        "colab": {
          "base_uri": "https://localhost:8080/"
        },
        "id": "8B58pxSmEtyM",
        "outputId": "02602305-bf74-4b78-aaa4-43078789709e"
      },
      "execution_count": 10,
      "outputs": [
        {
          "output_type": "execute_result",
          "data": {
            "text/plain": [
              "tensor([[-1.3301, -1.8084, -1.6846, -1.3530, -2.0584],\n",
              "        [-1.4147, -1.8174, -1.4602, -1.6450, -1.7758],\n",
              "        [-1.5025, -1.6165, -1.4586, -1.8360, -1.6776]], grad_fn=<LogBackward0>)"
            ]
          },
          "metadata": {},
          "execution_count": 10
        }
      ]
    },
    {
      "cell_type": "code",
      "source": [
        "# High level\n",
        "F.log_softmax(z, dim=1)"
      ],
      "metadata": {
        "colab": {
          "base_uri": "https://localhost:8080/"
        },
        "id": "oqOEEHN4Ewb3",
        "outputId": "3a75d9c4-1d46-47f3-cd90-5b642798e70f"
      },
      "execution_count": 11,
      "outputs": [
        {
          "output_type": "execute_result",
          "data": {
            "text/plain": [
              "tensor([[-1.3301, -1.8084, -1.6846, -1.3530, -2.0584],\n",
              "        [-1.4147, -1.8174, -1.4602, -1.6450, -1.7758],\n",
              "        [-1.5025, -1.6165, -1.4586, -1.8360, -1.6776]],\n",
              "       grad_fn=<LogSoftmaxBackward0>)"
            ]
          },
          "metadata": {},
          "execution_count": 11
        }
      ]
    },
    {
      "cell_type": "code",
      "source": [
        "# Low level\n",
        "# 첫번째 수식\n",
        "(y_one_hot * -torch.log(F.softmax(z, dim=1))).sum(dim=1).mean()"
      ],
      "metadata": {
        "colab": {
          "base_uri": "https://localhost:8080/"
        },
        "id": "SaxVHUqBE5Ip",
        "outputId": "475e510c-1aa4-4cb9-edee-cbdbfdb93a97"
      },
      "execution_count": 12,
      "outputs": [
        {
          "output_type": "execute_result",
          "data": {
            "text/plain": [
              "tensor(1.4689, grad_fn=<MeanBackward0>)"
            ]
          },
          "metadata": {},
          "execution_count": 12
        }
      ]
    },
    {
      "cell_type": "code",
      "source": [
        "# 두번째 수식\n",
        "(y_one_hot * - F.log_softmax(z, dim=1)).sum(dim=1).mean()"
      ],
      "metadata": {
        "colab": {
          "base_uri": "https://localhost:8080/"
        },
        "id": "JvZ_sziVE5sm",
        "outputId": "14c11634-b8d7-4b83-9f89-abf9e54a2922"
      },
      "execution_count": 13,
      "outputs": [
        {
          "output_type": "execute_result",
          "data": {
            "text/plain": [
              "tensor(1.4689, grad_fn=<MeanBackward0>)"
            ]
          },
          "metadata": {},
          "execution_count": 13
        }
      ]
    },
    {
      "cell_type": "code",
      "source": [
        "# High level\n",
        "# 세번째 수식\n",
        "F.nll_loss(F.log_softmax(z, dim=1), y)"
      ],
      "metadata": {
        "colab": {
          "base_uri": "https://localhost:8080/"
        },
        "id": "VwF_ERQXE7hv",
        "outputId": "f2134d1d-740c-4f73-fb37-1cafad49efa8"
      },
      "execution_count": 14,
      "outputs": [
        {
          "output_type": "execute_result",
          "data": {
            "text/plain": [
              "tensor(1.4689, grad_fn=<NllLossBackward0>)"
            ]
          },
          "metadata": {},
          "execution_count": 14
        }
      ]
    },
    {
      "cell_type": "code",
      "source": [
        "# 네번째 수식\n",
        "F.cross_entropy(z, y)"
      ],
      "metadata": {
        "colab": {
          "base_uri": "https://localhost:8080/"
        },
        "id": "dNip2xPVE8_F",
        "outputId": "baff28df-3f83-4083-e324-260e69da3f19"
      },
      "execution_count": 15,
      "outputs": [
        {
          "output_type": "execute_result",
          "data": {
            "text/plain": [
              "tensor(1.4689, grad_fn=<NllLossBackward0>)"
            ]
          },
          "metadata": {},
          "execution_count": 15
        }
      ]
    },
    {
      "cell_type": "markdown",
      "source": [
        "###2. 소프트맥스 회귀 구현하기"
      ],
      "metadata": {
        "id": "LM6NXmc3HPPZ"
      }
    },
    {
      "cell_type": "markdown",
      "source": [
        "1) 데이터셋 준비"
      ],
      "metadata": {
        "id": "SmdhvaM8HP8v"
      }
    },
    {
      "cell_type": "code",
      "source": [
        "import torch\n",
        "import torch.nn as nn\n",
        "import torch.nn.functional as F\n",
        "import torch.optim as optim\n",
        "torch.manual_seed(1)"
      ],
      "metadata": {
        "colab": {
          "base_uri": "https://localhost:8080/"
        },
        "id": "lGPB9IdbH8Xw",
        "outputId": "f15bf08f-93f0-4944-a82a-f411cbc1f59c"
      },
      "execution_count": 16,
      "outputs": [
        {
          "output_type": "execute_result",
          "data": {
            "text/plain": [
              "<torch._C.Generator at 0x7ed118170db0>"
            ]
          },
          "metadata": {},
          "execution_count": 16
        }
      ]
    },
    {
      "cell_type": "code",
      "source": [
        "x_train = [[1, 2, 1, 1],\n",
        "           [2, 1, 3, 2],\n",
        "           [3, 1, 3, 4],\n",
        "           [4, 1, 5, 5],\n",
        "           [1, 7, 5, 5],\n",
        "           [1, 2, 5, 6],\n",
        "           [1, 6, 6, 6],\n",
        "           [1, 7, 7, 7]]\n",
        "y_train = [2, 2, 2, 1, 1, 1, 0, 0]\n",
        "x_train = torch.FloatTensor(x_train)\n",
        "y_train = torch.LongTensor(y_train)"
      ],
      "metadata": {
        "id": "gqcOwU3gH-fe"
      },
      "execution_count": 17,
      "outputs": []
    },
    {
      "cell_type": "markdown",
      "source": [
        "2) 소프트맥스 회귀 구현하기(로우-레벨)"
      ],
      "metadata": {
        "id": "PhuIuQZ_IBNm"
      }
    },
    {
      "cell_type": "code",
      "source": [
        "print(x_train.shape)\n",
        "print(y_train.shape)"
      ],
      "metadata": {
        "colab": {
          "base_uri": "https://localhost:8080/"
        },
        "id": "nE7jJJt4IEet",
        "outputId": "cb317be0-991a-4285-e293-f5cc08745143"
      },
      "execution_count": 18,
      "outputs": [
        {
          "output_type": "stream",
          "name": "stdout",
          "text": [
            "torch.Size([8, 4])\n",
            "torch.Size([8])\n"
          ]
        }
      ]
    },
    {
      "cell_type": "code",
      "source": [
        "y_one_hot = torch.zeros(8, 3)\n",
        "y_one_hot.scatter_(1, y_train.unsqueeze(1), 1)\n",
        "print(y_one_hot.shape)"
      ],
      "metadata": {
        "colab": {
          "base_uri": "https://localhost:8080/"
        },
        "id": "Ur7mEXjwIHpG",
        "outputId": "1ceae589-e86f-4c4a-c0bc-feb41d82fd9d"
      },
      "execution_count": 19,
      "outputs": [
        {
          "output_type": "stream",
          "name": "stdout",
          "text": [
            "torch.Size([8, 3])\n"
          ]
        }
      ]
    },
    {
      "cell_type": "code",
      "source": [
        "# 모델 초기화\n",
        "W = torch.zeros((4, 3), requires_grad=True)\n",
        "b = torch.zeros((1, 3), requires_grad=True)\n",
        "# optimizer 설정\n",
        "optimizer = optim.SGD([W, b], lr=0.1)"
      ],
      "metadata": {
        "id": "CLECWsAsIIYQ"
      },
      "execution_count": 20,
      "outputs": []
    },
    {
      "cell_type": "code",
      "source": [
        "nb_epochs = 1000\n",
        "for epoch in range(nb_epochs + 1):\n",
        "\n",
        "    # 가설\n",
        "    hypothesis = F.softmax(x_train.matmul(W) + b, dim=1)\n",
        "\n",
        "    # 비용 함수\n",
        "    cost = (y_one_hot * -torch.log(hypothesis)).sum(dim=1).mean()\n",
        "\n",
        "    # cost로 H(x) 개선\n",
        "    optimizer.zero_grad()\n",
        "    cost.backward()\n",
        "    optimizer.step()\n",
        "\n",
        "    # 100번마다 로그 출력\n",
        "    if epoch % 100 == 0:\n",
        "        print('Epoch {:4d}/{} Cost: {:.6f}'.format(\n",
        "            epoch, nb_epochs, cost.item()\n",
        "        ))"
      ],
      "metadata": {
        "colab": {
          "base_uri": "https://localhost:8080/"
        },
        "id": "UFawF_5IINLI",
        "outputId": "0b11ebbe-6d41-491b-dbe2-840abb30bc29"
      },
      "execution_count": 21,
      "outputs": [
        {
          "output_type": "stream",
          "name": "stdout",
          "text": [
            "Epoch    0/1000 Cost: 1.098612\n",
            "Epoch  100/1000 Cost: 0.704199\n",
            "Epoch  200/1000 Cost: 0.622999\n",
            "Epoch  300/1000 Cost: 0.565717\n",
            "Epoch  400/1000 Cost: 0.515291\n",
            "Epoch  500/1000 Cost: 0.467661\n",
            "Epoch  600/1000 Cost: 0.421278\n",
            "Epoch  700/1000 Cost: 0.375402\n",
            "Epoch  800/1000 Cost: 0.329766\n",
            "Epoch  900/1000 Cost: 0.285072\n",
            "Epoch 1000/1000 Cost: 0.248155\n"
          ]
        }
      ]
    },
    {
      "cell_type": "markdown",
      "source": [
        "3) 소프트맥스 회귀 구현하기(하이-레벨)"
      ],
      "metadata": {
        "id": "ALLEpyUwIRGw"
      }
    },
    {
      "cell_type": "code",
      "source": [
        "# 모델 초기화\n",
        "W = torch.zeros((4, 3), requires_grad=True)\n",
        "b = torch.zeros((1, 3), requires_grad=True)\n",
        "# optimizer 설정\n",
        "optimizer = optim.SGD([W, b], lr=0.1)\n",
        "\n",
        "nb_epochs = 1000\n",
        "for epoch in range(nb_epochs + 1):\n",
        "\n",
        "    # Cost 계산\n",
        "    z = x_train.matmul(W) + b\n",
        "    cost = F.cross_entropy(z, y_train)\n",
        "\n",
        "    # cost로 H(x) 개선\n",
        "    optimizer.zero_grad()\n",
        "    cost.backward()\n",
        "    optimizer.step()\n",
        "\n",
        "    # 100번마다 로그 출력\n",
        "    if epoch % 100 == 0:\n",
        "        print('Epoch {:4d}/{} Cost: {:.6f}'.format(\n",
        "            epoch, nb_epochs, cost.item()\n",
        "        ))"
      ],
      "metadata": {
        "colab": {
          "base_uri": "https://localhost:8080/"
        },
        "id": "7HtzS2yTIP_h",
        "outputId": "1ac363f4-eb86-4fef-9c2f-67b28f718e04"
      },
      "execution_count": 22,
      "outputs": [
        {
          "output_type": "stream",
          "name": "stdout",
          "text": [
            "Epoch    0/1000 Cost: 1.098612\n",
            "Epoch  100/1000 Cost: 0.704199\n",
            "Epoch  200/1000 Cost: 0.623000\n",
            "Epoch  300/1000 Cost: 0.565717\n",
            "Epoch  400/1000 Cost: 0.515291\n",
            "Epoch  500/1000 Cost: 0.467662\n",
            "Epoch  600/1000 Cost: 0.421278\n",
            "Epoch  700/1000 Cost: 0.375402\n",
            "Epoch  800/1000 Cost: 0.329766\n",
            "Epoch  900/1000 Cost: 0.285073\n",
            "Epoch 1000/1000 Cost: 0.248155\n"
          ]
        }
      ]
    },
    {
      "cell_type": "markdown",
      "source": [
        "4) 소프트맥스 회귀 nn.Module로 구현하기"
      ],
      "metadata": {
        "id": "L9RO7M-wIXFi"
      }
    },
    {
      "cell_type": "code",
      "source": [
        "# 모델을 선언 및 초기화. 4개의 특성을 가지고 3개의 클래스로 분류. input_dim=4, output_dim=3.\n",
        "model = nn.Linear(4, 3)"
      ],
      "metadata": {
        "id": "Bhv3IcjdIVFv"
      },
      "execution_count": 23,
      "outputs": []
    },
    {
      "cell_type": "code",
      "source": [
        "# optimizer 설정\n",
        "optimizer = optim.SGD(model.parameters(), lr=0.1)\n",
        "\n",
        "nb_epochs = 1000\n",
        "for epoch in range(nb_epochs + 1):\n",
        "\n",
        "    # H(x) 계산\n",
        "    prediction = model(x_train)\n",
        "\n",
        "    # cost 계산\n",
        "    cost = F.cross_entropy(prediction, y_train)\n",
        "\n",
        "    # cost로 H(x) 개선\n",
        "    optimizer.zero_grad()\n",
        "    cost.backward()\n",
        "    optimizer.step()\n",
        "\n",
        "    # 20번마다 로그 출력\n",
        "    if epoch % 100 == 0:\n",
        "        print('Epoch {:4d}/{} Cost: {:.6f}'.format(\n",
        "            epoch, nb_epochs, cost.item()\n",
        "        ))"
      ],
      "metadata": {
        "colab": {
          "base_uri": "https://localhost:8080/"
        },
        "id": "aMF3FX2JIZSR",
        "outputId": "ba883202-25a2-4a40-c73b-a850dbfa0317"
      },
      "execution_count": 24,
      "outputs": [
        {
          "output_type": "stream",
          "name": "stdout",
          "text": [
            "Epoch    0/1000 Cost: 1.616785\n",
            "Epoch  100/1000 Cost: 0.658891\n",
            "Epoch  200/1000 Cost: 0.573443\n",
            "Epoch  300/1000 Cost: 0.518151\n",
            "Epoch  400/1000 Cost: 0.473265\n",
            "Epoch  500/1000 Cost: 0.433516\n",
            "Epoch  600/1000 Cost: 0.396563\n",
            "Epoch  700/1000 Cost: 0.360914\n",
            "Epoch  800/1000 Cost: 0.325392\n",
            "Epoch  900/1000 Cost: 0.289178\n",
            "Epoch 1000/1000 Cost: 0.254148\n"
          ]
        }
      ]
    },
    {
      "cell_type": "markdown",
      "source": [
        "5) 소프트맥스 회귀 클래스로 구현하기"
      ],
      "metadata": {
        "id": "Z1ghgWYiIe2p"
      }
    },
    {
      "cell_type": "code",
      "source": [
        "class SoftmaxClassifierModel(nn.Module):\n",
        "    def __init__(self):\n",
        "        super().__init__()\n",
        "        self.linear = nn.Linear(4, 3) # Output이 3!\n",
        "\n",
        "    def forward(self, x):\n",
        "        return self.linear(x)"
      ],
      "metadata": {
        "id": "zI4-uMejIfK2"
      },
      "execution_count": 25,
      "outputs": []
    },
    {
      "cell_type": "code",
      "source": [
        "model = SoftmaxClassifierModel()\n",
        "\n",
        "# optimizer 설정\n",
        "optimizer = optim.SGD(model.parameters(), lr=0.1)"
      ],
      "metadata": {
        "id": "KFAW4r1fIiQI"
      },
      "execution_count": 26,
      "outputs": []
    },
    {
      "cell_type": "code",
      "source": [
        "nb_epochs = 1000\n",
        "for epoch in range(nb_epochs + 1):\n",
        "\n",
        "    # H(x) 계산\n",
        "    prediction = model(x_train)\n",
        "\n",
        "    # cost 계산\n",
        "    cost = F.cross_entropy(prediction, y_train)\n",
        "\n",
        "    # cost로 H(x) 개선\n",
        "    optimizer.zero_grad()\n",
        "    cost.backward()\n",
        "    optimizer.step()\n",
        "\n",
        "    # 20번마다 로그 출력\n",
        "    if epoch % 100 == 0:\n",
        "        print('Epoch {:4d}/{} Cost: {:.6f}'.format(\n",
        "            epoch, nb_epochs, cost.item()\n",
        "        ))"
      ],
      "metadata": {
        "colab": {
          "base_uri": "https://localhost:8080/"
        },
        "id": "QqnodLn0Ii1H",
        "outputId": "7e436f1b-6d85-47b6-ac24-a172f223afc8"
      },
      "execution_count": 27,
      "outputs": [
        {
          "output_type": "stream",
          "name": "stdout",
          "text": [
            "Epoch    0/1000 Cost: 2.637636\n",
            "Epoch  100/1000 Cost: 0.647903\n",
            "Epoch  200/1000 Cost: 0.564643\n",
            "Epoch  300/1000 Cost: 0.511043\n",
            "Epoch  400/1000 Cost: 0.467249\n",
            "Epoch  500/1000 Cost: 0.428280\n",
            "Epoch  600/1000 Cost: 0.391924\n",
            "Epoch  700/1000 Cost: 0.356742\n",
            "Epoch  800/1000 Cost: 0.321577\n",
            "Epoch  900/1000 Cost: 0.285617\n",
            "Epoch 1000/1000 Cost: 0.250818\n"
          ]
        }
      ]
    },
    {
      "cell_type": "markdown",
      "source": [
        "##05-04 소프트맥스 회귀로 MNIST 데이터 분류하기"
      ],
      "metadata": {
        "id": "v_OUtphWx3sT"
      }
    },
    {
      "cell_type": "markdown",
      "source": [
        "###3. 분류기 구현을 위한 사전 설정"
      ],
      "metadata": {
        "id": "DD_9B2fjI2_P"
      }
    },
    {
      "cell_type": "code",
      "source": [
        "import torch\n",
        "import torchvision.datasets as dsets\n",
        "import torchvision.transforms as transforms\n",
        "from torch.utils.data import DataLoader\n",
        "import torch.nn as nn\n",
        "import matplotlib.pyplot as plt\n",
        "import random"
      ],
      "metadata": {
        "id": "iy7oFnYCI1cJ"
      },
      "execution_count": 29,
      "outputs": []
    },
    {
      "cell_type": "code",
      "source": [
        "USE_CUDA = torch.cuda.is_available() # GPU를 사용가능하면 True, 아니라면 False를 리턴\n",
        "device = torch.device(\"cuda\" if USE_CUDA else \"cpu\") # GPU 사용 가능하면 사용하고 아니면 CPU 사용\n",
        "print(\"다음 기기로 학습합니다:\", device)"
      ],
      "metadata": {
        "colab": {
          "base_uri": "https://localhost:8080/"
        },
        "id": "TaLjfcmTI3-Y",
        "outputId": "06a58d39-1857-4bc4-edbb-777854687dcf"
      },
      "execution_count": 30,
      "outputs": [
        {
          "output_type": "stream",
          "name": "stdout",
          "text": [
            "다음 기기로 학습합니다: cpu\n"
          ]
        }
      ]
    },
    {
      "cell_type": "code",
      "source": [
        "# for reproducibility\n",
        "random.seed(777)\n",
        "torch.manual_seed(777)\n",
        "if device == 'cuda':\n",
        "    torch.cuda.manual_seed_all(777)"
      ],
      "metadata": {
        "id": "FZLCn3AAI7r3"
      },
      "execution_count": 31,
      "outputs": []
    },
    {
      "cell_type": "code",
      "source": [
        "# hyperparameters\n",
        "training_epochs = 15\n",
        "batch_size = 100"
      ],
      "metadata": {
        "id": "dZiTjBUZI8f3"
      },
      "execution_count": 32,
      "outputs": []
    },
    {
      "cell_type": "markdown",
      "source": [
        "###4. MNIST 분류기 구현하기"
      ],
      "metadata": {
        "id": "WtJ8MvmMI-tp"
      }
    },
    {
      "cell_type": "code",
      "source": [
        "# MNIST dataset\n",
        "mnist_train = dsets.MNIST(root='MNIST_data/',\n",
        "                          train=True,\n",
        "                          transform=transforms.ToTensor(),\n",
        "                          download=True)\n",
        "\n",
        "mnist_test = dsets.MNIST(root='MNIST_data/',\n",
        "                         train=False,\n",
        "                         transform=transforms.ToTensor(),\n",
        "                         download=True)"
      ],
      "metadata": {
        "colab": {
          "base_uri": "https://localhost:8080/"
        },
        "id": "cf_037qsJtUD",
        "outputId": "9fca169c-72fb-4ee5-a54b-828c0c3b58a2"
      },
      "execution_count": 33,
      "outputs": [
        {
          "output_type": "stream",
          "name": "stdout",
          "text": [
            "Downloading http://yann.lecun.com/exdb/mnist/train-images-idx3-ubyte.gz\n",
            "Failed to download (trying next):\n",
            "HTTP Error 403: Forbidden\n",
            "\n",
            "Downloading https://ossci-datasets.s3.amazonaws.com/mnist/train-images-idx3-ubyte.gz\n",
            "Downloading https://ossci-datasets.s3.amazonaws.com/mnist/train-images-idx3-ubyte.gz to MNIST_data/MNIST/raw/train-images-idx3-ubyte.gz\n"
          ]
        },
        {
          "output_type": "stream",
          "name": "stderr",
          "text": [
            "100%|██████████| 9912422/9912422 [00:00<00:00, 58497030.17it/s]\n"
          ]
        },
        {
          "output_type": "stream",
          "name": "stdout",
          "text": [
            "Extracting MNIST_data/MNIST/raw/train-images-idx3-ubyte.gz to MNIST_data/MNIST/raw\n",
            "\n",
            "Downloading http://yann.lecun.com/exdb/mnist/train-labels-idx1-ubyte.gz\n",
            "Failed to download (trying next):\n",
            "HTTP Error 403: Forbidden\n",
            "\n",
            "Downloading https://ossci-datasets.s3.amazonaws.com/mnist/train-labels-idx1-ubyte.gz\n",
            "Downloading https://ossci-datasets.s3.amazonaws.com/mnist/train-labels-idx1-ubyte.gz to MNIST_data/MNIST/raw/train-labels-idx1-ubyte.gz\n"
          ]
        },
        {
          "output_type": "stream",
          "name": "stderr",
          "text": [
            "100%|██████████| 28881/28881 [00:00<00:00, 2442301.13it/s]"
          ]
        },
        {
          "output_type": "stream",
          "name": "stdout",
          "text": [
            "Extracting MNIST_data/MNIST/raw/train-labels-idx1-ubyte.gz to MNIST_data/MNIST/raw\n",
            "\n",
            "Downloading http://yann.lecun.com/exdb/mnist/t10k-images-idx3-ubyte.gz\n"
          ]
        },
        {
          "output_type": "stream",
          "name": "stderr",
          "text": [
            "\n"
          ]
        },
        {
          "output_type": "stream",
          "name": "stdout",
          "text": [
            "Failed to download (trying next):\n",
            "HTTP Error 403: Forbidden\n",
            "\n",
            "Downloading https://ossci-datasets.s3.amazonaws.com/mnist/t10k-images-idx3-ubyte.gz\n",
            "Downloading https://ossci-datasets.s3.amazonaws.com/mnist/t10k-images-idx3-ubyte.gz to MNIST_data/MNIST/raw/t10k-images-idx3-ubyte.gz\n"
          ]
        },
        {
          "output_type": "stream",
          "name": "stderr",
          "text": [
            "100%|██████████| 1648877/1648877 [00:00<00:00, 14315681.46it/s]\n"
          ]
        },
        {
          "output_type": "stream",
          "name": "stdout",
          "text": [
            "Extracting MNIST_data/MNIST/raw/t10k-images-idx3-ubyte.gz to MNIST_data/MNIST/raw\n",
            "\n",
            "Downloading http://yann.lecun.com/exdb/mnist/t10k-labels-idx1-ubyte.gz\n",
            "Failed to download (trying next):\n",
            "HTTP Error 403: Forbidden\n",
            "\n",
            "Downloading https://ossci-datasets.s3.amazonaws.com/mnist/t10k-labels-idx1-ubyte.gz\n",
            "Downloading https://ossci-datasets.s3.amazonaws.com/mnist/t10k-labels-idx1-ubyte.gz to MNIST_data/MNIST/raw/t10k-labels-idx1-ubyte.gz\n"
          ]
        },
        {
          "output_type": "stream",
          "name": "stderr",
          "text": [
            "100%|██████████| 4542/4542 [00:00<00:00, 9421626.49it/s]"
          ]
        },
        {
          "output_type": "stream",
          "name": "stdout",
          "text": [
            "Extracting MNIST_data/MNIST/raw/t10k-labels-idx1-ubyte.gz to MNIST_data/MNIST/raw\n",
            "\n"
          ]
        },
        {
          "output_type": "stream",
          "name": "stderr",
          "text": [
            "\n"
          ]
        }
      ]
    },
    {
      "cell_type": "code",
      "source": [
        "# dataset loader\n",
        "data_loader = DataLoader(dataset=mnist_train,\n",
        "                                          batch_size=batch_size, # 배치 크기는 100\n",
        "                                          shuffle=True,\n",
        "                                          drop_last=True)"
      ],
      "metadata": {
        "id": "IriPb2_zJvQV"
      },
      "execution_count": 34,
      "outputs": []
    },
    {
      "cell_type": "code",
      "source": [
        "# MNIST data image of shape 28 * 28 = 784\n",
        "linear = nn.Linear(784, 10, bias=True).to(device)"
      ],
      "metadata": {
        "id": "AA01xvxLJztI"
      },
      "execution_count": 35,
      "outputs": []
    },
    {
      "cell_type": "code",
      "source": [
        "# 비용 함수와 옵티마이저 정의\n",
        "criterion = nn.CrossEntropyLoss().to(device) # 내부적으로 소프트맥스 함수를 포함하고 있음.\n",
        "optimizer = torch.optim.SGD(linear.parameters(), lr=0.1)"
      ],
      "metadata": {
        "id": "vZbxnKaVJ35Q"
      },
      "execution_count": 36,
      "outputs": []
    },
    {
      "cell_type": "code",
      "source": [
        "for epoch in range(training_epochs): # 앞서 training_epochs의 값은 15로 지정함.\n",
        "    avg_cost = 0\n",
        "    total_batch = len(data_loader)\n",
        "\n",
        "    for X, Y in data_loader:\n",
        "        # 배치 크기가 100이므로 아래의 연산에서 X는 (100, 784)의 텐서가 된다.\n",
        "        X = X.view(-1, 28 * 28).to(device)\n",
        "        # 레이블은 원-핫 인코딩이 된 상태가 아니라 0 ~ 9의 정수.\n",
        "        Y = Y.to(device)\n",
        "\n",
        "        optimizer.zero_grad()\n",
        "        hypothesis = linear(X)\n",
        "        cost = criterion(hypothesis, Y)\n",
        "        cost.backward()\n",
        "        optimizer.step()\n",
        "\n",
        "        avg_cost += cost / total_batch\n",
        "\n",
        "    print('Epoch:', '%04d' % (epoch + 1), 'cost =', '{:.9f}'.format(avg_cost))\n",
        "\n",
        "print('Learning finished')"
      ],
      "metadata": {
        "colab": {
          "base_uri": "https://localhost:8080/"
        },
        "id": "I26tUFh9J66O",
        "outputId": "f7720423-f80f-41ff-c597-434925a3172c"
      },
      "execution_count": 37,
      "outputs": [
        {
          "output_type": "stream",
          "name": "stdout",
          "text": [
            "Epoch: 0001 cost = 0.535150588\n",
            "Epoch: 0002 cost = 0.359577775\n",
            "Epoch: 0003 cost = 0.331264287\n",
            "Epoch: 0004 cost = 0.316404670\n",
            "Epoch: 0005 cost = 0.307107031\n",
            "Epoch: 0006 cost = 0.300456554\n",
            "Epoch: 0007 cost = 0.294933408\n",
            "Epoch: 0008 cost = 0.290956199\n",
            "Epoch: 0009 cost = 0.287074089\n",
            "Epoch: 0010 cost = 0.284515619\n",
            "Epoch: 0011 cost = 0.281914055\n",
            "Epoch: 0012 cost = 0.279526889\n",
            "Epoch: 0013 cost = 0.277636588\n",
            "Epoch: 0014 cost = 0.275874764\n",
            "Epoch: 0015 cost = 0.274422795\n",
            "Learning finished\n"
          ]
        }
      ]
    },
    {
      "cell_type": "code",
      "source": [
        "# 테스트 데이터를 사용하여 모델을 테스트한다.\n",
        "with torch.no_grad(): # torch.no_grad()를 하면 gradient 계산을 수행하지 않는다.\n",
        "    X_test = mnist_test.test_data.view(-1, 28 * 28).float().to(device)\n",
        "    Y_test = mnist_test.test_labels.to(device)\n",
        "\n",
        "    prediction = linear(X_test)\n",
        "    correct_prediction = torch.argmax(prediction, 1) == Y_test\n",
        "    accuracy = correct_prediction.float().mean()\n",
        "    print('Accuracy:', accuracy.item())\n",
        "\n",
        "    # MNIST 테스트 데이터에서 무작위로 하나를 뽑아서 예측을 해본다\n",
        "    r = random.randint(0, len(mnist_test) - 1)\n",
        "    X_single_data = mnist_test.test_data[r:r + 1].view(-1, 28 * 28).float().to(device)\n",
        "    Y_single_data = mnist_test.test_labels[r:r + 1].to(device)\n",
        "\n",
        "    print('Label: ', Y_single_data.item())\n",
        "    single_prediction = linear(X_single_data)\n",
        "    print('Prediction: ', torch.argmax(single_prediction, 1).item())\n",
        "\n",
        "    plt.imshow(mnist_test.test_data[r:r + 1].view(28, 28), cmap='Greys', interpolation='nearest')\n",
        "    plt.show()"
      ],
      "metadata": {
        "colab": {
          "base_uri": "https://localhost:8080/",
          "height": 552
        },
        "id": "Rl4FtDFeKBnJ",
        "outputId": "b00ac563-8c4c-40f9-981a-9bd31c0bbf23"
      },
      "execution_count": 38,
      "outputs": [
        {
          "output_type": "stream",
          "name": "stdout",
          "text": [
            "Accuracy: 0.8883000016212463\n",
            "Label:  8\n",
            "Prediction:  3\n"
          ]
        },
        {
          "output_type": "stream",
          "name": "stderr",
          "text": [
            "/usr/local/lib/python3.10/dist-packages/torchvision/datasets/mnist.py:81: UserWarning: test_data has been renamed data\n",
            "  warnings.warn(\"test_data has been renamed data\")\n",
            "/usr/local/lib/python3.10/dist-packages/torchvision/datasets/mnist.py:71: UserWarning: test_labels has been renamed targets\n",
            "  warnings.warn(\"test_labels has been renamed targets\")\n"
          ]
        },
        {
          "output_type": "display_data",
          "data": {
            "text/plain": [
              "<Figure size 640x480 with 1 Axes>"
            ],
            "image/png": "[encoded data removed]"
          },
          "metadata": {}
        }
      ]
    },
    {
      "cell_type": "markdown",
      "source": [
        "#06. [DL 입문] - 인공 신경망(Artificial Neural Network)"
      ],
      "metadata": {
        "id": "tDYDSjMsx53P"
      }
    },
    {
      "cell_type": "markdown",
      "source": [
        "##06-01 머신 러닝 기본 개념 정리하기"
      ],
      "metadata": {
        "id": "h_nEE4aZx7x2"
      }
    },
    {
      "cell_type": "markdown",
      "source": [
        "###7. 비선형 활성화 함수"
      ],
      "metadata": {
        "id": "E21FeufbMLEZ"
      }
    },
    {
      "cell_type": "code",
      "source": [
        "import numpy as np # 넘파이 사용\n",
        "import matplotlib.pyplot as plt # 맷플롯립 사용"
      ],
      "metadata": {
        "id": "1YsXOnqmMLrj"
      },
      "execution_count": 39,
      "outputs": []
    },
    {
      "cell_type": "markdown",
      "source": [
        "2) 시그모이드 함수(Sigmoid function)와 기울기 소실"
      ],
      "metadata": {
        "id": "FvD89s7bMNTS"
      }
    },
    {
      "cell_type": "code",
      "source": [
        "# 시그모이드 함수 그래프를 그리는 코드\n",
        "def sigmoid(x):\n",
        "    return 1/(1+np.exp(-x))\n",
        "x = np.arange(-5.0, 5.0, 0.1)\n",
        "y = sigmoid(x)\n",
        "\n",
        "plt.plot(x, y)\n",
        "plt.plot([0,0],[1.0,0.0], ':') # 가운데 점선 추가\n",
        "plt.title('Sigmoid Function')\n",
        "plt.show()"
      ],
      "metadata": {
        "colab": {
          "base_uri": "https://localhost:8080/",
          "height": 452
        },
        "id": "PTjFbU46MRVa",
        "outputId": "e99f6f6c-13a2-44fc-f088-d2741e3dbd8c"
      },
      "execution_count": 40,
      "outputs": [
        {
          "output_type": "display_data",
          "data": {
            "text/plain": [
              "<Figure size 640x480 with 1 Axes>"
            ],
            "image/png": "[encoded data removed]"
          },
          "metadata": {}
        }
      ]
    },
    {
      "cell_type": "markdown",
      "source": [
        "3) 하이퍼볼릭탄젠트 함수(Hyperbolic tangent function)"
      ],
      "metadata": {
        "id": "lbn5_mOtMd6w"
      }
    },
    {
      "cell_type": "code",
      "source": [
        "x = np.arange(-5.0, 5.0, 0.1) # -5.0부터 5.0까지 0.1 간격 생성\n",
        "y = np.tanh(x)\n",
        "\n",
        "plt.plot(x, y)\n",
        "plt.plot([0,0],[1.0,-1.0], ':')\n",
        "plt.axhline(y=0, color='orange', linestyle='--')\n",
        "plt.title('Tanh Function')\n",
        "plt.show()"
      ],
      "metadata": {
        "colab": {
          "base_uri": "https://localhost:8080/",
          "height": 452
        },
        "id": "sXcYTRy8MeYw",
        "outputId": "5cd5a905-607f-492e-f2d0-d6dfa22d3e5e"
      },
      "execution_count": 41,
      "outputs": [
        {
          "output_type": "display_data",
          "data": {
            "text/plain": [
              "<Figure size 640x480 with 1 Axes>"
            ],
            "image/png": "[encoded data removed]"
          },
          "metadata": {}
        }
      ]
    },
    {
      "cell_type": "markdown",
      "source": [
        "4) 렐루 함수(ReLU)"
      ],
      "metadata": {
        "id": "DETArLcNOiIw"
      }
    },
    {
      "cell_type": "code",
      "source": [
        "def relu(x):\n",
        "    return np.maximum(0, x)\n",
        "\n",
        "x = np.arange(-5.0, 5.0, 0.1)\n",
        "y = relu(x)\n",
        "\n",
        "plt.plot(x, y)\n",
        "plt.plot([0,0],[5.0,0.0], ':')\n",
        "plt.title('Relu Function')\n",
        "plt.show()"
      ],
      "metadata": {
        "colab": {
          "base_uri": "https://localhost:8080/",
          "height": 452
        },
        "id": "ukuxwy4wOise",
        "outputId": "468f778c-1307-4992-c258-bcc8f7198cb7"
      },
      "execution_count": 42,
      "outputs": [
        {
          "output_type": "display_data",
          "data": {
            "text/plain": [
              "<Figure size 640x480 with 1 Axes>"
            ],
            "image/png": "[encoded data removed]"
          },
          "metadata": {}
        }
      ]
    },
    {
      "cell_type": "markdown",
      "source": [
        "5) 리키 렐루(Leaky ReLU)"
      ],
      "metadata": {
        "id": "LR8bAwQgO2C-"
      }
    },
    {
      "cell_type": "code",
      "source": [
        "a = 0.1\n",
        "\n",
        "def leaky_relu(x):\n",
        "    return np.maximum(a*x, x)\n",
        "\n",
        "x = np.arange(-5.0, 5.0, 0.1)\n",
        "y = leaky_relu(x)\n",
        "\n",
        "plt.plot(x, y)\n",
        "plt.plot([0,0],[5.0,0.0], ':')\n",
        "plt.title('Leaky ReLU Function')\n",
        "plt.show()"
      ],
      "metadata": {
        "colab": {
          "base_uri": "https://localhost:8080/",
          "height": 452
        },
        "id": "qCONYBqYO2TS",
        "outputId": "7b2fb4c9-b8fb-4729-e24c-29d42cce35b6"
      },
      "execution_count": 43,
      "outputs": [
        {
          "output_type": "display_data",
          "data": {
            "text/plain": [
              "<Figure size 640x480 with 1 Axes>"
            ],
            "image/png": "[encoded data removed]"
          },
          "metadata": {}
        }
      ]
    },
    {
      "cell_type": "markdown",
      "source": [
        "6) 소프트맥스 함수(Softamx function)"
      ],
      "metadata": {
        "id": "hQFxqlfxO65i"
      }
    },
    {
      "cell_type": "code",
      "source": [
        "x = np.arange(-5.0, 5.0, 0.1) # -5.0부터 5.0까지 0.1 간격 생성\n",
        "y = np.exp(x) / np.sum(np.exp(x))\n",
        "\n",
        "plt.plot(x, y)\n",
        "plt.title('Softmax Function')\n",
        "plt.show()"
      ],
      "metadata": {
        "colab": {
          "base_uri": "https://localhost:8080/",
          "height": 452
        },
        "id": "mNnYhJF3O7M8",
        "outputId": "244ab226-81fd-4469-f3d9-de13a59da8ed"
      },
      "execution_count": 44,
      "outputs": [
        {
          "output_type": "display_data",
          "data": {
            "text/plain": [
              "<Figure size 640x480 with 1 Axes>"
            ],
            "image/png": "[encoded data removed]"
          },
          "metadata": {}
        }
      ]
    },
    {
      "cell_type": "markdown",
      "source": [
        "7) 출력층의 활성화 함수와 오차 함수의 관계"
      ],
      "metadata": {
        "id": "LaxDxtHYPF0O"
      }
    },
    {
      "cell_type": "markdown",
      "source": [
        "![image.png](data:image/png;base64,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)"
      ],
      "metadata": {
        "id": "6SLdNsRAPGTi"
      }
    },
    {
      "cell_type": "markdown",
      "source": [
        "##06-02 퍼셉트론(Perceptron)"
      ],
      "metadata": {
        "id": "3iXUtrb0x9tZ"
      }
    },
    {
      "cell_type": "markdown",
      "source": [
        "###2. 단층 퍼셉트론(Single-Layer Perceptron)"
      ],
      "metadata": {
        "id": "UcBVEhQwPUUD"
      }
    },
    {
      "cell_type": "code",
      "source": [
        "def AND_gate(x1, x2):\n",
        "    w1=0.5\n",
        "    w2=0.5\n",
        "    b=-0.7\n",
        "    result = x1*w1 + x2*w2 + b\n",
        "    if result <= 0:\n",
        "        return 0\n",
        "    else:\n",
        "        return 1"
      ],
      "metadata": {
        "id": "9W7kll_DPU7p"
      },
      "execution_count": 45,
      "outputs": []
    },
    {
      "cell_type": "code",
      "source": [
        "AND_gate(0, 0), AND_gate(0, 1), AND_gate(1, 0), AND_gate(1, 1)"
      ],
      "metadata": {
        "colab": {
          "base_uri": "https://localhost:8080/"
        },
        "id": "3WD4aONuPYAP",
        "outputId": "8d452f3c-4c32-42a1-8c81-f4897006d956"
      },
      "execution_count": 46,
      "outputs": [
        {
          "output_type": "execute_result",
          "data": {
            "text/plain": [
              "(0, 0, 0, 1)"
            ]
          },
          "metadata": {},
          "execution_count": 46
        }
      ]
    },
    {
      "cell_type": "code",
      "source": [
        "def NAND_gate(x1, x2):\n",
        "    w1=-0.5\n",
        "    w2=-0.5\n",
        "    b=0.7\n",
        "    result = x1*w1 + x2*w2 + b\n",
        "    if result <= 0:\n",
        "        return 0\n",
        "    else:\n",
        "        return 1"
      ],
      "metadata": {
        "id": "PGo_yL2KPfqJ"
      },
      "execution_count": 47,
      "outputs": []
    },
    {
      "cell_type": "code",
      "source": [
        "NAND_gate(0, 0), NAND_gate(0, 1), NAND_gate(1, 0), NAND_gate(1, 1)"
      ],
      "metadata": {
        "colab": {
          "base_uri": "https://localhost:8080/"
        },
        "id": "DrrV0gRZPgaD",
        "outputId": "295b8db8-d79c-4206-c0d5-7fb78808c652"
      },
      "execution_count": 48,
      "outputs": [
        {
          "output_type": "execute_result",
          "data": {
            "text/plain": [
              "(1, 1, 1, 0)"
            ]
          },
          "metadata": {},
          "execution_count": 48
        }
      ]
    },
    {
      "cell_type": "code",
      "source": [
        "def OR_gate(x1, x2):\n",
        "    w1=0.6\n",
        "    w2=0.6\n",
        "    b=-0.5\n",
        "    result = x1*w1 + x2*w2 + b\n",
        "    if result <= 0:\n",
        "        return 0\n",
        "    else:\n",
        "        return 1"
      ],
      "metadata": {
        "id": "SWJ35sRkPhip"
      },
      "execution_count": 49,
      "outputs": []
    },
    {
      "cell_type": "code",
      "source": [
        "OR_gate(0, 0), OR_gate(0, 1), OR_gate(1, 0), OR_gate(1, 1)"
      ],
      "metadata": {
        "colab": {
          "base_uri": "https://localhost:8080/"
        },
        "id": "n8dIvR0_PkpZ",
        "outputId": "92abb46e-8946-4835-b493-0450c1f46f0f"
      },
      "execution_count": 50,
      "outputs": [
        {
          "output_type": "execute_result",
          "data": {
            "text/plain": [
              "(0, 1, 1, 1)"
            ]
          },
          "metadata": {},
          "execution_count": 50
        }
      ]
    },
    {
      "cell_type": "markdown",
      "source": [
        "##06-03 XOR 문제 구현하기 - 단층 퍼셉트론과 다층 퍼셉트론"
      ],
      "metadata": {
        "id": "clgwDY3PyAd_"
      }
    },
    {
      "cell_type": "markdown",
      "source": [
        "###1. 파이토치로 단층 퍼셉트론 구현하기"
      ],
      "metadata": {
        "id": "pGRsdB0iPtfh"
      }
    },
    {
      "cell_type": "code",
      "source": [
        "import torch\n",
        "import torch.nn as nn\n",
        "\n",
        "device = 'cuda' if torch.cuda.is_available() else 'cpu'\n",
        "torch.manual_seed(777)\n",
        "if device == 'cuda':\n",
        "    torch.cuda.manual_seed_all(777)"
      ],
      "metadata": {
        "id": "_CskhxMNPwyT"
      },
      "execution_count": 51,
      "outputs": []
    },
    {
      "cell_type": "markdown",
      "source": [
        "1) 단층 퍼셉트론을 이용한 XOR 문제 풀기"
      ],
      "metadata": {
        "id": "bqrTtAc8Pzbz"
      }
    },
    {
      "cell_type": "code",
      "source": [
        "X = torch.FloatTensor([[0, 0], [0, 1], [1, 0], [1, 1]]).to(device)\n",
        "Y = torch.FloatTensor([[0], [1], [1], [0]]).to(device)"
      ],
      "metadata": {
        "id": "X5fgYdr3P1Ty"
      },
      "execution_count": 52,
      "outputs": []
    },
    {
      "cell_type": "code",
      "source": [
        "linear = nn.Linear(2, 1, bias=True)\n",
        "sigmoid = nn.Sigmoid()\n",
        "model = nn.Sequential(linear, sigmoid).to(device)"
      ],
      "metadata": {
        "id": "fszsNGqgP4TL"
      },
      "execution_count": 53,
      "outputs": []
    },
    {
      "cell_type": "code",
      "source": [
        "# 비용 함수와 옵티마이저 정의\n",
        "criterion = torch.nn.BCELoss().to(device)\n",
        "optimizer = torch.optim.SGD(model.parameters(), lr=1)"
      ],
      "metadata": {
        "id": "l1mU0sb3P-lM"
      },
      "execution_count": 54,
      "outputs": []
    },
    {
      "cell_type": "code",
      "source": [
        "for step in range(10001):\n",
        "    optimizer.zero_grad()\n",
        "    hypothesis = model(X)\n",
        "\n",
        "    # 비용 함수\n",
        "    cost = criterion(hypothesis, Y)\n",
        "    cost.backward()\n",
        "    optimizer.step()\n",
        "\n",
        "    if step % 100 == 0: # 100번째 에포크마다 비용 출력\n",
        "        print(step, cost.item())"
      ],
      "metadata": {
        "colab": {
          "base_uri": "https://localhost:8080/"
        },
        "id": "OgA8-jNRP_6g",
        "outputId": "c4370a63-57a8-4ed9-945d-d725c26b348d"
      },
      "execution_count": 55,
      "outputs": [
        {
          "output_type": "stream",
          "name": "stdout",
          "text": [
            "0 0.7273973822593689\n",
            "100 0.6931476593017578\n",
            "200 0.6931471824645996\n",
            "300 0.6931471824645996\n",
            "400 0.6931471824645996\n",
            "500 0.6931471824645996\n",
            "600 0.6931471824645996\n",
            "700 0.6931471824645996\n",
            "800 0.6931471824645996\n",
            "900 0.6931471824645996\n",
            "1000 0.6931471824645996\n",
            "1100 0.6931471824645996\n",
            "1200 0.6931471824645996\n",
            "1300 0.6931471824645996\n",
            "1400 0.6931471824645996\n",
            "1500 0.6931471824645996\n",
            "1600 0.6931471824645996\n",
            "1700 0.6931471824645996\n",
            "1800 0.6931471824645996\n",
            "1900 0.6931471824645996\n",
            "2000 0.6931471824645996\n",
            "2100 0.6931471824645996\n",
            "2200 0.6931471824645996\n",
            "2300 0.6931471824645996\n",
            "2400 0.6931471824645996\n",
            "2500 0.6931471824645996\n",
            "2600 0.6931471824645996\n",
            "2700 0.6931471824645996\n",
            "2800 0.6931471824645996\n",
            "2900 0.6931471824645996\n",
            "3000 0.6931471824645996\n",
            "3100 0.6931471824645996\n",
            "3200 0.6931471824645996\n",
            "3300 0.6931471824645996\n",
            "3400 0.6931471824645996\n",
            "3500 0.6931471824645996\n",
            "3600 0.6931471824645996\n",
            "3700 0.6931471824645996\n",
            "3800 0.6931471824645996\n",
            "3900 0.6931471824645996\n",
            "4000 0.6931471824645996\n",
            "4100 0.6931471824645996\n",
            "4200 0.6931471824645996\n",
            "4300 0.6931471824645996\n",
            "4400 0.6931471824645996\n",
            "4500 0.6931471824645996\n",
            "4600 0.6931471824645996\n",
            "4700 0.6931471824645996\n",
            "4800 0.6931471824645996\n",
            "4900 0.6931471824645996\n",
            "5000 0.6931471824645996\n",
            "5100 0.6931471824645996\n",
            "5200 0.6931471824645996\n",
            "5300 0.6931471824645996\n",
            "5400 0.6931471824645996\n",
            "5500 0.6931471824645996\n",
            "5600 0.6931471824645996\n",
            "5700 0.6931471824645996\n",
            "5800 0.6931471824645996\n",
            "5900 0.6931471824645996\n",
            "6000 0.6931471824645996\n",
            "6100 0.6931471824645996\n",
            "6200 0.6931471824645996\n",
            "6300 0.6931471824645996\n",
            "6400 0.6931471824645996\n",
            "6500 0.6931471824645996\n",
            "6600 0.6931471824645996\n",
            "6700 0.6931471824645996\n",
            "6800 0.6931471824645996\n",
            "6900 0.6931471824645996\n",
            "7000 0.6931471824645996\n",
            "7100 0.6931471824645996\n",
            "7200 0.6931471824645996\n",
            "7300 0.6931471824645996\n",
            "7400 0.6931471824645996\n",
            "7500 0.6931471824645996\n",
            "7600 0.6931471824645996\n",
            "7700 0.6931471824645996\n",
            "7800 0.6931471824645996\n",
            "7900 0.6931471824645996\n",
            "8000 0.6931471824645996\n",
            "8100 0.6931471824645996\n",
            "8200 0.6931471824645996\n",
            "8300 0.6931471824645996\n",
            "8400 0.6931471824645996\n",
            "8500 0.6931471824645996\n",
            "8600 0.6931471824645996\n",
            "8700 0.6931471824645996\n",
            "8800 0.6931471824645996\n",
            "8900 0.6931471824645996\n",
            "9000 0.6931471824645996\n",
            "9100 0.6931471824645996\n",
            "9200 0.6931471824645996\n",
            "9300 0.6931471824645996\n",
            "9400 0.6931471824645996\n",
            "9500 0.6931471824645996\n",
            "9600 0.6931471824645996\n",
            "9700 0.6931471824645996\n",
            "9800 0.6931471824645996\n",
            "9900 0.6931471824645996\n",
            "10000 0.6931471824645996\n"
          ]
        }
      ]
    },
    {
      "cell_type": "markdown",
      "source": [
        "2) 학습된 단층 퍼셉트론의 예측값 확인하기"
      ],
      "metadata": {
        "id": "DVReSp4WQp5V"
      }
    },
    {
      "cell_type": "code",
      "source": [
        "with torch.no_grad():\n",
        "    hypothesis = model(X)\n",
        "    predicted = (hypothesis > 0.5).float()\n",
        "    accuracy = (predicted == Y).float().mean()\n",
        "    print('모델의 출력값(Hypothesis): ', hypothesis.detach().cpu().numpy())\n",
        "    print('모델의 예측값(Predicted): ', predicted.detach().cpu().numpy())\n",
        "    print('실제값(Y): ', Y.cpu().numpy())\n",
        "    print('정확도(Accuracy): ', accuracy.item())"
      ],
      "metadata": {
        "colab": {
          "base_uri": "https://localhost:8080/"
        },
        "id": "x8YukqP_QqPy",
        "outputId": "e2c5bdd6-f434-42cb-891d-4a3fdc95fd59"
      },
      "execution_count": 56,
      "outputs": [
        {
          "output_type": "stream",
          "name": "stdout",
          "text": [
            "모델의 출력값(Hypothesis):  [[0.5]\n",
            " [0.5]\n",
            " [0.5]\n",
            " [0.5]]\n",
            "모델의 예측값(Predicted):  [[0.]\n",
            " [0.]\n",
            " [0.]\n",
            " [0.]]\n",
            "실제값(Y):  [[0.]\n",
            " [1.]\n",
            " [1.]\n",
            " [0.]]\n",
            "정확도(Accuracy):  0.5\n"
          ]
        }
      ]
    },
    {
      "cell_type": "markdown",
      "source": [
        "###2. 파이토치로 다층 퍼셉트론 구현하기"
      ],
      "metadata": {
        "id": "FXA4w3zERfLP"
      }
    },
    {
      "cell_type": "code",
      "source": [
        "import torch\n",
        "import torch.nn as nn\n",
        "\n",
        "device = 'cuda' if torch.cuda.is_available() else 'cpu'\n",
        "\n",
        "# for reproducibility\n",
        "torch.manual_seed(777)\n",
        "if device == 'cuda':\n",
        "    torch.cuda.manual_seed_all(777)"
      ],
      "metadata": {
        "id": "C5P1r_MjRfzO"
      },
      "execution_count": 58,
      "outputs": []
    },
    {
      "cell_type": "markdown",
      "source": [
        "1) 다층 퍼셉트론을 이용한 XOR 문제 풀기"
      ],
      "metadata": {
        "id": "QHhhi6k2RjBI"
      }
    },
    {
      "cell_type": "code",
      "source": [
        "X = torch.FloatTensor([[0, 0], [0, 1], [1, 0], [1, 1]]).to(device)\n",
        "Y = torch.FloatTensor([[0], [1], [1], [0]]).to(device)"
      ],
      "metadata": {
        "id": "WlyFFswtRhBV"
      },
      "execution_count": 59,
      "outputs": []
    },
    {
      "cell_type": "code",
      "source": [
        "model = nn.Sequential(\n",
        "          nn.Linear(2, 10, bias=True), # input_layer = 2, hidden_layer1 = 10\n",
        "          nn.Sigmoid(),\n",
        "          nn.Linear(10, 10, bias=True), # hidden_layer1 = 10, hidden_layer2 = 10\n",
        "          nn.Sigmoid(),\n",
        "          nn.Linear(10, 10, bias=True), # hidden_layer2 = 10, hidden_layer3 = 10\n",
        "          nn.Sigmoid(),\n",
        "          nn.Linear(10, 1, bias=True), # hidden_layer3 = 10, output_layer = 1\n",
        "          nn.Sigmoid()\n",
        "          ).to(device)"
      ],
      "metadata": {
        "id": "9i7XsmZ5RmY-"
      },
      "execution_count": 60,
      "outputs": []
    },
    {
      "cell_type": "code",
      "source": [
        "criterion = torch.nn.BCELoss().to(device)\n",
        "optimizer = torch.optim.SGD(model.parameters(), lr=1)  # modified learning rate from 0.1 to 1"
      ],
      "metadata": {
        "id": "YZmgmoDxRo66"
      },
      "execution_count": 61,
      "outputs": []
    },
    {
      "cell_type": "code",
      "source": [
        "for epoch in range(10001):\n",
        "    optimizer.zero_grad()\n",
        "    # forward 연산\n",
        "    hypothesis = model(X)\n",
        "\n",
        "    # 비용 함수\n",
        "    cost = criterion(hypothesis, Y)\n",
        "    cost.backward()\n",
        "    optimizer.step()\n",
        "\n",
        "    # 100의 배수에 해당되는 에포크마다 비용을 출력\n",
        "    if epoch % 100 == 0:\n",
        "        print(epoch, cost.item())"
      ],
      "metadata": {
        "colab": {
          "base_uri": "https://localhost:8080/"
        },
        "id": "1C8PER3bRqf0",
        "outputId": "f59ffcd7-2f83-4802-905f-f998b8951b5e"
      },
      "execution_count": 62,
      "outputs": [
        {
          "output_type": "stream",
          "name": "stdout",
          "text": [
            "0 0.6948983073234558\n",
            "100 0.693155825138092\n",
            "200 0.6931535601615906\n",
            "300 0.6931513547897339\n",
            "400 0.6931493282318115\n",
            "500 0.6931473016738892\n",
            "600 0.6931453943252563\n",
            "700 0.6931434869766235\n",
            "800 0.6931416988372803\n",
            "900 0.6931397914886475\n",
            "1000 0.6931379437446594\n",
            "1100 0.6931361556053162\n",
            "1200 0.6931343078613281\n",
            "1300 0.6931324005126953\n",
            "1400 0.6931304931640625\n",
            "1500 0.6931284666061401\n",
            "1600 0.6931264400482178\n",
            "1700 0.6931242942810059\n",
            "1800 0.6931220293045044\n",
            "1900 0.6931197047233582\n",
            "2000 0.6931172609329224\n",
            "2100 0.6931145191192627\n",
            "2200 0.6931115984916687\n",
            "2300 0.6931084990501404\n",
            "2400 0.6931051015853882\n",
            "2500 0.6931014657020569\n",
            "2600 0.6930974721908569\n",
            "2700 0.6930930018424988\n",
            "2800 0.6930879950523376\n",
            "2900 0.6930825114250183\n",
            "3000 0.6930762529373169\n",
            "3100 0.6930692195892334\n",
            "3200 0.6930612325668335\n",
            "3300 0.6930519938468933\n",
            "3400 0.6930411458015442\n",
            "3500 0.6930283904075623\n",
            "3600 0.6930132508277893\n",
            "3700 0.6929951906204224\n",
            "3800 0.6929728984832764\n",
            "3900 0.6929453015327454\n",
            "4000 0.6929103136062622\n",
            "4100 0.6928649544715881\n",
            "4200 0.6928046941757202\n",
            "4300 0.692721962928772\n",
            "4400 0.6926040649414062\n",
            "4500 0.6924278736114502\n",
            "4600 0.6921480298042297\n",
            "4700 0.6916665434837341\n",
            "4800 0.690739631652832\n",
            "4900 0.6886204481124878\n",
            "5000 0.6820822358131409\n",
            "5100 0.647256076335907\n",
            "5200 0.4511455297470093\n",
            "5300 0.041791416704654694\n",
            "5400 0.009765662252902985\n",
            "5500 0.005042724311351776\n",
            "5600 0.0032996847294270992\n",
            "5700 0.0024178489111363888\n",
            "5800 0.0018926748307421803\n",
            "5900 0.0015468766214326024\n",
            "6000 0.001303266966715455\n",
            "6100 0.0011230779346078634\n",
            "6200 0.000984678859822452\n",
            "6300 0.0008753439178690314\n",
            "6400 0.0007868969114497304\n",
            "6500 0.0007139407098293304\n",
            "6600 0.0006528685335069895\n",
            "6700 0.0006009465432725847\n",
            "6800 0.0005563584854826331\n",
            "6900 0.0005176600534468889\n",
            "7000 0.00048381282249465585\n",
            "7100 0.0004539216752164066\n",
            "7200 0.00042736154864542186\n",
            "7300 0.00040359690319746733\n",
            "7400 0.00038226437754929066\n",
            "7500 0.00036294967867434025\n",
            "7600 0.00034542728099040687\n",
            "7700 0.0003294657217338681\n",
            "7800 0.0003148379037156701\n",
            "7900 0.00030137799330987036\n",
            "8000 0.00028903657221235335\n",
            "8100 0.00027757621137425303\n",
            "8200 0.00026697979774326086\n",
            "8300 0.00025714249932207167\n",
            "8400 0.0002479259273968637\n",
            "8500 0.000239357614191249\n",
            "8600 0.00023135074297897518\n",
            "8700 0.00022382201859727502\n",
            "8800 0.00021674942399840802\n",
            "8900 0.00021011442004237324\n",
            "9000 0.00020381115609779954\n",
            "9100 0.00019788340432569385\n",
            "9200 0.00019228861492592841\n",
            "9300 0.00018698463100008667\n",
            "9400 0.0001819603785406798\n",
            "9500 0.00017717681475915015\n",
            "9600 0.00017262500477954745\n",
            "9700 0.00016831327229738235\n",
            "9800 0.00016420257452409714\n",
            "9900 0.00016027188394218683\n",
            "10000 0.00015650055138394237\n"
          ]
        }
      ]
    },
    {
      "cell_type": "markdown",
      "source": [
        "2) 학습된 다층 퍼셉트론의 예측값 확인하기"
      ],
      "metadata": {
        "id": "EATxZkf1RuK0"
      }
    },
    {
      "cell_type": "code",
      "source": [
        "with torch.no_grad():\n",
        "    hypothesis = model(X)\n",
        "    predicted = (hypothesis > 0.5).float()\n",
        "    accuracy = (predicted == Y).float().mean()\n",
        "    print('모델의 출력값(Hypothesis): ', hypothesis.detach().cpu().numpy())\n",
        "    print('모델의 예측값(Predicted): ', predicted.detach().cpu().numpy())\n",
        "    print('실제값(Y): ', Y.cpu().numpy())\n",
        "    print('정확도(Accuracy): ', accuracy.item())"
      ],
      "metadata": {
        "colab": {
          "base_uri": "https://localhost:8080/"
        },
        "id": "GaFeli56RuzH",
        "outputId": "a0debf1c-e847-42ee-fa33-3d235b94d522"
      },
      "execution_count": 63,
      "outputs": [
        {
          "output_type": "stream",
          "name": "stdout",
          "text": [
            "모델의 출력값(Hypothesis):  [[1.1168801e-04]\n",
            " [9.9982882e-01]\n",
            " [9.9984229e-01]\n",
            " [1.8529482e-04]]\n",
            "모델의 예측값(Predicted):  [[0.]\n",
            " [1.]\n",
            " [1.]\n",
            " [0.]]\n",
            "실제값(Y):  [[0.]\n",
            " [1.]\n",
            " [1.]\n",
            " [0.]]\n",
            "정확도(Accuracy):  1.0\n"
          ]
        }
      ]
    },
    {
      "cell_type": "markdown",
      "source": [
        "##06-04 역전파(BackPropagation)"
      ],
      "metadata": {
        "id": "GiheFVi1yDLF"
      }
    },
    {
      "cell_type": "markdown",
      "source": [
        "##06-05 다층 퍼셉트론으로 손글씨 분류하기"
      ],
      "metadata": {
        "id": "6moFVTFEyFau"
      }
    },
    {
      "cell_type": "markdown",
      "source": [
        "###1. 숫자 필기 데이터 소개"
      ],
      "metadata": {
        "id": "85EDHOOLR2gr"
      }
    },
    {
      "cell_type": "code",
      "source": [
        "import matplotlib.pyplot as plt # 시각화를 위한 맷플롯립\n",
        "from sklearn.datasets import load_digits\n",
        "digits = load_digits() # 1,979개의 이미지 데이터 로드\n",
        "\n",
        "print(digits.images[0])"
      ],
      "metadata": {
        "colab": {
          "base_uri": "https://localhost:8080/"
        },
        "id": "UKfIZpdJR3SC",
        "outputId": "1b8f6d56-0410-4baa-b197-58e2cacd059e"
      },
      "execution_count": 65,
      "outputs": [
        {
          "output_type": "stream",
          "name": "stdout",
          "text": [
            "[[ 0.  0.  5. 13.  9.  1.  0.  0.]\n",
            " [ 0.  0. 13. 15. 10. 15.  5.  0.]\n",
            " [ 0.  3. 15.  2.  0. 11.  8.  0.]\n",
            " [ 0.  4. 12.  0.  0.  8.  8.  0.]\n",
            " [ 0.  5.  8.  0.  0.  9.  8.  0.]\n",
            " [ 0.  4. 11.  0.  1. 12.  7.  0.]\n",
            " [ 0.  2. 14.  5. 10. 12.  0.  0.]\n",
            " [ 0.  0.  6. 13. 10.  0.  0.  0.]]\n"
          ]
        }
      ]
    },
    {
      "cell_type": "code",
      "source": [
        "print(digits.target[0])"
      ],
      "metadata": {
        "colab": {
          "base_uri": "https://localhost:8080/"
        },
        "id": "BMYiHRvxR7rb",
        "outputId": "1bef58fa-8db3-49c1-a20b-07fbe9e86954"
      },
      "execution_count": 66,
      "outputs": [
        {
          "output_type": "stream",
          "name": "stdout",
          "text": [
            "0\n"
          ]
        }
      ]
    },
    {
      "cell_type": "code",
      "source": [
        "print('전체 샘플의 수 : {}'.format(len(digits.images)))"
      ],
      "metadata": {
        "colab": {
          "base_uri": "https://localhost:8080/"
        },
        "id": "xjn0cOgBR_xE",
        "outputId": "698b0865-4613-4901-df60-4d82b925c9e6"
      },
      "execution_count": 67,
      "outputs": [
        {
          "output_type": "stream",
          "name": "stdout",
          "text": [
            "전체 샘플의 수 : 1797\n"
          ]
        }
      ]
    },
    {
      "cell_type": "code",
      "source": [
        "images_and_labels = list(zip(digits.images, digits.target))\n",
        "for index, (image, label) in enumerate(images_and_labels[:5]): # 5개의 샘플만 출력\n",
        "    plt.subplot(2, 5, index + 1)\n",
        "    plt.axis('off')\n",
        "    plt.imshow(image, cmap=plt.cm.gray_r, interpolation='nearest')\n",
        "    plt.title('sample: %i' % label)"
      ],
      "metadata": {
        "colab": {
          "base_uri": "https://localhost:8080/",
          "height": 144
        },
        "id": "cQtPlh-KSCk0",
        "outputId": "e31b7e8c-28f9-4727-c3e2-102a624c1910"
      },
      "execution_count": 68,
      "outputs": [
        {
          "output_type": "display_data",
          "data": {
            "text/plain": [
              "<Figure size 640x480 with 5 Axes>"
            ],
            "image/png": "[encoded data removed]"
          },
          "metadata": {}
        }
      ]
    },
    {
      "cell_type": "code",
      "source": [
        "for i in range(5):\n",
        "  print(i,'번 인덱스 샘플의 레이블 : ',digits.target[i])"
      ],
      "metadata": {
        "colab": {
          "base_uri": "https://localhost:8080/"
        },
        "id": "nduLB2ttSE2_",
        "outputId": "5b13dac0-0ae7-4c4d-8e93-5d4c38effcf6"
      },
      "execution_count": 69,
      "outputs": [
        {
          "output_type": "stream",
          "name": "stdout",
          "text": [
            "0 번 인덱스 샘플의 레이블 :  0\n",
            "1 번 인덱스 샘플의 레이블 :  1\n",
            "2 번 인덱스 샘플의 레이블 :  2\n",
            "3 번 인덱스 샘플의 레이블 :  3\n",
            "4 번 인덱스 샘플의 레이블 :  4\n"
          ]
        }
      ]
    },
    {
      "cell_type": "code",
      "source": [
        "print(digits.data[0])"
      ],
      "metadata": {
        "colab": {
          "base_uri": "https://localhost:8080/"
        },
        "id": "sVj5HbS7SIPg",
        "outputId": "25185d5e-a6cc-449b-a03e-042bbefd6897"
      },
      "execution_count": 70,
      "outputs": [
        {
          "output_type": "stream",
          "name": "stdout",
          "text": [
            "[ 0.  0.  5. 13.  9.  1.  0.  0.  0.  0. 13. 15. 10. 15.  5.  0.  0.  3.\n",
            " 15.  2.  0. 11.  8.  0.  0.  4. 12.  0.  0.  8.  8.  0.  0.  5.  8.  0.\n",
            "  0.  9.  8.  0.  0.  4. 11.  0.  1. 12.  7.  0.  0.  2. 14.  5. 10. 12.\n",
            "  0.  0.  0.  0.  6. 13. 10.  0.  0.  0.]\n"
          ]
        }
      ]
    },
    {
      "cell_type": "code",
      "source": [
        "X = digits.data # 이미지. 즉, 특성 행렬\n",
        "Y = digits.target # 각 이미지에 대한 레이블"
      ],
      "metadata": {
        "id": "ro4riS5HSKgE"
      },
      "execution_count": 71,
      "outputs": []
    },
    {
      "cell_type": "markdown",
      "source": [
        "###2. 다층 퍼셉트론 분류기 만들기"
      ],
      "metadata": {
        "id": "P-OAquARSQQ6"
      }
    },
    {
      "cell_type": "code",
      "source": [
        "import torch\n",
        "import torch.nn as nn\n",
        "from torch import optim"
      ],
      "metadata": {
        "id": "tBsNfIDySQzs"
      },
      "execution_count": 72,
      "outputs": []
    },
    {
      "cell_type": "code",
      "source": [
        "# 모델 정의: 순차적인 레이어 구조\n",
        "model = nn.Sequential(\n",
        "    nn.Linear(64, 32), # 입력층: 64, 첫 번째 은닉층: 32\n",
        "    nn.ReLU(),         # 활성화 함수: ReLU\n",
        "    nn.Linear(32, 16), # 첫 번째 은닉층: 32, 두 번째 은닉층: 16\n",
        "    nn.ReLU(),         # 활성화 함수: ReLU\n",
        "    nn.Linear(16, 10)  # 두 번째 은닉층: 16, 출력층: 10 (클래스의 개수)\n",
        ")"
      ],
      "metadata": {
        "id": "-AA80GKPSTyu"
      },
      "execution_count": 73,
      "outputs": []
    },
    {
      "cell_type": "code",
      "source": [
        "# 입력 데이터 X와 레이블 Y를 텐서로 변환\n",
        "X = torch.tensor(X, dtype=torch.float32)\n",
        "Y = torch.tensor(Y, dtype=torch.int64)\n",
        "\n",
        "loss_fn = nn.CrossEntropyLoss() # 이 비용 함수는 소프트맥스 함수를 포함하고 있음.\n",
        "\n",
        "optimizer = optim.Adam(model.parameters())\n",
        "\n",
        "losses = []"
      ],
      "metadata": {
        "colab": {
          "base_uri": "https://localhost:8080/"
        },
        "id": "GYfFnMMZSWdI",
        "outputId": "592f1d9e-7ecf-4a6d-8131-9df36060ff74"
      },
      "execution_count": 76,
      "outputs": [
        {
          "output_type": "stream",
          "name": "stderr",
          "text": [
            "<ipython-input-76-ca1dc1a31ea3>:2: UserWarning: To copy construct from a tensor, it is recommended to use sourceTensor.clone().detach() or sourceTensor.clone().detach().requires_grad_(True), rather than torch.tensor(sourceTensor).\n",
            "  X = torch.tensor(X, dtype=torch.float32)\n",
            "<ipython-input-76-ca1dc1a31ea3>:3: UserWarning: To copy construct from a tensor, it is recommended to use sourceTensor.clone().detach() or sourceTensor.clone().detach().requires_grad_(True), rather than torch.tensor(sourceTensor).\n",
            "  Y = torch.tensor(Y, dtype=torch.int64)\n"
          ]
        }
      ]
    },
    {
      "cell_type": "code",
      "source": [
        "# 총 100번의 에포크 동안 모델 학습\n",
        "for epoch in range(100):\n",
        "  optimizer.zero_grad()      # 옵티마이저의 기울기 초기화\n",
        "  y_pred = model(X)          # 순전파 연산으로 예측값 계산\n",
        "  loss = loss_fn(y_pred, Y)  # 손실 함수로 비용 계산\n",
        "  loss.backward()            # 역전파 연산으로 기울기 계산\n",
        "  optimizer.step()           # 옵티마이저를 통해 파라미터 업데이트\n",
        "\n",
        "  # 10번째 에포크마다 현재 에포크와 손실 값 출력\n",
        "  if epoch % 10 == 0:\n",
        "    print('Epoch {:4d}/{} Cost: {:.6f}'.format(\n",
        "            epoch, 100, loss.item()\n",
        "        ))\n",
        "\n",
        "  # 손실 값을 리스트에 추가하여 추적\n",
        "  losses.append(loss.item())"
      ],
      "metadata": {
        "colab": {
          "base_uri": "https://localhost:8080/"
        },
        "id": "pBc2IucvSb4U",
        "outputId": "9ddda1e2-357a-465b-f348-17a534efed92"
      },
      "execution_count": 77,
      "outputs": [
        {
          "output_type": "stream",
          "name": "stdout",
          "text": [
            "Epoch    0/100 Cost: 2.381846\n",
            "Epoch   10/100 Cost: 2.086940\n",
            "Epoch   20/100 Cost: 1.844468\n",
            "Epoch   30/100 Cost: 1.555474\n",
            "Epoch   40/100 Cost: 1.246410\n",
            "Epoch   50/100 Cost: 0.968091\n",
            "Epoch   60/100 Cost: 0.724376\n",
            "Epoch   70/100 Cost: 0.519714\n",
            "Epoch   80/100 Cost: 0.380597\n",
            "Epoch   90/100 Cost: 0.293385\n"
          ]
        }
      ]
    },
    {
      "cell_type": "code",
      "source": [
        "plt.plot(losses)"
      ],
      "metadata": {
        "colab": {
          "base_uri": "https://localhost:8080/",
          "height": 447
        },
        "id": "2fFCi_-lSi_O",
        "outputId": "927e4e4a-beaf-40bf-e68c-6aeaf7c67d29"
      },
      "execution_count": 78,
      "outputs": [
        {
          "output_type": "execute_result",
          "data": {
            "text/plain": [
              "[<matplotlib.lines.Line2D at 0x7ed041204640>]"
            ]
          },
          "metadata": {},
          "execution_count": 78
        },
        {
          "output_type": "display_data",
          "data": {
            "text/plain": [
              "<Figure size 640x480 with 1 Axes>"
            ],
            "image/png": "[encoded data removed]"
          },
          "metadata": {}
        }
      ]
    },
    {
      "cell_type": "markdown",
      "source": [
        "##06-06 다층 퍼셉트론으로 MNIST 분류하기"
      ],
      "metadata": {
        "id": "cPu5CHXFyHeC"
      }
    },
    {
      "cell_type": "markdown",
      "source": [
        "###1. 데이터 로드하기"
      ],
      "metadata": {
        "id": "VaGYjZ14SmIk"
      }
    },
    {
      "cell_type": "code",
      "source": [
        "import numpy as np\n",
        "import matplotlib.pyplot as plt\n",
        "from sklearn.datasets import fetch_openml"
      ],
      "metadata": {
        "id": "UcNVzYqYSlFb"
      },
      "execution_count": 79,
      "outputs": []
    },
    {
      "cell_type": "code",
      "source": [
        "mnist = fetch_openml('mnist_784', version=1, cache=True, as_frame=False)"
      ],
      "metadata": {
        "id": "flZy-KZSSpUO"
      },
      "execution_count": 80,
      "outputs": []
    },
    {
      "cell_type": "code",
      "source": [
        "mnist.data[0]"
      ],
      "metadata": {
        "colab": {
          "base_uri": "https://localhost:8080/"
        },
        "id": "VAP76G2ESsVj",
        "outputId": "b3db4e78-aa22-4df4-95b6-f108f308e49c"
      },
      "execution_count": 81,
      "outputs": [
        {
          "output_type": "execute_result",
          "data": {
            "text/plain": [
              "array([  0,   0,   0,   0,   0,   0,   0,   0,   0,   0,   0,   0,   0,\n",
              "         0,   0,   0,   0,   0,   0,   0,   0,   0,   0,   0,   0,   0,\n",
              "         0,   0,   0,   0,   0,   0,   0,   0,   0,   0,   0,   0,   0,\n",
              "         0,   0,   0,   0,   0,   0,   0,   0,   0,   0,   0,   0,   0,\n",
              "         0,   0,   0,   0,   0,   0,   0,   0,   0,   0,   0,   0,   0,\n",
              "         0,   0,   0,   0,   0,   0,   0,   0,   0,   0,   0,   0,   0,\n",
              "         0,   0,   0,   0,   0,   0,   0,   0,   0,   0,   0,   0,   0,\n",
              "         0,   0,   0,   0,   0,   0,   0,   0,   0,   0,   0,   0,   0,\n",
              "         0,   0,   0,   0,   0,   0,   0,   0,   0,   0,   0,   0,   0,\n",
              "         0,   0,   0,   0,   0,   0,   0,   0,   0,   0,   0,   0,   0,\n",
              "         0,   0,   0,   0,   0,   0,   0,   0,   0,   0,   0,   0,   0,\n",
              "         0,   0,   0,   0,   0,   0,   0,   0,   0,   3,  18,  18,  18,\n",
              "       126, 136, 175,  26, 166, 255, 247, 127,   0,   0,   0,   0,   0,\n",
              "         0,   0,   0,   0,   0,   0,   0,  30,  36,  94, 154, 170, 253,\n",
              "       253, 253, 253, 253, 225, 172, 253, 242, 195,  64,   0,   0,   0,\n",
              "         0,   0,   0,   0,   0,   0,   0,   0,  49, 238, 253, 253, 253,\n",
              "       253, 253, 253, 253, 253, 251,  93,  82,  82,  56,  39,   0,   0,\n",
              "         0,   0,   0,   0,   0,   0,   0,   0,   0,   0,  18, 219, 253,\n",
              "       253, 253, 253, 253, 198, 182, 247, 241,   0,   0,   0,   0,   0,\n",
              "         0,   0,   0,   0,   0,   0,   0,   0,   0,   0,   0,   0,   0,\n",
              "        80, 156, 107, 253, 253, 205,  11,   0,  43, 154,   0,   0,   0,\n",
              "         0,   0,   0,   0,   0,   0,   0,   0,   0,   0,   0,   0,   0,\n",
              "         0,   0,   0,  14,   1, 154, 253,  90,   0,   0,   0,   0,   0,\n",
              "         0,   0,   0,   0,   0,   0,   0,   0,   0,   0,   0,   0,   0,\n",
              "         0,   0,   0,   0,   0,   0,   0, 139, 253, 190,   2,   0,   0,\n",
              "         0,   0,   0,   0,   0,   0,   0,   0,   0,   0,   0,   0,   0,\n",
              "         0,   0,   0,   0,   0,   0,   0,   0,   0,  11, 190, 253,  70,\n",
              "         0,   0,   0,   0,   0,   0,   0,   0,   0,   0,   0,   0,   0,\n",
              "         0,   0,   0,   0,   0,   0,   0,   0,   0,   0,   0,   0,  35,\n",
              "       241, 225, 160, 108,   1,   0,   0,   0,   0,   0,   0,   0,   0,\n",
              "         0,   0,   0,   0,   0,   0,   0,   0,   0,   0,   0,   0,   0,\n",
              "         0,   0,  81, 240, 253, 253, 119,  25,   0,   0,   0,   0,   0,\n",
              "         0,   0,   0,   0,   0,   0,   0,   0,   0,   0,   0,   0,   0,\n",
              "         0,   0,   0,   0,   0,  45, 186, 253, 253, 150,  27,   0,   0,\n",
              "         0,   0,   0,   0,   0,   0,   0,   0,   0,   0,   0,   0,   0,\n",
              "         0,   0,   0,   0,   0,   0,   0,   0,  16,  93, 252, 253, 187,\n",
              "         0,   0,   0,   0,   0,   0,   0,   0,   0,   0,   0,   0,   0,\n",
              "         0,   0,   0,   0,   0,   0,   0,   0,   0,   0,   0,   0, 249,\n",
              "       253, 249,  64,   0,   0,   0,   0,   0,   0,   0,   0,   0,   0,\n",
              "         0,   0,   0,   0,   0,   0,   0,   0,   0,   0,   0,  46, 130,\n",
              "       183, 253, 253, 207,   2,   0,   0,   0,   0,   0,   0,   0,   0,\n",
              "         0,   0,   0,   0,   0,   0,   0,   0,   0,   0,   0,  39, 148,\n",
              "       229, 253, 253, 253, 250, 182,   0,   0,   0,   0,   0,   0,   0,\n",
              "         0,   0,   0,   0,   0,   0,   0,   0,   0,   0,   0,  24, 114,\n",
              "       221, 253, 253, 253, 253, 201,  78,   0,   0,   0,   0,   0,   0,\n",
              "         0,   0,   0,   0,   0,   0,   0,   0,   0,   0,   0,  23,  66,\n",
              "       213, 253, 253, 253, 253, 198,  81,   2,   0,   0,   0,   0,   0,\n",
              "         0,   0,   0,   0,   0,   0,   0,   0,   0,   0,   0,  18, 171,\n",
              "       219, 253, 253, 253, 253, 195,  80,   9,   0,   0,   0,   0,   0,\n",
              "         0,   0,   0,   0,   0,   0,   0,   0,   0,   0,   0,  55, 172,\n",
              "       226, 253, 253, 253, 253, 244, 133,  11,   0,   0,   0,   0,   0,\n",
              "         0,   0,   0,   0,   0,   0,   0,   0,   0,   0,   0,   0,   0,\n",
              "       136, 253, 253, 253, 212, 135, 132,  16,   0,   0,   0,   0,   0,\n",
              "         0,   0,   0,   0,   0,   0,   0,   0,   0,   0,   0,   0,   0,\n",
              "         0,   0,   0,   0,   0,   0,   0,   0,   0,   0,   0,   0,   0,\n",
              "         0,   0,   0,   0,   0,   0,   0,   0,   0,   0,   0,   0,   0,\n",
              "         0,   0,   0,   0,   0,   0,   0,   0,   0,   0,   0,   0,   0,\n",
              "         0,   0,   0,   0,   0,   0,   0,   0,   0,   0,   0,   0,   0,\n",
              "         0,   0,   0,   0,   0,   0,   0,   0,   0,   0,   0,   0,   0,\n",
              "         0,   0,   0,   0,   0,   0,   0,   0,   0,   0,   0,   0,   0,\n",
              "         0,   0,   0,   0])"
            ]
          },
          "metadata": {},
          "execution_count": 81
        }
      ]
    },
    {
      "cell_type": "code",
      "source": [
        "mnist.target[0]"
      ],
      "metadata": {
        "colab": {
          "base_uri": "https://localhost:8080/",
          "height": 35
        },
        "id": "7qzo1Wx7St3b",
        "outputId": "f1b1049e-d50b-4d44-acb0-2263aa088cb8"
      },
      "execution_count": 82,
      "outputs": [
        {
          "output_type": "execute_result",
          "data": {
            "text/plain": [
              "'5'"
            ],
            "application/vnd.google.colaboratory.intrinsic+json": {
              "type": "string"
            }
          },
          "metadata": {},
          "execution_count": 82
        }
      ]
    },
    {
      "cell_type": "code",
      "source": [
        "mnist.target = mnist.target.astype(np.int8)"
      ],
      "metadata": {
        "id": "JFgdHictSvXv"
      },
      "execution_count": 83,
      "outputs": []
    },
    {
      "cell_type": "code",
      "source": [
        "X = mnist.data / 255  # 0-255값을 [0,1] 구간으로 정규화\n",
        "y = mnist.target"
      ],
      "metadata": {
        "id": "BOELdaCaSzKM"
      },
      "execution_count": 84,
      "outputs": []
    },
    {
      "cell_type": "code",
      "source": [
        "X[0]"
      ],
      "metadata": {
        "colab": {
          "base_uri": "https://localhost:8080/"
        },
        "id": "9F6YoC_TS1xv",
        "outputId": "01aea92e-0f70-46bf-ca7c-5a9fc6c290ec"
      },
      "execution_count": 85,
      "outputs": [
        {
          "output_type": "execute_result",
          "data": {
            "text/plain": [
              "array([0.        , 0.        , 0.        , 0.        , 0.        ,\n",
              "       0.        , 0.        , 0.        , 0.        , 0.        ,\n",
              "       0.        , 0.        , 0.        , 0.        , 0.        ,\n",
              "       0.        , 0.        , 0.        , 0.        , 0.        ,\n",
              "       0.        , 0.        , 0.        , 0.        , 0.        ,\n",
              "       0.        , 0.        , 0.        , 0.        , 0.        ,\n",
              "       0.        , 0.        , 0.        , 0.        , 0.        ,\n",
              "       0.        , 0.        , 0.        , 0.        , 0.        ,\n",
              "       0.        , 0.        , 0.        , 0.        , 0.        ,\n",
              "       0.        , 0.        , 0.        , 0.        , 0.        ,\n",
              "       0.        , 0.        , 0.        , 0.        , 0.        ,\n",
              "       0.        , 0.        , 0.        , 0.        , 0.        ,\n",
              "       0.        , 0.        , 0.        , 0.        , 0.        ,\n",
              "       0.        , 0.        , 0.        , 0.        , 0.        ,\n",
              "       0.        , 0.        , 0.        , 0.        , 0.        ,\n",
              "       0.        , 0.        , 0.        , 0.        , 0.        ,\n",
              "       0.        , 0.        , 0.        , 0.        , 0.        ,\n",
              "       0.        , 0.        , 0.        , 0.        , 0.        ,\n",
              "       0.        , 0.        , 0.        , 0.        , 0.        ,\n",
              "       0.        , 0.        , 0.        , 0.        , 0.        ,\n",
              "       0.        , 0.        , 0.        , 0.        , 0.        ,\n",
              "       0.        , 0.        , 0.        , 0.        , 0.        ,\n",
              "       0.        , 0.        , 0.        , 0.        , 0.        ,\n",
              "       0.        , 0.        , 0.        , 0.        , 0.        ,\n",
              "       0.        , 0.        , 0.        , 0.        , 0.        ,\n",
              "       0.        , 0.        , 0.        , 0.        , 0.        ,\n",
              "       0.        , 0.        , 0.        , 0.        , 0.        ,\n",
              "       0.        , 0.        , 0.        , 0.        , 0.        ,\n",
              "       0.        , 0.        , 0.        , 0.        , 0.        ,\n",
              "       0.        , 0.        , 0.        , 0.        , 0.        ,\n",
              "       0.        , 0.        , 0.01176471, 0.07058824, 0.07058824,\n",
              "       0.07058824, 0.49411765, 0.53333333, 0.68627451, 0.10196078,\n",
              "       0.65098039, 1.        , 0.96862745, 0.49803922, 0.        ,\n",
              "       0.        , 0.        , 0.        , 0.        , 0.        ,\n",
              "       0.        , 0.        , 0.        , 0.        , 0.        ,\n",
              "       0.        , 0.11764706, 0.14117647, 0.36862745, 0.60392157,\n",
              "       0.66666667, 0.99215686, 0.99215686, 0.99215686, 0.99215686,\n",
              "       0.99215686, 0.88235294, 0.6745098 , 0.99215686, 0.94901961,\n",
              "       0.76470588, 0.25098039, 0.        , 0.        , 0.        ,\n",
              "       0.        , 0.        , 0.        , 0.        , 0.        ,\n",
              "       0.        , 0.        , 0.        , 0.19215686, 0.93333333,\n",
              "       0.99215686, 0.99215686, 0.99215686, 0.99215686, 0.99215686,\n",
              "       0.99215686, 0.99215686, 0.99215686, 0.98431373, 0.36470588,\n",
              "       0.32156863, 0.32156863, 0.21960784, 0.15294118, 0.        ,\n",
              "       0.        , 0.        , 0.        , 0.        , 0.        ,\n",
              "       0.        , 0.        , 0.        , 0.        , 0.        ,\n",
              "       0.        , 0.07058824, 0.85882353, 0.99215686, 0.99215686,\n",
              "       0.99215686, 0.99215686, 0.99215686, 0.77647059, 0.71372549,\n",
              "       0.96862745, 0.94509804, 0.        , 0.        , 0.        ,\n",
              "       0.        , 0.        , 0.        , 0.        , 0.        ,\n",
              "       0.        , 0.        , 0.        , 0.        , 0.        ,\n",
              "       0.        , 0.        , 0.        , 0.        , 0.        ,\n",
              "       0.31372549, 0.61176471, 0.41960784, 0.99215686, 0.99215686,\n",
              "       0.80392157, 0.04313725, 0.        , 0.16862745, 0.60392157,\n",
              "       0.        , 0.        , 0.        , 0.        , 0.        ,\n",
              "       0.        , 0.        , 0.        , 0.        , 0.        ,\n",
              "       0.        , 0.        , 0.        , 0.        , 0.        ,\n",
              "       0.        , 0.        , 0.        , 0.        , 0.05490196,\n",
              "       0.00392157, 0.60392157, 0.99215686, 0.35294118, 0.        ,\n",
              "       0.        , 0.        , 0.        , 0.        , 0.        ,\n",
              "       0.        , 0.        , 0.        , 0.        , 0.        ,\n",
              "       0.        , 0.        , 0.        , 0.        , 0.        ,\n",
              "       0.        , 0.        , 0.        , 0.        , 0.        ,\n",
              "       0.        , 0.        , 0.        , 0.        , 0.54509804,\n",
              "       0.99215686, 0.74509804, 0.00784314, 0.        , 0.        ,\n",
              "       0.        , 0.        , 0.        , 0.        , 0.        ,\n",
              "       0.        , 0.        , 0.        , 0.        , 0.        ,\n",
              "       0.        , 0.        , 0.        , 0.        , 0.        ,\n",
              "       0.        , 0.        , 0.        , 0.        , 0.        ,\n",
              "       0.        , 0.        , 0.04313725, 0.74509804, 0.99215686,\n",
              "       0.2745098 , 0.        , 0.        , 0.        , 0.        ,\n",
              "       0.        , 0.        , 0.        , 0.        , 0.        ,\n",
              "       0.        , 0.        , 0.        , 0.        , 0.        ,\n",
              "       0.        , 0.        , 0.        , 0.        , 0.        ,\n",
              "       0.        , 0.        , 0.        , 0.        , 0.        ,\n",
              "       0.        , 0.1372549 , 0.94509804, 0.88235294, 0.62745098,\n",
              "       0.42352941, 0.00392157, 0.        , 0.        , 0.        ,\n",
              "       0.        , 0.        , 0.        , 0.        , 0.        ,\n",
              "       0.        , 0.        , 0.        , 0.        , 0.        ,\n",
              "       0.        , 0.        , 0.        , 0.        , 0.        ,\n",
              "       0.        , 0.        , 0.        , 0.        , 0.        ,\n",
              "       0.31764706, 0.94117647, 0.99215686, 0.99215686, 0.46666667,\n",
              "       0.09803922, 0.        , 0.        , 0.        , 0.        ,\n",
              "       0.        , 0.        , 0.        , 0.        , 0.        ,\n",
              "       0.        , 0.        , 0.        , 0.        , 0.        ,\n",
              "       0.        , 0.        , 0.        , 0.        , 0.        ,\n",
              "       0.        , 0.        , 0.        , 0.        , 0.17647059,\n",
              "       0.72941176, 0.99215686, 0.99215686, 0.58823529, 0.10588235,\n",
              "       0.        , 0.        , 0.        , 0.        , 0.        ,\n",
              "       0.        , 0.        , 0.        , 0.        , 0.        ,\n",
              "       0.        , 0.        , 0.        , 0.        , 0.        ,\n",
              "       0.        , 0.        , 0.        , 0.        , 0.        ,\n",
              "       0.        , 0.        , 0.        , 0.0627451 , 0.36470588,\n",
              "       0.98823529, 0.99215686, 0.73333333, 0.        , 0.        ,\n",
              "       0.        , 0.        , 0.        , 0.        , 0.        ,\n",
              "       0.        , 0.        , 0.        , 0.        , 0.        ,\n",
              "       0.        , 0.        , 0.        , 0.        , 0.        ,\n",
              "       0.        , 0.        , 0.        , 0.        , 0.        ,\n",
              "       0.        , 0.        , 0.        , 0.97647059, 0.99215686,\n",
              "       0.97647059, 0.25098039, 0.        , 0.        , 0.        ,\n",
              "       0.        , 0.        , 0.        , 0.        , 0.        ,\n",
              "       0.        , 0.        , 0.        , 0.        , 0.        ,\n",
              "       0.        , 0.        , 0.        , 0.        , 0.        ,\n",
              "       0.        , 0.        , 0.        , 0.18039216, 0.50980392,\n",
              "       0.71764706, 0.99215686, 0.99215686, 0.81176471, 0.00784314,\n",
              "       0.        , 0.        , 0.        , 0.        , 0.        ,\n",
              "       0.        , 0.        , 0.        , 0.        , 0.        ,\n",
              "       0.        , 0.        , 0.        , 0.        , 0.        ,\n",
              "       0.        , 0.        , 0.        , 0.        , 0.15294118,\n",
              "       0.58039216, 0.89803922, 0.99215686, 0.99215686, 0.99215686,\n",
              "       0.98039216, 0.71372549, 0.        , 0.        , 0.        ,\n",
              "       0.        , 0.        , 0.        , 0.        , 0.        ,\n",
              "       0.        , 0.        , 0.        , 0.        , 0.        ,\n",
              "       0.        , 0.        , 0.        , 0.        , 0.        ,\n",
              "       0.09411765, 0.44705882, 0.86666667, 0.99215686, 0.99215686,\n",
              "       0.99215686, 0.99215686, 0.78823529, 0.30588235, 0.        ,\n",
              "       0.        , 0.        , 0.        , 0.        , 0.        ,\n",
              "       0.        , 0.        , 0.        , 0.        , 0.        ,\n",
              "       0.        , 0.        , 0.        , 0.        , 0.        ,\n",
              "       0.        , 0.09019608, 0.25882353, 0.83529412, 0.99215686,\n",
              "       0.99215686, 0.99215686, 0.99215686, 0.77647059, 0.31764706,\n",
              "       0.00784314, 0.        , 0.        , 0.        , 0.        ,\n",
              "       0.        , 0.        , 0.        , 0.        , 0.        ,\n",
              "       0.        , 0.        , 0.        , 0.        , 0.        ,\n",
              "       0.        , 0.        , 0.07058824, 0.67058824, 0.85882353,\n",
              "       0.99215686, 0.99215686, 0.99215686, 0.99215686, 0.76470588,\n",
              "       0.31372549, 0.03529412, 0.        , 0.        , 0.        ,\n",
              "       0.        , 0.        , 0.        , 0.        , 0.        ,\n",
              "       0.        , 0.        , 0.        , 0.        , 0.        ,\n",
              "       0.        , 0.        , 0.        , 0.21568627, 0.6745098 ,\n",
              "       0.88627451, 0.99215686, 0.99215686, 0.99215686, 0.99215686,\n",
              "       0.95686275, 0.52156863, 0.04313725, 0.        , 0.        ,\n",
              "       0.        , 0.        , 0.        , 0.        , 0.        ,\n",
              "       0.        , 0.        , 0.        , 0.        , 0.        ,\n",
              "       0.        , 0.        , 0.        , 0.        , 0.        ,\n",
              "       0.        , 0.53333333, 0.99215686, 0.99215686, 0.99215686,\n",
              "       0.83137255, 0.52941176, 0.51764706, 0.0627451 , 0.        ,\n",
              "       0.        , 0.        , 0.        , 0.        , 0.        ,\n",
              "       0.        , 0.        , 0.        , 0.        , 0.        ,\n",
              "       0.        , 0.        , 0.        , 0.        , 0.        ,\n",
              "       0.        , 0.        , 0.        , 0.        , 0.        ,\n",
              "       0.        , 0.        , 0.        , 0.        , 0.        ,\n",
              "       0.        , 0.        , 0.        , 0.        , 0.        ,\n",
              "       0.        , 0.        , 0.        , 0.        , 0.        ,\n",
              "       0.        , 0.        , 0.        , 0.        , 0.        ,\n",
              "       0.        , 0.        , 0.        , 0.        , 0.        ,\n",
              "       0.        , 0.        , 0.        , 0.        , 0.        ,\n",
              "       0.        , 0.        , 0.        , 0.        , 0.        ,\n",
              "       0.        , 0.        , 0.        , 0.        , 0.        ,\n",
              "       0.        , 0.        , 0.        , 0.        , 0.        ,\n",
              "       0.        , 0.        , 0.        , 0.        , 0.        ,\n",
              "       0.        , 0.        , 0.        , 0.        , 0.        ,\n",
              "       0.        , 0.        , 0.        , 0.        , 0.        ,\n",
              "       0.        , 0.        , 0.        , 0.        , 0.        ,\n",
              "       0.        , 0.        , 0.        , 0.        , 0.        ,\n",
              "       0.        , 0.        , 0.        , 0.        , 0.        ,\n",
              "       0.        , 0.        , 0.        , 0.        ])"
            ]
          },
          "metadata": {},
          "execution_count": 85
        }
      ]
    },
    {
      "cell_type": "code",
      "source": [
        "y[0]"
      ],
      "metadata": {
        "colab": {
          "base_uri": "https://localhost:8080/"
        },
        "id": "HU72XAd1S3Sy",
        "outputId": "21d5cb2a-b403-46a8-d46e-018ad40412f5"
      },
      "execution_count": 86,
      "outputs": [
        {
          "output_type": "execute_result",
          "data": {
            "text/plain": [
              "5"
            ]
          },
          "metadata": {},
          "execution_count": 86
        }
      ]
    },
    {
      "cell_type": "code",
      "source": [
        "plt.imshow(X[0].reshape(28, 28), cmap='gray')\n",
        "print(\"이 이미지 데이터의 레이블은 {:.0f}이다\".format(y[0]))"
      ],
      "metadata": {
        "colab": {
          "base_uri": "https://localhost:8080/",
          "height": 447
        },
        "id": "XCornIc_S5H7",
        "outputId": "cddd4bca-e1cf-481a-dd07-ce3d15d5881c"
      },
      "execution_count": 87,
      "outputs": [
        {
          "output_type": "stream",
          "name": "stdout",
          "text": [
            "이 이미지 데이터의 레이블은 5이다\n"
          ]
        },
        {
          "output_type": "display_data",
          "data": {
            "text/plain": [
              "<Figure size 640x480 with 1 Axes>"
            ],
            "image/png": "[encoded data removed]"
          },
          "metadata": {}
        }
      ]
    },
    {
      "cell_type": "markdown",
      "source": [
        "###2. 훈련 데이터와 테스트 데이터의 분리"
      ],
      "metadata": {
        "id": "HtTI7zXoS7XX"
      }
    },
    {
      "cell_type": "code",
      "source": [
        "import torch\n",
        "from torch.utils.data import TensorDataset, DataLoader\n",
        "from sklearn.model_selection import train_test_split"
      ],
      "metadata": {
        "id": "3Fvj7W6dS8Kh"
      },
      "execution_count": 88,
      "outputs": []
    },
    {
      "cell_type": "code",
      "source": [
        "X_train, X_test, y_train, y_test = train_test_split(X, y, test_size=1/7, random_state=0)"
      ],
      "metadata": {
        "id": "lHYsYr-mS9m2"
      },
      "execution_count": 89,
      "outputs": []
    },
    {
      "cell_type": "code",
      "source": [
        "# 텐서로 변환\n",
        "X_train = torch.Tensor(X_train)\n",
        "X_test = torch.Tensor(X_test)\n",
        "y_train = torch.LongTensor(y_train)\n",
        "y_test = torch.LongTensor(y_test)\n",
        "\n",
        "# TensorDataset 객체 생성\n",
        "ds_train = TensorDataset(X_train, y_train)\n",
        "ds_test = TensorDataset(X_test, y_test)\n",
        "\n",
        "# DataLoader 객체 생성\n",
        "loader_train = DataLoader(ds_train, batch_size=64, shuffle=True)\n",
        "loader_test = DataLoader(ds_test, batch_size=64, shuffle=False)"
      ],
      "metadata": {
        "id": "2d63w8SKS-2e"
      },
      "execution_count": 90,
      "outputs": []
    },
    {
      "cell_type": "markdown",
      "source": [
        "###3. 다층 퍼셉트론"
      ],
      "metadata": {
        "id": "ise5VVLITBL8"
      }
    },
    {
      "cell_type": "code",
      "source": [
        "from torch import nn\n",
        "from torch import optim"
      ],
      "metadata": {
        "id": "MqhbwB52TCZM"
      },
      "execution_count": 91,
      "outputs": []
    },
    {
      "cell_type": "code",
      "source": [
        "model = nn.Sequential()\n",
        "model.add_module('fc1', nn.Linear(28*28*1, 100))\n",
        "model.add_module('relu1', nn.ReLU())\n",
        "model.add_module('fc2', nn.Linear(100, 100))\n",
        "model.add_module('relu2', nn.ReLU())\n",
        "model.add_module('fc3', nn.Linear(100, 10))\n",
        "\n",
        "print(model)"
      ],
      "metadata": {
        "colab": {
          "base_uri": "https://localhost:8080/"
        },
        "id": "PUKIDVKATDsv",
        "outputId": "5cc88df1-2a3c-4977-b936-43cb955a5d54"
      },
      "execution_count": 92,
      "outputs": [
        {
          "output_type": "stream",
          "name": "stdout",
          "text": [
            "Sequential(\n",
            "  (fc1): Linear(in_features=784, out_features=100, bias=True)\n",
            "  (relu1): ReLU()\n",
            "  (fc2): Linear(in_features=100, out_features=100, bias=True)\n",
            "  (relu2): ReLU()\n",
            "  (fc3): Linear(in_features=100, out_features=10, bias=True)\n",
            ")\n"
          ]
        }
      ]
    },
    {
      "cell_type": "code",
      "source": [
        "# 오차함수 선택\n",
        "loss_fn = nn.CrossEntropyLoss()\n",
        "\n",
        "# 가중치를 학습하기 위한 최적화 기법 선택\n",
        "optimizer = optim.Adam(model.parameters(), lr=0.01)"
      ],
      "metadata": {
        "id": "tgNGowN_TGp3"
      },
      "execution_count": 93,
      "outputs": []
    },
    {
      "cell_type": "code",
      "source": [
        "# 총 3번의 에포크 동안 모델 학습\n",
        "epochs = 3\n",
        "\n",
        "for epoch in range(epochs):\n",
        "  for data, targets in loader_train:\n",
        "    optimizer.zero_grad()      # 옵티마이저의 기울기 초기화\n",
        "    y_pred = model(data)          # 순전파 연산으로 예측값 계산\n",
        "    loss = loss_fn(y_pred, targets)  # 손실 함수로 비용 계산\n",
        "    loss.backward()            # 역전파 연산으로 기울기 계산\n",
        "    optimizer.step()           # 옵티마이저를 통해 파라미터 업데이트\n",
        "\n",
        "  print('Epoch {:4d}/{} Cost: {:.6f}'.format(epoch + 1, 3, loss.item()))"
      ],
      "metadata": {
        "colab": {
          "base_uri": "https://localhost:8080/"
        },
        "id": "DRq72OMDTJCo",
        "outputId": "47c96d42-a351-4438-a54e-18c6b725df96"
      },
      "execution_count": 94,
      "outputs": [
        {
          "output_type": "stream",
          "name": "stdout",
          "text": [
            "Epoch    1/3 Cost: 0.657048\n",
            "Epoch    2/3 Cost: 0.168507\n",
            "Epoch    3/3 Cost: 0.253673\n"
          ]
        }
      ]
    },
    {
      "cell_type": "code",
      "source": [
        "model.eval()  # 신경망을 추론 모드로 전환\n",
        "correct = 0\n",
        "\n",
        "# 데이터로더에서 미니배치를 하나씩 꺼내 추론을 수행\n",
        "with torch.no_grad():  # 추론 과정에는 미분이 필요없음\n",
        "    for data, targets in loader_test:\n",
        "\n",
        "        outputs = model(data)  # 데이터를 입력하고 출력을 계산\n",
        "\n",
        "        # 추론 계산\n",
        "        _, predicted = torch.max(outputs.data, 1)  # 확률이 가장 높은 레이블이 무엇인지 계산\n",
        "        correct += predicted.eq(targets.data.view_as(predicted)).sum()  # 정답과 일치한 경우 정답 카운트를 증가\n",
        "\n",
        "# 정확도 출력\n",
        "data_num = len(loader_test.dataset)  # 데이터 총 건수\n",
        "print('\\n테스트 데이터에서 예측 정확도: {}/{} ({:.0f}%)\\n'.format(correct, data_num, 100. * correct / data_num))"
      ],
      "metadata": {
        "colab": {
          "base_uri": "https://localhost:8080/"
        },
        "id": "HE76GPtcTLD4",
        "outputId": "523e6e3b-fb69-4898-973c-7a5c1555123d"
      },
      "execution_count": 95,
      "outputs": [
        {
          "output_type": "stream",
          "name": "stdout",
          "text": [
            "\n",
            "테스트 데이터에서 예측 정확도: 9512/10000 (95%)\n",
            "\n"
          ]
        }
      ]
    },
    {
      "cell_type": "code",
      "source": [
        "index = 2018\n",
        "\n",
        "model.eval()  # 신경망을 추론 모드로 전환\n",
        "data = X_test[index]\n",
        "output = model(data)  # 데이터를 입력하고 출력을 계산\n",
        "_, predicted = torch.max(output.data, 0)  # 확률이 가장 높은 레이블이 무엇인지 계산\n",
        "\n",
        "print(\"예측 결과 : {}\".format(predicted))\n",
        "\n",
        "X_test_show = (X_test[index]).numpy()\n",
        "plt.imshow(X_test_show.reshape(28, 28), cmap='gray')\n",
        "print(\"이 이미지 데이터의 정답 레이블은 {:.0f}입니다\".format(y_test[index]))"
      ],
      "metadata": {
        "colab": {
          "base_uri": "https://localhost:8080/",
          "height": 465
        },
        "id": "l7FTZ5m5TMrP",
        "outputId": "3292c62b-9cad-4828-8dec-55e47ad4d044"
      },
      "execution_count": 96,
      "outputs": [
        {
          "output_type": "stream",
          "name": "stdout",
          "text": [
            "예측 결과 : 2\n",
            "이 이미지 데이터의 정답 레이블은 2입니다\n"
          ]
        },
        {
          "output_type": "display_data",
          "data": {
            "text/plain": [
              "<Figure size 640x480 with 1 Axes>"
            ],
            "image/png": "[encoded data removed]"
          },
          "metadata": {}
        }
      ]
    },
    {
      "cell_type": "markdown",
      "source": [
        "##06-07 과적합(Overfitting)을 막는 방법들"
      ],
      "metadata": {
        "id": "vAosc7FSyJgG"
      }
    },
    {
      "cell_type": "markdown",
      "source": [
        "###2. 모델의 복잡도 줄이기"
      ],
      "metadata": {
        "id": "CJTuMl3CTQPN"
      }
    },
    {
      "cell_type": "code",
      "source": [
        "class Architecture1(nn.Module):\n",
        "  def __init__(self, input_size, hidden_size, num_classes):\n",
        "    super(Architecture1, self).__init__()\n",
        "    self.fc1 = nn.Linear(input_size, hidden_size)\n",
        "    self.relu = nn.ReLU()\n",
        "    self.fc2 = nn.Linear(hidden_size, hidden_size)\n",
        "    self.relu = nnReLU()\n",
        "    self.fc3 = nn.Linear(hidden_size, num_classes)\n",
        "\n",
        "  def forward(self, x):\n",
        "    out = self.fc1(x)\n",
        "    out = self.relu(out)\n",
        "    out = self.fc2(out)\n",
        "    out = self.relu(out)\n",
        "    out = self.fc3(out)\n",
        "    return out"
      ],
      "metadata": {
        "id": "CXq1vZFFTQ-G"
      },
      "execution_count": 97,
      "outputs": []
    },
    {
      "cell_type": "code",
      "source": [
        "class Architecture1(nn.Module):\n",
        "  def __init__(self, input_size, hidden_size, num_classes):\n",
        "    super(Architecture1, self).__init__()\n",
        "    self.fc1 = nn.Linear(input_size, hidden_size)\n",
        "    self.relu = nn.ReLU()\n",
        "    self.fc2 = nn.Linear(hidden_size, num_classes)\n",
        "\n",
        "  def forward(self, x):\n",
        "    out = self.fc1(x)\n",
        "    out = self.relu(out)\n",
        "    out = self.fc2(out)\n",
        "    return out"
      ],
      "metadata": {
        "id": "0s2ukIO3TSUI"
      },
      "execution_count": 98,
      "outputs": []
    },
    {
      "cell_type": "markdown",
      "source": [
        "###3. 가중치 규제(Regularization) 적용하기"
      ],
      "metadata": {
        "id": "dbd34nnNTVZY"
      }
    },
    {
      "cell_type": "code",
      "source": [
        "model = Architecture1(10, 20, 2)\n",
        "optimizer = torch.optim.Adam(model.parameters(), lr=1e-4, weight_decay=1e-5)"
      ],
      "metadata": {
        "id": "HFDP5mrZTV5E"
      },
      "execution_count": 99,
      "outputs": []
    },
    {
      "cell_type": "markdown",
      "source": [
        "##06-08 기울기 소실(Gradient Vanishing)과 폭주(Exploding)"
      ],
      "metadata": {
        "id": "TvHe8YYRyLh4"
      }
    },
    {
      "cell_type": "markdown",
      "source": [
        "#07. [DL 입문] - 순환 신경망(Recurrent Neural Network)"
      ],
      "metadata": {
        "id": "4ny6ktpuyNj4"
      }
    },
    {
      "cell_type": "markdown",
      "source": [
        "##07-01 순환 신경망(Recurrent Neural Network, RNN)"
      ],
      "metadata": {
        "id": "N8TbgeefyP1W"
      }
    },
    {
      "cell_type": "markdown",
      "source": [
        "###2. 파이썬으로 RNN 구현하기"
      ],
      "metadata": {
        "id": "hrxyXh4TTcbO"
      }
    },
    {
      "cell_type": "code",
      "source": [
        "import numpy as np\n",
        "\n",
        "timesteps = 10 # 시점의 수. NLP에서는 보통 문장의 길이가 된다.\n",
        "input_size = 4 # 입력의 차원. NLP에서는 보통 단어 벡터의 차원이 된다.\n",
        "hidden_size = 8 # 은닉 상태의 크기. 메모리 셀의 용량이다.\n",
        "\n",
        "inputs = np.random.random((timesteps, input_size)) # 입력에 해당되는 2D 텐서\n",
        "\n",
        "hidden_state_t = np.zeros((hidden_size,)) # 초기 은닉 상태는 0(벡터)로 초기화\n",
        "# 은닉 상태의 크기 hidden_size로 은닉 상태를 만듬."
      ],
      "metadata": {
        "id": "2-1WMt_RTf4I"
      },
      "execution_count": 101,
      "outputs": []
    },
    {
      "cell_type": "code",
      "source": [
        "print(hidden_state_t) # 8의 크기를 가지는 은닉 상태. 현재는 초기 은닉 상태로 모든 차원이 0의 값을 가짐."
      ],
      "metadata": {
        "colab": {
          "base_uri": "https://localhost:8080/"
        },
        "id": "sy0pTYWaTlHL",
        "outputId": "a1425402-d3cc-4abd-a28e-3fe989bd9d12"
      },
      "execution_count": 102,
      "outputs": [
        {
          "output_type": "stream",
          "name": "stdout",
          "text": [
            "[0. 0. 0. 0. 0. 0. 0. 0.]\n"
          ]
        }
      ]
    },
    {
      "cell_type": "code",
      "source": [
        "Wx = np.random.random((hidden_size, input_size))  # (8, 4)크기의 2D 텐서 생성. 입력에 대한 가중치.\n",
        "Wh = np.random.random((hidden_size, hidden_size)) # (8, 8)크기의 2D 텐서 생성. 은닉 상태에 대한 가중치.\n",
        "b = np.random.random((hidden_size,)) # (8,)크기의 1D 텐서 생성. 이 값은 편향(bias)."
      ],
      "metadata": {
        "id": "zs7wVdhTT1iY"
      },
      "execution_count": 103,
      "outputs": []
    },
    {
      "cell_type": "code",
      "source": [
        "print(np.shape(Wx))\n",
        "print(np.shape(Wh))\n",
        "print(np.shape(b))"
      ],
      "metadata": {
        "colab": {
          "base_uri": "https://localhost:8080/"
        },
        "id": "RYIRcLKXT3JM",
        "outputId": "9ffe9dac-f77c-4d9d-f32f-3692aaccf574"
      },
      "execution_count": 104,
      "outputs": [
        {
          "output_type": "stream",
          "name": "stdout",
          "text": [
            "(8, 4)\n",
            "(8, 8)\n",
            "(8,)\n"
          ]
        }
      ]
    },
    {
      "cell_type": "code",
      "source": [
        "total_hidden_states = []\n",
        "\n",
        "# 메모리 셀 동작\n",
        "for input_t in inputs: # 각 시점에 따라서 입력값이 입력됨.\n",
        "  output_t = np.tanh(np.dot(Wx,input_t) + np.dot(Wh,hidden_state_t) + b) # Wx * Xt + Wh * Ht-1 + b(bias)\n",
        "  total_hidden_states.append(list(output_t)) # 각 시점의 은닉 상태의 값을 계속해서 축적\n",
        "  print(np.shape(total_hidden_states)) # 각 시점 t별 메모리 셀의 출력의 크기는 (timestep, output_dim)\n",
        "  hidden_state_t = output_t\n",
        "\n",
        "total_hidden_states = np.stack(total_hidden_states, axis = 0)\n",
        "# 출력 시 값을 깔끔하게 해준다.\n",
        "\n",
        "print(total_hidden_states) # (timesteps, output_dim)의 크기. 이 경우 (10, 8)의 크기를 가지는 메모리 셀의 2D 텐서를 출력."
      ],
      "metadata": {
        "colab": {
          "base_uri": "https://localhost:8080/"
        },
        "id": "a17A9LhmT-zl",
        "outputId": "84503f2d-576a-4005-8d5d-1a9ef74dc091"
      },
      "execution_count": 105,
      "outputs": [
        {
          "output_type": "stream",
          "name": "stdout",
          "text": [
            "(1, 8)\n",
            "(2, 8)\n",
            "(3, 8)\n",
            "(4, 8)\n",
            "(5, 8)\n",
            "(6, 8)\n",
            "(7, 8)\n",
            "(8, 8)\n",
            "(9, 8)\n",
            "(10, 8)\n",
            "[[0.75536588 0.92094415 0.86900587 0.90898796 0.96593322 0.68002514\n",
            "  0.87617161 0.89725047]\n",
            " [0.9999725  0.99993897 0.99925073 0.99994414 0.99999545 0.99956928\n",
            "  0.99999587 0.99994614]\n",
            " [0.99998901 0.99997007 0.99957616 0.99996226 0.99999812 0.99977872\n",
            "  0.99999822 0.99997334]\n",
            " [0.99998651 0.99994719 0.99928053 0.99996117 0.99999628 0.99967222\n",
            "  0.99999684 0.99996983]\n",
            " [0.99996578 0.99989155 0.99870818 0.99986581 0.99998643 0.99936935\n",
            "  0.99998846 0.99989055]\n",
            " [0.99999532 0.99998146 0.99978772 0.99999036 0.99999923 0.99983924\n",
            "  0.99999944 0.99998996]\n",
            " [0.99999098 0.99996765 0.99974152 0.99998856 0.99999826 0.99979369\n",
            "  0.999999   0.99998365]\n",
            " [0.99998961 0.99997517 0.99967461 0.99996555 0.99999849 0.999805\n",
            "  0.9999986  0.99997392]\n",
            " [0.99998834 0.99994493 0.99948851 0.9999614  0.99999514 0.99947119\n",
            "  0.99999681 0.99994861]\n",
            " [0.99998023 0.99995983 0.99953402 0.99988246 0.9999957  0.99960662\n",
            "  0.99999593 0.99990205]]\n"
          ]
        }
      ]
    },
    {
      "cell_type": "markdown",
      "source": [
        "###3. 파이토치의 nn.RNN()"
      ],
      "metadata": {
        "id": "hs9pQ5YPUBPT"
      }
    },
    {
      "cell_type": "code",
      "source": [
        "import torch\n",
        "import torch.nn as nn"
      ],
      "metadata": {
        "id": "cY9tugTSUB5W"
      },
      "execution_count": 106,
      "outputs": []
    },
    {
      "cell_type": "code",
      "source": [
        "input_size = 5 # 입력의 크기\n",
        "hidden_size = 8 # 은닉 상태의 크기"
      ],
      "metadata": {
        "id": "emynuRhDUEBZ"
      },
      "execution_count": 107,
      "outputs": []
    },
    {
      "cell_type": "code",
      "source": [
        "# (batch_size, time_steps, input_size)\n",
        "inputs = torch.Tensor(1, 10, 5)"
      ],
      "metadata": {
        "id": "Q_Fds8XsUFqg"
      },
      "execution_count": 108,
      "outputs": []
    },
    {
      "cell_type": "code",
      "source": [
        "cell = nn.RNN(input_size, hidden_size, batch_first=True)"
      ],
      "metadata": {
        "id": "-mbtInkVUHCu"
      },
      "execution_count": 109,
      "outputs": []
    },
    {
      "cell_type": "code",
      "source": [
        "outputs, _status = cell(inputs)"
      ],
      "metadata": {
        "id": "ZPE919g9UIJh"
      },
      "execution_count": 110,
      "outputs": []
    },
    {
      "cell_type": "code",
      "source": [
        "print(outputs.shape) # 모든 time-step의 hidden_state"
      ],
      "metadata": {
        "colab": {
          "base_uri": "https://localhost:8080/"
        },
        "id": "6ytgD7hVUJaj",
        "outputId": "88fd29c8-3dca-437b-d3d5-887f7533a3fb"
      },
      "execution_count": 111,
      "outputs": [
        {
          "output_type": "stream",
          "name": "stdout",
          "text": [
            "torch.Size([1, 10, 8])\n"
          ]
        }
      ]
    },
    {
      "cell_type": "code",
      "source": [
        "print(_status.shape) # 최종 time-step의 hidden_state"
      ],
      "metadata": {
        "colab": {
          "base_uri": "https://localhost:8080/"
        },
        "id": "WYjwResnUMAf",
        "outputId": "4f93bc99-8bab-4aa7-83af-4996b0e5b0fb"
      },
      "execution_count": 112,
      "outputs": [
        {
          "output_type": "stream",
          "name": "stdout",
          "text": [
            "torch.Size([1, 1, 8])\n"
          ]
        }
      ]
    },
    {
      "cell_type": "markdown",
      "source": [
        "###4. 깊은 순환 신경망(Deep Recurrent Neural Network)"
      ],
      "metadata": {
        "id": "V2D3O8xFUPbn"
      }
    },
    {
      "cell_type": "code",
      "source": [
        "# (batch_size, time_steps, input_size)\n",
        "inputs = torch.Tensor(1, 10, 5)"
      ],
      "metadata": {
        "id": "-m1CJg1OUQLk"
      },
      "execution_count": 113,
      "outputs": []
    },
    {
      "cell_type": "code",
      "source": [
        "cell = nn.RNN(input_size = 5, hidden_size = 8, num_layers = 2, batch_first=True)"
      ],
      "metadata": {
        "id": "jL2Qg2ecURko"
      },
      "execution_count": 114,
      "outputs": []
    },
    {
      "cell_type": "code",
      "source": [
        "print(outputs.shape) # 모든 time-step의 hidden_state"
      ],
      "metadata": {
        "colab": {
          "base_uri": "https://localhost:8080/"
        },
        "id": "5S8hX-IPUUrB",
        "outputId": "06213123-05e3-469e-974a-5f451ed17709"
      },
      "execution_count": 115,
      "outputs": [
        {
          "output_type": "stream",
          "name": "stdout",
          "text": [
            "torch.Size([1, 10, 8])\n"
          ]
        }
      ]
    },
    {
      "cell_type": "code",
      "source": [
        "print(_status.shape) # (층의 개수, 배치 크기, 은닉 상태의 크기)"
      ],
      "metadata": {
        "colab": {
          "base_uri": "https://localhost:8080/"
        },
        "id": "HbcTGhQWUWWW",
        "outputId": "b95f9aad-287f-467e-f776-b073988537b4"
      },
      "execution_count": 116,
      "outputs": [
        {
          "output_type": "stream",
          "name": "stdout",
          "text": [
            "torch.Size([1, 1, 8])\n"
          ]
        }
      ]
    },
    {
      "cell_type": "markdown",
      "source": [
        "###5. 양방향 순환 신경망(Bidirectional Recurrent Neural Network)"
      ],
      "metadata": {
        "id": "QEJMA8UOUYfe"
      }
    },
    {
      "cell_type": "code",
      "source": [
        "# (batch_size, time_steps, input_size)\n",
        "inputs = torch.Tensor(1, 10, 5)"
      ],
      "metadata": {
        "id": "wEc06qFzUZHv"
      },
      "execution_count": 117,
      "outputs": []
    },
    {
      "cell_type": "code",
      "source": [
        "cell = nn.RNN(input_size = 5, hidden_size = 8, num_layers = 2, batch_first=True, bidirectional = True)"
      ],
      "metadata": {
        "id": "y_8D4yhjUdtC"
      },
      "execution_count": 118,
      "outputs": []
    },
    {
      "cell_type": "code",
      "source": [
        "outputs, _status = cell(inputs)"
      ],
      "metadata": {
        "id": "xaJghd7DUf7X"
      },
      "execution_count": 119,
      "outputs": []
    },
    {
      "cell_type": "code",
      "source": [
        "print(outputs.shape) # (배치 크기, 시퀀스 길이, 은닉 상태의 크기 x 2)"
      ],
      "metadata": {
        "colab": {
          "base_uri": "https://localhost:8080/"
        },
        "id": "7InBlBCpUiLm",
        "outputId": "1301dd32-c52d-431e-e7fe-bea8459d8b33"
      },
      "execution_count": 120,
      "outputs": [
        {
          "output_type": "stream",
          "name": "stdout",
          "text": [
            "torch.Size([1, 10, 16])\n"
          ]
        }
      ]
    },
    {
      "cell_type": "code",
      "source": [
        "print(_status.shape) # (층의 개수 x 2, 배치 크기, 은닉 상태의 크기)"
      ],
      "metadata": {
        "colab": {
          "base_uri": "https://localhost:8080/"
        },
        "id": "SRc-AsiUUjkG",
        "outputId": "8729e2e0-44f1-44bb-fe6f-08add97f71a2"
      },
      "execution_count": 121,
      "outputs": [
        {
          "output_type": "stream",
          "name": "stdout",
          "text": [
            "torch.Size([4, 1, 8])\n"
          ]
        }
      ]
    },
    {
      "cell_type": "markdown",
      "source": [
        "##07-02 LSTM과 GRU"
      ],
      "metadata": {
        "id": "p-28Y6rXyR2V"
      }
    },
    {
      "cell_type": "markdown",
      "source": [
        "##07-03 문자 단위 RNN(Char RNN): 실습 2개"
      ],
      "metadata": {
        "id": "JYSxQ3nwyT6x"
      }
    },
    {
      "cell_type": "markdown",
      "source": [
        "###1. 문자 단위 RNN(Char RNN)"
      ],
      "metadata": {
        "id": "c1KePIknUsMg"
      }
    },
    {
      "cell_type": "code",
      "source": [
        "import torch\n",
        "import torch.nn as nn\n",
        "import torch.optim as optim\n",
        "import numpy as np"
      ],
      "metadata": {
        "id": "lbEw4BIdUswl"
      },
      "execution_count": 122,
      "outputs": []
    },
    {
      "cell_type": "markdown",
      "source": [
        "1) 훈련 데이터 전처리하기"
      ],
      "metadata": {
        "id": "3jmO6I3FUuKs"
      }
    },
    {
      "cell_type": "code",
      "source": [
        "input_str = 'apple'\n",
        "label_str = 'pple!'\n",
        "char_vocab = sorted(list(set(input_str+label_str)))\n",
        "vocab_size = len(char_vocab)\n",
        "print ('문자 집합의 크기 : {}'.format(vocab_size))"
      ],
      "metadata": {
        "colab": {
          "base_uri": "https://localhost:8080/"
        },
        "id": "jtvTQZIlUxWM",
        "outputId": "bcb39af4-9c58-4cbc-dbd6-9857ce167a94"
      },
      "execution_count": 123,
      "outputs": [
        {
          "output_type": "stream",
          "name": "stdout",
          "text": [
            "문자 집합의 크기 : 5\n"
          ]
        }
      ]
    },
    {
      "cell_type": "code",
      "source": [
        "input_size = vocab_size # 입력의 크기는 문자 집합의 크기\n",
        "hidden_size = 5\n",
        "output_size = 5\n",
        "learning_rate = 0.1"
      ],
      "metadata": {
        "id": "hL9WYrn4UyYF"
      },
      "execution_count": 124,
      "outputs": []
    },
    {
      "cell_type": "code",
      "source": [
        "char_to_index = dict((c, i) for i, c in enumerate(char_vocab)) # 문자에 고유한 정수 인덱스 부여\n",
        "print(char_to_index)"
      ],
      "metadata": {
        "colab": {
          "base_uri": "https://localhost:8080/"
        },
        "id": "Ka9SbxzsU0v1",
        "outputId": "df0ce96c-569f-4426-8281-2f9fdf369e80"
      },
      "execution_count": 125,
      "outputs": [
        {
          "output_type": "stream",
          "name": "stdout",
          "text": [
            "{'!': 0, 'a': 1, 'e': 2, 'l': 3, 'p': 4}\n"
          ]
        }
      ]
    },
    {
      "cell_type": "code",
      "source": [
        "index_to_char={}\n",
        "for key, value in char_to_index.items():\n",
        "    index_to_char[value] = key\n",
        "print(index_to_char)"
      ],
      "metadata": {
        "colab": {
          "base_uri": "https://localhost:8080/"
        },
        "id": "q_nASnBJU2FO",
        "outputId": "8a00cdd3-05e0-4662-f940-9d3d5f90695c"
      },
      "execution_count": 126,
      "outputs": [
        {
          "output_type": "stream",
          "name": "stdout",
          "text": [
            "{0: '!', 1: 'a', 2: 'e', 3: 'l', 4: 'p'}\n"
          ]
        }
      ]
    },
    {
      "cell_type": "code",
      "source": [
        "x_data = [char_to_index[c] for c in input_str]\n",
        "y_data = [char_to_index[c] for c in label_str]\n",
        "print(x_data)\n",
        "print(y_data)"
      ],
      "metadata": {
        "colab": {
          "base_uri": "https://localhost:8080/"
        },
        "id": "iLSjFPbQU3kc",
        "outputId": "d1a8fe6f-4f5c-46ac-d6a2-77b0668e784b"
      },
      "execution_count": 127,
      "outputs": [
        {
          "output_type": "stream",
          "name": "stdout",
          "text": [
            "[1, 4, 4, 3, 2]\n",
            "[4, 4, 3, 2, 0]\n"
          ]
        }
      ]
    },
    {
      "cell_type": "code",
      "source": [
        "# 배치 차원 추가\n",
        "# 텐서 연산인 unsqueeze(0)를 통해 해결할 수도 있었음.\n",
        "x_data = [x_data]\n",
        "y_data = [y_data]\n",
        "print(x_data)\n",
        "print(y_data)"
      ],
      "metadata": {
        "colab": {
          "base_uri": "https://localhost:8080/"
        },
        "id": "6JfLcwZ7U7Y_",
        "outputId": "389e6d7b-eb47-4e80-d7b4-edee1f940756"
      },
      "execution_count": 128,
      "outputs": [
        {
          "output_type": "stream",
          "name": "stdout",
          "text": [
            "[[1, 4, 4, 3, 2]]\n",
            "[[4, 4, 3, 2, 0]]\n"
          ]
        }
      ]
    },
    {
      "cell_type": "code",
      "source": [
        "x_one_hot = [np.eye(vocab_size)[x] for x in x_data]\n",
        "print(x_one_hot)"
      ],
      "metadata": {
        "colab": {
          "base_uri": "https://localhost:8080/"
        },
        "id": "wCSXhGdmU769",
        "outputId": "f6e9da83-6358-4417-ec9d-0e5a80104f29"
      },
      "execution_count": 129,
      "outputs": [
        {
          "output_type": "stream",
          "name": "stdout",
          "text": [
            "[array([[0., 1., 0., 0., 0.],\n",
            "       [0., 0., 0., 0., 1.],\n",
            "       [0., 0., 0., 0., 1.],\n",
            "       [0., 0., 0., 1., 0.],\n",
            "       [0., 0., 1., 0., 0.]])]\n"
          ]
        }
      ]
    },
    {
      "cell_type": "code",
      "source": [
        "X = torch.FloatTensor(x_one_hot)\n",
        "Y = torch.LongTensor(y_data)"
      ],
      "metadata": {
        "colab": {
          "base_uri": "https://localhost:8080/"
        },
        "id": "nNTYdqyGU-b1",
        "outputId": "61ab982a-a7b5-4598-ff72-41dab9f8ef56"
      },
      "execution_count": 130,
      "outputs": [
        {
          "output_type": "stream",
          "name": "stderr",
          "text": [
            "<ipython-input-130-c1bfbd518a63>:1: UserWarning: Creating a tensor from a list of numpy.ndarrays is extremely slow. Please consider converting the list to a single numpy.ndarray with numpy.array() before converting to a tensor. (Triggered internally at ../torch/csrc/utils/tensor_new.cpp:278.)\n",
            "  X = torch.FloatTensor(x_one_hot)\n"
          ]
        }
      ]
    },
    {
      "cell_type": "code",
      "source": [
        "print('훈련 데이터의 크기 : {}'.format(X.shape))\n",
        "print('레이블의 크기 : {}'.format(Y.shape))"
      ],
      "metadata": {
        "colab": {
          "base_uri": "https://localhost:8080/"
        },
        "id": "2l-da6NWU_AD",
        "outputId": "1b99d705-1ff5-4118-8a21-c5f5001bcf83"
      },
      "execution_count": 131,
      "outputs": [
        {
          "output_type": "stream",
          "name": "stdout",
          "text": [
            "훈련 데이터의 크기 : torch.Size([1, 5, 5])\n",
            "레이블의 크기 : torch.Size([1, 5])\n"
          ]
        }
      ]
    },
    {
      "cell_type": "markdown",
      "source": [
        "2) 모델 구현하기"
      ],
      "metadata": {
        "id": "y4vCX0YeVBhe"
      }
    },
    {
      "cell_type": "code",
      "source": [
        "class Net(torch.nn.Module):\n",
        "    def __init__(self, input_size, hidden_size, output_size):\n",
        "        super(Net, self).__init__()\n",
        "        self.rnn = torch.nn.RNN(input_size, hidden_size, batch_first=True) # RNN 셀 구현\n",
        "        self.fc = torch.nn.Linear(hidden_size, output_size, bias=True) # 출력층 구현\n",
        "\n",
        "    def forward(self, x): # 구현한 RNN 셀과 출력층을 연결\n",
        "        x, _status = self.rnn(x)\n",
        "        x = self.fc(x)\n",
        "        return x"
      ],
      "metadata": {
        "id": "N203e-XaVB8h"
      },
      "execution_count": 132,
      "outputs": []
    },
    {
      "cell_type": "code",
      "source": [
        "net = Net(input_size, hidden_size, output_size)"
      ],
      "metadata": {
        "id": "8lBcycUKVD0u"
      },
      "execution_count": 133,
      "outputs": []
    },
    {
      "cell_type": "code",
      "source": [
        "outputs = net(X)\n",
        "print(outputs.shape) # 3차원 텐서"
      ],
      "metadata": {
        "colab": {
          "base_uri": "https://localhost:8080/"
        },
        "id": "o1cFeW55VFA_",
        "outputId": "89221f4b-3fe7-4b64-e526-f1abdb6aac56"
      },
      "execution_count": 134,
      "outputs": [
        {
          "output_type": "stream",
          "name": "stdout",
          "text": [
            "torch.Size([1, 5, 5])\n"
          ]
        }
      ]
    },
    {
      "cell_type": "code",
      "source": [
        "print(outputs.view(-1, input_size).shape) # 2차원 텐서로 변환"
      ],
      "metadata": {
        "colab": {
          "base_uri": "https://localhost:8080/"
        },
        "id": "o7n9uJdbVHh0",
        "outputId": "e87e4dbc-23cf-467d-cefd-a67f340da1a1"
      },
      "execution_count": 135,
      "outputs": [
        {
          "output_type": "stream",
          "name": "stdout",
          "text": [
            "torch.Size([5, 5])\n"
          ]
        }
      ]
    },
    {
      "cell_type": "code",
      "source": [
        "print(Y.shape)\n",
        "print(Y.view(-1).shape)"
      ],
      "metadata": {
        "colab": {
          "base_uri": "https://localhost:8080/"
        },
        "id": "czNpUxdFVKSv",
        "outputId": "0f1c0987-e0e5-4f17-e00d-5fb6797dc175"
      },
      "execution_count": 136,
      "outputs": [
        {
          "output_type": "stream",
          "name": "stdout",
          "text": [
            "torch.Size([1, 5])\n",
            "torch.Size([5])\n"
          ]
        }
      ]
    },
    {
      "cell_type": "code",
      "source": [
        "criterion = torch.nn.CrossEntropyLoss()\n",
        "optimizer = optim.Adam(net.parameters(), learning_rate)"
      ],
      "metadata": {
        "id": "79mH64fOVNJu"
      },
      "execution_count": 137,
      "outputs": []
    },
    {
      "cell_type": "code",
      "source": [
        "for i in range(100):\n",
        "    optimizer.zero_grad()\n",
        "    outputs = net(X)\n",
        "    loss = criterion(outputs.view(-1, input_size), Y.view(-1)) # view를 하는 이유는 Batch 차원 제거를 위해\n",
        "    loss.backward() # 기울기 계산\n",
        "    optimizer.step() # 아까 optimizer 선언 시 넣어둔 파라미터 업데이트\n",
        "\n",
        "    # 아래 세 줄은 모델이 실제 어떻게 예측했는지를 확인하기 위한 코드.\n",
        "    result = outputs.data.numpy().argmax(axis=2) # 최종 예측값인 각 time-step 별 5차원 벡터에 대해서 가장 높은 값의 인덱스를 선택\n",
        "    result_str = ''.join([index_to_char[c] for c in np.squeeze(result)])\n",
        "    print(i, \"loss: \", loss.item(), \"prediction: \", result, \"true Y: \", y_data, \"prediction str: \", result_str)"
      ],
      "metadata": {
        "colab": {
          "base_uri": "https://localhost:8080/"
        },
        "id": "mLW1MU0_VOds",
        "outputId": "317a74d4-381c-41aa-d04f-77de6c58a9d1"
      },
      "execution_count": 138,
      "outputs": [
        {
          "output_type": "stream",
          "name": "stdout",
          "text": [
            "0 loss:  1.612571358680725 prediction:  [[2 2 2 2 2]] true Y:  [[4, 4, 3, 2, 0]] prediction str:  eeeee\n",
            "1 loss:  1.3512823581695557 prediction:  [[4 4 4 4 4]] true Y:  [[4, 4, 3, 2, 0]] prediction str:  ppppp\n",
            "2 loss:  1.169076681137085 prediction:  [[4 4 4 4 4]] true Y:  [[4, 4, 3, 2, 0]] prediction str:  ppppp\n",
            "3 loss:  0.9465969204902649 prediction:  [[4 4 3 2 4]] true Y:  [[4, 4, 3, 2, 0]] prediction str:  pplep\n",
            "4 loss:  0.7213229537010193 prediction:  [[4 4 3 2 0]] true Y:  [[4, 4, 3, 2, 0]] prediction str:  pple!\n",
            "5 loss:  0.5183435082435608 prediction:  [[4 4 3 2 0]] true Y:  [[4, 4, 3, 2, 0]] prediction str:  pple!\n",
            "6 loss:  0.36363649368286133 prediction:  [[4 4 3 2 0]] true Y:  [[4, 4, 3, 2, 0]] prediction str:  pple!\n",
            "7 loss:  0.2524997591972351 prediction:  [[4 4 3 2 0]] true Y:  [[4, 4, 3, 2, 0]] prediction str:  pple!\n",
            "8 loss:  0.17788544297218323 prediction:  [[4 4 3 2 0]] true Y:  [[4, 4, 3, 2, 0]] prediction str:  pple!\n",
            "9 loss:  0.1294630616903305 prediction:  [[4 4 3 2 0]] true Y:  [[4, 4, 3, 2, 0]] prediction str:  pple!\n",
            "10 loss:  0.09711313992738724 prediction:  [[4 4 3 2 0]] true Y:  [[4, 4, 3, 2, 0]] prediction str:  pple!\n",
            "11 loss:  0.07445278763771057 prediction:  [[4 4 3 2 0]] true Y:  [[4, 4, 3, 2, 0]] prediction str:  pple!\n",
            "12 loss:  0.05800382047891617 prediction:  [[4 4 3 2 0]] true Y:  [[4, 4, 3, 2, 0]] prediction str:  pple!\n",
            "13 loss:  0.045784518122673035 prediction:  [[4 4 3 2 0]] true Y:  [[4, 4, 3, 2, 0]] prediction str:  pple!\n",
            "14 loss:  0.03654271364212036 prediction:  [[4 4 3 2 0]] true Y:  [[4, 4, 3, 2, 0]] prediction str:  pple!\n",
            "15 loss:  0.02943393588066101 prediction:  [[4 4 3 2 0]] true Y:  [[4, 4, 3, 2, 0]] prediction str:  pple!\n",
            "16 loss:  0.023912105709314346 prediction:  [[4 4 3 2 0]] true Y:  [[4, 4, 3, 2, 0]] prediction str:  pple!\n",
            "17 loss:  0.019747726619243622 prediction:  [[4 4 3 2 0]] true Y:  [[4, 4, 3, 2, 0]] prediction str:  pple!\n",
            "18 loss:  0.017128443345427513 prediction:  [[4 4 3 2 0]] true Y:  [[4, 4, 3, 2, 0]] prediction str:  pple!\n",
            "19 loss:  0.01559346355497837 prediction:  [[4 4 3 2 0]] true Y:  [[4, 4, 3, 2, 0]] prediction str:  pple!\n",
            "20 loss:  0.012737615033984184 prediction:  [[4 4 3 2 0]] true Y:  [[4, 4, 3, 2, 0]] prediction str:  pple!\n",
            "21 loss:  0.010378289967775345 prediction:  [[4 4 3 2 0]] true Y:  [[4, 4, 3, 2, 0]] prediction str:  pple!\n",
            "22 loss:  0.009067398495972157 prediction:  [[4 4 3 2 0]] true Y:  [[4, 4, 3, 2, 0]] prediction str:  pple!\n",
            "23 loss:  0.008191155269742012 prediction:  [[4 4 3 2 0]] true Y:  [[4, 4, 3, 2, 0]] prediction str:  pple!\n",
            "24 loss:  0.007461885455995798 prediction:  [[4 4 3 2 0]] true Y:  [[4, 4, 3, 2, 0]] prediction str:  pple!\n",
            "25 loss:  0.006779542658478022 prediction:  [[4 4 3 2 0]] true Y:  [[4, 4, 3, 2, 0]] prediction str:  pple!\n",
            "26 loss:  0.006107566878199577 prediction:  [[4 4 3 2 0]] true Y:  [[4, 4, 3, 2, 0]] prediction str:  pple!\n",
            "27 loss:  0.00543701509013772 prediction:  [[4 4 3 2 0]] true Y:  [[4, 4, 3, 2, 0]] prediction str:  pple!\n",
            "28 loss:  0.004779516253620386 prediction:  [[4 4 3 2 0]] true Y:  [[4, 4, 3, 2, 0]] prediction str:  pple!\n",
            "29 loss:  0.004169946536421776 prediction:  [[4 4 3 2 0]] true Y:  [[4, 4, 3, 2, 0]] prediction str:  pple!\n",
            "30 loss:  0.003680191468447447 prediction:  [[4 4 3 2 0]] true Y:  [[4, 4, 3, 2, 0]] prediction str:  pple!\n",
            "31 loss:  0.003430840326473117 prediction:  [[4 4 3 2 0]] true Y:  [[4, 4, 3, 2, 0]] prediction str:  pple!\n",
            "32 loss:  0.0034124578814953566 prediction:  [[4 4 3 2 0]] true Y:  [[4, 4, 3, 2, 0]] prediction str:  pple!\n",
            "33 loss:  0.0031877984292805195 prediction:  [[4 4 3 2 0]] true Y:  [[4, 4, 3, 2, 0]] prediction str:  pple!\n",
            "34 loss:  0.0027604505885392427 prediction:  [[4 4 3 2 0]] true Y:  [[4, 4, 3, 2, 0]] prediction str:  pple!\n",
            "35 loss:  0.002498270943760872 prediction:  [[4 4 3 2 0]] true Y:  [[4, 4, 3, 2, 0]] prediction str:  pple!\n",
            "36 loss:  0.0023817704059183598 prediction:  [[4 4 3 2 0]] true Y:  [[4, 4, 3, 2, 0]] prediction str:  pple!\n",
            "37 loss:  0.002308561932295561 prediction:  [[4 4 3 2 0]] true Y:  [[4, 4, 3, 2, 0]] prediction str:  pple!\n",
            "38 loss:  0.0022285941522568464 prediction:  [[4 4 3 2 0]] true Y:  [[4, 4, 3, 2, 0]] prediction str:  pple!\n",
            "39 loss:  0.0021266525145620108 prediction:  [[4 4 3 2 0]] true Y:  [[4, 4, 3, 2, 0]] prediction str:  pple!\n",
            "40 loss:  0.00200355495326221 prediction:  [[4 4 3 2 0]] true Y:  [[4, 4, 3, 2, 0]] prediction str:  pple!\n",
            "41 loss:  0.0018686518305912614 prediction:  [[4 4 3 2 0]] true Y:  [[4, 4, 3, 2, 0]] prediction str:  pple!\n",
            "42 loss:  0.0017363457009196281 prediction:  [[4 4 3 2 0]] true Y:  [[4, 4, 3, 2, 0]] prediction str:  pple!\n",
            "43 loss:  0.00162555614951998 prediction:  [[4 4 3 2 0]] true Y:  [[4, 4, 3, 2, 0]] prediction str:  pple!\n",
            "44 loss:  0.0015544344205409288 prediction:  [[4 4 3 2 0]] true Y:  [[4, 4, 3, 2, 0]] prediction str:  pple!\n",
            "45 loss:  0.0015242858789861202 prediction:  [[4 4 3 2 0]] true Y:  [[4, 4, 3, 2, 0]] prediction str:  pple!\n",
            "46 loss:  0.001501479302532971 prediction:  [[4 4 3 2 0]] true Y:  [[4, 4, 3, 2, 0]] prediction str:  pple!\n",
            "47 loss:  0.0014459436060860753 prediction:  [[4 4 3 2 0]] true Y:  [[4, 4, 3, 2, 0]] prediction str:  pple!\n",
            "48 loss:  0.0013660674449056387 prediction:  [[4 4 3 2 0]] true Y:  [[4, 4, 3, 2, 0]] prediction str:  pple!\n",
            "49 loss:  0.0012972364202141762 prediction:  [[4 4 3 2 0]] true Y:  [[4, 4, 3, 2, 0]] prediction str:  pple!\n",
            "50 loss:  0.0012528961524367332 prediction:  [[4 4 3 2 0]] true Y:  [[4, 4, 3, 2, 0]] prediction str:  pple!\n",
            "51 loss:  0.0012254428584128618 prediction:  [[4 4 3 2 0]] true Y:  [[4, 4, 3, 2, 0]] prediction str:  pple!\n",
            "52 loss:  0.0012032409431412816 prediction:  [[4 4 3 2 0]] true Y:  [[4, 4, 3, 2, 0]] prediction str:  pple!\n",
            "53 loss:  0.0011787922121584415 prediction:  [[4 4 3 2 0]] true Y:  [[4, 4, 3, 2, 0]] prediction str:  pple!\n",
            "54 loss:  0.001149238320067525 prediction:  [[4 4 3 2 0]] true Y:  [[4, 4, 3, 2, 0]] prediction str:  pple!\n",
            "55 loss:  0.0011151226935908198 prediction:  [[4 4 3 2 0]] true Y:  [[4, 4, 3, 2, 0]] prediction str:  pple!\n",
            "56 loss:  0.0010791788809001446 prediction:  [[4 4 3 2 0]] true Y:  [[4, 4, 3, 2, 0]] prediction str:  pple!\n",
            "57 loss:  0.0010453073773533106 prediction:  [[4 4 3 2 0]] true Y:  [[4, 4, 3, 2, 0]] prediction str:  pple!\n",
            "58 loss:  0.0010170524474233389 prediction:  [[4 4 3 2 0]] true Y:  [[4, 4, 3, 2, 0]] prediction str:  pple!\n",
            "59 loss:  0.000996149959973991 prediction:  [[4 4 3 2 0]] true Y:  [[4, 4, 3, 2, 0]] prediction str:  pple!\n",
            "60 loss:  0.0009807643946260214 prediction:  [[4 4 3 2 0]] true Y:  [[4, 4, 3, 2, 0]] prediction str:  pple!\n",
            "61 loss:  0.0009663226082921028 prediction:  [[4 4 3 2 0]] true Y:  [[4, 4, 3, 2, 0]] prediction str:  pple!\n",
            "62 loss:  0.0009485390037298203 prediction:  [[4 4 3 2 0]] true Y:  [[4, 4, 3, 2, 0]] prediction str:  pple!\n",
            "63 loss:  0.0009272001916542649 prediction:  [[4 4 3 2 0]] true Y:  [[4, 4, 3, 2, 0]] prediction str:  pple!\n",
            "64 loss:  0.0009053804678842425 prediction:  [[4 4 3 2 0]] true Y:  [[4, 4, 3, 2, 0]] prediction str:  pple!\n",
            "65 loss:  0.0008860827656462789 prediction:  [[4 4 3 2 0]] true Y:  [[4, 4, 3, 2, 0]] prediction str:  pple!\n",
            "66 loss:  0.0008704285137355328 prediction:  [[4 4 3 2 0]] true Y:  [[4, 4, 3, 2, 0]] prediction str:  pple!\n",
            "67 loss:  0.0008573241648264229 prediction:  [[4 4 3 2 0]] true Y:  [[4, 4, 3, 2, 0]] prediction str:  pple!\n",
            "68 loss:  0.0008454369381070137 prediction:  [[4 4 3 2 0]] true Y:  [[4, 4, 3, 2, 0]] prediction str:  pple!\n",
            "69 loss:  0.0008332907455042005 prediction:  [[4 4 3 2 0]] true Y:  [[4, 4, 3, 2, 0]] prediction str:  pple!\n",
            "70 loss:  0.0008205279009416699 prediction:  [[4 4 3 2 0]] true Y:  [[4, 4, 3, 2, 0]] prediction str:  pple!\n",
            "71 loss:  0.0008070050971582532 prediction:  [[4 4 3 2 0]] true Y:  [[4, 4, 3, 2, 0]] prediction str:  pple!\n",
            "72 loss:  0.0007933646556921303 prediction:  [[4 4 3 2 0]] true Y:  [[4, 4, 3, 2, 0]] prediction str:  pple!\n",
            "73 loss:  0.0007802962209098041 prediction:  [[4 4 3 2 0]] true Y:  [[4, 4, 3, 2, 0]] prediction str:  pple!\n",
            "74 loss:  0.0007683233125135303 prediction:  [[4 4 3 2 0]] true Y:  [[4, 4, 3, 2, 0]] prediction str:  pple!\n",
            "75 loss:  0.0007576593197882175 prediction:  [[4 4 3 2 0]] true Y:  [[4, 4, 3, 2, 0]] prediction str:  pple!\n",
            "76 loss:  0.0007479466730728745 prediction:  [[4 4 3 2 0]] true Y:  [[4, 4, 3, 2, 0]] prediction str:  pple!\n",
            "77 loss:  0.0007386610959656537 prediction:  [[4 4 3 2 0]] true Y:  [[4, 4, 3, 2, 0]] prediction str:  pple!\n",
            "78 loss:  0.0007293021772056818 prediction:  [[4 4 3 2 0]] true Y:  [[4, 4, 3, 2, 0]] prediction str:  pple!\n",
            "79 loss:  0.0007195606012828648 prediction:  [[4 4 3 2 0]] true Y:  [[4, 4, 3, 2, 0]] prediction str:  pple!\n",
            "80 loss:  0.0007097223424352705 prediction:  [[4 4 3 2 0]] true Y:  [[4, 4, 3, 2, 0]] prediction str:  pple!\n",
            "81 loss:  0.0007000976474955678 prediction:  [[4 4 3 2 0]] true Y:  [[4, 4, 3, 2, 0]] prediction str:  pple!\n",
            "82 loss:  0.0006909966468811035 prediction:  [[4 4 3 2 0]] true Y:  [[4, 4, 3, 2, 0]] prediction str:  pple!\n",
            "83 loss:  0.0006824673037044704 prediction:  [[4 4 3 2 0]] true Y:  [[4, 4, 3, 2, 0]] prediction str:  pple!\n",
            "84 loss:  0.0006744385464116931 prediction:  [[4 4 3 2 0]] true Y:  [[4, 4, 3, 2, 0]] prediction str:  pple!\n",
            "85 loss:  0.00066676753340289 prediction:  [[4 4 3 2 0]] true Y:  [[4, 4, 3, 2, 0]] prediction str:  pple!\n",
            "86 loss:  0.000659097102470696 prediction:  [[4 4 3 2 0]] true Y:  [[4, 4, 3, 2, 0]] prediction str:  pple!\n",
            "87 loss:  0.0006515225977636874 prediction:  [[4 4 3 2 0]] true Y:  [[4, 4, 3, 2, 0]] prediction str:  pple!\n",
            "88 loss:  0.0006439724238589406 prediction:  [[4 4 3 2 0]] true Y:  [[4, 4, 3, 2, 0]] prediction str:  pple!\n",
            "89 loss:  0.0006364225992001593 prediction:  [[4 4 3 2 0]] true Y:  [[4, 4, 3, 2, 0]] prediction str:  pple!\n",
            "90 loss:  0.0006290634046308696 prediction:  [[4 4 3 2 0]] true Y:  [[4, 4, 3, 2, 0]] prediction str:  pple!\n",
            "91 loss:  0.0006219663191586733 prediction:  [[4 4 3 2 0]] true Y:  [[4, 4, 3, 2, 0]] prediction str:  pple!\n",
            "92 loss:  0.0006151072448119521 prediction:  [[4 4 3 2 0]] true Y:  [[4, 4, 3, 2, 0]] prediction str:  pple!\n",
            "93 loss:  0.0006085337372496724 prediction:  [[4 4 3 2 0]] true Y:  [[4, 4, 3, 2, 0]] prediction str:  pple!\n",
            "94 loss:  0.0006021503359079361 prediction:  [[4 4 3 2 0]] true Y:  [[4, 4, 3, 2, 0]] prediction str:  pple!\n",
            "95 loss:  0.0005958619294688106 prediction:  [[4 4 3 2 0]] true Y:  [[4, 4, 3, 2, 0]] prediction str:  pple!\n",
            "96 loss:  0.0005895729409530759 prediction:  [[4 4 3 2 0]] true Y:  [[4, 4, 3, 2, 0]] prediction str:  pple!\n",
            "97 loss:  0.0005834028124809265 prediction:  [[4 4 3 2 0]] true Y:  [[4, 4, 3, 2, 0]] prediction str:  pple!\n",
            "98 loss:  0.0005773276789113879 prediction:  [[4 4 3 2 0]] true Y:  [[4, 4, 3, 2, 0]] prediction str:  pple!\n",
            "99 loss:  0.0005713237915188074 prediction:  [[4 4 3 2 0]] true Y:  [[4, 4, 3, 2, 0]] prediction str:  pple!\n"
          ]
        }
      ]
    },
    {
      "cell_type": "markdown",
      "source": [
        "###2. 더 많은 데이터로 학습한 문자 단위 RNN(Char RNN)"
      ],
      "metadata": {
        "id": "DQ5TgbSBVP6t"
      }
    },
    {
      "cell_type": "code",
      "source": [
        "import torch\n",
        "import torch.nn as nn\n",
        "import torch.optim as optim"
      ],
      "metadata": {
        "id": "H8PnEPhiVQ4f"
      },
      "execution_count": 139,
      "outputs": []
    },
    {
      "cell_type": "markdown",
      "source": [
        "1) 훈련 데이터 전처리하기"
      ],
      "metadata": {
        "id": "vFbU-ImMVTpe"
      }
    },
    {
      "cell_type": "code",
      "source": [
        "sentence = (\"if you want to build a ship, don't drum up people together to \"\n",
        "            \"collect wood and don't assign them tasks and work, but rather \"\n",
        "            \"teach them to long for the endless immensity of the sea.\")"
      ],
      "metadata": {
        "id": "6xORNh3JVT_g"
      },
      "execution_count": 140,
      "outputs": []
    },
    {
      "cell_type": "code",
      "source": [
        "char_set = list(set(sentence)) # 중복을 제거한 문자 집합 생성\n",
        "char_dic = {c: i for i, c in enumerate(char_set)} # 각 문자에 정수 인코딩"
      ],
      "metadata": {
        "id": "ZbcnQyGFVVeY"
      },
      "execution_count": 141,
      "outputs": []
    },
    {
      "cell_type": "code",
      "source": [
        "print(char_dic) # 공백도 여기서는 하나의 원소"
      ],
      "metadata": {
        "colab": {
          "base_uri": "https://localhost:8080/"
        },
        "id": "JOP1TgrfVW_4",
        "outputId": "f6db8110-0431-4750-c51b-cbea2509e0c7"
      },
      "execution_count": 142,
      "outputs": [
        {
          "output_type": "stream",
          "name": "stdout",
          "text": [
            "{\"'\": 0, 'p': 1, 't': 2, 'k': 3, 'g': 4, 'c': 5, ' ': 6, 'h': 7, '.': 8, 's': 9, 'l': 10, 'i': 11, ',': 12, 'a': 13, 'b': 14, 'u': 15, 'f': 16, 'o': 17, 'n': 18, 'y': 19, 'w': 20, 'd': 21, 'm': 22, 'e': 23, 'r': 24}\n"
          ]
        }
      ]
    },
    {
      "cell_type": "code",
      "source": [
        "dic_size = len(char_dic)\n",
        "print('문자 집합의 크기 : {}'.format(dic_size))"
      ],
      "metadata": {
        "colab": {
          "base_uri": "https://localhost:8080/"
        },
        "id": "Lrse2VIRVYyh",
        "outputId": "bda9b15c-cd8f-4035-b5a6-80cef11742b3"
      },
      "execution_count": 143,
      "outputs": [
        {
          "output_type": "stream",
          "name": "stdout",
          "text": [
            "문자 집합의 크기 : 25\n"
          ]
        }
      ]
    },
    {
      "cell_type": "code",
      "source": [
        "# 하이퍼파라미터 설정\n",
        "hidden_size = dic_size\n",
        "sequence_length = 10  # 임의 숫자 지정\n",
        "learning_rate = 0.1"
      ],
      "metadata": {
        "id": "oCaswCVQVbKj"
      },
      "execution_count": 144,
      "outputs": []
    },
    {
      "cell_type": "code",
      "source": [
        "# 데이터 구성\n",
        "x_data = []\n",
        "y_data = []\n",
        "\n",
        "for i in range(0, len(sentence) - sequence_length):\n",
        "    x_str = sentence[i:i + sequence_length]\n",
        "    y_str = sentence[i + 1: i + sequence_length + 1]\n",
        "    print(i, x_str, '->', y_str)\n",
        "\n",
        "    x_data.append([char_dic[c] for c in x_str])  # x str to index\n",
        "    y_data.append([char_dic[c] for c in y_str])  # y str to index"
      ],
      "metadata": {
        "colab": {
          "base_uri": "https://localhost:8080/"
        },
        "id": "DvQgxUaHVbuf",
        "outputId": "5e466a7d-26d3-4183-fbdd-33910a475bcf"
      },
      "execution_count": 145,
      "outputs": [
        {
          "output_type": "stream",
          "name": "stdout",
          "text": [
            "0 if you wan -> f you want\n",
            "1 f you want ->  you want \n",
            "2  you want  -> you want t\n",
            "3 you want t -> ou want to\n",
            "4 ou want to -> u want to \n",
            "5 u want to  ->  want to b\n",
            "6  want to b -> want to bu\n",
            "7 want to bu -> ant to bui\n",
            "8 ant to bui -> nt to buil\n",
            "9 nt to buil -> t to build\n",
            "10 t to build ->  to build \n",
            "11  to build  -> to build a\n",
            "12 to build a -> o build a \n",
            "13 o build a  ->  build a s\n",
            "14  build a s -> build a sh\n",
            "15 build a sh -> uild a shi\n",
            "16 uild a shi -> ild a ship\n",
            "17 ild a ship -> ld a ship,\n",
            "18 ld a ship, -> d a ship, \n",
            "19 d a ship,  ->  a ship, d\n",
            "20  a ship, d -> a ship, do\n",
            "21 a ship, do ->  ship, don\n",
            "22  ship, don -> ship, don'\n",
            "23 ship, don' -> hip, don't\n",
            "24 hip, don't -> ip, don't \n",
            "25 ip, don't  -> p, don't d\n",
            "26 p, don't d -> , don't dr\n",
            "27 , don't dr ->  don't dru\n",
            "28  don't dru -> don't drum\n",
            "29 don't drum -> on't drum \n",
            "30 on't drum  -> n't drum u\n",
            "31 n't drum u -> 't drum up\n",
            "32 't drum up -> t drum up \n",
            "33 t drum up  ->  drum up p\n",
            "34  drum up p -> drum up pe\n",
            "35 drum up pe -> rum up peo\n",
            "36 rum up peo -> um up peop\n",
            "37 um up peop -> m up peopl\n",
            "38 m up peopl ->  up people\n",
            "39  up people -> up people \n",
            "40 up people  -> p people t\n",
            "41 p people t ->  people to\n",
            "42  people to -> people tog\n",
            "43 people tog -> eople toge\n",
            "44 eople toge -> ople toget\n",
            "45 ople toget -> ple togeth\n",
            "46 ple togeth -> le togethe\n",
            "47 le togethe -> e together\n",
            "48 e together ->  together \n",
            "49  together  -> together t\n",
            "50 together t -> ogether to\n",
            "51 ogether to -> gether to \n",
            "52 gether to  -> ether to c\n",
            "53 ether to c -> ther to co\n",
            "54 ther to co -> her to col\n",
            "55 her to col -> er to coll\n",
            "56 er to coll -> r to colle\n",
            "57 r to colle ->  to collec\n",
            "58  to collec -> to collect\n",
            "59 to collect -> o collect \n",
            "60 o collect  ->  collect w\n",
            "61  collect w -> collect wo\n",
            "62 collect wo -> ollect woo\n",
            "63 ollect woo -> llect wood\n",
            "64 llect wood -> lect wood \n",
            "65 lect wood  -> ect wood a\n",
            "66 ect wood a -> ct wood an\n",
            "67 ct wood an -> t wood and\n",
            "68 t wood and ->  wood and \n",
            "69  wood and  -> wood and d\n",
            "70 wood and d -> ood and do\n",
            "71 ood and do -> od and don\n",
            "72 od and don -> d and don'\n",
            "73 d and don' ->  and don't\n",
            "74  and don't -> and don't \n",
            "75 and don't  -> nd don't a\n",
            "76 nd don't a -> d don't as\n",
            "77 d don't as ->  don't ass\n",
            "78  don't ass -> don't assi\n",
            "79 don't assi -> on't assig\n",
            "80 on't assig -> n't assign\n",
            "81 n't assign -> 't assign \n",
            "82 't assign  -> t assign t\n",
            "83 t assign t ->  assign th\n",
            "84  assign th -> assign the\n",
            "85 assign the -> ssign them\n",
            "86 ssign them -> sign them \n",
            "87 sign them  -> ign them t\n",
            "88 ign them t -> gn them ta\n",
            "89 gn them ta -> n them tas\n",
            "90 n them tas ->  them task\n",
            "91  them task -> them tasks\n",
            "92 them tasks -> hem tasks \n",
            "93 hem tasks  -> em tasks a\n",
            "94 em tasks a -> m tasks an\n",
            "95 m tasks an ->  tasks and\n",
            "96  tasks and -> tasks and \n",
            "97 tasks and  -> asks and w\n",
            "98 asks and w -> sks and wo\n",
            "99 sks and wo -> ks and wor\n",
            "100 ks and wor -> s and work\n",
            "101 s and work ->  and work,\n",
            "102  and work, -> and work, \n",
            "103 and work,  -> nd work, b\n",
            "104 nd work, b -> d work, bu\n",
            "105 d work, bu ->  work, but\n",
            "106  work, but -> work, but \n",
            "107 work, but  -> ork, but r\n",
            "108 ork, but r -> rk, but ra\n",
            "109 rk, but ra -> k, but rat\n",
            "110 k, but rat -> , but rath\n",
            "111 , but rath ->  but rathe\n",
            "112  but rathe -> but rather\n",
            "113 but rather -> ut rather \n",
            "114 ut rather  -> t rather t\n",
            "115 t rather t ->  rather te\n",
            "116  rather te -> rather tea\n",
            "117 rather tea -> ather teac\n",
            "118 ather teac -> ther teach\n",
            "119 ther teach -> her teach \n",
            "120 her teach  -> er teach t\n",
            "121 er teach t -> r teach th\n",
            "122 r teach th ->  teach the\n",
            "123  teach the -> teach them\n",
            "124 teach them -> each them \n",
            "125 each them  -> ach them t\n",
            "126 ach them t -> ch them to\n",
            "127 ch them to -> h them to \n",
            "128 h them to  ->  them to l\n",
            "129  them to l -> them to lo\n",
            "130 them to lo -> hem to lon\n",
            "131 hem to lon -> em to long\n",
            "132 em to long -> m to long \n",
            "133 m to long  ->  to long f\n",
            "134  to long f -> to long fo\n",
            "135 to long fo -> o long for\n",
            "136 o long for ->  long for \n",
            "137  long for  -> long for t\n",
            "138 long for t -> ong for th\n",
            "139 ong for th -> ng for the\n",
            "140 ng for the -> g for the \n",
            "141 g for the  ->  for the e\n",
            "142  for the e -> for the en\n",
            "143 for the en -> or the end\n",
            "144 or the end -> r the endl\n",
            "145 r the endl ->  the endle\n",
            "146  the endle -> the endles\n",
            "147 the endles -> he endless\n",
            "148 he endless -> e endless \n",
            "149 e endless  ->  endless i\n",
            "150  endless i -> endless im\n",
            "151 endless im -> ndless imm\n",
            "152 ndless imm -> dless imme\n",
            "153 dless imme -> less immen\n",
            "154 less immen -> ess immens\n",
            "155 ess immens -> ss immensi\n",
            "156 ss immensi -> s immensit\n",
            "157 s immensit ->  immensity\n",
            "158  immensity -> immensity \n",
            "159 immensity  -> mmensity o\n",
            "160 mmensity o -> mensity of\n",
            "161 mensity of -> ensity of \n",
            "162 ensity of  -> nsity of t\n",
            "163 nsity of t -> sity of th\n",
            "164 sity of th -> ity of the\n",
            "165 ity of the -> ty of the \n",
            "166 ty of the  -> y of the s\n",
            "167 y of the s ->  of the se\n",
            "168  of the se -> of the sea\n",
            "169 of the sea -> f the sea.\n"
          ]
        }
      ]
    },
    {
      "cell_type": "code",
      "source": [
        "print(x_data[0])\n",
        "print(y_data[0])"
      ],
      "metadata": {
        "colab": {
          "base_uri": "https://localhost:8080/"
        },
        "id": "pjVf5hnEVeSX",
        "outputId": "a2fdb5ad-f03b-49b7-9e0a-1613cb4a3d09"
      },
      "execution_count": 146,
      "outputs": [
        {
          "output_type": "stream",
          "name": "stdout",
          "text": [
            "[11, 16, 6, 19, 17, 15, 6, 20, 13, 18]\n",
            "[16, 6, 19, 17, 15, 6, 20, 13, 18, 2]\n"
          ]
        }
      ]
    },
    {
      "cell_type": "code",
      "source": [
        "x_one_hot = [np.eye(dic_size)[x] for x in x_data] # x 데이터는 원-핫 인코딩\n",
        "X = torch.FloatTensor(x_one_hot)\n",
        "Y = torch.LongTensor(y_data)"
      ],
      "metadata": {
        "id": "L1F1fXfSVgzt"
      },
      "execution_count": 147,
      "outputs": []
    },
    {
      "cell_type": "code",
      "source": [
        "print('훈련 데이터의 크기 : {}'.format(X.shape))\n",
        "print('레이블의 크기 : {}'.format(Y.shape))"
      ],
      "metadata": {
        "colab": {
          "base_uri": "https://localhost:8080/"
        },
        "id": "GIvhfxprViCn",
        "outputId": "32c7a2da-61e0-41c8-844f-fb281db49897"
      },
      "execution_count": 148,
      "outputs": [
        {
          "output_type": "stream",
          "name": "stdout",
          "text": [
            "훈련 데이터의 크기 : torch.Size([170, 10, 25])\n",
            "레이블의 크기 : torch.Size([170, 10])\n"
          ]
        }
      ]
    },
    {
      "cell_type": "code",
      "source": [
        "print(X[0])"
      ],
      "metadata": {
        "colab": {
          "base_uri": "https://localhost:8080/"
        },
        "id": "xrlPbF-rVjgv",
        "outputId": "4196b4f7-16ee-445a-82d6-54db53221a65"
      },
      "execution_count": 149,
      "outputs": [
        {
          "output_type": "stream",
          "name": "stdout",
          "text": [
            "tensor([[0., 0., 0., 0., 0., 0., 0., 0., 0., 0., 0., 1., 0., 0., 0., 0., 0., 0.,\n",
            "         0., 0., 0., 0., 0., 0., 0.],\n",
            "        [0., 0., 0., 0., 0., 0., 0., 0., 0., 0., 0., 0., 0., 0., 0., 0., 1., 0.,\n",
            "         0., 0., 0., 0., 0., 0., 0.],\n",
            "        [0., 0., 0., 0., 0., 0., 1., 0., 0., 0., 0., 0., 0., 0., 0., 0., 0., 0.,\n",
            "         0., 0., 0., 0., 0., 0., 0.],\n",
            "        [0., 0., 0., 0., 0., 0., 0., 0., 0., 0., 0., 0., 0., 0., 0., 0., 0., 0.,\n",
            "         0., 1., 0., 0., 0., 0., 0.],\n",
            "        [0., 0., 0., 0., 0., 0., 0., 0., 0., 0., 0., 0., 0., 0., 0., 0., 0., 1.,\n",
            "         0., 0., 0., 0., 0., 0., 0.],\n",
            "        [0., 0., 0., 0., 0., 0., 0., 0., 0., 0., 0., 0., 0., 0., 0., 1., 0., 0.,\n",
            "         0., 0., 0., 0., 0., 0., 0.],\n",
            "        [0., 0., 0., 0., 0., 0., 1., 0., 0., 0., 0., 0., 0., 0., 0., 0., 0., 0.,\n",
            "         0., 0., 0., 0., 0., 0., 0.],\n",
            "        [0., 0., 0., 0., 0., 0., 0., 0., 0., 0., 0., 0., 0., 0., 0., 0., 0., 0.,\n",
            "         0., 0., 1., 0., 0., 0., 0.],\n",
            "        [0., 0., 0., 0., 0., 0., 0., 0., 0., 0., 0., 0., 0., 1., 0., 0., 0., 0.,\n",
            "         0., 0., 0., 0., 0., 0., 0.],\n",
            "        [0., 0., 0., 0., 0., 0., 0., 0., 0., 0., 0., 0., 0., 0., 0., 0., 0., 0.,\n",
            "         1., 0., 0., 0., 0., 0., 0.]])\n"
          ]
        }
      ]
    },
    {
      "cell_type": "code",
      "source": [
        "print(Y[0])"
      ],
      "metadata": {
        "colab": {
          "base_uri": "https://localhost:8080/"
        },
        "id": "HvtTxiQQVlCd",
        "outputId": "33f977c0-e14e-4ca4-d695-e2501f1b4b4c"
      },
      "execution_count": 150,
      "outputs": [
        {
          "output_type": "stream",
          "name": "stdout",
          "text": [
            "tensor([16,  6, 19, 17, 15,  6, 20, 13, 18,  2])\n"
          ]
        }
      ]
    },
    {
      "cell_type": "markdown",
      "source": [
        "2) 모델 구현하기"
      ],
      "metadata": {
        "id": "kzvcD0-RVnDl"
      }
    },
    {
      "cell_type": "code",
      "source": [
        "class Net(torch.nn.Module):\n",
        "    def __init__(self, input_dim, hidden_dim, layers): # 현재 hidden_size는 dic_size와 같음.\n",
        "        super(Net, self).__init__()\n",
        "        self.rnn = torch.nn.RNN(input_dim, hidden_dim, num_layers=layers, batch_first=True)\n",
        "        self.fc = torch.nn.Linear(hidden_dim, hidden_dim, bias=True)\n",
        "\n",
        "    def forward(self, x):\n",
        "        x, _status = self.rnn(x)\n",
        "        x = self.fc(x)\n",
        "        return x"
      ],
      "metadata": {
        "id": "F6AAmjw0Vnt9"
      },
      "execution_count": 151,
      "outputs": []
    },
    {
      "cell_type": "code",
      "source": [
        "net = Net(dic_size, hidden_size, 2) # 이번에는 층을 두 개 쌓습니다."
      ],
      "metadata": {
        "id": "SzlRvEv9VpGP"
      },
      "execution_count": 152,
      "outputs": []
    },
    {
      "cell_type": "code",
      "source": [
        "criterion = torch.nn.CrossEntropyLoss()\n",
        "optimizer = optim.Adam(net.parameters(), learning_rate)"
      ],
      "metadata": {
        "id": "M-1h2h_ZVrXP"
      },
      "execution_count": 153,
      "outputs": []
    },
    {
      "cell_type": "code",
      "source": [
        "outputs = net(X)\n",
        "print(outputs.shape) # 3차원 텐서"
      ],
      "metadata": {
        "colab": {
          "base_uri": "https://localhost:8080/"
        },
        "id": "hlKlwQDrVtCw",
        "outputId": "9140578d-f159-4044-bb27-8962dec6d474"
      },
      "execution_count": 154,
      "outputs": [
        {
          "output_type": "stream",
          "name": "stdout",
          "text": [
            "torch.Size([170, 10, 25])\n"
          ]
        }
      ]
    },
    {
      "cell_type": "code",
      "source": [
        "print(outputs.view(-1, dic_size).shape) # 2차원 텐서로 변환."
      ],
      "metadata": {
        "colab": {
          "base_uri": "https://localhost:8080/"
        },
        "id": "FwhUxbmuVuer",
        "outputId": "f9d09d30-a772-4982-988b-c26fa0e3998c"
      },
      "execution_count": 155,
      "outputs": [
        {
          "output_type": "stream",
          "name": "stdout",
          "text": [
            "torch.Size([1700, 25])\n"
          ]
        }
      ]
    },
    {
      "cell_type": "code",
      "source": [
        "print(Y.shape)\n",
        "print(Y.view(-1).shape)"
      ],
      "metadata": {
        "colab": {
          "base_uri": "https://localhost:8080/"
        },
        "id": "DbTTgo8tVwFy",
        "outputId": "320a77c7-de03-4330-b8c7-2d86f03f1a77"
      },
      "execution_count": 156,
      "outputs": [
        {
          "output_type": "stream",
          "name": "stdout",
          "text": [
            "torch.Size([170, 10])\n",
            "torch.Size([1700])\n"
          ]
        }
      ]
    },
    {
      "cell_type": "code",
      "source": [
        "for i in range(100):\n",
        "    optimizer.zero_grad()\n",
        "    outputs = net(X) # (170, 10, 25) 크기를 가진 텐서를 매 에포크마다 모델의 입력으로 사용\n",
        "    loss = criterion(outputs.view(-1, dic_size), Y.view(-1))\n",
        "    loss.backward()\n",
        "    optimizer.step()\n",
        "\n",
        "    # results의 텐서 크기는 (170, 10)\n",
        "    results = outputs.argmax(dim=2)\n",
        "    predict_str = \"\"\n",
        "    for j, result in enumerate(results):\n",
        "        if j == 0: # 처음에는 예측 결과를 전부 가져오지만\n",
        "            predict_str += ''.join([char_set[t] for t in result])\n",
        "        else: # 그 다음에는 마지막 글자만 반복 추가\n",
        "            predict_str += char_set[result[-1]]\n",
        "\n",
        "    print(predict_str)"
      ],
      "metadata": {
        "colab": {
          "base_uri": "https://localhost:8080/"
        },
        "id": "6xNE0yxNVx3g",
        "outputId": "5a70457c-7bd6-48ee-ddc2-1ac4d3b043ca"
      },
      "execution_count": 157,
      "outputs": [
        {
          "output_type": "stream",
          "name": "stdout",
          "text": [
            "ssstssssstst nssss    tstss   sstst sss  sss st  tsnssstssssss st s stssss  t   sstststst  t ns   st ttst   ssstsssstssss sssssts snss sss ss t ssssts  t   ttt    ttt t sss ns  ss\n",
            "                                                                                                                                                                                   \n",
            "sssssssssssssssssssssssssssssssssssssssssssssssssssssssssssssssssssssssssssssssssssssssssssssssssssssssssssssssssssssssssssssssssssssssssssssssssssssssssssssssssssssssssssssssssss\n",
            "ndhddddddddhhdhdddddhddhdhddhhddddhhdddddddddddddhhdddhddddhdhdddddddhdddhhddhhhddddhdddhdddhddddhddddhddhhdddddddddhdddddddhdddddhddddhdhdddddhdddhddhddhdddddhdddddhddhddhhddhhdd\n",
            "n  ...hll         ll                                l  l l l      lnl  n                           l  ll                      l  nll    ll  lnlll       l ll                    n l\n",
            "   ol   olollllllllllollllllllllllllolllllllllllllllllllllllllllllolllllllllllllllolllollllllllllllllollllllllllllllllolllllolollllolllllllollllllllllllolololllllollllllllllllllll\n",
            "   ol   ololll lllllllll  lllllllllllllllllllllll llllllllllllllllllllllllllllllllll lolllllllllllllllllllllllllllllllolll lllllllllll lllllllllllllllllllllllllllollllllllll lllll\n",
            "   o  o o                                                                                                                                                                          \n",
            "  t                                                                                                                                                                                \n",
            "  tt   ts           tst    tt               st        tt        t e             tt        t t      tttt t    t       tsts  e  t et  t    tttt       t      t t e tst  e  tt   t    \n",
            " ht   h tt ttt sst  s s  e  s  e  t st ss s  s  e t et  s s ts   e   e ee t   e s e st s ssst t stet  s s t s e ss   s   e   e   s    tt s s es   s  tsst      ess  t   ts t    tst\n",
            " h  eh    e  eh    e      e   e   e  e       eeee   e e e       e  e e ee     t e e         e     e      e ee e     e  e   e ee     e    e           e  e e     e     eeee         \n",
            "                  o         t     t                                  t              t                           t                        t    t                  y      l  t       \n",
            "                                                                                                                    l   l                                                          \n",
            "                                                                                                                                                                           t       \n",
            "    tt  tt t  t  t  t dt t  t  tt t tt tt t  tt  t  t  t tt  t  t t  t    t d t  tt t dt  tt  ttt  t tt d t  t  t   t  t  tt tt  t  ttt  t  t t  tt  tt     tt t t dt  tt  t  ttt d\n",
            "                                                                                                                                                                                   \n",
            "     tt  t t  t  t  t t  t  t  tt t  t t  t   t  t        t  t       t    t   t  tt t  t   t    t  t  t   t  t  t   t      t     t    t  t  t t  tt   t     tt      t   t  t   t   \n",
            "t ttttt tttt  tttt  tttt tt t  tt t tt ttttt tt  t  tt tttt  t  t  ttt  t ttttt  tt ttttt tt  ttt  tttttttt  tt ttt tt  tttt  tttt  ttt  t  ttt ttt  tttt tttttt ttttt tt  t  ttt t\n",
            "to   tto toto to to totto toto ttoto tottoto  to to       to to      to   to  to ttoto too to   to to to  to to to  to    tto t  to   to to toto tto  to    ttt   o tto to to  too \n",
            "to   t    o o to  o to     o o   o o to  o oo  o to       to to      to   to  to   o o t   to   to    to  to  o to   o     to    to   to to  o o  to   o          o t   to to   o  \n",
            "t t  tt  t t  t  t  t     t t  t  t  t tt t   t  t        t  t       t    t   t  t  t  tt  t    t  t  t   t  t  tt  t      t  t  t    t  t  t t  tt   t      tt     tt  t  t   t   \n",
            "t t  tt tt t  tttt  t tt tt t  tt t tt tt tt  t  t      t t  t    t  t  t t   t  tt t  tt tt  t t  tttt t t  tt ttt t t  t t  t  t  t t  t  t t  tt  tt t  tttt  tt tt  t  t  tt t \n",
            "t t  tt  t t  t tt  t t  tt t  tt t  t tt t   t  t        t  t       t    t   t  tt t  tt  t    t  tt t t t  tt tt  t t    t  t  t    t  t  t t  tt   t t   ttt   t  t  t  t   t   \n",
            "t to tto t to t tto tot  t  to tt to tot  to  to to       to to      to   to  to tt to tt  to   to t  t   to  t t t to     to    to   to to toto  to  t t   t t    t t  to to  t   \n",
            "t to tto toto t tto toto tt to tt to tott to  to to  n  n to to   n  to   tototo tt tottto to n to tt tototo tt ttt toto n to t  to n to to toto tto ntnto ntttto tt t  to to nt   \n",
            "t to tto t to tttt  tott tt to tt to totttttn t  t   t    to t  t  t to   tot to tt tottt tt    to ttttnt to tt ttt tot    to t  t    to to t to tt   tnt  ntttto tttt  to to  t tt\n",
            "t to tto t to tutto tot  tt to tt to totttttn to t   t  n to to    t to   tot to tt tottto to n to tt tnt to tt tut tot  n to t  to n to to t to  to ntnt  ntttto ut t  to to nt us\n",
            "t to tto t to tut   toto t  to t  to tott ton to to     n to to   n  to   tot to t  tot to to n to t  tot to  t tut tot  n to t  to n to to   to  to ntnt  nt tt  nt to to to nt  u\n",
            "t to tto t to tutto tnt  tt to tt to tott t n to to  u  n to to   nt to   tnt to tt tnt tn to n to tt tnt to  t tut toto n to t  to n to to toto  to ntnt  nt tt  nt to to to ntnuu\n",
            "t to tto t to tutt  tnt  tt to tt to totttttntt  t   t  n to to   nt to   tut to tt tnt t tt  n to tt tnt to tt tut tot  n to t  to n to to t to  to ntnt  nt tt  nt t  to to nt tu\n",
            "t to tto t to tut   tnt  tt to tt to tott ttntt nt   t  n to to   nt to   tnt to tt tnt to to n to tt tnt to tt tut tot  n to t  to n to to t to  to ntnt  nt tt  ct t  to to nt tu\n",
            "t to tto t to tut   tnt  tt to tt to tott t n t nt  nt  n to to   n  to   tnt to tt tnt to to n to t  tnt to  t tut toto n to u  to n to to toto  to ntnt  nt tu  nt t  to to nt uu\n",
            "t to tto t to tut   tnto tt to tt to tnts t nst nto nto n to to   nt to t tnt to tt tnt tn to n to ut tnt to tt tut toto n to u  to n to to toto  to ntnt  nt tu  ui t  to to nt uu\n",
            "t to tt  t t  tut   tnt   t t   t t  t t  t      t      n t  to   n  to   tn  t     tnt    t  n t  t  tn  t   t tu  tot  n t  t  t  n t  t    to  t  ntn   nt t         to t  nt  n\n",
            "t tottto t to tuttt tnts tt to tt to totttttntt nto  to m to to t nt to t tnt to tt tntttntto m to tt tnt to tt tut toto m to ct to m to to toto tto ntnt  csttto cstt  to to mttuu\n",
            "t totttont to tuttt tnts tt to tt to totttttntt mto  uo m to to tont to t tnt to tt tntttntto moto ut tnt to tt tut tnto m to us to moto to totottto ntnt  csttuo cstt  tn to mtmuu\n",
            "t to tt nt to tut   tnto tt to tt to t tt t n t nt   t  n to to   nt to t tnt to tt tnt to to n to tt tnt to  t tut toto n to c  to n to to t to  to ntnt  ns tt  ns t  to to nto n\n",
            "t to tt  t to tut t tnt t t to tt to t tt t  t   t   t  n t  to    t to t tnt t  tt tnt t  t  n to tt tnt t   t tut tot  n t  u  to n to t  t to  t  ntnt  ns ts  ns t  to to nt tn\n",
            "t totttonu to tut t tnt tst to st to tots t nst nto  to n to tot  nt to t tnt to st tnsst  to n to st tnt to  t tut toto n to us to n to to s tot to ntnt  nssts  us t  to to nt tu\n",
            "toto ttont to tut t tnto tt to  t to tott ton t nto  to n to to   n  to t tnt to  t tnt to to n tonttotnt to  t tnt toto n tonn  to n to to t to  to ntnt  ns ts  nt t  tn to nto n\n",
            "t to ttont to tut t tntot t to tt to tott tont  nto  to n to to   nt to t tnt to tt tntsto to n tonttotnt to  t tut toto n tonc  to n to to t to  to ntnt  nt ts  nt to tn to nto n\n",
            "t totttont to tuttt tntottt to tt to t tt tontt nto  to n to to t nt to t tnt to tt tntstntto n tontt tnt to tt tut tnto n tonct to n to to t to tto ntnt  cs tt  cs t  tn to ntotu\n",
            "t totttont to tuttt tntottt to tt to t tt t ntt nto  to n to th t ct to t tnt to tt tnsst  to n tonst tnt to tt tut tnto n tonut to n to to t to dto ntnt  cs ts  cs t  tn to ntotu\n",
            "t todttons to tut t tnthtst to tt to t tt t nt  nto  to n to th   ci to t tnt to tt tns to to n tonst tnt to  t tut tnto n tonui to n to to t to  to ntnt  cs ts  c  t  tn to nthtn\n",
            "t totttons to tu t  tnthtst to st to t tt t ns  nto  to n to tht  nt tont tns to st tns tn to n tonst tns ton t tu  tnto n tonu  to n to tons to  to ntns  ns tu  rs t  tn to ntotn\n",
            "t totttons to tuttt tnthtst tonst to t tt t nt  nto  to n to tot  nt tont tnt tonst tnsstn to n tonst tnt ton t tut tnto n tonu  to n to tons tot to ntns  rs ts  rs t  tn to ntotn\n",
            "t totttons to tuttt tnthttt to tt to t tt t ntt nto  to n to tot  at tont tnt to tt tnt tn to n tonst tnt ton t tut tnto n tonc  to n to t  t to  to ntnt  as ts  as t  tn to nthtn\n",
            "t totttons to tut t tnthtdt to dt to t tt t ntt nto  to n to tht  at tont tnd to dt tnsst  to n tonst tnd ton t tut tnto n to c  to n to t  d to  to ntnd  as ts  ns    tn to nthtn\n",
            "t totttond to tcidt tnthtst tonst to t tt t ndt nto  to n to tht  ot tond tnd tonst tnds   to n tondt tnd ton t tci tnto n tonct to n to tons to  to ntnd  os ts  nsit  tn to nthtn\n",
            "t totttons to tuitt tnthtst tonst to t tt t nst nto  to a to th   ai tons tnd tonst tndi n to n tonst tnd ton t tui tnto a tonc  to n to tons to  to ntnd  ns ts  ns t  tn to nthtn\n",
            "t tht tons to tsi t tnthtst tonst to t ti t ns  nto  to a to th   ai tons tns tonst tns tn to a tonst tns ton t tsi tnto a tonc  to a to tons to  to atns  as ts  ns t  tn to athtn\n",
            "t t t tons toetuiet tnthtst tonst toet ti t nst ntoe t ea t etht eci tons tns tonst tns tn toer tonst tnd ton t tui tntoea t nu  toer toetons toe t eatns eas ts ens t etn toeathts\n",
            "t tot tond toetuiet tnthttt tondt toet tt t nt entoeetoer toethe eai tont tnd tondt tnd tn toer tonst tnd ton t tui tntoer tonc etoer toetond toe toertnd eas ts end t etn toerthtn\n",
            "totot tond toetsiet tnthttt tondt tont tt tont entoeetoea toetoe eat tont tnd tondt tnsitn toer tonst tnd ton t tsi tntoer tonchetoer toetond toe toertnd eas ts end t etn toerthtn\n",
            "t tot tond toetsidt tndhtdt tondt toet ti t ndt ndoe toen toetht eci tond tnd tondt tnsitn to n tonst tnd ton t tsi tnto n t nsh to n toetond toekt eadnd eas ts end t etn to ndhtc\n",
            "t th  tond toetsi t tndhttt to kt to   ti t ni  ntoe to n t eth  eat tont tnd to kt tnd tn to n tonst tnd ton , tsi tnto n t nch to n toetonk toe t entnd ens ts end t etn to nthta\n",
            "totst toas to tsitt tndhtci tondt tont ti tondtecsoentoec to tht eci tond tnd tondt tnsi n toec tonsi tnd ton t tsi tntoec tonchetoec tontond toe toecsnd ecs tsoends  etn toecshtn\n",
            "t to  tond toetsiet tnth tt tonkt toe  tt t nt entoeetoen toeth  ent tont tnd tonkt tnd tn to n tondt tnd ton t tsi tnto n tonch to n toetond toe to ntnd end ts endi  etn to nthtn\n",
            "f th  tond th tsi t tnthtkt toekt toe  ti t nd  nto  toen to th  eri tond tnd toekt tnd t  to n toedi tnd ton t tsi tnto n toeu  to n to toek to  to ntnd eni ts end t etn to nthts\n",
            "f tot tond toetui t tndhtut tondt toet tt t ndtentoeetoen toetot ent tond tnd tondt tnditn toen tondt tnd ton t tui tntoen tonchetoen toetond toe toentnd endits endit etn toenthtn\n",
            "f tot tond toetuiet tndhatt tondt tont tt tont entoeetoen toetot ent tont tnd tondt tnd tnetoen tonst tnd ton t tui tntoen toncoetoen toetond toeetoentnd endits endit etn toenthtn\n",
            "f tsd tond toetsi t tndhitt tondt tont ti t ndtendhe toen toetod eat tond tnd tondt tnd tn toen tondi tnd ton t tsi tntoen tonchetoen toetonk toe toentnd eadits endit etn toendhds\n",
            "f tht tond toetsi t tnihiet tondt tont ti t ni  ntoe to n toetht  ct tont tni tondt tnd tn toen tondt tni ton t tsi tntoen tonch toen toetonk toe toentni  ci ts  nd t  tn toenthdc\n",
            "t tht tond thetuiet tndhttt thn't thnt tt t nt entoeethen thetot ect tont tnd thn't tnditn then thn't tnd ton t tui tnthen thnchethen theton' toe thentnd ect ts end t etn thenthtr\n",
            "t t d tond toetuttt tndhttt ton't tont tt t ndtectoeetoenktoetod ect tond tnd ton't tndttn toen ton't tnd ton t tut tntoenktonchetoen toeton' toa toentnd ecs tu en'it etn toenthda\n",
            "potod tond tontuit etndhitt ton't tont tt tondtentoeetoen tontod eat tond tnd ton't tnsitn toen tondt tnd ton t tui tntoen tonchetoen tontonk toe toentnd easittoend t etn toenthdn\n",
            "toth  tond toetui   tndhitt toedt tont ti t nd  atoeetoen toeth  eci tond tnd toedt tnditn to n tondi tnd ton t tsi tnto n tonu  to n toeto   toe to ntnd ecs tt enk t ets to nthdn\n",
            "tothd tond toetui   tndhitt tondt tont ti t ndt ntoeetoen toethd eai tond tnd tondt tnsstn to n tonsi tnd ton t tui tnuo n toauh to n toeto k toe to ntnd eas ta endit etn to nthdn\n",
            "totod tond toetuietodndh tt tondt tont ti tondt ntoeetoen toetod eat tond tnd tondt tnsstn toen tonsi tnd ton t tui tncoen tonch toen toeton' toe toentnd easitcoendit etn toenthdn\n",
            "t toe ton' toetui totnth tt ton't tont tt t nt entoeetoen toetod eat tont tnd ton't tnsitn toen ton't tnd ton t tui tncoen tonchetoen toeton' toe toentnd eas tcoendit ets toenthdn\n",
            "p toe ton' toetui t tndh tt ton't tont ti ttnd  atoe toen toethee ct tont tnd ton't tndit  toen ton'i tnd ton t tui tnto n tonch toen toeton' t e toentnd ecs tt  ndit  tu toenthin\n",
            "p tod ton' to tuiet tndhitt ton't tont ti t ndl nto  toen to thd ect ton' tnd ton't tnsiln toen ton'i tnd ton t tui tnto n tonch toen to ton' tod toentnd  cs tto ndil  ts toenthdn\n",
            "p tod ton' toetuiet tndhitt ton't ton  ti t nd ento etoen toetod ent tond tnd ton't tnsiln toen ton'i tnd ton t tui tntoen tonch toen toeton' tod toentnd ensitcoendi  etn toenthdn\n",
            "t tod tond toetutat tndhitt tondt ton  tt t nt entoeetoea toetod ent tont tnd tondt tnsitn toen tonst tns ton t tut tnto n tonch toen toeton' tod toentnd ens tcoendit etn toenthdn\n",
            "t tod tond toetuttt tndhitt tondt ton  tt t nt ertoeetoea toetod ect tont tnd ton't tnsitn toer ton't tnd ton t tut tntoen tonch toen toeton' tod toertnd eas ttoend t etn toenthtn\n",
            "petod tond to tuiet tndhitt ton't ton  ti t nd ento etoen to toe ert tond tnd ton't tnsitn toen ton't dnd ton t tui tntoen tonch toen to ton  toe toentnd end ttoee' t etn toenthdn\n",
            "p tod tost to tuitt tnihitt ton't tont tt ttndt rtod toen todtod ect tont tnd ton't tnsitn toea ton'i dnd ton t tui tnth c touuh toen to ton' dod toertnd ecs tuhendit etu toenthdn\n",
            "p toe ton  t etu e etnth t  ton t t n  t  t nt entoeee en t etoe en  tont tn  ton t tns en toen t   t tn  ton t tu  tnt en t naoetoen t eton  t eet entn  en  ta en  e etn t enth n\n",
            "podon tonsodhntsi todnsh tt ton't don  dtodhnt enthnnthnn thnthn eno tont dns don't dnshin then thnsthdns don t tui tnchen thnchethen thnton  ton thentns ens dchen ttoetn thenthin\n",
            "p do ttosd dhetui t dsihitt don't dont dt dtndt n'he then thethet ni dond dss don't dsssin then thn'i dnd dos t dui dnuh n thnuh then thetosd doe'thendnd ecsiithendii ets thendhin\n",
            "p th tton' toetut t dkih tt ton't tont tt ttndt ntoe toen toetoet at ton' tkd ton't tki t  toen ton't tnd tonkt tut t doen tonui toen toettnk t ekt entnd ecs tt endit etu toenthin\n",
            "p toe tor' toetuiet tndh tt tor t t r  tt t r' ertoeetoer toetoet rt tort tnd tor t tni e  toer toe't tnd tor t tui trtoer tortoetoer toetor  t e toertnd erd ttoer  t ets toerth r\n",
            "t toeeton' toetuiet tndhett trn t trne tt t nt entoeetoen toetoetent tont tnd trn t tnd en toen toe't tnd ton t tui tntoen torcoetoen toetrn  toe toentnd end dcoen  l etn toenther\n",
            "t toettond doetni t dndh tt don't dont dt d nt entoe toen toetoetont dond dnd don't dnd dn toen toedt dnd don t dui dncoen tonco toen toeton  ton toentnd end dcoendii etn toenth n\n",
            "t tonttond toetsi t tnih tt tondt tont dt tont entoe toen toetoetont tont tns tondt tns tn to n tondi dns ton t tui tnco n tonch toen toetons ton to ntns  ns tco ns t etn toenth n\n",
            "t toettoss toetui t tnih tt tonkt toet tt t nt  ntoe toen toetoet nt tont tns tonkt tns tn to n tondi tns ton t tut tnth n tonch to n toeton  ton to ntns  ns tuh ns t etn to nth n\n",
            "f toettosd toetutet tnih tt torkt toet ti t rd erthe toer toetoet rt tond tnd torkt tnd an toer tor'i tnd tos t tut tnther toruh toer toeton  toe toertnd erd auherd t etn toerthem\n",
            "t toreton' toetuted andhett tor't tort ti t rd ertoeetoer toetoeeert ton' tnd aor't tnd an toer tor'i tnd aon t tut trther torchetoer toeton' tor toertnd erd auoerd a etn toerther\n",
            "t tordtond doetutet dndh tt tordt tort dt d rd ertoeetoer toetoeeert tord tnd dordt tnd ar toer tordi dnd dor t tut trcher torchetoer toetond dor toertnd erd acoerd a etn toerthgr\n",
            "t tondtond doetut t dndh tt dondt dont dt d nt entoe toen toetoet nt dond dnd dondt dns tn toen dondi tnd don t dut tnch n tonch toen doetond don toentnd ens icoend i etn toenthtn\n",
            "t tonttonp toetut t tndh tt tonpt tont tt ttnt entoe toen toetoet nt tonp tnd tonpt tns tn toen tonpt tnd ton t tut tnth n tonch toen to tont ton toentnd ecs icoend i etu toentsin\n",
            "t tonptonp toetutet tnsh tt tonpt tont tt t np entoe toen toetoellni tonp tnd tonpt tns tn toen tonpt tnd ton t tut tnth n tonch toen toetonp ton toentnd ems tchend t etu toentsin\n",
            "t tonp,on' aoetutep ansh tt aon't aont at a nt entoe toen toetoeeent aonp and aon't ans tn toen ton't tnd aon , aut anthen tonch aoen toeton' aon toentnd ens tfoend t ets aoenthin\n",
            "t tor',on' aoetutek ansh tt aor't arrt at a rt ertoe toer toetoeeert aor' and aor't ans an toer tor't and aor , aut arther torch aoer toetonk aor toertnd erd tmoerd a etn toerthar\n",
            "t tor',on' doetute' dnsh tt dor't dort dt d rd ertoe toer t etoee rt dor' dnd dor't dns an toer tor't tnd dor , dut dnther t rch doer toeton  tor t ertnd ers ttoerd i etn doerthan\n",
            "t ton'ton' doetuted dnsh tt don't doot dt d nd eotoe toeo toetoe  ot dond dnd don't dns tn toeo ton't tnd don t dut dntheo tonch toeo toeton  don toeotnd eos ttheodii ets doeothtn\n",
            "t tondtond doetutet dnsh tt don't tont dt d nd  ntoe toen toetoee ct tond tnd don't tns tn toen tondt tnd don t dut tnthen tonch toen toeton  ton toentnd  os tch ndit  ts doenthtn\n",
            "t tondtond dhetutet dnsh tt don't tont dt d nt enthe then thethee ct tond tnd don't tns an then thndt tnd don t dut tnthen thnch then theton  ton thentnd ems tchendii etu dhenthtn\n",
            "t tondtond dhetuied dnihitt don't dont di d nt erthe then thetheeect dond dnd don't dns an then thndt and don t dui dnthen thnch then theton  ton thentnd ers amherdii ets dhenthan\n"
          ]
        }
      ]
    },
    {
      "cell_type": "markdown",
      "source": [
        "#08. [DL 입문] - 합성곱 신경망(Convolutional Neural Network)"
      ],
      "metadata": {
        "id": "_Y-eWAZfyWTG"
      }
    },
    {
      "cell_type": "markdown",
      "source": [
        "##08-01 합성곱과 풀링(Convolution and Pooling)"
      ],
      "metadata": {
        "id": "1Pwa4_cjyYsm"
      }
    },
    {
      "cell_type": "markdown",
      "source": [
        "##08-02 CNN으로 MNIST 분류하기"
      ],
      "metadata": {
        "id": "jQmC60hYycSG"
      }
    },
    {
      "cell_type": "markdown",
      "source": [
        "###2. 모델 구현하기"
      ],
      "metadata": {
        "id": "gymuHOXxWRIP"
      }
    },
    {
      "cell_type": "markdown",
      "source": [
        "1) 필요한 도구 임포트와 입력의 정의"
      ],
      "metadata": {
        "id": "Oo3aYNH1WVKr"
      }
    },
    {
      "cell_type": "code",
      "source": [
        "import torch\n",
        "import torch.nn as nn"
      ],
      "metadata": {
        "id": "vxmHZ7CgWUB3"
      },
      "execution_count": 158,
      "outputs": []
    },
    {
      "cell_type": "code",
      "source": [
        "# 배치 크기 × 채널 × 높이(height) × 너비(widht)의 크기의 텐서를 선언\n",
        "inputs = torch.Tensor(1, 1, 28, 28)\n",
        "print('텐서의 크기 : {}'.format(inputs.shape))"
      ],
      "metadata": {
        "colab": {
          "base_uri": "https://localhost:8080/"
        },
        "id": "zW4f9xmLWXvV",
        "outputId": "3bd084f0-9338-4fc5-b3da-38d08195455d"
      },
      "execution_count": 159,
      "outputs": [
        {
          "output_type": "stream",
          "name": "stdout",
          "text": [
            "텐서의 크기 : torch.Size([1, 1, 28, 28])\n"
          ]
        }
      ]
    },
    {
      "cell_type": "markdown",
      "source": [
        "2) 합성곱층과 풀링 선언하기"
      ],
      "metadata": {
        "id": "ImipxvVJWiJl"
      }
    },
    {
      "cell_type": "code",
      "source": [
        "conv1 = nn.Conv2d(1, 32, 3, padding=1)\n",
        "print(conv1)"
      ],
      "metadata": {
        "colab": {
          "base_uri": "https://localhost:8080/"
        },
        "id": "Sk5yuomdWirN",
        "outputId": "082d2ecc-36d5-40d7-8a1f-4871b2329b82"
      },
      "execution_count": 160,
      "outputs": [
        {
          "output_type": "stream",
          "name": "stdout",
          "text": [
            "Conv2d(1, 32, kernel_size=(3, 3), stride=(1, 1), padding=(1, 1))\n"
          ]
        }
      ]
    },
    {
      "cell_type": "code",
      "source": [
        "conv2 = nn.Conv2d(32, 64, kernel_size=3, padding=1)\n",
        "print(conv2)"
      ],
      "metadata": {
        "colab": {
          "base_uri": "https://localhost:8080/"
        },
        "id": "JdbKGAjEW8nJ",
        "outputId": "76f6612d-4bf8-40dd-872b-2af01eb04af4"
      },
      "execution_count": 161,
      "outputs": [
        {
          "output_type": "stream",
          "name": "stdout",
          "text": [
            "Conv2d(32, 64, kernel_size=(3, 3), stride=(1, 1), padding=(1, 1))\n"
          ]
        }
      ]
    },
    {
      "cell_type": "code",
      "source": [
        "pool = nn.MaxPool2d(2)\n",
        "print(pool)"
      ],
      "metadata": {
        "colab": {
          "base_uri": "https://localhost:8080/"
        },
        "id": "9SpmeIz2X1kI",
        "outputId": "4be8b926-fcd9-43d7-cc7c-ede08b28b67f"
      },
      "execution_count": 162,
      "outputs": [
        {
          "output_type": "stream",
          "name": "stdout",
          "text": [
            "MaxPool2d(kernel_size=2, stride=2, padding=0, dilation=1, ceil_mode=False)\n"
          ]
        }
      ]
    },
    {
      "cell_type": "markdown",
      "source": [
        "3) 구현체를 연결하여 모델 만들기"
      ],
      "metadata": {
        "id": "vSf9W4vRX2wC"
      }
    },
    {
      "cell_type": "code",
      "source": [
        "out = conv1(inputs)\n",
        "print(out.shape)"
      ],
      "metadata": {
        "colab": {
          "base_uri": "https://localhost:8080/"
        },
        "id": "4R1pE4HJX3KT",
        "outputId": "cb78dc80-c2ef-4214-c841-fd2e8dff9f27"
      },
      "execution_count": 163,
      "outputs": [
        {
          "output_type": "stream",
          "name": "stdout",
          "text": [
            "torch.Size([1, 32, 28, 28])\n"
          ]
        }
      ]
    },
    {
      "cell_type": "code",
      "source": [
        "out = pool(out)\n",
        "print(out.shape)"
      ],
      "metadata": {
        "colab": {
          "base_uri": "https://localhost:8080/"
        },
        "id": "ORItGfinX5qO",
        "outputId": "6038ffcf-95fa-49b3-f1e4-20702f190ac3"
      },
      "execution_count": 164,
      "outputs": [
        {
          "output_type": "stream",
          "name": "stdout",
          "text": [
            "torch.Size([1, 32, 14, 14])\n"
          ]
        }
      ]
    },
    {
      "cell_type": "code",
      "source": [
        "out = conv2(out)\n",
        "print(out.shape)"
      ],
      "metadata": {
        "colab": {
          "base_uri": "https://localhost:8080/"
        },
        "id": "mtsO6wRnX6JT",
        "outputId": "ad1409b4-3859-4a2b-959f-e60863c7bef4"
      },
      "execution_count": 165,
      "outputs": [
        {
          "output_type": "stream",
          "name": "stdout",
          "text": [
            "torch.Size([1, 64, 14, 14])\n"
          ]
        }
      ]
    },
    {
      "cell_type": "code",
      "source": [
        "out = pool(out)\n",
        "print(out.shape)"
      ],
      "metadata": {
        "colab": {
          "base_uri": "https://localhost:8080/"
        },
        "id": "cPTNX1EsX8DW",
        "outputId": "7a80a3e3-b2e7-4a8a-b5a5-7ef439684616"
      },
      "execution_count": 166,
      "outputs": [
        {
          "output_type": "stream",
          "name": "stdout",
          "text": [
            "torch.Size([1, 64, 7, 7])\n"
          ]
        }
      ]
    },
    {
      "cell_type": "code",
      "source": [
        "out.size(0)"
      ],
      "metadata": {
        "colab": {
          "base_uri": "https://localhost:8080/"
        },
        "id": "NvlyatdLX9hx",
        "outputId": "53baed51-ebd4-45ae-f0d2-f889e8514e0b"
      },
      "execution_count": 167,
      "outputs": [
        {
          "output_type": "execute_result",
          "data": {
            "text/plain": [
              "1"
            ]
          },
          "metadata": {},
          "execution_count": 167
        }
      ]
    },
    {
      "cell_type": "code",
      "source": [
        "out.size(1)"
      ],
      "metadata": {
        "colab": {
          "base_uri": "https://localhost:8080/"
        },
        "id": "k0qf9fzCX-xP",
        "outputId": "c3c9164c-55ae-455e-f9f0-dc3b86662a11"
      },
      "execution_count": 168,
      "outputs": [
        {
          "output_type": "execute_result",
          "data": {
            "text/plain": [
              "64"
            ]
          },
          "metadata": {},
          "execution_count": 168
        }
      ]
    },
    {
      "cell_type": "code",
      "source": [
        "out.size(2)"
      ],
      "metadata": {
        "colab": {
          "base_uri": "https://localhost:8080/"
        },
        "id": "fGb6L1LUYAHX",
        "outputId": "03551aa0-6884-4682-a42b-bd92bfe28b2b"
      },
      "execution_count": 169,
      "outputs": [
        {
          "output_type": "execute_result",
          "data": {
            "text/plain": [
              "7"
            ]
          },
          "metadata": {},
          "execution_count": 169
        }
      ]
    },
    {
      "cell_type": "code",
      "source": [
        "out.size(3)"
      ],
      "metadata": {
        "colab": {
          "base_uri": "https://localhost:8080/"
        },
        "id": "Il6P0h0VYBSj",
        "outputId": "13ad59f0-5143-4b7f-aa84-18411fdd23e8"
      },
      "execution_count": 170,
      "outputs": [
        {
          "output_type": "execute_result",
          "data": {
            "text/plain": [
              "7"
            ]
          },
          "metadata": {},
          "execution_count": 170
        }
      ]
    },
    {
      "cell_type": "code",
      "source": [
        "# 첫번째 차원인 배치 차원은 그대로 두고 나머지는 펼쳐라\n",
        "out = out.view(out.size(0), -1)\n",
        "print(out.shape)"
      ],
      "metadata": {
        "colab": {
          "base_uri": "https://localhost:8080/"
        },
        "id": "6LUlNp5fYD8A",
        "outputId": "4d959097-9b76-4d4d-aae8-ee2b15c03a4b"
      },
      "execution_count": 171,
      "outputs": [
        {
          "output_type": "stream",
          "name": "stdout",
          "text": [
            "torch.Size([1, 3136])\n"
          ]
        }
      ]
    },
    {
      "cell_type": "code",
      "source": [
        "fc = nn.Linear(3136, 10) # input_dim = 3,136, output_dim = 10\n",
        "out = fc(out)\n",
        "print(out.shape)"
      ],
      "metadata": {
        "colab": {
          "base_uri": "https://localhost:8080/"
        },
        "id": "jmqhwLVoYFDG",
        "outputId": "82e958d4-c03c-4c8a-d21d-3077c61c6afe"
      },
      "execution_count": 172,
      "outputs": [
        {
          "output_type": "stream",
          "name": "stdout",
          "text": [
            "torch.Size([1, 10])\n"
          ]
        }
      ]
    },
    {
      "cell_type": "markdown",
      "source": [
        "###3. CNN으로 MNIST 분류하기"
      ],
      "metadata": {
        "id": "1u8waHOsYFl4"
      }
    },
    {
      "cell_type": "code",
      "source": [
        "import torch\n",
        "import torchvision.datasets as dsets\n",
        "import torchvision.transforms as transforms\n",
        "import torch.nn.init"
      ],
      "metadata": {
        "id": "nIUhQQKpZ6YZ"
      },
      "execution_count": 173,
      "outputs": []
    },
    {
      "cell_type": "code",
      "source": [
        "device = 'cuda' if torch.cuda.is_available() else 'cpu'\n",
        "\n",
        "# 랜덤 시드 고정\n",
        "torch.manual_seed(777)\n",
        "\n",
        "# GPU 사용 가능일 경우 랜덤 시드 고정\n",
        "if device == 'cuda':\n",
        "    torch.cuda.manual_seed_all(777)"
      ],
      "metadata": {
        "id": "D5OzKlS0Z9B7"
      },
      "execution_count": 174,
      "outputs": []
    },
    {
      "cell_type": "code",
      "source": [
        "learning_rate = 0.001\n",
        "training_epochs = 15\n",
        "batch_size = 100"
      ],
      "metadata": {
        "id": "VcQXZob1Z-tS"
      },
      "execution_count": 175,
      "outputs": []
    },
    {
      "cell_type": "code",
      "source": [
        "mnist_train = dsets.MNIST(root='MNIST_data/', # 다운로드 경로 지정\n",
        "                          train=True, # True를 지정하면 훈련 데이터로 다운로드\n",
        "                          transform=transforms.ToTensor(), # 텐서로 변환\n",
        "                          download=True)\n",
        "\n",
        "mnist_test = dsets.MNIST(root='MNIST_data/', # 다운로드 경로 지정\n",
        "                         train=False, # False를 지정하면 테스트 데이터로 다운로드\n",
        "                         transform=transforms.ToTensor(), # 텐서로 변환\n",
        "                         download=True)"
      ],
      "metadata": {
        "id": "hOSaJPIkaAR6"
      },
      "execution_count": 176,
      "outputs": []
    },
    {
      "cell_type": "code",
      "source": [
        "data_loader = torch.utils.data.DataLoader(dataset=mnist_train,\n",
        "                                          batch_size=batch_size,\n",
        "                                          shuffle=True,\n",
        "                                          drop_last=True)"
      ],
      "metadata": {
        "id": "UhrlxZ8laBxI"
      },
      "execution_count": 177,
      "outputs": []
    },
    {
      "cell_type": "code",
      "source": [
        "class CNN(torch.nn.Module):\n",
        "\n",
        "    def __init__(self):\n",
        "        super(CNN, self).__init__()\n",
        "        # 첫번째층\n",
        "        # ImgIn shape=(?, 28, 28, 1)\n",
        "        #    Conv     -> (?, 28, 28, 32)\n",
        "        #    Pool     -> (?, 14, 14, 32)\n",
        "        self.layer1 = torch.nn.Sequential(\n",
        "            torch.nn.Conv2d(1, 32, kernel_size=3, stride=1, padding=1),\n",
        "            torch.nn.ReLU(),\n",
        "            torch.nn.MaxPool2d(kernel_size=2, stride=2))\n",
        "\n",
        "        # 두번째층\n",
        "        # ImgIn shape=(?, 14, 14, 32)\n",
        "        #    Conv      ->(?, 14, 14, 64)\n",
        "        #    Pool      ->(?, 7, 7, 64)\n",
        "        self.layer2 = torch.nn.Sequential(\n",
        "            torch.nn.Conv2d(32, 64, kernel_size=3, stride=1, padding=1),\n",
        "            torch.nn.ReLU(),\n",
        "            torch.nn.MaxPool2d(kernel_size=2, stride=2))\n",
        "\n",
        "        # 전결합층 7x7x64 inputs -> 10 outputs\n",
        "        self.fc = torch.nn.Linear(7 * 7 * 64, 10, bias=True)\n",
        "\n",
        "        # 전결합층 한정으로 가중치 초기화\n",
        "        torch.nn.init.xavier_uniform_(self.fc.weight)\n",
        "\n",
        "    def forward(self, x):\n",
        "        out = self.layer1(x)\n",
        "        out = self.layer2(out)\n",
        "        out = out.view(out.size(0), -1)   # 전결합층을 위해서 Flatten\n",
        "        out = self.fc(out)\n",
        "        return out"
      ],
      "metadata": {
        "id": "MyuCY4ctaDP1"
      },
      "execution_count": 178,
      "outputs": []
    },
    {
      "cell_type": "code",
      "source": [
        "# CNN 모델 정의\n",
        "model = CNN().to(device)"
      ],
      "metadata": {
        "id": "H-70AWVEaFEG"
      },
      "execution_count": 179,
      "outputs": []
    },
    {
      "cell_type": "code",
      "source": [
        "criterion = torch.nn.CrossEntropyLoss().to(device)    # 비용 함수에 소프트맥스 함수 포함되어져 있음.\n",
        "optimizer = torch.optim.Adam(model.parameters(), lr=learning_rate)"
      ],
      "metadata": {
        "id": "15Hky12XaGXi"
      },
      "execution_count": 180,
      "outputs": []
    },
    {
      "cell_type": "code",
      "source": [
        "total_batch = len(data_loader)\n",
        "print('총 배치의 수 : {}'.format(total_batch))"
      ],
      "metadata": {
        "colab": {
          "base_uri": "https://localhost:8080/"
        },
        "id": "6tK5ByhSaH7C",
        "outputId": "e0e10224-3025-426a-f5a4-ae2f45e99f8d"
      },
      "execution_count": 181,
      "outputs": [
        {
          "output_type": "stream",
          "name": "stdout",
          "text": [
            "총 배치의 수 : 600\n"
          ]
        }
      ]
    },
    {
      "cell_type": "code",
      "source": [
        "for epoch in range(training_epochs):\n",
        "    avg_cost = 0  # 에포크당 평균 비용을 저장하기 위한 변수 초기화\n",
        "\n",
        "    for X, Y in data_loader:  # 미니 배치 단위로 데이터를 꺼내옴. X는 입력 데이터, Y는 레이블\n",
        "        # 이미지 데이터는 이미 (28x28) 크기를 가지므로, 별도의 reshape 필요 없음\n",
        "        # 레이블 Y는 원-핫 인코딩이 아닌 정수형 클래스 레이블임\n",
        "        X = X.to(device)  # 입력 데이터를 연산이 수행될 장치로 이동 (예: GPU)\n",
        "        Y = Y.to(device)  # 레이블을 연산이 수행될 장치로 이동 (예: GPU)\n",
        "\n",
        "        optimizer.zero_grad()  # 옵티마이저의 기울기 초기화\n",
        "        hypothesis = model(X)  # 모델을 통해 예측값(hypothesis)을 계산 (순전파 연산)\n",
        "        cost = criterion(hypothesis, Y)  # 예측값과 실제값 Y 간의 손실(cost) 계산\n",
        "        cost.backward()  # 역전파 연산을 통해 기울기 계산\n",
        "        optimizer.step()  # 옵티마이저를 통해 파라미터 업데이트\n",
        "\n",
        "        avg_cost += cost / total_batch  # 현재 배치의 비용을 전체 배치 수로 나누어 누적\n",
        "\n",
        "    # 에포크가 끝날 때마다 평균 비용 출력\n",
        "    print('[Epoch: {:>4}] cost = {:>.9}'.format(epoch + 1, avg_cost))"
      ],
      "metadata": {
        "colab": {
          "base_uri": "https://localhost:8080/"
        },
        "id": "msdIOK3baJwV",
        "outputId": "654a8255-e2b5-44da-9028-3b713ce84821"
      },
      "execution_count": null,
      "outputs": [
        {
          "output_type": "stream",
          "name": "stdout",
          "text": [
            "[Epoch:    1] cost = 0.225560248\n",
            "[Epoch:    2] cost = 0.0630551875\n",
            "[Epoch:    3] cost = 0.0462681577\n",
            "[Epoch:    4] cost = 0.0374339223\n",
            "[Epoch:    5] cost = 0.0314037167\n",
            "[Epoch:    6] cost = 0.0261414386\n",
            "[Epoch:    7] cost = 0.0216277987\n",
            "[Epoch:    8] cost = 0.0179725569\n",
            "[Epoch:    9] cost = 0.0158094056\n",
            "[Epoch:   10] cost = 0.0131764095\n",
            "[Epoch:   11] cost = 0.00995210093\n",
            "[Epoch:   12] cost = 0.00957405847\n",
            "[Epoch:   13] cost = 0.00827191118\n"
          ]
        }
      ]
    },
    {
      "cell_type": "code",
      "source": [
        "# 학습을 진행하지 않을 것이므로 torch.no_grad() 사용\n",
        "with torch.no_grad():\n",
        "    # 테스트 데이터를 모델에 입력하기 위한 준비\n",
        "    X_test = mnist_test.test_data.view(len(mnist_test), 1, 28, 28).float().to(device)  # 테스트 데이터셋의 크기를 맞추고, 연산을 위한 장치로 이동\n",
        "    Y_test = mnist_test.test_labels.to(device)  # 테스트 데이터셋의 레이블을 연산을 위한 장치로 이동\n",
        "\n",
        "    # 모델 예측 수행\n",
        "    prediction = model(X_test)  # 테스트 데이터에 대해 모델이 예측한 결과값\n",
        "\n",
        "    # 예측 결과와 실제 레이블 비교\n",
        "    correct_prediction = torch.argmax(prediction, 1) == Y_test  # 예측된 클래스와 실제 레이블이 일치하는지 확인\n",
        "\n",
        "    # 정확도 계산\n",
        "    accuracy = correct_prediction.float().mean()  # 정확도를 계산하기 위해 일치하는 예측의 평균을 구함\n",
        "    print('Accuracy:', accuracy.item())  # 정확도를 출력"
      ],
      "metadata": {
        "id": "ZAJ5IhnKaLgT"
      },
      "execution_count": null,
      "outputs": []
    },
    {
      "cell_type": "markdown",
      "source": [
        "##08-03 깊은 CNN으로 MNIST 분류하기"
      ],
      "metadata": {
        "id": "IeFU5iYEyeIv"
      }
    },
    {
      "cell_type": "markdown",
      "source": [
        "###1. 모델 이해하기"
      ],
      "metadata": {
        "id": "2RF7u_lEaOJo"
      }
    },
    {
      "cell_type": "code",
      "source": [
        "# 1번 레이어 : 합성곱층(Convolutional layer)\n",
        "합성곱(in_channel = 1, out_channel = 32, kernel_size=3, stride=1, padding=1) + 활성화 함수 ReLU\n",
        "맥스풀링(kernel_size=2, stride=2))\n",
        "\n",
        "# 2번 레이어 : 합성곱층(Convolutional layer)\n",
        "합성곱(in_channel = 32, out_channel = 64, kernel_size=3, stride=1, padding=1) + 활성화 함수 ReLU\n",
        "맥스풀링(kernel_size=2, stride=2))\n",
        "\n",
        "# 3번 레이어 : 합성곱층(Convolutional layer)\n",
        "합성곱(in_channel = 64, out_channel = 128, kernel_size=3, stride=1, padding=1) + 활성화 함수 ReLU\n",
        "맥스풀링(kernel_size=2, stride=2, padding=1))\n",
        "\n",
        "# 4번 레이어 : 전결합층(Fully-Connected layer)\n",
        "특성맵을 펼친다. # batch_size × 4 × 4 × 128 → batch_size × 2048\n",
        "전결합층(뉴런 625개) + 활성화 함수 ReLU\n",
        "\n",
        "# 5번 레이어 : 전결합층(Fully-Connected layer)\n",
        "전결합층(뉴런 10개) + 활성화 함수 Softmax"
      ],
      "metadata": {
        "id": "gD3QCAXPaOs8"
      },
      "execution_count": null,
      "outputs": []
    },
    {
      "cell_type": "markdown",
      "source": [
        "###2. 깊은 CNN으로 MNIST 분류하기"
      ],
      "metadata": {
        "id": "0RUzjHpHaRBN"
      }
    },
    {
      "cell_type": "code",
      "source": [
        "import torch\n",
        "import torchvision.datasets as dsets\n",
        "import torchvision.transforms as transforms\n",
        "import torch.nn.init"
      ],
      "metadata": {
        "id": "0LdjX4xgaRl7"
      },
      "execution_count": 185,
      "outputs": []
    },
    {
      "cell_type": "code",
      "source": [
        "device = 'cuda' if torch.cuda.is_available() else 'cpu'\n",
        "\n",
        "# 랜덤 시드 고정\n",
        "torch.manual_seed(777)\n",
        "\n",
        "# GPU 사용 가능일 경우 랜덤 시드 고정\n",
        "if device == 'cuda':\n",
        "    torch.cuda.manual_seed_all(777)"
      ],
      "metadata": {
        "id": "o1lZzkvvaSzV"
      },
      "execution_count": 186,
      "outputs": []
    },
    {
      "cell_type": "code",
      "source": [
        "learning_rate = 0.001\n",
        "training_epochs = 15\n",
        "batch_size = 100"
      ],
      "metadata": {
        "id": "OOlc9bj9aU_1"
      },
      "execution_count": 187,
      "outputs": []
    },
    {
      "cell_type": "code",
      "source": [
        "mnist_train = dsets.MNIST(root='MNIST_data/', # 다운로드 경로 지정\n",
        "                          train=True, # True를 지정하면 훈련 데이터로 다운로드\n",
        "                          transform=transforms.ToTensor(), # 텐서로 변환\n",
        "                          download=True)\n",
        "\n",
        "mnist_test = dsets.MNIST(root='MNIST_data/', # 다운로드 경로 지정\n",
        "                         train=False, # False를 지정하면 테스트 데이터로 다운로드\n",
        "                         transform=transforms.ToTensor(), # 텐서로 변환\n",
        "                         download=True)"
      ],
      "metadata": {
        "id": "r5wq5qt7aVny"
      },
      "execution_count": 188,
      "outputs": []
    },
    {
      "cell_type": "code",
      "source": [
        "data_loader = torch.utils.data.DataLoader(dataset=mnist_train,\n",
        "                                          batch_size=batch_size,\n",
        "                                          shuffle=True,\n",
        "                                          drop_last=True)"
      ],
      "metadata": {
        "id": "IB0af_mhaXii"
      },
      "execution_count": 189,
      "outputs": []
    },
    {
      "cell_type": "code",
      "source": [
        "class CNN(torch.nn.Module):\n",
        "\n",
        "    def __init__(self):\n",
        "        super(CNN, self).__init__()\n",
        "        self.keep_prob = 0.5  # 드롭아웃 확률\n",
        "\n",
        "        # L1: 첫 번째 합성곱층 (Conv Layer)\n",
        "        # 입력 이미지 형태: (?, 28, 28, 1)\n",
        "        # Conv2d: 출력 채널 32개, 커널 크기 3x3, 스트라이드 1, 패딩 1\n",
        "        # ReLU: 활성화 함수\n",
        "        # MaxPool2d: 커널 크기 2x2, 스트라이드 2로 다운샘플링 -> 출력 형태: (?, 14, 14, 32)\n",
        "        self.layer1 = torch.nn.Sequential(\n",
        "            torch.nn.Conv2d(1, 32, kernel_size=3, stride=1, padding=1),\n",
        "            torch.nn.ReLU(),\n",
        "            torch.nn.MaxPool2d(kernel_size=2, stride=2))\n",
        "\n",
        "        # L2: 두 번째 합성곱층 (Conv Layer)\n",
        "        # 입력 이미지 형태: (?, 14, 14, 32)\n",
        "        # Conv2d: 출력 채널 64개, 커널 크기 3x3, 스트라이드 1, 패딩 1\n",
        "        # ReLU: 활성화 함수\n",
        "        # MaxPool2d: 커널 크기 2x2, 스트라이드 2로 다운샘플링 -> 출력 형태: (?, 7, 7, 64)\n",
        "        self.layer2 = torch.nn.Sequential(\n",
        "            torch.nn.Conv2d(32, 64, kernel_size=3, stride=1, padding=1),\n",
        "            torch.nn.ReLU(),\n",
        "            torch.nn.MaxPool2d(kernel_size=2, stride=2))\n",
        "\n",
        "        # L3: 세 번째 합성곱층 (Conv Layer)\n",
        "        # 입력 이미지 형태: (?, 7, 7, 64)\n",
        "        # Conv2d: 출력 채널 128개, 커널 크기 3x3, 스트라이드 1, 패딩 1\n",
        "        # ReLU: 활성화 함수\n",
        "        # MaxPool2d: 커널 크기 2x2, 스트라이드 2, 패딩 1로 다운샘플링 -> 출력 형태: (?, 4, 4, 128)\n",
        "        self.layer3 = torch.nn.Sequential(\n",
        "            torch.nn.Conv2d(64, 128, kernel_size=3, stride=1, padding=1),\n",
        "            torch.nn.ReLU(),\n",
        "            torch.nn.MaxPool2d(kernel_size=2, stride=2, padding=1))\n",
        "\n",
        "        # L4: 첫 번째 선형층 (Fully Connected Layer)\n",
        "        # 입력 노드 수: 4x4x128, 출력 노드 수: 625\n",
        "        # ReLU: 활성화 함수\n",
        "        # Dropout: 드롭아웃으로 과적합 방지, p=0.5\n",
        "        self.fc1 = torch.nn.Linear(4 * 4 * 128, 625, bias=True)\n",
        "        torch.nn.init.xavier_uniform_(self.fc1.weight)  # 가중치 초기화\n",
        "        self.layer4 = torch.nn.Sequential(\n",
        "            self.fc1,\n",
        "            torch.nn.ReLU(),\n",
        "            torch.nn.Dropout(p=1 - self.keep_prob))\n",
        "\n",
        "        # L5: 최종 선형층 (Fully Connected Layer)\n",
        "        # 입력 노드 수: 625, 출력 노드 수: 10 (클래스 개수)\n",
        "        self.fc2 = torch.nn.Linear(625, 10, bias=True)\n",
        "        torch.nn.init.xavier_uniform_(self.fc2.weight)  # 가중치 초기화\n",
        "\n",
        "    def forward(self, x):\n",
        "        out = self.layer1(x)  # 첫 번째 합성곱층 통과\n",
        "        out = self.layer2(out)  # 두 번째 합성곱층 통과\n",
        "        out = self.layer3(out)  # 세 번째 합성곱층 통과\n",
        "        out = out.view(out.size(0), -1)  # 선형층에 입력하기 위해 텐서를 Flatten\n",
        "        out = self.layer4(out)  # 첫 번째 선형층 통과\n",
        "        out = self.fc2(out)  # 최종 선형층 통과\n",
        "        return out  # 최종 출력 반환"
      ],
      "metadata": {
        "id": "QSsi_oT6abLS"
      },
      "execution_count": 190,
      "outputs": []
    },
    {
      "cell_type": "code",
      "source": [
        "# CNN 모델 정의\n",
        "model = CNN().to(device)"
      ],
      "metadata": {
        "id": "CYBlH6mNacIJ"
      },
      "execution_count": 191,
      "outputs": []
    },
    {
      "cell_type": "code",
      "source": [
        "criterion = torch.nn.CrossEntropyLoss().to(device)    # 비용 함수에 소프트맥스 함수 포함되어져 있음.\n",
        "optimizer = torch.optim.Adam(model.parameters(), lr=learning_rate)"
      ],
      "metadata": {
        "id": "nfW9urApaebr"
      },
      "execution_count": 192,
      "outputs": []
    },
    {
      "cell_type": "code",
      "source": [
        "total_batch = len(data_loader)\n",
        "print('총 배치의 수 : {}'.format(total_batch))"
      ],
      "metadata": {
        "colab": {
          "base_uri": "https://localhost:8080/"
        },
        "id": "balIormwafAC",
        "outputId": "dbdd0c6f-2b97-4568-a3f7-fe225033b728"
      },
      "execution_count": 193,
      "outputs": [
        {
          "output_type": "stream",
          "name": "stdout",
          "text": [
            "총 배치의 수 : 600\n"
          ]
        }
      ]
    },
    {
      "cell_type": "code",
      "source": [
        "for epoch in range(training_epochs):\n",
        "    avg_cost = 0\n",
        "\n",
        "    for X, Y in data_loader: # 미니 배치 단위로 꺼내온다. X는 미니 배치, Y느 ㄴ레이블.\n",
        "        # image is already size of (28x28), no reshape\n",
        "        # label is not one-hot encoded\n",
        "        X = X.to(device)\n",
        "        Y = Y.to(device)\n",
        "\n",
        "        optimizer.zero_grad()\n",
        "        hypothesis = model(X)\n",
        "        cost = criterion(hypothesis, Y)\n",
        "        cost.backward()\n",
        "        optimizer.step()\n",
        "\n",
        "        avg_cost += cost / total_batch\n",
        "\n",
        "    print('[Epoch: {:>4}] cost = {:>.9}'.format(epoch + 1, avg_cost))"
      ],
      "metadata": {
        "colab": {
          "base_uri": "https://localhost:8080/"
        },
        "id": "MvUlTKb1ahXg",
        "outputId": "b01d4662-7e7f-4aee-a798-9f621daa82a5"
      },
      "execution_count": 194,
      "outputs": [
        {
          "output_type": "stream",
          "name": "stdout",
          "text": [
            "[Epoch:    1] cost = 0.191506103\n",
            "[Epoch:    2] cost = 0.0545598269\n",
            "[Epoch:    3] cost = 0.0383968614\n",
            "[Epoch:    4] cost = 0.0298613328\n",
            "[Epoch:    5] cost = 0.025512591\n",
            "[Epoch:    6] cost = 0.0207889285\n",
            "[Epoch:    7] cost = 0.0178523194\n",
            "[Epoch:    8] cost = 0.0139354225\n",
            "[Epoch:    9] cost = 0.0135297636\n",
            "[Epoch:   10] cost = 0.0124471048\n",
            "[Epoch:   11] cost = 0.0104616843\n",
            "[Epoch:   12] cost = 0.00825766567\n",
            "[Epoch:   13] cost = 0.0107027367\n",
            "[Epoch:   14] cost = 0.00786881521\n",
            "[Epoch:   15] cost = 0.00688065216\n"
          ]
        }
      ]
    },
    {
      "cell_type": "code",
      "source": [
        "# 학습을 진행하지 않을 것이므로 torch.no_grad()\n",
        "with torch.no_grad():\n",
        "    X_test = mnist_test.test_data.view(len(mnist_test), 1, 28, 28).float().to(device)\n",
        "    Y_test = mnist_test.test_labels.to(device)\n",
        "\n",
        "    prediction = model(X_test)\n",
        "    correct_prediction = torch.argmax(prediction, 1) == Y_test\n",
        "    accuracy = correct_prediction.float().mean()\n",
        "    print('Accuracy:', accuracy.item())"
      ],
      "metadata": {
        "colab": {
          "base_uri": "https://localhost:8080/"
        },
        "id": "keEzg0zYahj-",
        "outputId": "6b940798-040c-404d-e5b6-a8402ee9f621"
      },
      "execution_count": 195,
      "outputs": [
        {
          "output_type": "stream",
          "name": "stdout",
          "text": [
            "Accuracy: 0.9850000143051147\n"
          ]
        }
      ]
    }
  ]
}